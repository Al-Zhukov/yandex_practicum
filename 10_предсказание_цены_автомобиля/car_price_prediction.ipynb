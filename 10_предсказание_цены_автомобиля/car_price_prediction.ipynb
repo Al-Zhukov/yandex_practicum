{
 "cells": [
  {
   "cell_type": "markdown",
   "metadata": {},
   "source": [
    "# Определение стоимости автомобилей"
   ]
  },
  {
   "cell_type": "markdown",
   "metadata": {},
   "source": [
    "Готовим модель для сервиса по продаже автомобилей. В нашем распоряжении исторические данные: технические характеристики, комплектации и цены. Попробуем построить модель, которая будет быстро и с высокой точностью предсказывать рыночную стоимость автомобиля. \n",
    "\n",
    "Сравним качество предсказания (будем использовать RMSE), скорость предсказания и время обучения для разных моделей.  Рассмотрим константную модель, линейную регрессию и градиентный бустинг (CatBoost, LightGBM).\n",
    "\n",
    "Признаки\n",
    "* *DateCrawled* — дата скачивания анкеты из базы\n",
    "* *VehicleType* — тип автомобильного кузова\n",
    "* *RegistrationYear* — год регистрации автомобиля\n",
    "* *Gearbox* — тип коробки передач\n",
    "* *Power* — мощность (л. с.)\n",
    "* *Model* — модель автомобиля\n",
    "* *Kilometer* — пробег (км)\n",
    "* *RegistrationMonth* — месяц регистрации автомобиля\n",
    "* *FuelType* — тип топлива\n",
    "* *Brand* — марка автомобиля\n",
    "* *NotRepaired* — была машина в ремонте или нет\n",
    "* *DateCreated* — дата создания анкеты\n",
    "* *NumberOfPictures* — количество фотографий автомобиля\n",
    "* *PostalCode* — почтовый индекс владельца анкеты (пользователя)\n",
    "* *LastSeen* — дата последней активности пользователя  \n",
    "\n",
    "Целевой признак\n",
    "* *Price* — цена (евро)\n"
   ]
  },
  {
   "cell_type": "code",
   "execution_count": 1,
   "metadata": {},
   "outputs": [],
   "source": [
    "import pandas as pd\n",
    "import numpy as np\n",
    "from IPython.display import display\n",
    "import matplotlib.pyplot as plt\n",
    "import seaborn as sns\n",
    "\n",
    "from tqdm.auto import tqdm\n",
    "import time\n",
    "\n",
    "from sklearn.linear_model import LinearRegression\n",
    "from sklearn.ensemble import RandomForestRegressor\n",
    "from sklearn.dummy import DummyRegressor\n",
    "\n",
    "import lightgbm as lgb\n",
    "from catboost import Pool, CatBoostRegressor\n",
    "\n",
    "from sklearn.metrics import mean_squared_error\n",
    "from sklearn.model_selection import train_test_split, GridSearchCV\n",
    "from sklearn.preprocessing import StandardScaler\n",
    "\n",
    "import warnings\n",
    "warnings.simplefilter(action='ignore', category=FutureWarning)"
   ]
  },
  {
   "cell_type": "markdown",
   "metadata": {},
   "source": [
    "## Подготовка данных"
   ]
  },
  {
   "cell_type": "markdown",
   "metadata": {},
   "source": [
    "### Знакомство с данными"
   ]
  },
  {
   "cell_type": "code",
   "execution_count": 2,
   "metadata": {},
   "outputs": [
    {
     "data": {
      "text/plain": [
       "'Размер датафрейма: 354369 строк, 16 столбцов'"
      ]
     },
     "metadata": {},
     "output_type": "display_data"
    }
   ],
   "source": [
    "df = pd.read_csv('/datasets/autos.csv')\n",
    "display(f'Размер датафрейма: {len(df)} строк, {len(df.columns)} столбцов')"
   ]
  },
  {
   "cell_type": "markdown",
   "metadata": {},
   "source": [
    "Данных много, работаем с датафреймом из 350 000 объектов. Посмотрим на содержимое таблицы"
   ]
  },
  {
   "cell_type": "code",
   "execution_count": 3,
   "metadata": {},
   "outputs": [
    {
     "data": {
      "text/html": [
       "<div>\n",
       "<style scoped>\n",
       "    .dataframe tbody tr th:only-of-type {\n",
       "        vertical-align: middle;\n",
       "    }\n",
       "\n",
       "    .dataframe tbody tr th {\n",
       "        vertical-align: top;\n",
       "    }\n",
       "\n",
       "    .dataframe thead th {\n",
       "        text-align: right;\n",
       "    }\n",
       "</style>\n",
       "<table border=\"1\" class=\"dataframe\">\n",
       "  <thead>\n",
       "    <tr style=\"text-align: right;\">\n",
       "      <th></th>\n",
       "      <th>DateCrawled</th>\n",
       "      <th>Price</th>\n",
       "      <th>VehicleType</th>\n",
       "      <th>RegistrationYear</th>\n",
       "      <th>Gearbox</th>\n",
       "      <th>Power</th>\n",
       "      <th>Model</th>\n",
       "      <th>Kilometer</th>\n",
       "      <th>RegistrationMonth</th>\n",
       "      <th>FuelType</th>\n",
       "      <th>Brand</th>\n",
       "      <th>NotRepaired</th>\n",
       "      <th>DateCreated</th>\n",
       "      <th>NumberOfPictures</th>\n",
       "      <th>PostalCode</th>\n",
       "      <th>LastSeen</th>\n",
       "    </tr>\n",
       "  </thead>\n",
       "  <tbody>\n",
       "    <tr>\n",
       "      <td>0</td>\n",
       "      <td>2016-03-24 11:52:17</td>\n",
       "      <td>480</td>\n",
       "      <td>NaN</td>\n",
       "      <td>1993</td>\n",
       "      <td>manual</td>\n",
       "      <td>0</td>\n",
       "      <td>golf</td>\n",
       "      <td>150000</td>\n",
       "      <td>0</td>\n",
       "      <td>petrol</td>\n",
       "      <td>volkswagen</td>\n",
       "      <td>NaN</td>\n",
       "      <td>2016-03-24 00:00:00</td>\n",
       "      <td>0</td>\n",
       "      <td>70435</td>\n",
       "      <td>2016-04-07 03:16:57</td>\n",
       "    </tr>\n",
       "    <tr>\n",
       "      <td>1</td>\n",
       "      <td>2016-03-24 10:58:45</td>\n",
       "      <td>18300</td>\n",
       "      <td>coupe</td>\n",
       "      <td>2011</td>\n",
       "      <td>manual</td>\n",
       "      <td>190</td>\n",
       "      <td>NaN</td>\n",
       "      <td>125000</td>\n",
       "      <td>5</td>\n",
       "      <td>gasoline</td>\n",
       "      <td>audi</td>\n",
       "      <td>yes</td>\n",
       "      <td>2016-03-24 00:00:00</td>\n",
       "      <td>0</td>\n",
       "      <td>66954</td>\n",
       "      <td>2016-04-07 01:46:50</td>\n",
       "    </tr>\n",
       "    <tr>\n",
       "      <td>2</td>\n",
       "      <td>2016-03-14 12:52:21</td>\n",
       "      <td>9800</td>\n",
       "      <td>suv</td>\n",
       "      <td>2004</td>\n",
       "      <td>auto</td>\n",
       "      <td>163</td>\n",
       "      <td>grand</td>\n",
       "      <td>125000</td>\n",
       "      <td>8</td>\n",
       "      <td>gasoline</td>\n",
       "      <td>jeep</td>\n",
       "      <td>NaN</td>\n",
       "      <td>2016-03-14 00:00:00</td>\n",
       "      <td>0</td>\n",
       "      <td>90480</td>\n",
       "      <td>2016-04-05 12:47:46</td>\n",
       "    </tr>\n",
       "    <tr>\n",
       "      <td>3</td>\n",
       "      <td>2016-03-17 16:54:04</td>\n",
       "      <td>1500</td>\n",
       "      <td>small</td>\n",
       "      <td>2001</td>\n",
       "      <td>manual</td>\n",
       "      <td>75</td>\n",
       "      <td>golf</td>\n",
       "      <td>150000</td>\n",
       "      <td>6</td>\n",
       "      <td>petrol</td>\n",
       "      <td>volkswagen</td>\n",
       "      <td>no</td>\n",
       "      <td>2016-03-17 00:00:00</td>\n",
       "      <td>0</td>\n",
       "      <td>91074</td>\n",
       "      <td>2016-03-17 17:40:17</td>\n",
       "    </tr>\n",
       "    <tr>\n",
       "      <td>4</td>\n",
       "      <td>2016-03-31 17:25:20</td>\n",
       "      <td>3600</td>\n",
       "      <td>small</td>\n",
       "      <td>2008</td>\n",
       "      <td>manual</td>\n",
       "      <td>69</td>\n",
       "      <td>fabia</td>\n",
       "      <td>90000</td>\n",
       "      <td>7</td>\n",
       "      <td>gasoline</td>\n",
       "      <td>skoda</td>\n",
       "      <td>no</td>\n",
       "      <td>2016-03-31 00:00:00</td>\n",
       "      <td>0</td>\n",
       "      <td>60437</td>\n",
       "      <td>2016-04-06 10:17:21</td>\n",
       "    </tr>\n",
       "  </tbody>\n",
       "</table>\n",
       "</div>"
      ],
      "text/plain": [
       "           DateCrawled  Price VehicleType  RegistrationYear Gearbox  Power  \\\n",
       "0  2016-03-24 11:52:17    480         NaN              1993  manual      0   \n",
       "1  2016-03-24 10:58:45  18300       coupe              2011  manual    190   \n",
       "2  2016-03-14 12:52:21   9800         suv              2004    auto    163   \n",
       "3  2016-03-17 16:54:04   1500       small              2001  manual     75   \n",
       "4  2016-03-31 17:25:20   3600       small              2008  manual     69   \n",
       "\n",
       "   Model  Kilometer  RegistrationMonth  FuelType       Brand NotRepaired  \\\n",
       "0   golf     150000                  0    petrol  volkswagen         NaN   \n",
       "1    NaN     125000                  5  gasoline        audi         yes   \n",
       "2  grand     125000                  8  gasoline        jeep         NaN   \n",
       "3   golf     150000                  6    petrol  volkswagen          no   \n",
       "4  fabia      90000                  7  gasoline       skoda          no   \n",
       "\n",
       "           DateCreated  NumberOfPictures  PostalCode             LastSeen  \n",
       "0  2016-03-24 00:00:00                 0       70435  2016-04-07 03:16:57  \n",
       "1  2016-03-24 00:00:00                 0       66954  2016-04-07 01:46:50  \n",
       "2  2016-03-14 00:00:00                 0       90480  2016-04-05 12:47:46  \n",
       "3  2016-03-17 00:00:00                 0       91074  2016-03-17 17:40:17  \n",
       "4  2016-03-31 00:00:00                 0       60437  2016-04-06 10:17:21  "
      ]
     },
     "execution_count": 3,
     "metadata": {},
     "output_type": "execute_result"
    }
   ],
   "source": [
    "df.head()"
   ]
  },
  {
   "cell_type": "markdown",
   "metadata": {},
   "source": [
    "Видим, что столбец `DateCrawled`, по всей видимости, следует удалить, т.к. он не содержит информации об объектах, а содержит информацию о дате выгрузки данных. Видим NaN-ы в `VehicleType`, `Model` и `NotRepaired`. Странное значение 0 в `RegistrationMonth`. \n",
    "\n",
    "Посмотрим на наличие пропусков в столбцах"
   ]
  },
  {
   "cell_type": "code",
   "execution_count": 4,
   "metadata": {},
   "outputs": [
    {
     "data": {
      "text/plain": [
       "NotRepaired          0.200791\n",
       "VehicleType          0.105794\n",
       "FuelType             0.092827\n",
       "Gearbox              0.055967\n",
       "Model                0.055606\n",
       "LastSeen             0.000000\n",
       "PostalCode           0.000000\n",
       "NumberOfPictures     0.000000\n",
       "DateCreated          0.000000\n",
       "Brand                0.000000\n",
       "RegistrationMonth    0.000000\n",
       "Kilometer            0.000000\n",
       "Power                0.000000\n",
       "RegistrationYear     0.000000\n",
       "Price                0.000000\n",
       "DateCrawled          0.000000\n",
       "dtype: float64"
      ]
     },
     "execution_count": 4,
     "metadata": {},
     "output_type": "execute_result"
    }
   ],
   "source": [
    "df.isna().mean().sort_values(ascending=False)"
   ]
  },
  {
   "cell_type": "markdown",
   "metadata": {},
   "source": [
    "Видим 5 признаков с пропусками, причем в `NotRepaired` доля доходит до 20%. \n",
    "\n",
    "Посмотрим на корректность определения типов данных"
   ]
  },
  {
   "cell_type": "code",
   "execution_count": 5,
   "metadata": {},
   "outputs": [
    {
     "data": {
      "text/plain": [
       "DateCrawled          object\n",
       "Price                 int64\n",
       "VehicleType          object\n",
       "RegistrationYear      int64\n",
       "Gearbox              object\n",
       "Power                 int64\n",
       "Model                object\n",
       "Kilometer             int64\n",
       "RegistrationMonth     int64\n",
       "FuelType             object\n",
       "Brand                object\n",
       "NotRepaired          object\n",
       "DateCreated          object\n",
       "NumberOfPictures      int64\n",
       "PostalCode            int64\n",
       "LastSeen             object\n",
       "dtype: object"
      ]
     },
     "execution_count": 5,
     "metadata": {},
     "output_type": "execute_result"
    }
   ],
   "source": [
    "df.dtypes"
   ]
  },
  {
   "cell_type": "markdown",
   "metadata": {},
   "source": [
    "Нужно будет изменить тип данных в `DateCrawled`, `DateCreated` и `LastSeen` на datetime, а также внимательно посмотреть на признаки с типом *object*: `VehicleType`,`Gearbox`, `Model`, `FuelType`, `Brand`, `NotRepaired`.\n",
    "\n",
    "Посмотрим на колонки с целочисленным типом."
   ]
  },
  {
   "cell_type": "code",
   "execution_count": 6,
   "metadata": {},
   "outputs": [],
   "source": [
    "date_columns = ['DateCrawled', 'DateCreated', 'LastSeen']\n",
    "object_columns = ['VehicleType','Gearbox', 'Model', 'FuelType', 'Brand', 'NotRepaired']"
   ]
  },
  {
   "cell_type": "code",
   "execution_count": 7,
   "metadata": {},
   "outputs": [
    {
     "data": {
      "text/plain": [
       "'Price'"
      ]
     },
     "metadata": {},
     "output_type": "display_data"
    },
    {
     "data": {
      "text/plain": [
       "count    354369.000000\n",
       "mean       4416.656776\n",
       "std        4514.158514\n",
       "min           0.000000\n",
       "25%        1050.000000\n",
       "50%        2700.000000\n",
       "75%        6400.000000\n",
       "max       20000.000000\n",
       "Name: Price, dtype: float64"
      ]
     },
     "metadata": {},
     "output_type": "display_data"
    },
    {
     "data": {
      "image/png": "[encoded data removed]",
      "text/plain": [
       "<Figure size 432x288 with 1 Axes>"
      ]
     },
     "metadata": {
      "needs_background": "light"
     },
     "output_type": "display_data"
    },
    {
     "data": {
      "text/plain": [
       "'-------------------'"
      ]
     },
     "metadata": {},
     "output_type": "display_data"
    },
    {
     "data": {
      "text/plain": [
       "'RegistrationYear'"
      ]
     },
     "metadata": {},
     "output_type": "display_data"
    },
    {
     "data": {
      "text/plain": [
       "count    354369.000000\n",
       "mean       2004.234448\n",
       "std          90.227958\n",
       "min        1000.000000\n",
       "25%        1999.000000\n",
       "50%        2003.000000\n",
       "75%        2008.000000\n",
       "max        9999.000000\n",
       "Name: RegistrationYear, dtype: float64"
      ]
     },
     "metadata": {},
     "output_type": "display_data"
    },
    {
     "data": {
      "image/png": "[encoded data removed]",
      "text/plain": [
       "<Figure size 432x288 with 1 Axes>"
      ]
     },
     "metadata": {
      "needs_background": "light"
     },
     "output_type": "display_data"
    },
    {
     "data": {
      "text/plain": [
       "'-------------------'"
      ]
     },
     "metadata": {},
     "output_type": "display_data"
    },
    {
     "data": {
      "text/plain": [
       "'Power'"
      ]
     },
     "metadata": {},
     "output_type": "display_data"
    },
    {
     "data": {
      "text/plain": [
       "count    354369.000000\n",
       "mean        110.094337\n",
       "std         189.850405\n",
       "min           0.000000\n",
       "25%          69.000000\n",
       "50%         105.000000\n",
       "75%         143.000000\n",
       "max       20000.000000\n",
       "Name: Power, dtype: float64"
      ]
     },
     "metadata": {},
     "output_type": "display_data"
    },
    {
     "data": {
      "image/png": "[encoded data removed]",
      "text/plain": [
       "<Figure size 432x288 with 1 Axes>"
      ]
     },
     "metadata": {
      "needs_background": "light"
     },
     "output_type": "display_data"
    },
    {
     "data": {
      "text/plain": [
       "'-------------------'"
      ]
     },
     "metadata": {},
     "output_type": "display_data"
    },
    {
     "data": {
      "text/plain": [
       "'Kilometer'"
      ]
     },
     "metadata": {},
     "output_type": "display_data"
    },
    {
     "data": {
      "text/plain": [
       "count    354369.000000\n",
       "mean     128211.172535\n",
       "std       37905.341530\n",
       "min        5000.000000\n",
       "25%      125000.000000\n",
       "50%      150000.000000\n",
       "75%      150000.000000\n",
       "max      150000.000000\n",
       "Name: Kilometer, dtype: float64"
      ]
     },
     "metadata": {},
     "output_type": "display_data"
    },
    {
     "data": {
      "image/png": "[encoded data removed]",
      "text/plain": [
       "<Figure size 432x288 with 1 Axes>"
      ]
     },
     "metadata": {
      "needs_background": "light"
     },
     "output_type": "display_data"
    },
    {
     "data": {
      "text/plain": [
       "'-------------------'"
      ]
     },
     "metadata": {},
     "output_type": "display_data"
    },
    {
     "data": {
      "text/plain": [
       "'RegistrationMonth'"
      ]
     },
     "metadata": {},
     "output_type": "display_data"
    },
    {
     "data": {
      "text/plain": [
       "count    354369.000000\n",
       "mean          5.714645\n",
       "std           3.726421\n",
       "min           0.000000\n",
       "25%           3.000000\n",
       "50%           6.000000\n",
       "75%           9.000000\n",
       "max          12.000000\n",
       "Name: RegistrationMonth, dtype: float64"
      ]
     },
     "metadata": {},
     "output_type": "display_data"
    },
    {
     "data": {
      "image/png": "[encoded data removed]",
      "text/plain": [
       "<Figure size 432x288 with 1 Axes>"
      ]
     },
     "metadata": {
      "needs_background": "light"
     },
     "output_type": "display_data"
    },
    {
     "data": {
      "text/plain": [
       "'-------------------'"
      ]
     },
     "metadata": {},
     "output_type": "display_data"
    },
    {
     "data": {
      "text/plain": [
       "'NumberOfPictures'"
      ]
     },
     "metadata": {},
     "output_type": "display_data"
    },
    {
     "data": {
      "text/plain": [
       "count    354369.0\n",
       "mean          0.0\n",
       "std           0.0\n",
       "min           0.0\n",
       "25%           0.0\n",
       "50%           0.0\n",
       "75%           0.0\n",
       "max           0.0\n",
       "Name: NumberOfPictures, dtype: float64"
      ]
     },
     "metadata": {},
     "output_type": "display_data"
    },
    {
     "data": {
      "image/png": "[encoded data removed]",
      "text/plain": [
       "<Figure size 432x288 with 1 Axes>"
      ]
     },
     "metadata": {
      "needs_background": "light"
     },
     "output_type": "display_data"
    },
    {
     "data": {
      "text/plain": [
       "'-------------------'"
      ]
     },
     "metadata": {},
     "output_type": "display_data"
    },
    {
     "data": {
      "text/plain": [
       "'PostalCode'"
      ]
     },
     "metadata": {},
     "output_type": "display_data"
    },
    {
     "data": {
      "text/plain": [
       "count    354369.000000\n",
       "mean      50508.689087\n",
       "std       25783.096248\n",
       "min        1067.000000\n",
       "25%       30165.000000\n",
       "50%       49413.000000\n",
       "75%       71083.000000\n",
       "max       99998.000000\n",
       "Name: PostalCode, dtype: float64"
      ]
     },
     "metadata": {},
     "output_type": "display_data"
    },
    {
     "data": {
      "image/png": "[encoded data removed]",
      "text/plain": [
       "<Figure size 432x288 with 1 Axes>"
      ]
     },
     "metadata": {
      "needs_background": "light"
     },
     "output_type": "display_data"
    },
    {
     "data": {
      "text/plain": [
       "'-------------------'"
      ]
     },
     "metadata": {},
     "output_type": "display_data"
    }
   ],
   "source": [
    "num_columns = []\n",
    "for column in df.columns:\n",
    "    if df[column].dtypes == 'int':\n",
    "        num_columns.append(column)\n",
    "\n",
    "for column in num_columns:\n",
    "    display(column)\n",
    "    display(df[column].describe())\n",
    "    df[column].hist()\n",
    "    plt.show()\n",
    "    display('-------------------')"
   ]
  },
  {
   "cell_type": "markdown",
   "metadata": {},
   "source": [
    "Видим странные значения цене (есть нулевые значения), в годе регистрации (1000 и 9999), в мощности (0 и 20000), в месяце регистрации (интервал от 0 до 12 включительно) и бесполезность признака количество фотографий, все значения которого равны 0. Обращаем внимание на `PostalCode`, который фактически является категориальным признаком."
   ]
  },
  {
   "cell_type": "markdown",
   "metadata": {},
   "source": [
    "**Вывод**"
   ]
  },
  {
   "cell_type": "markdown",
   "metadata": {},
   "source": [
    "В нашем распоряжении датафрейм из 354369 объектов и 16 признаков. Видим:\n",
    "* Пропуски в столбцах `NotRepaired` (20%), `VehicleType` (11%), `FuelType` (9%), `Gearbox` (6%), `Model` (6%).\n",
    "* Странные значения в `Price` (нулевые значения), `RegistrationMonth` (13 значений от 0 до 12 вместо ожидаемых 12), `RegistrationYear` (интервал значений от 1000 до 9999) и `Power` (интервал значений от 0 до 20000).\n",
    "* В признаках, содержащих информацию о датах `DateCrawled`, `DateCreated` и `LastSeen` нужно будет изменить тип на datetime, \n",
    "* Также дополнительно изучим признаки с типом *object*: `VehicleType`,`Gearbox`, `Model`, `FuelType`, `Brand`, `NotRepaired` и `PostalCode`, который фактически является категориальным.\n",
    "* Столбцы подлежащие удалению `DateCrawled` (содержит информацию о времени выгрузки данных, а не об объектах) и `NumberOfPictures` (для всех объектов содержит одно и то же значение 0)."
   ]
  },
  {
   "cell_type": "markdown",
   "metadata": {},
   "source": [
    "### Предобработка"
   ]
  },
  {
   "cell_type": "markdown",
   "metadata": {},
   "source": [
    "#### Обработка пропусков"
   ]
  },
  {
   "cell_type": "code",
   "execution_count": 8,
   "metadata": {
    "scrolled": true
   },
   "outputs": [
    {
     "data": {
      "text/plain": [
       "'VehicleType'"
      ]
     },
     "metadata": {},
     "output_type": "display_data"
    },
    {
     "data": {
      "text/plain": [
       "sedan          0.258084\n",
       "small          0.225276\n",
       "wagon          0.183893\n",
       "NaN            0.105794\n",
       "bus            0.081201\n",
       "convertible    0.057011\n",
       "coupe          0.045611\n",
       "suv            0.033852\n",
       "other          0.009278\n",
       "Name: VehicleType, dtype: float64"
      ]
     },
     "metadata": {},
     "output_type": "display_data"
    },
    {
     "data": {
      "text/plain": [
       "'--------------'"
      ]
     },
     "metadata": {},
     "output_type": "display_data"
    },
    {
     "data": {
      "text/plain": [
       "'Gearbox'"
      ]
     },
     "metadata": {},
     "output_type": "display_data"
    },
    {
     "data": {
      "text/plain": [
       "manual    0.756982\n",
       "auto      0.187051\n",
       "NaN       0.055967\n",
       "Name: Gearbox, dtype: float64"
      ]
     },
     "metadata": {},
     "output_type": "display_data"
    },
    {
     "data": {
      "text/plain": [
       "'--------------'"
      ]
     },
     "metadata": {},
     "output_type": "display_data"
    },
    {
     "data": {
      "text/plain": [
       "'Model'"
      ]
     },
     "metadata": {},
     "output_type": "display_data"
    },
    {
     "data": {
      "text/plain": [
       "golf                  0.082490\n",
       "other                 0.068914\n",
       "3er                   0.055764\n",
       "NaN                   0.055606\n",
       "polo                  0.036871\n",
       "                        ...   \n",
       "i3                    0.000023\n",
       "serie_3               0.000011\n",
       "rangerover            0.000011\n",
       "serie_1               0.000006\n",
       "range_rover_evoque    0.000006\n",
       "Name: Model, Length: 251, dtype: float64"
      ]
     },
     "metadata": {},
     "output_type": "display_data"
    },
    {
     "data": {
      "text/plain": [
       "'--------------'"
      ]
     },
     "metadata": {},
     "output_type": "display_data"
    },
    {
     "data": {
      "text/plain": [
       "'FuelType'"
      ]
     },
     "metadata": {},
     "output_type": "display_data"
    },
    {
     "data": {
      "text/plain": [
       "petrol      0.610527\n",
       "gasoline    0.278580\n",
       "NaN         0.092827\n",
       "lpg         0.014984\n",
       "cng         0.001594\n",
       "hybrid      0.000658\n",
       "other       0.000576\n",
       "electric    0.000254\n",
       "Name: FuelType, dtype: float64"
      ]
     },
     "metadata": {},
     "output_type": "display_data"
    },
    {
     "data": {
      "text/plain": [
       "'--------------'"
      ]
     },
     "metadata": {},
     "output_type": "display_data"
    },
    {
     "data": {
      "text/plain": [
       "'NotRepaired'"
      ]
     },
     "metadata": {},
     "output_type": "display_data"
    },
    {
     "data": {
      "text/plain": [
       "no     0.697468\n",
       "NaN    0.200791\n",
       "yes    0.101741\n",
       "Name: NotRepaired, dtype: float64"
      ]
     },
     "metadata": {},
     "output_type": "display_data"
    },
    {
     "data": {
      "text/plain": [
       "'--------------'"
      ]
     },
     "metadata": {},
     "output_type": "display_data"
    }
   ],
   "source": [
    "na_columns = []\n",
    "for column in df.columns:\n",
    "    if df[column].isna().mean() > 0:\n",
    "        na_columns.append(column)\n",
    "\n",
    "for column in na_columns:\n",
    "    display(column)\n",
    "    display(df[column].value_counts(dropna=False, normalize=True))\n",
    "    display('--------------')"
   ]
  },
  {
   "cell_type": "markdown",
   "metadata": {},
   "source": [
    "Видим, что в `VehicleType`, `Gearbox` и `NotRepaired` можем заполнить пропуски значениями *no_info*. Сложнее ситуация в `Model` и `FuelType`. \n",
    "\n",
    "Среди объектов встречается 251 уникальная модель автомобиля, при этом второе по популярности значение - *other*. Заполним пропуски значением *no_info*, нужно будет посмотреть на значения еще раз в связке с маркой автомобиля.\n",
    "\n",
    "В типе топлива видим серьезный перекос: 88% приходятся на значения *petrol* и *gasoline*, которые, вообще говоря, являются бензином и есть желание их объединить в одну категорию. Но объединять категории не будем, т.к. иначе получим гиперкатегорию + возможно наименование топлива как-то связано с ценой: например, зависит от года выпуска автомобиля или региона, в котором он эксплуатировался. Или, как вариант, мы видим, что среди значений нет дизельного топлива, что очень странно. Возможно, одно из значений соответсвует именно дизелю.  \n",
    "Замечаем, что *lpg* и *cng* - это сжиженный газ, то есть близкие категории, которые хочется объединить в одну. А также обращаем внимание на то, что доля электрических и гибридных автомобилей очень мала, но мы ожидаем, что их цена сильно отличается от цены обычных автомобилей, поэтому оставим эти категории.  \n",
    "Посмотрим на медианные цены по категориям типа топлива."
   ]
  },
  {
   "cell_type": "code",
   "execution_count": 9,
   "metadata": {},
   "outputs": [
    {
     "data": {
      "text/plain": [
       "FuelType\n",
       "hybrid      9990.0\n",
       "electric    5799.5\n",
       "gasoline    5200.0\n",
       "cng         3650.0\n",
       "lpg         2983.5\n",
       "petrol      2000.0\n",
       "other        974.5\n",
       "Name: Price, dtype: float64"
      ]
     },
     "metadata": {},
     "output_type": "display_data"
    },
    {
     "data": {
      "text/plain": [
       "'NaN 1100.0'"
      ]
     },
     "metadata": {},
     "output_type": "display_data"
    },
    {
     "data": {
      "text/plain": [
       "'df median 2700.0'"
      ]
     },
     "metadata": {},
     "output_type": "display_data"
    }
   ],
   "source": [
    "display(df.groupby(by='FuelType')['Price'].median().sort_values(ascending=False))\n",
    "display('NaN ' + str(df[df['FuelType'].isna()]['Price'].median()))\n",
    "display('df median ' + str(df['Price'].median()))"
   ]
  },
  {
   "cell_type": "markdown",
   "metadata": {},
   "source": [
    "Видим, что первое место по цене с огромным отрывом занимают гибридные автомобили, медианные цены на автомобили с типами топлива *petrol* и *gasoline* отличаются в разы.  \n",
    "**Итого:** заполняем все пропуски значением *no_info*, никакие категории не объединяем."
   ]
  },
  {
   "cell_type": "code",
   "execution_count": 10,
   "metadata": {
    "scrolled": true
   },
   "outputs": [
    {
     "data": {
      "text/plain": [
       "DateCrawled          0.0\n",
       "Price                0.0\n",
       "VehicleType          0.0\n",
       "RegistrationYear     0.0\n",
       "Gearbox              0.0\n",
       "Power                0.0\n",
       "Model                0.0\n",
       "Kilometer            0.0\n",
       "RegistrationMonth    0.0\n",
       "FuelType             0.0\n",
       "Brand                0.0\n",
       "NotRepaired          0.0\n",
       "DateCreated          0.0\n",
       "NumberOfPictures     0.0\n",
       "PostalCode           0.0\n",
       "LastSeen             0.0\n",
       "dtype: float64"
      ]
     },
     "execution_count": 10,
     "metadata": {},
     "output_type": "execute_result"
    }
   ],
   "source": [
    "df = df.fillna('no_info')\n",
    "df.isna().mean()"
   ]
  },
  {
   "cell_type": "markdown",
   "metadata": {},
   "source": [
    "#### Приведение типов"
   ]
  },
  {
   "cell_type": "code",
   "execution_count": 11,
   "metadata": {
    "scrolled": true
   },
   "outputs": [
    {
     "name": "stdout",
     "output_type": "stream",
     "text": [
      "<class 'pandas.core.frame.DataFrame'>\n",
      "RangeIndex: 354369 entries, 0 to 354368\n",
      "Data columns (total 3 columns):\n",
      "DateCrawled    354369 non-null datetime64[ns]\n",
      "DateCreated    354369 non-null datetime64[ns]\n",
      "LastSeen       354369 non-null datetime64[ns]\n",
      "dtypes: datetime64[ns](3)\n",
      "memory usage: 8.1 MB\n"
     ]
    }
   ],
   "source": [
    "for column in date_columns:\n",
    "    df[column] = pd.to_datetime(df[column])\n",
    "df[date_columns].info()"
   ]
  },
  {
   "cell_type": "code",
   "execution_count": 12,
   "metadata": {},
   "outputs": [
    {
     "data": {
      "text/html": [
       "<div>\n",
       "<style scoped>\n",
       "    .dataframe tbody tr th:only-of-type {\n",
       "        vertical-align: middle;\n",
       "    }\n",
       "\n",
       "    .dataframe tbody tr th {\n",
       "        vertical-align: top;\n",
       "    }\n",
       "\n",
       "    .dataframe thead th {\n",
       "        text-align: right;\n",
       "    }\n",
       "</style>\n",
       "<table border=\"1\" class=\"dataframe\">\n",
       "  <thead>\n",
       "    <tr style=\"text-align: right;\">\n",
       "      <th></th>\n",
       "      <th>VehicleType</th>\n",
       "      <th>Gearbox</th>\n",
       "      <th>Model</th>\n",
       "      <th>FuelType</th>\n",
       "      <th>Brand</th>\n",
       "      <th>NotRepaired</th>\n",
       "    </tr>\n",
       "  </thead>\n",
       "  <tbody>\n",
       "    <tr>\n",
       "      <td>count</td>\n",
       "      <td>354369</td>\n",
       "      <td>354369</td>\n",
       "      <td>354369</td>\n",
       "      <td>354369</td>\n",
       "      <td>354369</td>\n",
       "      <td>354369</td>\n",
       "    </tr>\n",
       "    <tr>\n",
       "      <td>unique</td>\n",
       "      <td>9</td>\n",
       "      <td>3</td>\n",
       "      <td>251</td>\n",
       "      <td>8</td>\n",
       "      <td>40</td>\n",
       "      <td>3</td>\n",
       "    </tr>\n",
       "    <tr>\n",
       "      <td>top</td>\n",
       "      <td>sedan</td>\n",
       "      <td>manual</td>\n",
       "      <td>golf</td>\n",
       "      <td>petrol</td>\n",
       "      <td>volkswagen</td>\n",
       "      <td>no</td>\n",
       "    </tr>\n",
       "    <tr>\n",
       "      <td>freq</td>\n",
       "      <td>91457</td>\n",
       "      <td>268251</td>\n",
       "      <td>29232</td>\n",
       "      <td>216352</td>\n",
       "      <td>77013</td>\n",
       "      <td>247161</td>\n",
       "    </tr>\n",
       "  </tbody>\n",
       "</table>\n",
       "</div>"
      ],
      "text/plain": [
       "       VehicleType Gearbox   Model FuelType       Brand NotRepaired\n",
       "count       354369  354369  354369   354369      354369      354369\n",
       "unique           9       3     251        8          40           3\n",
       "top          sedan  manual    golf   petrol  volkswagen          no\n",
       "freq         91457  268251   29232   216352       77013      247161"
      ]
     },
     "execution_count": 12,
     "metadata": {},
     "output_type": "execute_result"
    }
   ],
   "source": [
    "df[object_columns].describe()"
   ]
  },
  {
   "cell_type": "markdown",
   "metadata": {},
   "source": [
    "Видим, что это все категориальные переменные. При этом смущает большое количество категорий в марке и модели автобиля. Посмотрим на них внимательней."
   ]
  },
  {
   "cell_type": "code",
   "execution_count": 13,
   "metadata": {
    "scrolled": true
   },
   "outputs": [
    {
     "data": {
      "text/plain": [
       "volkswagen        0.217324\n",
       "opel              0.112682\n",
       "bmw               0.104168\n",
       "mercedes_benz     0.090431\n",
       "audi              0.083122\n",
       "ford              0.071053\n",
       "renault           0.050589\n",
       "peugeot           0.031035\n",
       "fiat              0.027212\n",
       "seat              0.019491\n",
       "mazda             0.015845\n",
       "skoda             0.015521\n",
       "smart             0.014804\n",
       "citroen           0.014527\n",
       "nissan            0.013943\n",
       "toyota            0.012998\n",
       "hyundai           0.010122\n",
       "sonstige_autos    0.009521\n",
       "volvo             0.009058\n",
       "mini              0.009036\n",
       "mitsubishi        0.008528\n",
       "honda             0.007949\n",
       "kia               0.006956\n",
       "suzuki            0.006555\n",
       "alfa_romeo        0.006530\n",
       "chevrolet         0.004950\n",
       "chrysler          0.004061\n",
       "dacia             0.002540\n",
       "daihatsu          0.002274\n",
       "subaru            0.002150\n",
       "porsche           0.002139\n",
       "jeep              0.001910\n",
       "trabant           0.001662\n",
       "land_rover        0.001538\n",
       "daewoo            0.001529\n",
       "saab              0.001484\n",
       "jaguar            0.001425\n",
       "rover             0.001371\n",
       "lancia            0.001329\n",
       "lada              0.000635\n",
       "Name: Brand, dtype: float64"
      ]
     },
     "execution_count": 13,
     "metadata": {},
     "output_type": "execute_result"
    }
   ],
   "source": [
    "df['Brand'].value_counts(normalize=True)"
   ]
  },
  {
   "cell_type": "code",
   "execution_count": 14,
   "metadata": {
    "scrolled": true
   },
   "outputs": [
    {
     "data": {
      "text/plain": [
       "Brand\n",
       "porsche           10994.670185\n",
       "mini               8992.646159\n",
       "land_rover         8429.365138\n",
       "jeep               7065.096012\n",
       "jaguar             6685.538614\n",
       "audi               6239.976507\n",
       "bmw                6162.214661\n",
       "mercedes_benz      5910.507614\n",
       "skoda              5909.606727\n",
       "dacia              5839.654444\n",
       "chevrolet          5639.312429\n",
       "hyundai            5108.007248\n",
       "sonstige_autos     5026.058684\n",
       "kia                4981.772414\n",
       "toyota             4771.252063\n",
       "volkswagen         4381.277070\n",
       "volvo              4266.457632\n",
       "nissan             4084.704311\n",
       "seat               3997.564355\n",
       "suzuki             3875.147654\n",
       "chrysler           3710.838777\n",
       "subaru             3698.850394\n",
       "alfa_romeo         3697.622731\n",
       "saab               3668.102662\n",
       "honda              3649.479233\n",
       "mazda              3620.883526\n",
       "smart              3487.832634\n",
       "citroen            3467.194639\n",
       "ford               3175.719846\n",
       "peugeot            3111.897709\n",
       "lada               3037.444444\n",
       "mitsubishi         2932.187624\n",
       "opel               2730.767549\n",
       "fiat               2694.944830\n",
       "lancia             2351.031847\n",
       "renault            2269.627210\n",
       "daihatsu           1693.656328\n",
       "trabant            1617.499151\n",
       "rover              1316.524691\n",
       "daewoo             1017.811808\n",
       "Name: Price, dtype: float64"
      ]
     },
     "execution_count": 14,
     "metadata": {},
     "output_type": "execute_result"
    }
   ],
   "source": [
    "df.groupby('Brand')['Price'].mean().sort_values(ascending=False)"
   ]
  },
  {
   "cell_type": "markdown",
   "metadata": {},
   "source": [
    "40 значений для категориальной переменной - это много, но марка автомобиля сильно влияет на цену, поэтому не будем укрупнять категории.\n",
    "\n",
    "Посмотрим на марки автомобилей. "
   ]
  },
  {
   "cell_type": "code",
   "execution_count": 15,
   "metadata": {},
   "outputs": [
    {
     "data": {
      "text/plain": [
       "251"
      ]
     },
     "execution_count": 15,
     "metadata": {},
     "output_type": "execute_result"
    }
   ],
   "source": [
    "df['Model'].str.lower().nunique()"
   ]
  },
  {
   "cell_type": "code",
   "execution_count": 16,
   "metadata": {},
   "outputs": [
    {
     "data": {
      "text/plain": [
       "251"
      ]
     },
     "execution_count": 16,
     "metadata": {},
     "output_type": "execute_result"
    }
   ],
   "source": [
    "df['Model'].nunique()"
   ]
  },
  {
   "cell_type": "markdown",
   "metadata": {},
   "source": [
    "Видим, что дублей, скрытых регистром нет. Посмотрим на отсортированные названия моделей, может быть есть опечатки."
   ]
  },
  {
   "cell_type": "code",
   "execution_count": 17,
   "metadata": {
    "scrolled": true
   },
   "outputs": [
    {
     "data": {
      "text/plain": [
       "['100',\n",
       " '145',\n",
       " '147',\n",
       " '156',\n",
       " '159',\n",
       " '1_reihe',\n",
       " '1er',\n",
       " '200',\n",
       " '2_reihe',\n",
       " '300c',\n",
       " '3_reihe',\n",
       " '3er',\n",
       " '4_reihe',\n",
       " '500',\n",
       " '5_reihe',\n",
       " '5er',\n",
       " '601',\n",
       " '6_reihe',\n",
       " '6er',\n",
       " '7er',\n",
       " '80',\n",
       " '850',\n",
       " '90',\n",
       " '900',\n",
       " '9000',\n",
       " '911',\n",
       " 'a1',\n",
       " 'a2',\n",
       " 'a3',\n",
       " 'a4',\n",
       " 'a5',\n",
       " 'a6',\n",
       " 'a8',\n",
       " 'a_klasse',\n",
       " 'accord',\n",
       " 'agila',\n",
       " 'alhambra',\n",
       " 'almera',\n",
       " 'altea',\n",
       " 'amarok',\n",
       " 'antara',\n",
       " 'arosa',\n",
       " 'astra',\n",
       " 'auris',\n",
       " 'avensis',\n",
       " 'aveo',\n",
       " 'aygo',\n",
       " 'b_klasse',\n",
       " 'b_max',\n",
       " 'beetle',\n",
       " 'berlingo',\n",
       " 'bora',\n",
       " 'boxster',\n",
       " 'bravo',\n",
       " 'c1',\n",
       " 'c2',\n",
       " 'c3',\n",
       " 'c4',\n",
       " 'c5',\n",
       " 'c_klasse',\n",
       " 'c_max',\n",
       " 'c_reihe',\n",
       " 'caddy',\n",
       " 'calibra',\n",
       " 'captiva',\n",
       " 'carisma',\n",
       " 'carnival',\n",
       " 'cayenne',\n",
       " 'cc',\n",
       " 'ceed',\n",
       " 'charade',\n",
       " 'cherokee',\n",
       " 'citigo',\n",
       " 'civic',\n",
       " 'cl',\n",
       " 'clio',\n",
       " 'clk',\n",
       " 'clubman',\n",
       " 'colt',\n",
       " 'combo',\n",
       " 'cooper',\n",
       " 'cordoba',\n",
       " 'corolla',\n",
       " 'corsa',\n",
       " 'cr_reihe',\n",
       " 'croma',\n",
       " 'crossfire',\n",
       " 'cuore',\n",
       " 'cx_reihe',\n",
       " 'defender',\n",
       " 'delta',\n",
       " 'discovery',\n",
       " 'doblo',\n",
       " 'ducato',\n",
       " 'duster',\n",
       " 'e_klasse',\n",
       " 'elefantino',\n",
       " 'eos',\n",
       " 'escort',\n",
       " 'espace',\n",
       " 'exeo',\n",
       " 'fabia',\n",
       " 'fiesta',\n",
       " 'focus',\n",
       " 'forester',\n",
       " 'forfour',\n",
       " 'fortwo',\n",
       " 'fox',\n",
       " 'freelander',\n",
       " 'fusion',\n",
       " 'g_klasse',\n",
       " 'galant',\n",
       " 'galaxy',\n",
       " 'getz',\n",
       " 'gl',\n",
       " 'glk',\n",
       " 'golf',\n",
       " 'grand',\n",
       " 'i3',\n",
       " 'i_reihe',\n",
       " 'ibiza',\n",
       " 'impreza',\n",
       " 'insignia',\n",
       " 'jazz',\n",
       " 'jetta',\n",
       " 'jimny',\n",
       " 'juke',\n",
       " 'justy',\n",
       " 'ka',\n",
       " 'kadett',\n",
       " 'kaefer',\n",
       " 'kalina',\n",
       " 'kalos',\n",
       " 'kangoo',\n",
       " 'kappa',\n",
       " 'kuga',\n",
       " 'laguna',\n",
       " 'lancer',\n",
       " 'lanos',\n",
       " 'legacy',\n",
       " 'leon',\n",
       " 'lodgy',\n",
       " 'logan',\n",
       " 'lupo',\n",
       " 'lybra',\n",
       " 'm_klasse',\n",
       " 'm_reihe',\n",
       " 'materia',\n",
       " 'matiz',\n",
       " 'megane',\n",
       " 'meriva',\n",
       " 'micra',\n",
       " 'mii',\n",
       " 'modus',\n",
       " 'mondeo',\n",
       " 'move',\n",
       " 'musa',\n",
       " 'mustang',\n",
       " 'mx_reihe',\n",
       " 'navara',\n",
       " 'niva',\n",
       " 'no_info',\n",
       " 'note',\n",
       " 'nubira',\n",
       " 'octavia',\n",
       " 'omega',\n",
       " 'one',\n",
       " 'other',\n",
       " 'outlander',\n",
       " 'pajero',\n",
       " 'panda',\n",
       " 'passat',\n",
       " 'phaeton',\n",
       " 'picanto',\n",
       " 'polo',\n",
       " 'primera',\n",
       " 'ptcruiser',\n",
       " 'punto',\n",
       " 'q3',\n",
       " 'q5',\n",
       " 'q7',\n",
       " 'qashqai',\n",
       " 'r19',\n",
       " 'range_rover',\n",
       " 'range_rover_evoque',\n",
       " 'range_rover_sport',\n",
       " 'rangerover',\n",
       " 'rav',\n",
       " 'rio',\n",
       " 'roadster',\n",
       " 'roomster',\n",
       " 'rx_reihe',\n",
       " 's60',\n",
       " 's_klasse',\n",
       " 's_max',\n",
       " 's_type',\n",
       " 'samara',\n",
       " 'sandero',\n",
       " 'santa',\n",
       " 'scenic',\n",
       " 'scirocco',\n",
       " 'seicento',\n",
       " 'serie_1',\n",
       " 'serie_2',\n",
       " 'serie_3',\n",
       " 'sharan',\n",
       " 'signum',\n",
       " 'sirion',\n",
       " 'sl',\n",
       " 'slk',\n",
       " 'sorento',\n",
       " 'spark',\n",
       " 'spider',\n",
       " 'sportage',\n",
       " 'sprinter',\n",
       " 'stilo',\n",
       " 'superb',\n",
       " 'swift',\n",
       " 'terios',\n",
       " 'tigra',\n",
       " 'tiguan',\n",
       " 'toledo',\n",
       " 'touareg',\n",
       " 'touran',\n",
       " 'transit',\n",
       " 'transporter',\n",
       " 'tt',\n",
       " 'tucson',\n",
       " 'twingo',\n",
       " 'up',\n",
       " 'v40',\n",
       " 'v50',\n",
       " 'v60',\n",
       " 'v70',\n",
       " 'v_klasse',\n",
       " 'vectra',\n",
       " 'verso',\n",
       " 'viano',\n",
       " 'vito',\n",
       " 'vivaro',\n",
       " 'voyager',\n",
       " 'wrangler',\n",
       " 'x_reihe',\n",
       " 'x_trail',\n",
       " 'x_type',\n",
       " 'xc_reihe',\n",
       " 'yaris',\n",
       " 'yeti',\n",
       " 'ypsilon',\n",
       " 'z_reihe',\n",
       " 'zafira']"
      ]
     },
     "execution_count": 17,
     "metadata": {},
     "output_type": "execute_result"
    }
   ],
   "source": [
    "sorted(list(df['Model'].unique()))"
   ]
  },
  {
   "cell_type": "markdown",
   "metadata": {},
   "source": [
    "Массовых проблем, увы, не видим. Видим написание 'range_rover' и 'rangerover', а также потенциальные повторы вида 'c_klasse'/'c_reihe', 'm_klasse'/'m_reihe', 's_klasse'/'s_type', 'x_reihe'/'x_type'. Первое "
   ]
  },
  {
   "cell_type": "code",
   "execution_count": 18,
   "metadata": {},
   "outputs": [],
   "source": [
    "df.loc[df['Model'] == 'rangerover', 'Model'] = 'range_rover'"
   ]
  },
  {
   "cell_type": "code",
   "execution_count": 19,
   "metadata": {
    "scrolled": true
   },
   "outputs": [
    {
     "data": {
      "text/plain": [
       "Model     Brand        \n",
       "c_klasse  mercedes_benz    8312\n",
       "c_reihe   volvo             193\n",
       "Name: Brand, dtype: int64"
      ]
     },
     "execution_count": 19,
     "metadata": {},
     "output_type": "execute_result"
    }
   ],
   "source": [
    "df.query(\"Model in ['c_reihe', 'c_klasse']\").groupby(['Model', 'Brand'])['Brand'].count()"
   ]
  },
  {
   "cell_type": "code",
   "execution_count": 20,
   "metadata": {
    "scrolled": true
   },
   "outputs": [
    {
     "data": {
      "text/plain": [
       "Model     Brand        \n",
       "m_klasse  mercedes_benz    953\n",
       "m_reihe   bmw              132\n",
       "Name: Brand, dtype: int64"
      ]
     },
     "execution_count": 20,
     "metadata": {},
     "output_type": "execute_result"
    }
   ],
   "source": [
    "df.query(\"Model in ['m_klasse', 'm_reihe']\").groupby(['Model', 'Brand'])['Brand'].count()"
   ]
  },
  {
   "cell_type": "code",
   "execution_count": 21,
   "metadata": {
    "scrolled": true
   },
   "outputs": [
    {
     "data": {
      "text/plain": [
       "Model     Brand        \n",
       "s_klasse  mercedes_benz    892\n",
       "s_type    jaguar           128\n",
       "Name: Brand, dtype: int64"
      ]
     },
     "execution_count": 21,
     "metadata": {},
     "output_type": "execute_result"
    }
   ],
   "source": [
    "df.query(\"Model in ['s_klasse', 's_type']\").groupby(['Model', 'Brand'])['Brand'].count()"
   ]
  },
  {
   "cell_type": "code",
   "execution_count": 22,
   "metadata": {
    "scrolled": true
   },
   "outputs": [
    {
     "data": {
      "text/plain": [
       "Model    Brand \n",
       "x_reihe  bmw       1589\n",
       "x_type   jaguar     173\n",
       "Name: Brand, dtype: int64"
      ]
     },
     "execution_count": 22,
     "metadata": {},
     "output_type": "execute_result"
    }
   ],
   "source": [
    "df.query(\"Model in ['x_reihe', 'x_type']\").groupby(['Model', 'Brand'])['Brand'].count()"
   ]
  },
  {
   "cell_type": "markdown",
   "metadata": {},
   "source": [
    "Видим, что пары значений специфичны для производителей автомобилей. Оставим всё без изменений."
   ]
  },
  {
   "cell_type": "code",
   "execution_count": 23,
   "metadata": {
    "scrolled": true
   },
   "outputs": [
    {
     "data": {
      "text/plain": [
       "'Марка volkswagen, количество моделей 23'"
      ]
     },
     "metadata": {},
     "output_type": "display_data"
    },
    {
     "data": {
      "text/plain": [
       "array(['golf', 'other', 'passat', 'polo', 'scirocco', 'transporter',\n",
       "       'jetta', 'no_info', 'eos', 'touran', 'lupo', 'caddy', 'tiguan',\n",
       "       'sharan', 'up', 'fox', 'beetle', 'touareg', 'kaefer', 'phaeton',\n",
       "       'cc', 'bora', 'amarok'], dtype=object)"
      ]
     },
     "metadata": {},
     "output_type": "display_data"
    },
    {
     "data": {
      "text/html": [
       "<div>\n",
       "<style scoped>\n",
       "    .dataframe tbody tr th:only-of-type {\n",
       "        vertical-align: middle;\n",
       "    }\n",
       "\n",
       "    .dataframe tbody tr th {\n",
       "        vertical-align: top;\n",
       "    }\n",
       "\n",
       "    .dataframe thead th {\n",
       "        text-align: right;\n",
       "    }\n",
       "</style>\n",
       "<table border=\"1\" class=\"dataframe\">\n",
       "  <thead>\n",
       "    <tr style=\"text-align: right;\">\n",
       "      <th></th>\n",
       "      <th>mean</th>\n",
       "      <th>count</th>\n",
       "    </tr>\n",
       "    <tr>\n",
       "      <th>Model</th>\n",
       "      <th></th>\n",
       "      <th></th>\n",
       "    </tr>\n",
       "  </thead>\n",
       "  <tbody>\n",
       "    <tr>\n",
       "      <td>tiguan</td>\n",
       "      <td>14138.638973</td>\n",
       "      <td>662</td>\n",
       "    </tr>\n",
       "    <tr>\n",
       "      <td>cc</td>\n",
       "      <td>14118.773723</td>\n",
       "      <td>137</td>\n",
       "    </tr>\n",
       "    <tr>\n",
       "      <td>amarok</td>\n",
       "      <td>12153.687500</td>\n",
       "      <td>16</td>\n",
       "    </tr>\n",
       "    <tr>\n",
       "      <td>eos</td>\n",
       "      <td>10996.970930</td>\n",
       "      <td>516</td>\n",
       "    </tr>\n",
       "    <tr>\n",
       "      <td>scirocco</td>\n",
       "      <td>10546.975207</td>\n",
       "      <td>605</td>\n",
       "    </tr>\n",
       "    <tr>\n",
       "      <td>touareg</td>\n",
       "      <td>10420.767918</td>\n",
       "      <td>586</td>\n",
       "    </tr>\n",
       "    <tr>\n",
       "      <td>phaeton</td>\n",
       "      <td>9470.794393</td>\n",
       "      <td>214</td>\n",
       "    </tr>\n",
       "    <tr>\n",
       "      <td>up</td>\n",
       "      <td>7966.574713</td>\n",
       "      <td>348</td>\n",
       "    </tr>\n",
       "    <tr>\n",
       "      <td>touran</td>\n",
       "      <td>7126.566282</td>\n",
       "      <td>3470</td>\n",
       "    </tr>\n",
       "    <tr>\n",
       "      <td>transporter</td>\n",
       "      <td>6714.598299</td>\n",
       "      <td>4822</td>\n",
       "    </tr>\n",
       "    <tr>\n",
       "      <td>beetle</td>\n",
       "      <td>6452.538650</td>\n",
       "      <td>815</td>\n",
       "    </tr>\n",
       "    <tr>\n",
       "      <td>kaefer</td>\n",
       "      <td>6009.015837</td>\n",
       "      <td>442</td>\n",
       "    </tr>\n",
       "    <tr>\n",
       "      <td>caddy</td>\n",
       "      <td>6004.167398</td>\n",
       "      <td>1595</td>\n",
       "    </tr>\n",
       "    <tr>\n",
       "      <td>sharan</td>\n",
       "      <td>5080.805799</td>\n",
       "      <td>1483</td>\n",
       "    </tr>\n",
       "    <tr>\n",
       "      <td>jetta</td>\n",
       "      <td>4487.888000</td>\n",
       "      <td>375</td>\n",
       "    </tr>\n",
       "    <tr>\n",
       "      <td>passat</td>\n",
       "      <td>4481.609008</td>\n",
       "      <td>10146</td>\n",
       "    </tr>\n",
       "    <tr>\n",
       "      <td>other</td>\n",
       "      <td>4156.347656</td>\n",
       "      <td>768</td>\n",
       "    </tr>\n",
       "    <tr>\n",
       "      <td>golf</td>\n",
       "      <td>4154.306856</td>\n",
       "      <td>29232</td>\n",
       "    </tr>\n",
       "    <tr>\n",
       "      <td>fox</td>\n",
       "      <td>2849.060484</td>\n",
       "      <td>744</td>\n",
       "    </tr>\n",
       "    <tr>\n",
       "      <td>polo</td>\n",
       "      <td>2525.821062</td>\n",
       "      <td>13066</td>\n",
       "    </tr>\n",
       "    <tr>\n",
       "      <td>bora</td>\n",
       "      <td>2449.934633</td>\n",
       "      <td>872</td>\n",
       "    </tr>\n",
       "    <tr>\n",
       "      <td>no_info</td>\n",
       "      <td>2313.912981</td>\n",
       "      <td>3505</td>\n",
       "    </tr>\n",
       "    <tr>\n",
       "      <td>lupo</td>\n",
       "      <td>1418.523130</td>\n",
       "      <td>2594</td>\n",
       "    </tr>\n",
       "  </tbody>\n",
       "</table>\n",
       "</div>"
      ],
      "text/plain": [
       "                     mean  count\n",
       "Model                           \n",
       "tiguan       14138.638973    662\n",
       "cc           14118.773723    137\n",
       "amarok       12153.687500     16\n",
       "eos          10996.970930    516\n",
       "scirocco     10546.975207    605\n",
       "touareg      10420.767918    586\n",
       "phaeton       9470.794393    214\n",
       "up            7966.574713    348\n",
       "touran        7126.566282   3470\n",
       "transporter   6714.598299   4822\n",
       "beetle        6452.538650    815\n",
       "kaefer        6009.015837    442\n",
       "caddy         6004.167398   1595\n",
       "sharan        5080.805799   1483\n",
       "jetta         4487.888000    375\n",
       "passat        4481.609008  10146\n",
       "other         4156.347656    768\n",
       "golf          4154.306856  29232\n",
       "fox           2849.060484    744\n",
       "polo          2525.821062  13066\n",
       "bora          2449.934633    872\n",
       "no_info       2313.912981   3505\n",
       "lupo          1418.523130   2594"
      ]
     },
     "metadata": {},
     "output_type": "display_data"
    },
    {
     "data": {
      "text/plain": [
       "'--------------'"
      ]
     },
     "metadata": {},
     "output_type": "display_data"
    },
    {
     "data": {
      "text/plain": [
       "'Марка audi, количество моделей 17'"
      ]
     },
     "metadata": {},
     "output_type": "display_data"
    },
    {
     "data": {
      "text/plain": [
       "array(['no_info', 'a8', 'a4', 'a1', 'tt', 'a6', '80', '100', 'a3', 'a2',\n",
       "       'a5', 'other', '90', 'q7', 'q3', '200', 'q5'], dtype=object)"
      ]
     },
     "metadata": {},
     "output_type": "display_data"
    },
    {
     "data": {
      "text/html": [
       "<div>\n",
       "<style scoped>\n",
       "    .dataframe tbody tr th:only-of-type {\n",
       "        vertical-align: middle;\n",
       "    }\n",
       "\n",
       "    .dataframe tbody tr th {\n",
       "        vertical-align: top;\n",
       "    }\n",
       "\n",
       "    .dataframe thead th {\n",
       "        text-align: right;\n",
       "    }\n",
       "</style>\n",
       "<table border=\"1\" class=\"dataframe\">\n",
       "  <thead>\n",
       "    <tr style=\"text-align: right;\">\n",
       "      <th></th>\n",
       "      <th>mean</th>\n",
       "      <th>count</th>\n",
       "    </tr>\n",
       "    <tr>\n",
       "      <th>Model</th>\n",
       "      <th></th>\n",
       "      <th></th>\n",
       "    </tr>\n",
       "  </thead>\n",
       "  <tbody>\n",
       "    <tr>\n",
       "      <td>q5</td>\n",
       "      <td>15843.989691</td>\n",
       "      <td>97</td>\n",
       "    </tr>\n",
       "    <tr>\n",
       "      <td>a5</td>\n",
       "      <td>15531.853211</td>\n",
       "      <td>545</td>\n",
       "    </tr>\n",
       "    <tr>\n",
       "      <td>q7</td>\n",
       "      <td>15255.019512</td>\n",
       "      <td>205</td>\n",
       "    </tr>\n",
       "    <tr>\n",
       "      <td>a1</td>\n",
       "      <td>13839.910924</td>\n",
       "      <td>595</td>\n",
       "    </tr>\n",
       "    <tr>\n",
       "      <td>q3</td>\n",
       "      <td>13444.000000</td>\n",
       "      <td>15</td>\n",
       "    </tr>\n",
       "    <tr>\n",
       "      <td>tt</td>\n",
       "      <td>9598.250929</td>\n",
       "      <td>1076</td>\n",
       "    </tr>\n",
       "    <tr>\n",
       "      <td>other</td>\n",
       "      <td>8350.000000</td>\n",
       "      <td>1033</td>\n",
       "    </tr>\n",
       "    <tr>\n",
       "      <td>a8</td>\n",
       "      <td>7796.776938</td>\n",
       "      <td>529</td>\n",
       "    </tr>\n",
       "    <tr>\n",
       "      <td>a6</td>\n",
       "      <td>6375.442700</td>\n",
       "      <td>5541</td>\n",
       "    </tr>\n",
       "    <tr>\n",
       "      <td>a3</td>\n",
       "      <td>6107.024175</td>\n",
       "      <td>6122</td>\n",
       "    </tr>\n",
       "    <tr>\n",
       "      <td>a4</td>\n",
       "      <td>5785.861616</td>\n",
       "      <td>9900</td>\n",
       "    </tr>\n",
       "    <tr>\n",
       "      <td>200</td>\n",
       "      <td>3865.777778</td>\n",
       "      <td>18</td>\n",
       "    </tr>\n",
       "    <tr>\n",
       "      <td>a2</td>\n",
       "      <td>3843.209115</td>\n",
       "      <td>373</td>\n",
       "    </tr>\n",
       "    <tr>\n",
       "      <td>no_info</td>\n",
       "      <td>3491.851910</td>\n",
       "      <td>1283</td>\n",
       "    </tr>\n",
       "    <tr>\n",
       "      <td>90</td>\n",
       "      <td>2115.097087</td>\n",
       "      <td>103</td>\n",
       "    </tr>\n",
       "    <tr>\n",
       "      <td>100</td>\n",
       "      <td>1776.285372</td>\n",
       "      <td>417</td>\n",
       "    </tr>\n",
       "    <tr>\n",
       "      <td>80</td>\n",
       "      <td>1387.966958</td>\n",
       "      <td>1604</td>\n",
       "    </tr>\n",
       "  </tbody>\n",
       "</table>\n",
       "</div>"
      ],
      "text/plain": [
       "                 mean  count\n",
       "Model                       \n",
       "q5       15843.989691     97\n",
       "a5       15531.853211    545\n",
       "q7       15255.019512    205\n",
       "a1       13839.910924    595\n",
       "q3       13444.000000     15\n",
       "tt        9598.250929   1076\n",
       "other     8350.000000   1033\n",
       "a8        7796.776938    529\n",
       "a6        6375.442700   5541\n",
       "a3        6107.024175   6122\n",
       "a4        5785.861616   9900\n",
       "200       3865.777778     18\n",
       "a2        3843.209115    373\n",
       "no_info   3491.851910   1283\n",
       "90        2115.097087    103\n",
       "100       1776.285372    417\n",
       "80        1387.966958   1604"
      ]
     },
     "metadata": {},
     "output_type": "display_data"
    },
    {
     "data": {
      "text/plain": [
       "'--------------'"
      ]
     },
     "metadata": {},
     "output_type": "display_data"
    },
    {
     "data": {
      "text/plain": [
       "'Марка jeep, количество моделей 5'"
      ]
     },
     "metadata": {},
     "output_type": "display_data"
    },
    {
     "data": {
      "text/plain": [
       "array(['grand', 'wrangler', 'cherokee', 'other', 'no_info'], dtype=object)"
      ]
     },
     "metadata": {},
     "output_type": "display_data"
    },
    {
     "data": {
      "text/html": [
       "<div>\n",
       "<style scoped>\n",
       "    .dataframe tbody tr th:only-of-type {\n",
       "        vertical-align: middle;\n",
       "    }\n",
       "\n",
       "    .dataframe tbody tr th {\n",
       "        vertical-align: top;\n",
       "    }\n",
       "\n",
       "    .dataframe thead th {\n",
       "        text-align: right;\n",
       "    }\n",
       "</style>\n",
       "<table border=\"1\" class=\"dataframe\">\n",
       "  <thead>\n",
       "    <tr style=\"text-align: right;\">\n",
       "      <th></th>\n",
       "      <th>mean</th>\n",
       "      <th>count</th>\n",
       "    </tr>\n",
       "    <tr>\n",
       "      <th>Model</th>\n",
       "      <th></th>\n",
       "      <th></th>\n",
       "    </tr>\n",
       "  </thead>\n",
       "  <tbody>\n",
       "    <tr>\n",
       "      <td>other</td>\n",
       "      <td>10702.094203</td>\n",
       "      <td>138</td>\n",
       "    </tr>\n",
       "    <tr>\n",
       "      <td>wrangler</td>\n",
       "      <td>9317.757282</td>\n",
       "      <td>103</td>\n",
       "    </tr>\n",
       "    <tr>\n",
       "      <td>grand</td>\n",
       "      <td>6116.937759</td>\n",
       "      <td>241</td>\n",
       "    </tr>\n",
       "    <tr>\n",
       "      <td>cherokee</td>\n",
       "      <td>4508.786982</td>\n",
       "      <td>169</td>\n",
       "    </tr>\n",
       "    <tr>\n",
       "      <td>no_info</td>\n",
       "      <td>4241.730769</td>\n",
       "      <td>26</td>\n",
       "    </tr>\n",
       "  </tbody>\n",
       "</table>\n",
       "</div>"
      ],
      "text/plain": [
       "                  mean  count\n",
       "Model                        \n",
       "other     10702.094203    138\n",
       "wrangler   9317.757282    103\n",
       "grand      6116.937759    241\n",
       "cherokee   4508.786982    169\n",
       "no_info    4241.730769     26"
      ]
     },
     "metadata": {},
     "output_type": "display_data"
    },
    {
     "data": {
      "text/plain": [
       "'--------------'"
      ]
     },
     "metadata": {},
     "output_type": "display_data"
    },
    {
     "data": {
      "text/plain": [
       "'Марка skoda, количество моделей 8'"
      ]
     },
     "metadata": {},
     "output_type": "display_data"
    },
    {
     "data": {
      "text/plain": [
       "array(['fabia', 'yeti', 'octavia', 'roomster', 'other', 'no_info',\n",
       "       'superb', 'citigo'], dtype=object)"
      ]
     },
     "metadata": {},
     "output_type": "display_data"
    },
    {
     "data": {
      "text/html": [
       "<div>\n",
       "<style scoped>\n",
       "    .dataframe tbody tr th:only-of-type {\n",
       "        vertical-align: middle;\n",
       "    }\n",
       "\n",
       "    .dataframe tbody tr th {\n",
       "        vertical-align: top;\n",
       "    }\n",
       "\n",
       "    .dataframe thead th {\n",
       "        text-align: right;\n",
       "    }\n",
       "</style>\n",
       "<table border=\"1\" class=\"dataframe\">\n",
       "  <thead>\n",
       "    <tr style=\"text-align: right;\">\n",
       "      <th></th>\n",
       "      <th>mean</th>\n",
       "      <th>count</th>\n",
       "    </tr>\n",
       "    <tr>\n",
       "      <th>Model</th>\n",
       "      <th></th>\n",
       "      <th></th>\n",
       "    </tr>\n",
       "  </thead>\n",
       "  <tbody>\n",
       "    <tr>\n",
       "      <td>yeti</td>\n",
       "      <td>13487.068966</td>\n",
       "      <td>174</td>\n",
       "    </tr>\n",
       "    <tr>\n",
       "      <td>superb</td>\n",
       "      <td>10233.614754</td>\n",
       "      <td>366</td>\n",
       "    </tr>\n",
       "    <tr>\n",
       "      <td>citigo</td>\n",
       "      <td>7470.021978</td>\n",
       "      <td>91</td>\n",
       "    </tr>\n",
       "    <tr>\n",
       "      <td>roomster</td>\n",
       "      <td>6807.985507</td>\n",
       "      <td>276</td>\n",
       "    </tr>\n",
       "    <tr>\n",
       "      <td>octavia</td>\n",
       "      <td>6581.181689</td>\n",
       "      <td>2108</td>\n",
       "    </tr>\n",
       "    <tr>\n",
       "      <td>fabia</td>\n",
       "      <td>4183.921635</td>\n",
       "      <td>2080</td>\n",
       "    </tr>\n",
       "    <tr>\n",
       "      <td>other</td>\n",
       "      <td>3193.606061</td>\n",
       "      <td>264</td>\n",
       "    </tr>\n",
       "    <tr>\n",
       "      <td>no_info</td>\n",
       "      <td>3070.978723</td>\n",
       "      <td>141</td>\n",
       "    </tr>\n",
       "  </tbody>\n",
       "</table>\n",
       "</div>"
      ],
      "text/plain": [
       "                  mean  count\n",
       "Model                        \n",
       "yeti      13487.068966    174\n",
       "superb    10233.614754    366\n",
       "citigo     7470.021978     91\n",
       "roomster   6807.985507    276\n",
       "octavia    6581.181689   2108\n",
       "fabia      4183.921635   2080\n",
       "other      3193.606061    264\n",
       "no_info    3070.978723    141"
      ]
     },
     "metadata": {},
     "output_type": "display_data"
    },
    {
     "data": {
      "text/plain": [
       "'--------------'"
      ]
     },
     "metadata": {},
     "output_type": "display_data"
    },
    {
     "data": {
      "text/plain": [
       "'Марка bmw, количество моделей 11'"
      ]
     },
     "metadata": {},
     "output_type": "display_data"
    },
    {
     "data": {
      "text/plain": [
       "array(['3er', '5er', '1er', '7er', 'z_reihe', 'no_info', '6er', 'other',\n",
       "       'x_reihe', 'm_reihe', 'i3'], dtype=object)"
      ]
     },
     "metadata": {},
     "output_type": "display_data"
    },
    {
     "data": {
      "text/html": [
       "<div>\n",
       "<style scoped>\n",
       "    .dataframe tbody tr th:only-of-type {\n",
       "        vertical-align: middle;\n",
       "    }\n",
       "\n",
       "    .dataframe tbody tr th {\n",
       "        vertical-align: top;\n",
       "    }\n",
       "\n",
       "    .dataframe thead th {\n",
       "        text-align: right;\n",
       "    }\n",
       "</style>\n",
       "<table border=\"1\" class=\"dataframe\">\n",
       "  <thead>\n",
       "    <tr style=\"text-align: right;\">\n",
       "      <th></th>\n",
       "      <th>mean</th>\n",
       "      <th>count</th>\n",
       "    </tr>\n",
       "    <tr>\n",
       "      <th>Model</th>\n",
       "      <th></th>\n",
       "      <th></th>\n",
       "    </tr>\n",
       "  </thead>\n",
       "  <tbody>\n",
       "    <tr>\n",
       "      <td>6er</td>\n",
       "      <td>12240.621795</td>\n",
       "      <td>156</td>\n",
       "    </tr>\n",
       "    <tr>\n",
       "      <td>m_reihe</td>\n",
       "      <td>11697.439394</td>\n",
       "      <td>132</td>\n",
       "    </tr>\n",
       "    <tr>\n",
       "      <td>x_reihe</td>\n",
       "      <td>11684.142857</td>\n",
       "      <td>1589</td>\n",
       "    </tr>\n",
       "    <tr>\n",
       "      <td>z_reihe</td>\n",
       "      <td>9944.803347</td>\n",
       "      <td>717</td>\n",
       "    </tr>\n",
       "    <tr>\n",
       "      <td>1er</td>\n",
       "      <td>9928.136312</td>\n",
       "      <td>3514</td>\n",
       "    </tr>\n",
       "    <tr>\n",
       "      <td>7er</td>\n",
       "      <td>6430.882006</td>\n",
       "      <td>1017</td>\n",
       "    </tr>\n",
       "    <tr>\n",
       "      <td>5er</td>\n",
       "      <td>6375.408236</td>\n",
       "      <td>7868</td>\n",
       "    </tr>\n",
       "    <tr>\n",
       "      <td>other</td>\n",
       "      <td>5934.640553</td>\n",
       "      <td>217</td>\n",
       "    </tr>\n",
       "    <tr>\n",
       "      <td>3er</td>\n",
       "      <td>4984.401042</td>\n",
       "      <td>19761</td>\n",
       "    </tr>\n",
       "    <tr>\n",
       "      <td>no_info</td>\n",
       "      <td>3577.711628</td>\n",
       "      <td>1935</td>\n",
       "    </tr>\n",
       "    <tr>\n",
       "      <td>i3</td>\n",
       "      <td>3129.750000</td>\n",
       "      <td>8</td>\n",
       "    </tr>\n",
       "  </tbody>\n",
       "</table>\n",
       "</div>"
      ],
      "text/plain": [
       "                 mean  count\n",
       "Model                       \n",
       "6er      12240.621795    156\n",
       "m_reihe  11697.439394    132\n",
       "x_reihe  11684.142857   1589\n",
       "z_reihe   9944.803347    717\n",
       "1er       9928.136312   3514\n",
       "7er       6430.882006   1017\n",
       "5er       6375.408236   7868\n",
       "other     5934.640553    217\n",
       "3er       4984.401042  19761\n",
       "no_info   3577.711628   1935\n",
       "i3        3129.750000      8"
      ]
     },
     "metadata": {},
     "output_type": "display_data"
    },
    {
     "data": {
      "text/plain": [
       "'--------------'"
      ]
     },
     "metadata": {},
     "output_type": "display_data"
    },
    {
     "data": {
      "text/plain": [
       "'Марка peugeot, количество моделей 7'"
      ]
     },
     "metadata": {},
     "output_type": "display_data"
    },
    {
     "data": {
      "text/plain": [
       "array(['2_reihe', '3_reihe', 'no_info', 'other', '4_reihe', '1_reihe',\n",
       "       '5_reihe'], dtype=object)"
      ]
     },
     "metadata": {},
     "output_type": "display_data"
    },
    {
     "data": {
      "text/html": [
       "<div>\n",
       "<style scoped>\n",
       "    .dataframe tbody tr th:only-of-type {\n",
       "        vertical-align: middle;\n",
       "    }\n",
       "\n",
       "    .dataframe tbody tr th {\n",
       "        vertical-align: top;\n",
       "    }\n",
       "\n",
       "    .dataframe thead th {\n",
       "        text-align: right;\n",
       "    }\n",
       "</style>\n",
       "<table border=\"1\" class=\"dataframe\">\n",
       "  <thead>\n",
       "    <tr style=\"text-align: right;\">\n",
       "      <th></th>\n",
       "      <th>mean</th>\n",
       "      <th>count</th>\n",
       "    </tr>\n",
       "    <tr>\n",
       "      <th>Model</th>\n",
       "      <th></th>\n",
       "      <th></th>\n",
       "    </tr>\n",
       "  </thead>\n",
       "  <tbody>\n",
       "    <tr>\n",
       "      <td>5_reihe</td>\n",
       "      <td>11812.185841</td>\n",
       "      <td>113</td>\n",
       "    </tr>\n",
       "    <tr>\n",
       "      <td>other</td>\n",
       "      <td>3878.310404</td>\n",
       "      <td>1163</td>\n",
       "    </tr>\n",
       "    <tr>\n",
       "      <td>4_reihe</td>\n",
       "      <td>3425.871473</td>\n",
       "      <td>638</td>\n",
       "    </tr>\n",
       "    <tr>\n",
       "      <td>3_reihe</td>\n",
       "      <td>3379.352833</td>\n",
       "      <td>2171</td>\n",
       "    </tr>\n",
       "    <tr>\n",
       "      <td>2_reihe</td>\n",
       "      <td>3154.388081</td>\n",
       "      <td>4816</td>\n",
       "    </tr>\n",
       "    <tr>\n",
       "      <td>no_info</td>\n",
       "      <td>1861.634119</td>\n",
       "      <td>891</td>\n",
       "    </tr>\n",
       "    <tr>\n",
       "      <td>1_reihe</td>\n",
       "      <td>1664.070481</td>\n",
       "      <td>1206</td>\n",
       "    </tr>\n",
       "  </tbody>\n",
       "</table>\n",
       "</div>"
      ],
      "text/plain": [
       "                 mean  count\n",
       "Model                       \n",
       "5_reihe  11812.185841    113\n",
       "other     3878.310404   1163\n",
       "4_reihe   3425.871473    638\n",
       "3_reihe   3379.352833   2171\n",
       "2_reihe   3154.388081   4816\n",
       "no_info   1861.634119    891\n",
       "1_reihe   1664.070481   1206"
      ]
     },
     "metadata": {},
     "output_type": "display_data"
    },
    {
     "data": {
      "text/plain": [
       "'--------------'"
      ]
     },
     "metadata": {},
     "output_type": "display_data"
    },
    {
     "data": {
      "text/plain": [
       "'Марка ford, количество моделей 15'"
      ]
     },
     "metadata": {},
     "output_type": "display_data"
    },
    {
     "data": {
      "text/plain": [
       "array(['c_max', 'ka', 'fiesta', 'escort', 'focus', 'mustang', 'mondeo',\n",
       "       's_max', 'galaxy', 'other', 'transit', 'no_info', 'fusion', 'kuga',\n",
       "       'b_max'], dtype=object)"
      ]
     },
     "metadata": {},
     "output_type": "display_data"
    },
    {
     "data": {
      "text/html": [
       "<div>\n",
       "<style scoped>\n",
       "    .dataframe tbody tr th:only-of-type {\n",
       "        vertical-align: middle;\n",
       "    }\n",
       "\n",
       "    .dataframe tbody tr th {\n",
       "        vertical-align: top;\n",
       "    }\n",
       "\n",
       "    .dataframe thead th {\n",
       "        text-align: right;\n",
       "    }\n",
       "</style>\n",
       "<table border=\"1\" class=\"dataframe\">\n",
       "  <thead>\n",
       "    <tr style=\"text-align: right;\">\n",
       "      <th></th>\n",
       "      <th>mean</th>\n",
       "      <th>count</th>\n",
       "    </tr>\n",
       "    <tr>\n",
       "      <th>Model</th>\n",
       "      <th></th>\n",
       "      <th></th>\n",
       "    </tr>\n",
       "  </thead>\n",
       "  <tbody>\n",
       "    <tr>\n",
       "      <td>kuga</td>\n",
       "      <td>13936.812500</td>\n",
       "      <td>320</td>\n",
       "    </tr>\n",
       "    <tr>\n",
       "      <td>b_max</td>\n",
       "      <td>12325.653846</td>\n",
       "      <td>26</td>\n",
       "    </tr>\n",
       "    <tr>\n",
       "      <td>mustang</td>\n",
       "      <td>11749.412429</td>\n",
       "      <td>177</td>\n",
       "    </tr>\n",
       "    <tr>\n",
       "      <td>s_max</td>\n",
       "      <td>10190.768519</td>\n",
       "      <td>432</td>\n",
       "    </tr>\n",
       "    <tr>\n",
       "      <td>c_max</td>\n",
       "      <td>6158.416910</td>\n",
       "      <td>686</td>\n",
       "    </tr>\n",
       "    <tr>\n",
       "      <td>transit</td>\n",
       "      <td>4369.977454</td>\n",
       "      <td>754</td>\n",
       "    </tr>\n",
       "    <tr>\n",
       "      <td>other</td>\n",
       "      <td>3761.746402</td>\n",
       "      <td>1459</td>\n",
       "    </tr>\n",
       "    <tr>\n",
       "      <td>galaxy</td>\n",
       "      <td>3635.051038</td>\n",
       "      <td>1156</td>\n",
       "    </tr>\n",
       "    <tr>\n",
       "      <td>focus</td>\n",
       "      <td>3407.423391</td>\n",
       "      <td>5874</td>\n",
       "    </tr>\n",
       "    <tr>\n",
       "      <td>fusion</td>\n",
       "      <td>3045.996667</td>\n",
       "      <td>300</td>\n",
       "    </tr>\n",
       "    <tr>\n",
       "      <td>fiesta</td>\n",
       "      <td>2615.172844</td>\n",
       "      <td>5774</td>\n",
       "    </tr>\n",
       "    <tr>\n",
       "      <td>mondeo</td>\n",
       "      <td>2553.487087</td>\n",
       "      <td>3601</td>\n",
       "    </tr>\n",
       "    <tr>\n",
       "      <td>no_info</td>\n",
       "      <td>1696.430405</td>\n",
       "      <td>1013</td>\n",
       "    </tr>\n",
       "    <tr>\n",
       "      <td>ka</td>\n",
       "      <td>1402.182457</td>\n",
       "      <td>2702</td>\n",
       "    </tr>\n",
       "    <tr>\n",
       "      <td>escort</td>\n",
       "      <td>837.238674</td>\n",
       "      <td>905</td>\n",
       "    </tr>\n",
       "  </tbody>\n",
       "</table>\n",
       "</div>"
      ],
      "text/plain": [
       "                 mean  count\n",
       "Model                       \n",
       "kuga     13936.812500    320\n",
       "b_max    12325.653846     26\n",
       "mustang  11749.412429    177\n",
       "s_max    10190.768519    432\n",
       "c_max     6158.416910    686\n",
       "transit   4369.977454    754\n",
       "other     3761.746402   1459\n",
       "galaxy    3635.051038   1156\n",
       "focus     3407.423391   5874\n",
       "fusion    3045.996667    300\n",
       "fiesta    2615.172844   5774\n",
       "mondeo    2553.487087   3601\n",
       "no_info   1696.430405   1013\n",
       "ka        1402.182457   2702\n",
       "escort     837.238674    905"
      ]
     },
     "metadata": {},
     "output_type": "display_data"
    },
    {
     "data": {
      "text/plain": [
       "'--------------'"
      ]
     },
     "metadata": {},
     "output_type": "display_data"
    },
    {
     "data": {
      "text/plain": [
       "'Марка mazda, количество моделей 9'"
      ]
     },
     "metadata": {},
     "output_type": "display_data"
    },
    {
     "data": {
      "text/plain": [
       "array(['3_reihe', 'other', '6_reihe', '5_reihe', 'rx_reihe', '1_reihe',\n",
       "       'mx_reihe', 'no_info', 'cx_reihe'], dtype=object)"
      ]
     },
     "metadata": {},
     "output_type": "display_data"
    },
    {
     "data": {
      "text/html": [
       "<div>\n",
       "<style scoped>\n",
       "    .dataframe tbody tr th:only-of-type {\n",
       "        vertical-align: middle;\n",
       "    }\n",
       "\n",
       "    .dataframe tbody tr th {\n",
       "        vertical-align: top;\n",
       "    }\n",
       "\n",
       "    .dataframe thead th {\n",
       "        text-align: right;\n",
       "    }\n",
       "</style>\n",
       "<table border=\"1\" class=\"dataframe\">\n",
       "  <thead>\n",
       "    <tr style=\"text-align: right;\">\n",
       "      <th></th>\n",
       "      <th>mean</th>\n",
       "      <th>count</th>\n",
       "    </tr>\n",
       "    <tr>\n",
       "      <th>Model</th>\n",
       "      <th></th>\n",
       "      <th></th>\n",
       "    </tr>\n",
       "  </thead>\n",
       "  <tbody>\n",
       "    <tr>\n",
       "      <td>cx_reihe</td>\n",
       "      <td>13164.060606</td>\n",
       "      <td>66</td>\n",
       "    </tr>\n",
       "    <tr>\n",
       "      <td>5_reihe</td>\n",
       "      <td>6662.881459</td>\n",
       "      <td>329</td>\n",
       "    </tr>\n",
       "    <tr>\n",
       "      <td>mx_reihe</td>\n",
       "      <td>5069.703156</td>\n",
       "      <td>1014</td>\n",
       "    </tr>\n",
       "    <tr>\n",
       "      <td>rx_reihe</td>\n",
       "      <td>5009.669014</td>\n",
       "      <td>142</td>\n",
       "    </tr>\n",
       "    <tr>\n",
       "      <td>6_reihe</td>\n",
       "      <td>3412.023474</td>\n",
       "      <td>1278</td>\n",
       "    </tr>\n",
       "    <tr>\n",
       "      <td>3_reihe</td>\n",
       "      <td>2949.850983</td>\n",
       "      <td>1322</td>\n",
       "    </tr>\n",
       "    <tr>\n",
       "      <td>other</td>\n",
       "      <td>2499.960474</td>\n",
       "      <td>1012</td>\n",
       "    </tr>\n",
       "    <tr>\n",
       "      <td>no_info</td>\n",
       "      <td>1567.187500</td>\n",
       "      <td>352</td>\n",
       "    </tr>\n",
       "    <tr>\n",
       "      <td>1_reihe</td>\n",
       "      <td>764.140000</td>\n",
       "      <td>100</td>\n",
       "    </tr>\n",
       "  </tbody>\n",
       "</table>\n",
       "</div>"
      ],
      "text/plain": [
       "                  mean  count\n",
       "Model                        \n",
       "cx_reihe  13164.060606     66\n",
       "5_reihe    6662.881459    329\n",
       "mx_reihe   5069.703156   1014\n",
       "rx_reihe   5009.669014    142\n",
       "6_reihe    3412.023474   1278\n",
       "3_reihe    2949.850983   1322\n",
       "other      2499.960474   1012\n",
       "no_info    1567.187500    352\n",
       "1_reihe     764.140000    100"
      ]
     },
     "metadata": {},
     "output_type": "display_data"
    },
    {
     "data": {
      "text/plain": [
       "'--------------'"
      ]
     },
     "metadata": {},
     "output_type": "display_data"
    },
    {
     "data": {
      "text/plain": [
       "'Марка nissan, количество моделей 10'"
      ]
     },
     "metadata": {},
     "output_type": "display_data"
    },
    {
     "data": {
      "text/plain": [
       "array(['navara', 'micra', 'almera', 'other', 'primera', 'juke', 'qashqai',\n",
       "       'no_info', 'x_trail', 'note'], dtype=object)"
      ]
     },
     "metadata": {},
     "output_type": "display_data"
    },
    {
     "data": {
      "text/html": [
       "<div>\n",
       "<style scoped>\n",
       "    .dataframe tbody tr th:only-of-type {\n",
       "        vertical-align: middle;\n",
       "    }\n",
       "\n",
       "    .dataframe tbody tr th {\n",
       "        vertical-align: top;\n",
       "    }\n",
       "\n",
       "    .dataframe thead th {\n",
       "        text-align: right;\n",
       "    }\n",
       "</style>\n",
       "<table border=\"1\" class=\"dataframe\">\n",
       "  <thead>\n",
       "    <tr style=\"text-align: right;\">\n",
       "      <th></th>\n",
       "      <th>mean</th>\n",
       "      <th>count</th>\n",
       "    </tr>\n",
       "    <tr>\n",
       "      <th>Model</th>\n",
       "      <th></th>\n",
       "      <th></th>\n",
       "    </tr>\n",
       "  </thead>\n",
       "  <tbody>\n",
       "    <tr>\n",
       "      <td>qashqai</td>\n",
       "      <td>12622.350282</td>\n",
       "      <td>531</td>\n",
       "    </tr>\n",
       "    <tr>\n",
       "      <td>juke</td>\n",
       "      <td>11498.166667</td>\n",
       "      <td>102</td>\n",
       "    </tr>\n",
       "    <tr>\n",
       "      <td>navara</td>\n",
       "      <td>9380.571429</td>\n",
       "      <td>98</td>\n",
       "    </tr>\n",
       "    <tr>\n",
       "      <td>x_trail</td>\n",
       "      <td>6382.850962</td>\n",
       "      <td>208</td>\n",
       "    </tr>\n",
       "    <tr>\n",
       "      <td>other</td>\n",
       "      <td>5545.816239</td>\n",
       "      <td>702</td>\n",
       "    </tr>\n",
       "    <tr>\n",
       "      <td>note</td>\n",
       "      <td>5131.946154</td>\n",
       "      <td>130</td>\n",
       "    </tr>\n",
       "    <tr>\n",
       "      <td>no_info</td>\n",
       "      <td>2787.096618</td>\n",
       "      <td>207</td>\n",
       "    </tr>\n",
       "    <tr>\n",
       "      <td>micra</td>\n",
       "      <td>1806.166098</td>\n",
       "      <td>1758</td>\n",
       "    </tr>\n",
       "    <tr>\n",
       "      <td>almera</td>\n",
       "      <td>1458.868151</td>\n",
       "      <td>584</td>\n",
       "    </tr>\n",
       "    <tr>\n",
       "      <td>primera</td>\n",
       "      <td>1442.592593</td>\n",
       "      <td>621</td>\n",
       "    </tr>\n",
       "  </tbody>\n",
       "</table>\n",
       "</div>"
      ],
      "text/plain": [
       "                 mean  count\n",
       "Model                       \n",
       "qashqai  12622.350282    531\n",
       "juke     11498.166667    102\n",
       "navara    9380.571429     98\n",
       "x_trail   6382.850962    208\n",
       "other     5545.816239    702\n",
       "note      5131.946154    130\n",
       "no_info   2787.096618    207\n",
       "micra     1806.166098   1758\n",
       "almera    1458.868151    584\n",
       "primera   1442.592593    621"
      ]
     },
     "metadata": {},
     "output_type": "display_data"
    },
    {
     "data": {
      "text/plain": [
       "'--------------'"
      ]
     },
     "metadata": {},
     "output_type": "display_data"
    },
    {
     "data": {
      "text/plain": [
       "'Марка renault, количество моделей 11'"
      ]
     },
     "metadata": {},
     "output_type": "display_data"
    },
    {
     "data": {
      "text/plain": [
       "array(['twingo', 'clio', 'kangoo', 'scenic', 'no_info', 'megane', 'r19',\n",
       "       'espace', 'modus', 'other', 'laguna'], dtype=object)"
      ]
     },
     "metadata": {},
     "output_type": "display_data"
    },
    {
     "data": {
      "text/html": [
       "<div>\n",
       "<style scoped>\n",
       "    .dataframe tbody tr th:only-of-type {\n",
       "        vertical-align: middle;\n",
       "    }\n",
       "\n",
       "    .dataframe tbody tr th {\n",
       "        vertical-align: top;\n",
       "    }\n",
       "\n",
       "    .dataframe thead th {\n",
       "        text-align: right;\n",
       "    }\n",
       "</style>\n",
       "<table border=\"1\" class=\"dataframe\">\n",
       "  <thead>\n",
       "    <tr style=\"text-align: right;\">\n",
       "      <th></th>\n",
       "      <th>mean</th>\n",
       "      <th>count</th>\n",
       "    </tr>\n",
       "    <tr>\n",
       "      <th>Model</th>\n",
       "      <th></th>\n",
       "      <th></th>\n",
       "    </tr>\n",
       "  </thead>\n",
       "  <tbody>\n",
       "    <tr>\n",
       "      <td>other</td>\n",
       "      <td>5455.997906</td>\n",
       "      <td>955</td>\n",
       "    </tr>\n",
       "    <tr>\n",
       "      <td>modus</td>\n",
       "      <td>3180.414330</td>\n",
       "      <td>321</td>\n",
       "    </tr>\n",
       "    <tr>\n",
       "      <td>megane</td>\n",
       "      <td>2991.864261</td>\n",
       "      <td>2910</td>\n",
       "    </tr>\n",
       "    <tr>\n",
       "      <td>scenic</td>\n",
       "      <td>2492.448824</td>\n",
       "      <td>1446</td>\n",
       "    </tr>\n",
       "    <tr>\n",
       "      <td>kangoo</td>\n",
       "      <td>2457.050104</td>\n",
       "      <td>958</td>\n",
       "    </tr>\n",
       "    <tr>\n",
       "      <td>clio</td>\n",
       "      <td>2151.947265</td>\n",
       "      <td>3546</td>\n",
       "    </tr>\n",
       "    <tr>\n",
       "      <td>laguna</td>\n",
       "      <td>2130.960411</td>\n",
       "      <td>1364</td>\n",
       "    </tr>\n",
       "    <tr>\n",
       "      <td>espace</td>\n",
       "      <td>2069.105519</td>\n",
       "      <td>616</td>\n",
       "    </tr>\n",
       "    <tr>\n",
       "      <td>no_info</td>\n",
       "      <td>1398.266667</td>\n",
       "      <td>735</td>\n",
       "    </tr>\n",
       "    <tr>\n",
       "      <td>twingo</td>\n",
       "      <td>1382.617605</td>\n",
       "      <td>4953</td>\n",
       "    </tr>\n",
       "    <tr>\n",
       "      <td>r19</td>\n",
       "      <td>846.512195</td>\n",
       "      <td>123</td>\n",
       "    </tr>\n",
       "  </tbody>\n",
       "</table>\n",
       "</div>"
      ],
      "text/plain": [
       "                mean  count\n",
       "Model                      \n",
       "other    5455.997906    955\n",
       "modus    3180.414330    321\n",
       "megane   2991.864261   2910\n",
       "scenic   2492.448824   1446\n",
       "kangoo   2457.050104    958\n",
       "clio     2151.947265   3546\n",
       "laguna   2130.960411   1364\n",
       "espace   2069.105519    616\n",
       "no_info  1398.266667    735\n",
       "twingo   1382.617605   4953\n",
       "r19       846.512195    123"
      ]
     },
     "metadata": {},
     "output_type": "display_data"
    },
    {
     "data": {
      "text/plain": [
       "'--------------'"
      ]
     },
     "metadata": {},
     "output_type": "display_data"
    },
    {
     "data": {
      "text/plain": [
       "'Марка mercedes_benz, количество моделей 19'"
      ]
     },
     "metadata": {},
     "output_type": "display_data"
    },
    {
     "data": {
      "text/plain": [
       "array(['a_klasse', 'other', 'e_klasse', 'b_klasse', 'c_klasse', 'vito',\n",
       "       'sprinter', 'slk', 'viano', 's_klasse', 'sl', 'clk', 'no_info',\n",
       "       'v_klasse', 'm_klasse', 'cl', 'g_klasse', 'glk', 'gl'],\n",
       "      dtype=object)"
      ]
     },
     "metadata": {},
     "output_type": "display_data"
    },
    {
     "data": {
      "text/html": [
       "<div>\n",
       "<style scoped>\n",
       "    .dataframe tbody tr th:only-of-type {\n",
       "        vertical-align: middle;\n",
       "    }\n",
       "\n",
       "    .dataframe tbody tr th {\n",
       "        vertical-align: top;\n",
       "    }\n",
       "\n",
       "    .dataframe thead th {\n",
       "        text-align: right;\n",
       "    }\n",
       "</style>\n",
       "<table border=\"1\" class=\"dataframe\">\n",
       "  <thead>\n",
       "    <tr style=\"text-align: right;\">\n",
       "      <th></th>\n",
       "      <th>mean</th>\n",
       "      <th>count</th>\n",
       "    </tr>\n",
       "    <tr>\n",
       "      <th>Model</th>\n",
       "      <th></th>\n",
       "      <th></th>\n",
       "    </tr>\n",
       "  </thead>\n",
       "  <tbody>\n",
       "    <tr>\n",
       "      <td>gl</td>\n",
       "      <td>16965.076923</td>\n",
       "      <td>13</td>\n",
       "    </tr>\n",
       "    <tr>\n",
       "      <td>glk</td>\n",
       "      <td>16057.515625</td>\n",
       "      <td>64</td>\n",
       "    </tr>\n",
       "    <tr>\n",
       "      <td>sl</td>\n",
       "      <td>12857.076923</td>\n",
       "      <td>403</td>\n",
       "    </tr>\n",
       "    <tr>\n",
       "      <td>viano</td>\n",
       "      <td>11719.839080</td>\n",
       "      <td>261</td>\n",
       "    </tr>\n",
       "    <tr>\n",
       "      <td>g_klasse</td>\n",
       "      <td>10274.845361</td>\n",
       "      <td>97</td>\n",
       "    </tr>\n",
       "    <tr>\n",
       "      <td>b_klasse</td>\n",
       "      <td>9484.790378</td>\n",
       "      <td>873</td>\n",
       "    </tr>\n",
       "    <tr>\n",
       "      <td>m_klasse</td>\n",
       "      <td>9311.791186</td>\n",
       "      <td>953</td>\n",
       "    </tr>\n",
       "    <tr>\n",
       "      <td>slk</td>\n",
       "      <td>8703.295993</td>\n",
       "      <td>1223</td>\n",
       "    </tr>\n",
       "    <tr>\n",
       "      <td>cl</td>\n",
       "      <td>8200.486957</td>\n",
       "      <td>230</td>\n",
       "    </tr>\n",
       "    <tr>\n",
       "      <td>s_klasse</td>\n",
       "      <td>7496.573991</td>\n",
       "      <td>892</td>\n",
       "    </tr>\n",
       "    <tr>\n",
       "      <td>clk</td>\n",
       "      <td>6206.807104</td>\n",
       "      <td>1830</td>\n",
       "    </tr>\n",
       "    <tr>\n",
       "      <td>other</td>\n",
       "      <td>6063.203583</td>\n",
       "      <td>2903</td>\n",
       "    </tr>\n",
       "    <tr>\n",
       "      <td>vito</td>\n",
       "      <td>5923.707622</td>\n",
       "      <td>879</td>\n",
       "    </tr>\n",
       "    <tr>\n",
       "      <td>sprinter</td>\n",
       "      <td>5804.263566</td>\n",
       "      <td>774</td>\n",
       "    </tr>\n",
       "    <tr>\n",
       "      <td>e_klasse</td>\n",
       "      <td>5741.706264</td>\n",
       "      <td>6785</td>\n",
       "    </tr>\n",
       "    <tr>\n",
       "      <td>c_klasse</td>\n",
       "      <td>5473.838908</td>\n",
       "      <td>8312</td>\n",
       "    </tr>\n",
       "    <tr>\n",
       "      <td>no_info</td>\n",
       "      <td>3845.960331</td>\n",
       "      <td>1210</td>\n",
       "    </tr>\n",
       "    <tr>\n",
       "      <td>a_klasse</td>\n",
       "      <td>3405.826616</td>\n",
       "      <td>4193</td>\n",
       "    </tr>\n",
       "    <tr>\n",
       "      <td>v_klasse</td>\n",
       "      <td>3322.973510</td>\n",
       "      <td>151</td>\n",
       "    </tr>\n",
       "  </tbody>\n",
       "</table>\n",
       "</div>"
      ],
      "text/plain": [
       "                  mean  count\n",
       "Model                        \n",
       "gl        16965.076923     13\n",
       "glk       16057.515625     64\n",
       "sl        12857.076923    403\n",
       "viano     11719.839080    261\n",
       "g_klasse  10274.845361     97\n",
       "b_klasse   9484.790378    873\n",
       "m_klasse   9311.791186    953\n",
       "slk        8703.295993   1223\n",
       "cl         8200.486957    230\n",
       "s_klasse   7496.573991    892\n",
       "clk        6206.807104   1830\n",
       "other      6063.203583   2903\n",
       "vito       5923.707622    879\n",
       "sprinter   5804.263566    774\n",
       "e_klasse   5741.706264   6785\n",
       "c_klasse   5473.838908   8312\n",
       "no_info    3845.960331   1210\n",
       "a_klasse   3405.826616   4193\n",
       "v_klasse   3322.973510    151"
      ]
     },
     "metadata": {},
     "output_type": "display_data"
    },
    {
     "data": {
      "text/plain": [
       "'--------------'"
      ]
     },
     "metadata": {},
     "output_type": "display_data"
    },
    {
     "data": {
      "text/plain": [
       "'Марка opel, количество моделей 17'"
      ]
     },
     "metadata": {},
     "output_type": "display_data"
    },
    {
     "data": {
      "text/plain": [
       "array(['meriva', 'kadett', 'corsa', 'signum', 'astra', 'other',\n",
       "       'insignia', 'combo', 'omega', 'zafira', 'vectra', 'no_info',\n",
       "       'agila', 'tigra', 'calibra', 'antara', 'vivaro'], dtype=object)"
      ]
     },
     "metadata": {},
     "output_type": "display_data"
    },
    {
     "data": {
      "text/html": [
       "<div>\n",
       "<style scoped>\n",
       "    .dataframe tbody tr th:only-of-type {\n",
       "        vertical-align: middle;\n",
       "    }\n",
       "\n",
       "    .dataframe tbody tr th {\n",
       "        vertical-align: top;\n",
       "    }\n",
       "\n",
       "    .dataframe thead th {\n",
       "        text-align: right;\n",
       "    }\n",
       "</style>\n",
       "<table border=\"1\" class=\"dataframe\">\n",
       "  <thead>\n",
       "    <tr style=\"text-align: right;\">\n",
       "      <th></th>\n",
       "      <th>mean</th>\n",
       "      <th>count</th>\n",
       "    </tr>\n",
       "    <tr>\n",
       "      <th>Model</th>\n",
       "      <th></th>\n",
       "      <th></th>\n",
       "    </tr>\n",
       "  </thead>\n",
       "  <tbody>\n",
       "    <tr>\n",
       "      <td>insignia</td>\n",
       "      <td>11499.280811</td>\n",
       "      <td>641</td>\n",
       "    </tr>\n",
       "    <tr>\n",
       "      <td>antara</td>\n",
       "      <td>8762.555556</td>\n",
       "      <td>108</td>\n",
       "    </tr>\n",
       "    <tr>\n",
       "      <td>vivaro</td>\n",
       "      <td>6557.647975</td>\n",
       "      <td>321</td>\n",
       "    </tr>\n",
       "    <tr>\n",
       "      <td>other</td>\n",
       "      <td>6183.781498</td>\n",
       "      <td>1135</td>\n",
       "    </tr>\n",
       "    <tr>\n",
       "      <td>meriva</td>\n",
       "      <td>4611.884981</td>\n",
       "      <td>1052</td>\n",
       "    </tr>\n",
       "    <tr>\n",
       "      <td>signum</td>\n",
       "      <td>3821.977688</td>\n",
       "      <td>493</td>\n",
       "    </tr>\n",
       "    <tr>\n",
       "      <td>zafira</td>\n",
       "      <td>3697.030552</td>\n",
       "      <td>3044</td>\n",
       "    </tr>\n",
       "    <tr>\n",
       "      <td>astra</td>\n",
       "      <td>3017.163937</td>\n",
       "      <td>10809</td>\n",
       "    </tr>\n",
       "    <tr>\n",
       "      <td>tigra</td>\n",
       "      <td>2632.861850</td>\n",
       "      <td>789</td>\n",
       "    </tr>\n",
       "    <tr>\n",
       "      <td>combo</td>\n",
       "      <td>2584.959233</td>\n",
       "      <td>417</td>\n",
       "    </tr>\n",
       "    <tr>\n",
       "      <td>kadett</td>\n",
       "      <td>2528.876374</td>\n",
       "      <td>364</td>\n",
       "    </tr>\n",
       "    <tr>\n",
       "      <td>calibra</td>\n",
       "      <td>2033.105991</td>\n",
       "      <td>217</td>\n",
       "    </tr>\n",
       "    <tr>\n",
       "      <td>agila</td>\n",
       "      <td>1912.246512</td>\n",
       "      <td>430</td>\n",
       "    </tr>\n",
       "    <tr>\n",
       "      <td>corsa</td>\n",
       "      <td>1892.173270</td>\n",
       "      <td>12570</td>\n",
       "    </tr>\n",
       "    <tr>\n",
       "      <td>no_info</td>\n",
       "      <td>1695.225013</td>\n",
       "      <td>1871</td>\n",
       "    </tr>\n",
       "    <tr>\n",
       "      <td>vectra</td>\n",
       "      <td>1687.486601</td>\n",
       "      <td>4254</td>\n",
       "    </tr>\n",
       "    <tr>\n",
       "      <td>omega</td>\n",
       "      <td>1076.902542</td>\n",
       "      <td>1416</td>\n",
       "    </tr>\n",
       "  </tbody>\n",
       "</table>\n",
       "</div>"
      ],
      "text/plain": [
       "                  mean  count\n",
       "Model                        \n",
       "insignia  11499.280811    641\n",
       "antara     8762.555556    108\n",
       "vivaro     6557.647975    321\n",
       "other      6183.781498   1135\n",
       "meriva     4611.884981   1052\n",
       "signum     3821.977688    493\n",
       "zafira     3697.030552   3044\n",
       "astra      3017.163937  10809\n",
       "tigra      2632.861850    789\n",
       "combo      2584.959233    417\n",
       "kadett     2528.876374    364\n",
       "calibra    2033.105991    217\n",
       "agila      1912.246512    430\n",
       "corsa      1892.173270  12570\n",
       "no_info    1695.225013   1871\n",
       "vectra     1687.486601   4254\n",
       "omega      1076.902542   1416"
      ]
     },
     "metadata": {},
     "output_type": "display_data"
    },
    {
     "data": {
      "text/plain": [
       "'--------------'"
      ]
     },
     "metadata": {},
     "output_type": "display_data"
    },
    {
     "data": {
      "text/plain": [
       "'Марка seat, количество моделей 11'"
      ]
     },
     "metadata": {},
     "output_type": "display_data"
    },
    {
     "data": {
      "text/plain": [
       "array(['arosa', 'other', 'ibiza', 'cordoba', 'mii', 'leon', 'exeo',\n",
       "       'alhambra', 'no_info', 'toledo', 'altea'], dtype=object)"
      ]
     },
     "metadata": {},
     "output_type": "display_data"
    },
    {
     "data": {
      "text/html": [
       "<div>\n",
       "<style scoped>\n",
       "    .dataframe tbody tr th:only-of-type {\n",
       "        vertical-align: middle;\n",
       "    }\n",
       "\n",
       "    .dataframe tbody tr th {\n",
       "        vertical-align: top;\n",
       "    }\n",
       "\n",
       "    .dataframe thead th {\n",
       "        text-align: right;\n",
       "    }\n",
       "</style>\n",
       "<table border=\"1\" class=\"dataframe\">\n",
       "  <thead>\n",
       "    <tr style=\"text-align: right;\">\n",
       "      <th></th>\n",
       "      <th>mean</th>\n",
       "      <th>count</th>\n",
       "    </tr>\n",
       "    <tr>\n",
       "      <th>Model</th>\n",
       "      <th></th>\n",
       "      <th></th>\n",
       "    </tr>\n",
       "  </thead>\n",
       "  <tbody>\n",
       "    <tr>\n",
       "      <td>exeo</td>\n",
       "      <td>11345.600000</td>\n",
       "      <td>100</td>\n",
       "    </tr>\n",
       "    <tr>\n",
       "      <td>mii</td>\n",
       "      <td>7549.913580</td>\n",
       "      <td>81</td>\n",
       "    </tr>\n",
       "    <tr>\n",
       "      <td>leon</td>\n",
       "      <td>7112.877301</td>\n",
       "      <td>1304</td>\n",
       "    </tr>\n",
       "    <tr>\n",
       "      <td>altea</td>\n",
       "      <td>6395.889785</td>\n",
       "      <td>372</td>\n",
       "    </tr>\n",
       "    <tr>\n",
       "      <td>alhambra</td>\n",
       "      <td>5029.109244</td>\n",
       "      <td>357</td>\n",
       "    </tr>\n",
       "    <tr>\n",
       "      <td>ibiza</td>\n",
       "      <td>3605.079941</td>\n",
       "      <td>2702</td>\n",
       "    </tr>\n",
       "    <tr>\n",
       "      <td>no_info</td>\n",
       "      <td>2236.991489</td>\n",
       "      <td>235</td>\n",
       "    </tr>\n",
       "    <tr>\n",
       "      <td>toledo</td>\n",
       "      <td>2066.282799</td>\n",
       "      <td>343</td>\n",
       "    </tr>\n",
       "    <tr>\n",
       "      <td>arosa</td>\n",
       "      <td>1089.030033</td>\n",
       "      <td>899</td>\n",
       "    </tr>\n",
       "    <tr>\n",
       "      <td>cordoba</td>\n",
       "      <td>905.000000</td>\n",
       "      <td>399</td>\n",
       "    </tr>\n",
       "    <tr>\n",
       "      <td>other</td>\n",
       "      <td>867.234783</td>\n",
       "      <td>115</td>\n",
       "    </tr>\n",
       "  </tbody>\n",
       "</table>\n",
       "</div>"
      ],
      "text/plain": [
       "                  mean  count\n",
       "Model                        \n",
       "exeo      11345.600000    100\n",
       "mii        7549.913580     81\n",
       "leon       7112.877301   1304\n",
       "altea      6395.889785    372\n",
       "alhambra   5029.109244    357\n",
       "ibiza      3605.079941   2702\n",
       "no_info    2236.991489    235\n",
       "toledo     2066.282799    343\n",
       "arosa      1089.030033    899\n",
       "cordoba     905.000000    399\n",
       "other       867.234783    115"
      ]
     },
     "metadata": {},
     "output_type": "display_data"
    },
    {
     "data": {
      "text/plain": [
       "'--------------'"
      ]
     },
     "metadata": {},
     "output_type": "display_data"
    },
    {
     "data": {
      "text/plain": [
       "'Марка citroen, количество моделей 8'"
      ]
     },
     "metadata": {},
     "output_type": "display_data"
    },
    {
     "data": {
      "text/plain": [
       "array(['c4', 'berlingo', 'c1', 'other', 'c3', 'c5', 'no_info', 'c2'],\n",
       "      dtype=object)"
      ]
     },
     "metadata": {},
     "output_type": "display_data"
    },
    {
     "data": {
      "text/html": [
       "<div>\n",
       "<style scoped>\n",
       "    .dataframe tbody tr th:only-of-type {\n",
       "        vertical-align: middle;\n",
       "    }\n",
       "\n",
       "    .dataframe tbody tr th {\n",
       "        vertical-align: top;\n",
       "    }\n",
       "\n",
       "    .dataframe thead th {\n",
       "        text-align: right;\n",
       "    }\n",
       "</style>\n",
       "<table border=\"1\" class=\"dataframe\">\n",
       "  <thead>\n",
       "    <tr style=\"text-align: right;\">\n",
       "      <th></th>\n",
       "      <th>mean</th>\n",
       "      <th>count</th>\n",
       "    </tr>\n",
       "    <tr>\n",
       "      <th>Model</th>\n",
       "      <th></th>\n",
       "      <th></th>\n",
       "    </tr>\n",
       "  </thead>\n",
       "  <tbody>\n",
       "    <tr>\n",
       "      <td>c4</td>\n",
       "      <td>5918.560811</td>\n",
       "      <td>444</td>\n",
       "    </tr>\n",
       "    <tr>\n",
       "      <td>c5</td>\n",
       "      <td>4388.177551</td>\n",
       "      <td>490</td>\n",
       "    </tr>\n",
       "    <tr>\n",
       "      <td>c3</td>\n",
       "      <td>3886.278656</td>\n",
       "      <td>506</td>\n",
       "    </tr>\n",
       "    <tr>\n",
       "      <td>c1</td>\n",
       "      <td>3857.381074</td>\n",
       "      <td>391</td>\n",
       "    </tr>\n",
       "    <tr>\n",
       "      <td>berlingo</td>\n",
       "      <td>3208.405340</td>\n",
       "      <td>824</td>\n",
       "    </tr>\n",
       "    <tr>\n",
       "      <td>other</td>\n",
       "      <td>2962.956193</td>\n",
       "      <td>1849</td>\n",
       "    </tr>\n",
       "    <tr>\n",
       "      <td>c2</td>\n",
       "      <td>2655.141772</td>\n",
       "      <td>395</td>\n",
       "    </tr>\n",
       "    <tr>\n",
       "      <td>no_info</td>\n",
       "      <td>1708.289157</td>\n",
       "      <td>249</td>\n",
       "    </tr>\n",
       "  </tbody>\n",
       "</table>\n",
       "</div>"
      ],
      "text/plain": [
       "                 mean  count\n",
       "Model                       \n",
       "c4        5918.560811    444\n",
       "c5        4388.177551    490\n",
       "c3        3886.278656    506\n",
       "c1        3857.381074    391\n",
       "berlingo  3208.405340    824\n",
       "other     2962.956193   1849\n",
       "c2        2655.141772    395\n",
       "no_info   1708.289157    249"
      ]
     },
     "metadata": {},
     "output_type": "display_data"
    },
    {
     "data": {
      "text/plain": [
       "'--------------'"
      ]
     },
     "metadata": {},
     "output_type": "display_data"
    },
    {
     "data": {
      "text/plain": [
       "'Марка honda, количество моделей 6'"
      ]
     },
     "metadata": {},
     "output_type": "display_data"
    },
    {
     "data": {
      "text/plain": [
       "array(['civic', 'other', 'jazz', 'accord', 'cr_reihe', 'no_info'],\n",
       "      dtype=object)"
      ]
     },
     "metadata": {},
     "output_type": "display_data"
    },
    {
     "data": {
      "text/html": [
       "<div>\n",
       "<style scoped>\n",
       "    .dataframe tbody tr th:only-of-type {\n",
       "        vertical-align: middle;\n",
       "    }\n",
       "\n",
       "    .dataframe tbody tr th {\n",
       "        vertical-align: top;\n",
       "    }\n",
       "\n",
       "    .dataframe thead th {\n",
       "        text-align: right;\n",
       "    }\n",
       "</style>\n",
       "<table border=\"1\" class=\"dataframe\">\n",
       "  <thead>\n",
       "    <tr style=\"text-align: right;\">\n",
       "      <th></th>\n",
       "      <th>mean</th>\n",
       "      <th>count</th>\n",
       "    </tr>\n",
       "    <tr>\n",
       "      <th>Model</th>\n",
       "      <th></th>\n",
       "      <th></th>\n",
       "    </tr>\n",
       "  </thead>\n",
       "  <tbody>\n",
       "    <tr>\n",
       "      <td>cr_reihe</td>\n",
       "      <td>5831.014493</td>\n",
       "      <td>345</td>\n",
       "    </tr>\n",
       "    <tr>\n",
       "      <td>accord</td>\n",
       "      <td>4565.273504</td>\n",
       "      <td>351</td>\n",
       "    </tr>\n",
       "    <tr>\n",
       "      <td>jazz</td>\n",
       "      <td>4546.947020</td>\n",
       "      <td>302</td>\n",
       "    </tr>\n",
       "    <tr>\n",
       "      <td>other</td>\n",
       "      <td>3613.577287</td>\n",
       "      <td>317</td>\n",
       "    </tr>\n",
       "    <tr>\n",
       "      <td>civic</td>\n",
       "      <td>2797.525612</td>\n",
       "      <td>1347</td>\n",
       "    </tr>\n",
       "    <tr>\n",
       "      <td>no_info</td>\n",
       "      <td>2448.535484</td>\n",
       "      <td>155</td>\n",
       "    </tr>\n",
       "  </tbody>\n",
       "</table>\n",
       "</div>"
      ],
      "text/plain": [
       "                 mean  count\n",
       "Model                       \n",
       "cr_reihe  5831.014493    345\n",
       "accord    4565.273504    351\n",
       "jazz      4546.947020    302\n",
       "other     3613.577287    317\n",
       "civic     2797.525612   1347\n",
       "no_info   2448.535484    155"
      ]
     },
     "metadata": {},
     "output_type": "display_data"
    },
    {
     "data": {
      "text/plain": [
       "'--------------'"
      ]
     },
     "metadata": {},
     "output_type": "display_data"
    },
    {
     "data": {
      "text/plain": [
       "'Марка fiat, количество моделей 11'"
      ]
     },
     "metadata": {},
     "output_type": "display_data"
    },
    {
     "data": {
      "text/plain": [
       "array(['punto', 'no_info', 'other', 'panda', 'seicento', '500', 'stilo',\n",
       "       'ducato', 'bravo', 'croma', 'doblo'], dtype=object)"
      ]
     },
     "metadata": {},
     "output_type": "display_data"
    },
    {
     "data": {
      "text/html": [
       "<div>\n",
       "<style scoped>\n",
       "    .dataframe tbody tr th:only-of-type {\n",
       "        vertical-align: middle;\n",
       "    }\n",
       "\n",
       "    .dataframe tbody tr th {\n",
       "        vertical-align: top;\n",
       "    }\n",
       "\n",
       "    .dataframe thead th {\n",
       "        text-align: right;\n",
       "    }\n",
       "</style>\n",
       "<table border=\"1\" class=\"dataframe\">\n",
       "  <thead>\n",
       "    <tr style=\"text-align: right;\">\n",
       "      <th></th>\n",
       "      <th>mean</th>\n",
       "      <th>count</th>\n",
       "    </tr>\n",
       "    <tr>\n",
       "      <th>Model</th>\n",
       "      <th></th>\n",
       "      <th></th>\n",
       "    </tr>\n",
       "  </thead>\n",
       "  <tbody>\n",
       "    <tr>\n",
       "      <td>500</td>\n",
       "      <td>7702.017391</td>\n",
       "      <td>920</td>\n",
       "    </tr>\n",
       "    <tr>\n",
       "      <td>croma</td>\n",
       "      <td>3980.266667</td>\n",
       "      <td>45</td>\n",
       "    </tr>\n",
       "    <tr>\n",
       "      <td>ducato</td>\n",
       "      <td>3850.754023</td>\n",
       "      <td>435</td>\n",
       "    </tr>\n",
       "    <tr>\n",
       "      <td>doblo</td>\n",
       "      <td>3578.129231</td>\n",
       "      <td>325</td>\n",
       "    </tr>\n",
       "    <tr>\n",
       "      <td>panda</td>\n",
       "      <td>3102.130178</td>\n",
       "      <td>676</td>\n",
       "    </tr>\n",
       "    <tr>\n",
       "      <td>other</td>\n",
       "      <td>2851.624371</td>\n",
       "      <td>1789</td>\n",
       "    </tr>\n",
       "    <tr>\n",
       "      <td>bravo</td>\n",
       "      <td>2661.419940</td>\n",
       "      <td>331</td>\n",
       "    </tr>\n",
       "    <tr>\n",
       "      <td>punto</td>\n",
       "      <td>1637.711383</td>\n",
       "      <td>3347</td>\n",
       "    </tr>\n",
       "    <tr>\n",
       "      <td>no_info</td>\n",
       "      <td>1618.870518</td>\n",
       "      <td>502</td>\n",
       "    </tr>\n",
       "    <tr>\n",
       "      <td>stilo</td>\n",
       "      <td>1600.917081</td>\n",
       "      <td>603</td>\n",
       "    </tr>\n",
       "    <tr>\n",
       "      <td>seicento</td>\n",
       "      <td>814.094030</td>\n",
       "      <td>670</td>\n",
       "    </tr>\n",
       "  </tbody>\n",
       "</table>\n",
       "</div>"
      ],
      "text/plain": [
       "                 mean  count\n",
       "Model                       \n",
       "500       7702.017391    920\n",
       "croma     3980.266667     45\n",
       "ducato    3850.754023    435\n",
       "doblo     3578.129231    325\n",
       "panda     3102.130178    676\n",
       "other     2851.624371   1789\n",
       "bravo     2661.419940    331\n",
       "punto     1637.711383   3347\n",
       "no_info   1618.870518    502\n",
       "stilo     1600.917081    603\n",
       "seicento   814.094030    670"
      ]
     },
     "metadata": {},
     "output_type": "display_data"
    },
    {
     "data": {
      "text/plain": [
       "'--------------'"
      ]
     },
     "metadata": {},
     "output_type": "display_data"
    },
    {
     "data": {
      "text/plain": [
       "'Марка mini, количество моделей 5'"
      ]
     },
     "metadata": {},
     "output_type": "display_data"
    },
    {
     "data": {
      "text/plain": [
       "array(['one', 'cooper', 'other', 'clubman', 'no_info'], dtype=object)"
      ]
     },
     "metadata": {},
     "output_type": "display_data"
    },
    {
     "data": {
      "text/html": [
       "<div>\n",
       "<style scoped>\n",
       "    .dataframe tbody tr th:only-of-type {\n",
       "        vertical-align: middle;\n",
       "    }\n",
       "\n",
       "    .dataframe tbody tr th {\n",
       "        vertical-align: top;\n",
       "    }\n",
       "\n",
       "    .dataframe thead th {\n",
       "        text-align: right;\n",
       "    }\n",
       "</style>\n",
       "<table border=\"1\" class=\"dataframe\">\n",
       "  <thead>\n",
       "    <tr style=\"text-align: right;\">\n",
       "      <th></th>\n",
       "      <th>mean</th>\n",
       "      <th>count</th>\n",
       "    </tr>\n",
       "    <tr>\n",
       "      <th>Model</th>\n",
       "      <th></th>\n",
       "      <th></th>\n",
       "    </tr>\n",
       "  </thead>\n",
       "  <tbody>\n",
       "    <tr>\n",
       "      <td>clubman</td>\n",
       "      <td>10623.621891</td>\n",
       "      <td>201</td>\n",
       "    </tr>\n",
       "    <tr>\n",
       "      <td>cooper</td>\n",
       "      <td>9783.263590</td>\n",
       "      <td>1950</td>\n",
       "    </tr>\n",
       "    <tr>\n",
       "      <td>other</td>\n",
       "      <td>7684.728261</td>\n",
       "      <td>92</td>\n",
       "    </tr>\n",
       "    <tr>\n",
       "      <td>one</td>\n",
       "      <td>7217.986622</td>\n",
       "      <td>897</td>\n",
       "    </tr>\n",
       "    <tr>\n",
       "      <td>no_info</td>\n",
       "      <td>6455.032258</td>\n",
       "      <td>62</td>\n",
       "    </tr>\n",
       "  </tbody>\n",
       "</table>\n",
       "</div>"
      ],
      "text/plain": [
       "                 mean  count\n",
       "Model                       \n",
       "clubman  10623.621891    201\n",
       "cooper    9783.263590   1950\n",
       "other     7684.728261     92\n",
       "one       7217.986622    897\n",
       "no_info   6455.032258     62"
      ]
     },
     "metadata": {},
     "output_type": "display_data"
    },
    {
     "data": {
      "text/plain": [
       "'--------------'"
      ]
     },
     "metadata": {},
     "output_type": "display_data"
    },
    {
     "data": {
      "text/plain": [
       "'Марка smart, количество моделей 5'"
      ]
     },
     "metadata": {},
     "output_type": "display_data"
    },
    {
     "data": {
      "text/plain": [
       "array(['fortwo', 'no_info', 'other', 'roadster', 'forfour'], dtype=object)"
      ]
     },
     "metadata": {},
     "output_type": "display_data"
    },
    {
     "data": {
      "text/html": [
       "<div>\n",
       "<style scoped>\n",
       "    .dataframe tbody tr th:only-of-type {\n",
       "        vertical-align: middle;\n",
       "    }\n",
       "\n",
       "    .dataframe tbody tr th {\n",
       "        vertical-align: top;\n",
       "    }\n",
       "\n",
       "    .dataframe thead th {\n",
       "        text-align: right;\n",
       "    }\n",
       "</style>\n",
       "<table border=\"1\" class=\"dataframe\">\n",
       "  <thead>\n",
       "    <tr style=\"text-align: right;\">\n",
       "      <th></th>\n",
       "      <th>mean</th>\n",
       "      <th>count</th>\n",
       "    </tr>\n",
       "    <tr>\n",
       "      <th>Model</th>\n",
       "      <th></th>\n",
       "      <th></th>\n",
       "    </tr>\n",
       "  </thead>\n",
       "  <tbody>\n",
       "    <tr>\n",
       "      <td>roadster</td>\n",
       "      <td>4930.149171</td>\n",
       "      <td>181</td>\n",
       "    </tr>\n",
       "    <tr>\n",
       "      <td>fortwo</td>\n",
       "      <td>3596.747060</td>\n",
       "      <td>4337</td>\n",
       "    </tr>\n",
       "    <tr>\n",
       "      <td>forfour</td>\n",
       "      <td>2886.746114</td>\n",
       "      <td>386</td>\n",
       "    </tr>\n",
       "    <tr>\n",
       "      <td>other</td>\n",
       "      <td>2266.162162</td>\n",
       "      <td>74</td>\n",
       "    </tr>\n",
       "    <tr>\n",
       "      <td>no_info</td>\n",
       "      <td>1954.257463</td>\n",
       "      <td>268</td>\n",
       "    </tr>\n",
       "  </tbody>\n",
       "</table>\n",
       "</div>"
      ],
      "text/plain": [
       "                 mean  count\n",
       "Model                       \n",
       "roadster  4930.149171    181\n",
       "fortwo    3596.747060   4337\n",
       "forfour   2886.746114    386\n",
       "other     2266.162162     74\n",
       "no_info   1954.257463    268"
      ]
     },
     "metadata": {},
     "output_type": "display_data"
    },
    {
     "data": {
      "text/plain": [
       "'--------------'"
      ]
     },
     "metadata": {},
     "output_type": "display_data"
    },
    {
     "data": {
      "text/plain": [
       "'Марка hyundai, количество моделей 6'"
      ]
     },
     "metadata": {},
     "output_type": "display_data"
    },
    {
     "data": {
      "text/plain": [
       "array(['other', 'getz', 'i_reihe', 'santa', 'no_info', 'tucson'],\n",
       "      dtype=object)"
      ]
     },
     "metadata": {},
     "output_type": "display_data"
    },
    {
     "data": {
      "text/html": [
       "<div>\n",
       "<style scoped>\n",
       "    .dataframe tbody tr th:only-of-type {\n",
       "        vertical-align: middle;\n",
       "    }\n",
       "\n",
       "    .dataframe tbody tr th {\n",
       "        vertical-align: top;\n",
       "    }\n",
       "\n",
       "    .dataframe thead th {\n",
       "        text-align: right;\n",
       "    }\n",
       "</style>\n",
       "<table border=\"1\" class=\"dataframe\">\n",
       "  <thead>\n",
       "    <tr style=\"text-align: right;\">\n",
       "      <th></th>\n",
       "      <th>mean</th>\n",
       "      <th>count</th>\n",
       "    </tr>\n",
       "    <tr>\n",
       "      <th>Model</th>\n",
       "      <th></th>\n",
       "      <th></th>\n",
       "    </tr>\n",
       "  </thead>\n",
       "  <tbody>\n",
       "    <tr>\n",
       "      <td>i_reihe</td>\n",
       "      <td>8259.898042</td>\n",
       "      <td>1226</td>\n",
       "    </tr>\n",
       "    <tr>\n",
       "      <td>tucson</td>\n",
       "      <td>6580.640693</td>\n",
       "      <td>231</td>\n",
       "    </tr>\n",
       "    <tr>\n",
       "      <td>santa</td>\n",
       "      <td>5888.725240</td>\n",
       "      <td>313</td>\n",
       "    </tr>\n",
       "    <tr>\n",
       "      <td>no_info</td>\n",
       "      <td>2905.605263</td>\n",
       "      <td>228</td>\n",
       "    </tr>\n",
       "    <tr>\n",
       "      <td>other</td>\n",
       "      <td>2868.359040</td>\n",
       "      <td>1167</td>\n",
       "    </tr>\n",
       "    <tr>\n",
       "      <td>getz</td>\n",
       "      <td>1949.372038</td>\n",
       "      <td>422</td>\n",
       "    </tr>\n",
       "  </tbody>\n",
       "</table>\n",
       "</div>"
      ],
      "text/plain": [
       "                mean  count\n",
       "Model                      \n",
       "i_reihe  8259.898042   1226\n",
       "tucson   6580.640693    231\n",
       "santa    5888.725240    313\n",
       "no_info  2905.605263    228\n",
       "other    2868.359040   1167\n",
       "getz     1949.372038    422"
      ]
     },
     "metadata": {},
     "output_type": "display_data"
    },
    {
     "data": {
      "text/plain": [
       "'--------------'"
      ]
     },
     "metadata": {},
     "output_type": "display_data"
    },
    {
     "data": {
      "text/plain": [
       "'Марка sonstige_autos, количество моделей 1'"
      ]
     },
     "metadata": {},
     "output_type": "display_data"
    },
    {
     "data": {
      "text/plain": [
       "array(['no_info'], dtype=object)"
      ]
     },
     "metadata": {},
     "output_type": "display_data"
    },
    {
     "data": {
      "text/html": [
       "<div>\n",
       "<style scoped>\n",
       "    .dataframe tbody tr th:only-of-type {\n",
       "        vertical-align: middle;\n",
       "    }\n",
       "\n",
       "    .dataframe tbody tr th {\n",
       "        vertical-align: top;\n",
       "    }\n",
       "\n",
       "    .dataframe thead th {\n",
       "        text-align: right;\n",
       "    }\n",
       "</style>\n",
       "<table border=\"1\" class=\"dataframe\">\n",
       "  <thead>\n",
       "    <tr style=\"text-align: right;\">\n",
       "      <th></th>\n",
       "      <th>mean</th>\n",
       "      <th>count</th>\n",
       "    </tr>\n",
       "    <tr>\n",
       "      <th>Model</th>\n",
       "      <th></th>\n",
       "      <th></th>\n",
       "    </tr>\n",
       "  </thead>\n",
       "  <tbody>\n",
       "    <tr>\n",
       "      <td>no_info</td>\n",
       "      <td>5026.058684</td>\n",
       "      <td>3374</td>\n",
       "    </tr>\n",
       "  </tbody>\n",
       "</table>\n",
       "</div>"
      ],
      "text/plain": [
       "                mean  count\n",
       "Model                      \n",
       "no_info  5026.058684   3374"
      ]
     },
     "metadata": {},
     "output_type": "display_data"
    },
    {
     "data": {
      "text/plain": [
       "'--------------'"
      ]
     },
     "metadata": {},
     "output_type": "display_data"
    },
    {
     "data": {
      "text/plain": [
       "'Марка alfa_romeo, количество моделей 7'"
      ]
     },
     "metadata": {},
     "output_type": "display_data"
    },
    {
     "data": {
      "text/plain": [
       "array(['156', '147', 'no_info', 'spider', '159', 'other', '145'],\n",
       "      dtype=object)"
      ]
     },
     "metadata": {},
     "output_type": "display_data"
    },
    {
     "data": {
      "text/html": [
       "<div>\n",
       "<style scoped>\n",
       "    .dataframe tbody tr th:only-of-type {\n",
       "        vertical-align: middle;\n",
       "    }\n",
       "\n",
       "    .dataframe tbody tr th {\n",
       "        vertical-align: top;\n",
       "    }\n",
       "\n",
       "    .dataframe thead th {\n",
       "        text-align: right;\n",
       "    }\n",
       "</style>\n",
       "<table border=\"1\" class=\"dataframe\">\n",
       "  <thead>\n",
       "    <tr style=\"text-align: right;\">\n",
       "      <th></th>\n",
       "      <th>mean</th>\n",
       "      <th>count</th>\n",
       "    </tr>\n",
       "    <tr>\n",
       "      <th>Model</th>\n",
       "      <th></th>\n",
       "      <th></th>\n",
       "    </tr>\n",
       "  </thead>\n",
       "  <tbody>\n",
       "    <tr>\n",
       "      <td>159</td>\n",
       "      <td>7061.297170</td>\n",
       "      <td>212</td>\n",
       "    </tr>\n",
       "    <tr>\n",
       "      <td>spider</td>\n",
       "      <td>6938.221649</td>\n",
       "      <td>194</td>\n",
       "    </tr>\n",
       "    <tr>\n",
       "      <td>other</td>\n",
       "      <td>6064.669866</td>\n",
       "      <td>521</td>\n",
       "    </tr>\n",
       "    <tr>\n",
       "      <td>147</td>\n",
       "      <td>2270.666084</td>\n",
       "      <td>572</td>\n",
       "    </tr>\n",
       "    <tr>\n",
       "      <td>no_info</td>\n",
       "      <td>1912.175182</td>\n",
       "      <td>137</td>\n",
       "    </tr>\n",
       "    <tr>\n",
       "      <td>156</td>\n",
       "      <td>1514.076312</td>\n",
       "      <td>629</td>\n",
       "    </tr>\n",
       "    <tr>\n",
       "      <td>145</td>\n",
       "      <td>825.571429</td>\n",
       "      <td>49</td>\n",
       "    </tr>\n",
       "  </tbody>\n",
       "</table>\n",
       "</div>"
      ],
      "text/plain": [
       "                mean  count\n",
       "Model                      \n",
       "159      7061.297170    212\n",
       "spider   6938.221649    194\n",
       "other    6064.669866    521\n",
       "147      2270.666084    572\n",
       "no_info  1912.175182    137\n",
       "156      1514.076312    629\n",
       "145       825.571429     49"
      ]
     },
     "metadata": {},
     "output_type": "display_data"
    },
    {
     "data": {
      "text/plain": [
       "'--------------'"
      ]
     },
     "metadata": {},
     "output_type": "display_data"
    },
    {
     "data": {
      "text/plain": [
       "'Марка subaru, количество моделей 6'"
      ]
     },
     "metadata": {},
     "output_type": "display_data"
    },
    {
     "data": {
      "text/plain": [
       "array(['forester', 'impreza', 'justy', 'legacy', 'other', 'no_info'],\n",
       "      dtype=object)"
      ]
     },
     "metadata": {},
     "output_type": "display_data"
    },
    {
     "data": {
      "text/html": [
       "<div>\n",
       "<style scoped>\n",
       "    .dataframe tbody tr th:only-of-type {\n",
       "        vertical-align: middle;\n",
       "    }\n",
       "\n",
       "    .dataframe tbody tr th {\n",
       "        vertical-align: top;\n",
       "    }\n",
       "\n",
       "    .dataframe thead th {\n",
       "        text-align: right;\n",
       "    }\n",
       "</style>\n",
       "<table border=\"1\" class=\"dataframe\">\n",
       "  <thead>\n",
       "    <tr style=\"text-align: right;\">\n",
       "      <th></th>\n",
       "      <th>mean</th>\n",
       "      <th>count</th>\n",
       "    </tr>\n",
       "    <tr>\n",
       "      <th>Model</th>\n",
       "      <th></th>\n",
       "      <th></th>\n",
       "    </tr>\n",
       "  </thead>\n",
       "  <tbody>\n",
       "    <tr>\n",
       "      <td>other</td>\n",
       "      <td>5403.531250</td>\n",
       "      <td>64</td>\n",
       "    </tr>\n",
       "    <tr>\n",
       "      <td>forester</td>\n",
       "      <td>5008.561538</td>\n",
       "      <td>130</td>\n",
       "    </tr>\n",
       "    <tr>\n",
       "      <td>impreza</td>\n",
       "      <td>4895.217778</td>\n",
       "      <td>225</td>\n",
       "    </tr>\n",
       "    <tr>\n",
       "      <td>legacy</td>\n",
       "      <td>2672.825000</td>\n",
       "      <td>160</td>\n",
       "    </tr>\n",
       "    <tr>\n",
       "      <td>no_info</td>\n",
       "      <td>2068.318182</td>\n",
       "      <td>44</td>\n",
       "    </tr>\n",
       "    <tr>\n",
       "      <td>justy</td>\n",
       "      <td>1449.661871</td>\n",
       "      <td>139</td>\n",
       "    </tr>\n",
       "  </tbody>\n",
       "</table>\n",
       "</div>"
      ],
      "text/plain": [
       "                 mean  count\n",
       "Model                       \n",
       "other     5403.531250     64\n",
       "forester  5008.561538    130\n",
       "impreza   4895.217778    225\n",
       "legacy    2672.825000    160\n",
       "no_info   2068.318182     44\n",
       "justy     1449.661871    139"
      ]
     },
     "metadata": {},
     "output_type": "display_data"
    },
    {
     "data": {
      "text/plain": [
       "'--------------'"
      ]
     },
     "metadata": {},
     "output_type": "display_data"
    },
    {
     "data": {
      "text/plain": [
       "'Марка volvo, количество моделей 10'"
      ]
     },
     "metadata": {},
     "output_type": "display_data"
    },
    {
     "data": {
      "text/plain": [
       "array(['xc_reihe', 'v40', 'no_info', 'v50', 'other', 'c_reihe', 'v70',\n",
       "       's60', '850', 'v60'], dtype=object)"
      ]
     },
     "metadata": {},
     "output_type": "display_data"
    },
    {
     "data": {
      "text/html": [
       "<div>\n",
       "<style scoped>\n",
       "    .dataframe tbody tr th:only-of-type {\n",
       "        vertical-align: middle;\n",
       "    }\n",
       "\n",
       "    .dataframe tbody tr th {\n",
       "        vertical-align: top;\n",
       "    }\n",
       "\n",
       "    .dataframe thead th {\n",
       "        text-align: right;\n",
       "    }\n",
       "</style>\n",
       "<table border=\"1\" class=\"dataframe\">\n",
       "  <thead>\n",
       "    <tr style=\"text-align: right;\">\n",
       "      <th></th>\n",
       "      <th>mean</th>\n",
       "      <th>count</th>\n",
       "    </tr>\n",
       "    <tr>\n",
       "      <th>Model</th>\n",
       "      <th></th>\n",
       "      <th></th>\n",
       "    </tr>\n",
       "  </thead>\n",
       "  <tbody>\n",
       "    <tr>\n",
       "      <td>v60</td>\n",
       "      <td>14827.380952</td>\n",
       "      <td>42</td>\n",
       "    </tr>\n",
       "    <tr>\n",
       "      <td>xc_reihe</td>\n",
       "      <td>11617.483146</td>\n",
       "      <td>267</td>\n",
       "    </tr>\n",
       "    <tr>\n",
       "      <td>c_reihe</td>\n",
       "      <td>7990.031088</td>\n",
       "      <td>193</td>\n",
       "    </tr>\n",
       "    <tr>\n",
       "      <td>s60</td>\n",
       "      <td>6085.739726</td>\n",
       "      <td>146</td>\n",
       "    </tr>\n",
       "    <tr>\n",
       "      <td>v50</td>\n",
       "      <td>5981.356863</td>\n",
       "      <td>255</td>\n",
       "    </tr>\n",
       "    <tr>\n",
       "      <td>v70</td>\n",
       "      <td>3894.327014</td>\n",
       "      <td>633</td>\n",
       "    </tr>\n",
       "    <tr>\n",
       "      <td>other</td>\n",
       "      <td>3249.283737</td>\n",
       "      <td>578</td>\n",
       "    </tr>\n",
       "    <tr>\n",
       "      <td>no_info</td>\n",
       "      <td>1916.394495</td>\n",
       "      <td>109</td>\n",
       "    </tr>\n",
       "    <tr>\n",
       "      <td>v40</td>\n",
       "      <td>1493.411613</td>\n",
       "      <td>775</td>\n",
       "    </tr>\n",
       "    <tr>\n",
       "      <td>850</td>\n",
       "      <td>1440.542453</td>\n",
       "      <td>212</td>\n",
       "    </tr>\n",
       "  </tbody>\n",
       "</table>\n",
       "</div>"
      ],
      "text/plain": [
       "                  mean  count\n",
       "Model                        \n",
       "v60       14827.380952     42\n",
       "xc_reihe  11617.483146    267\n",
       "c_reihe    7990.031088    193\n",
       "s60        6085.739726    146\n",
       "v50        5981.356863    255\n",
       "v70        3894.327014    633\n",
       "other      3249.283737    578\n",
       "no_info    1916.394495    109\n",
       "v40        1493.411613    775\n",
       "850        1440.542453    212"
      ]
     },
     "metadata": {},
     "output_type": "display_data"
    },
    {
     "data": {
      "text/plain": [
       "'--------------'"
      ]
     },
     "metadata": {},
     "output_type": "display_data"
    },
    {
     "data": {
      "text/plain": [
       "'Марка mitsubishi, количество моделей 8'"
      ]
     },
     "metadata": {},
     "output_type": "display_data"
    },
    {
     "data": {
      "text/plain": [
       "array(['other', 'colt', 'no_info', 'carisma', 'galant', 'lancer',\n",
       "       'pajero', 'outlander'], dtype=object)"
      ]
     },
     "metadata": {},
     "output_type": "display_data"
    },
    {
     "data": {
      "text/html": [
       "<div>\n",
       "<style scoped>\n",
       "    .dataframe tbody tr th:only-of-type {\n",
       "        vertical-align: middle;\n",
       "    }\n",
       "\n",
       "    .dataframe tbody tr th {\n",
       "        vertical-align: top;\n",
       "    }\n",
       "\n",
       "    .dataframe thead th {\n",
       "        text-align: right;\n",
       "    }\n",
       "</style>\n",
       "<table border=\"1\" class=\"dataframe\">\n",
       "  <thead>\n",
       "    <tr style=\"text-align: right;\">\n",
       "      <th></th>\n",
       "      <th>mean</th>\n",
       "      <th>count</th>\n",
       "    </tr>\n",
       "    <tr>\n",
       "      <th>Model</th>\n",
       "      <th></th>\n",
       "      <th></th>\n",
       "    </tr>\n",
       "  </thead>\n",
       "  <tbody>\n",
       "    <tr>\n",
       "      <td>outlander</td>\n",
       "      <td>9118.105691</td>\n",
       "      <td>123</td>\n",
       "    </tr>\n",
       "    <tr>\n",
       "      <td>pajero</td>\n",
       "      <td>5737.086538</td>\n",
       "      <td>208</td>\n",
       "    </tr>\n",
       "    <tr>\n",
       "      <td>lancer</td>\n",
       "      <td>3701.049550</td>\n",
       "      <td>222</td>\n",
       "    </tr>\n",
       "    <tr>\n",
       "      <td>other</td>\n",
       "      <td>3530.001300</td>\n",
       "      <td>769</td>\n",
       "    </tr>\n",
       "    <tr>\n",
       "      <td>colt</td>\n",
       "      <td>2360.266974</td>\n",
       "      <td>869</td>\n",
       "    </tr>\n",
       "    <tr>\n",
       "      <td>no_info</td>\n",
       "      <td>1683.131250</td>\n",
       "      <td>160</td>\n",
       "    </tr>\n",
       "    <tr>\n",
       "      <td>galant</td>\n",
       "      <td>1140.821012</td>\n",
       "      <td>257</td>\n",
       "    </tr>\n",
       "    <tr>\n",
       "      <td>carisma</td>\n",
       "      <td>957.637681</td>\n",
       "      <td>414</td>\n",
       "    </tr>\n",
       "  </tbody>\n",
       "</table>\n",
       "</div>"
      ],
      "text/plain": [
       "                  mean  count\n",
       "Model                        \n",
       "outlander  9118.105691    123\n",
       "pajero     5737.086538    208\n",
       "lancer     3701.049550    222\n",
       "other      3530.001300    769\n",
       "colt       2360.266974    869\n",
       "no_info    1683.131250    160\n",
       "galant     1140.821012    257\n",
       "carisma     957.637681    414"
      ]
     },
     "metadata": {},
     "output_type": "display_data"
    },
    {
     "data": {
      "text/plain": [
       "'--------------'"
      ]
     },
     "metadata": {},
     "output_type": "display_data"
    },
    {
     "data": {
      "text/plain": [
       "'Марка kia, количество моделей 8'"
      ]
     },
     "metadata": {},
     "output_type": "display_data"
    },
    {
     "data": {
      "text/plain": [
       "array(['sportage', 'sorento', 'ceed', 'rio', 'other', 'picanto',\n",
       "       'no_info', 'carnival'], dtype=object)"
      ]
     },
     "metadata": {},
     "output_type": "display_data"
    },
    {
     "data": {
      "text/html": [
       "<div>\n",
       "<style scoped>\n",
       "    .dataframe tbody tr th:only-of-type {\n",
       "        vertical-align: middle;\n",
       "    }\n",
       "\n",
       "    .dataframe tbody tr th {\n",
       "        vertical-align: top;\n",
       "    }\n",
       "\n",
       "    .dataframe thead th {\n",
       "        text-align: right;\n",
       "    }\n",
       "</style>\n",
       "<table border=\"1\" class=\"dataframe\">\n",
       "  <thead>\n",
       "    <tr style=\"text-align: right;\">\n",
       "      <th></th>\n",
       "      <th>mean</th>\n",
       "      <th>count</th>\n",
       "    </tr>\n",
       "    <tr>\n",
       "      <th>Model</th>\n",
       "      <th></th>\n",
       "      <th></th>\n",
       "    </tr>\n",
       "  </thead>\n",
       "  <tbody>\n",
       "    <tr>\n",
       "      <td>sportage</td>\n",
       "      <td>10502.693548</td>\n",
       "      <td>248</td>\n",
       "    </tr>\n",
       "    <tr>\n",
       "      <td>ceed</td>\n",
       "      <td>7852.222222</td>\n",
       "      <td>252</td>\n",
       "    </tr>\n",
       "    <tr>\n",
       "      <td>sorento</td>\n",
       "      <td>6905.281525</td>\n",
       "      <td>341</td>\n",
       "    </tr>\n",
       "    <tr>\n",
       "      <td>rio</td>\n",
       "      <td>4115.294430</td>\n",
       "      <td>377</td>\n",
       "    </tr>\n",
       "    <tr>\n",
       "      <td>picanto</td>\n",
       "      <td>3462.533149</td>\n",
       "      <td>362</td>\n",
       "    </tr>\n",
       "    <tr>\n",
       "      <td>other</td>\n",
       "      <td>3183.729459</td>\n",
       "      <td>499</td>\n",
       "    </tr>\n",
       "    <tr>\n",
       "      <td>no_info</td>\n",
       "      <td>2695.867257</td>\n",
       "      <td>113</td>\n",
       "    </tr>\n",
       "    <tr>\n",
       "      <td>carnival</td>\n",
       "      <td>2357.959707</td>\n",
       "      <td>273</td>\n",
       "    </tr>\n",
       "  </tbody>\n",
       "</table>\n",
       "</div>"
      ],
      "text/plain": [
       "                  mean  count\n",
       "Model                        \n",
       "sportage  10502.693548    248\n",
       "ceed       7852.222222    252\n",
       "sorento    6905.281525    341\n",
       "rio        4115.294430    377\n",
       "picanto    3462.533149    362\n",
       "other      3183.729459    499\n",
       "no_info    2695.867257    113\n",
       "carnival   2357.959707    273"
      ]
     },
     "metadata": {},
     "output_type": "display_data"
    },
    {
     "data": {
      "text/plain": [
       "'--------------'"
      ]
     },
     "metadata": {},
     "output_type": "display_data"
    },
    {
     "data": {
      "text/plain": [
       "'Марка suzuki, количество моделей 5'"
      ]
     },
     "metadata": {},
     "output_type": "display_data"
    },
    {
     "data": {
      "text/plain": [
       "array(['other', 'grand', 'swift', 'no_info', 'jimny'], dtype=object)"
      ]
     },
     "metadata": {},
     "output_type": "display_data"
    },
    {
     "data": {
      "text/html": [
       "<div>\n",
       "<style scoped>\n",
       "    .dataframe tbody tr th:only-of-type {\n",
       "        vertical-align: middle;\n",
       "    }\n",
       "\n",
       "    .dataframe tbody tr th {\n",
       "        vertical-align: top;\n",
       "    }\n",
       "\n",
       "    .dataframe thead th {\n",
       "        text-align: right;\n",
       "    }\n",
       "</style>\n",
       "<table border=\"1\" class=\"dataframe\">\n",
       "  <thead>\n",
       "    <tr style=\"text-align: right;\">\n",
       "      <th></th>\n",
       "      <th>mean</th>\n",
       "      <th>count</th>\n",
       "    </tr>\n",
       "    <tr>\n",
       "      <th>Model</th>\n",
       "      <th></th>\n",
       "      <th></th>\n",
       "    </tr>\n",
       "  </thead>\n",
       "  <tbody>\n",
       "    <tr>\n",
       "      <td>grand</td>\n",
       "      <td>7824.100000</td>\n",
       "      <td>210</td>\n",
       "    </tr>\n",
       "    <tr>\n",
       "      <td>jimny</td>\n",
       "      <td>6775.495283</td>\n",
       "      <td>212</td>\n",
       "    </tr>\n",
       "    <tr>\n",
       "      <td>swift</td>\n",
       "      <td>3958.849645</td>\n",
       "      <td>705</td>\n",
       "    </tr>\n",
       "    <tr>\n",
       "      <td>other</td>\n",
       "      <td>2631.402266</td>\n",
       "      <td>1059</td>\n",
       "    </tr>\n",
       "    <tr>\n",
       "      <td>no_info</td>\n",
       "      <td>2517.211679</td>\n",
       "      <td>137</td>\n",
       "    </tr>\n",
       "  </tbody>\n",
       "</table>\n",
       "</div>"
      ],
      "text/plain": [
       "                mean  count\n",
       "Model                      \n",
       "grand    7824.100000    210\n",
       "jimny    6775.495283    212\n",
       "swift    3958.849645    705\n",
       "other    2631.402266   1059\n",
       "no_info  2517.211679    137"
      ]
     },
     "metadata": {},
     "output_type": "display_data"
    },
    {
     "data": {
      "text/plain": [
       "'--------------'"
      ]
     },
     "metadata": {},
     "output_type": "display_data"
    },
    {
     "data": {
      "text/plain": [
       "'Марка lancia, количество моделей 8'"
      ]
     },
     "metadata": {},
     "output_type": "display_data"
    },
    {
     "data": {
      "text/plain": [
       "array(['other', 'ypsilon', 'lybra', 'no_info', 'musa', 'delta',\n",
       "       'elefantino', 'kappa'], dtype=object)"
      ]
     },
     "metadata": {},
     "output_type": "display_data"
    },
    {
     "data": {
      "text/html": [
       "<div>\n",
       "<style scoped>\n",
       "    .dataframe tbody tr th:only-of-type {\n",
       "        vertical-align: middle;\n",
       "    }\n",
       "\n",
       "    .dataframe tbody tr th {\n",
       "        vertical-align: top;\n",
       "    }\n",
       "\n",
       "    .dataframe thead th {\n",
       "        text-align: right;\n",
       "    }\n",
       "</style>\n",
       "<table border=\"1\" class=\"dataframe\">\n",
       "  <thead>\n",
       "    <tr style=\"text-align: right;\">\n",
       "      <th></th>\n",
       "      <th>mean</th>\n",
       "      <th>count</th>\n",
       "    </tr>\n",
       "    <tr>\n",
       "      <th>Model</th>\n",
       "      <th></th>\n",
       "      <th></th>\n",
       "    </tr>\n",
       "  </thead>\n",
       "  <tbody>\n",
       "    <tr>\n",
       "      <td>delta</td>\n",
       "      <td>5023.914286</td>\n",
       "      <td>35</td>\n",
       "    </tr>\n",
       "    <tr>\n",
       "      <td>other</td>\n",
       "      <td>4505.161616</td>\n",
       "      <td>99</td>\n",
       "    </tr>\n",
       "    <tr>\n",
       "      <td>musa</td>\n",
       "      <td>3109.520000</td>\n",
       "      <td>25</td>\n",
       "    </tr>\n",
       "    <tr>\n",
       "      <td>kappa</td>\n",
       "      <td>2089.933333</td>\n",
       "      <td>15</td>\n",
       "    </tr>\n",
       "    <tr>\n",
       "      <td>no_info</td>\n",
       "      <td>1622.956522</td>\n",
       "      <td>23</td>\n",
       "    </tr>\n",
       "    <tr>\n",
       "      <td>ypsilon</td>\n",
       "      <td>1396.368421</td>\n",
       "      <td>209</td>\n",
       "    </tr>\n",
       "    <tr>\n",
       "      <td>lybra</td>\n",
       "      <td>768.203704</td>\n",
       "      <td>54</td>\n",
       "    </tr>\n",
       "    <tr>\n",
       "      <td>elefantino</td>\n",
       "      <td>522.636364</td>\n",
       "      <td>11</td>\n",
       "    </tr>\n",
       "  </tbody>\n",
       "</table>\n",
       "</div>"
      ],
      "text/plain": [
       "                   mean  count\n",
       "Model                         \n",
       "delta       5023.914286     35\n",
       "other       4505.161616     99\n",
       "musa        3109.520000     25\n",
       "kappa       2089.933333     15\n",
       "no_info     1622.956522     23\n",
       "ypsilon     1396.368421    209\n",
       "lybra        768.203704     54\n",
       "elefantino   522.636364     11"
      ]
     },
     "metadata": {},
     "output_type": "display_data"
    },
    {
     "data": {
      "text/plain": [
       "'--------------'"
      ]
     },
     "metadata": {},
     "output_type": "display_data"
    },
    {
     "data": {
      "text/plain": [
       "'Марка toyota, количество моделей 9'"
      ]
     },
     "metadata": {},
     "output_type": "display_data"
    },
    {
     "data": {
      "text/plain": [
       "array(['other', 'avensis', 'no_info', 'corolla', 'verso', 'rav', 'yaris',\n",
       "       'aygo', 'auris'], dtype=object)"
      ]
     },
     "metadata": {},
     "output_type": "display_data"
    },
    {
     "data": {
      "text/html": [
       "<div>\n",
       "<style scoped>\n",
       "    .dataframe tbody tr th:only-of-type {\n",
       "        vertical-align: middle;\n",
       "    }\n",
       "\n",
       "    .dataframe tbody tr th {\n",
       "        vertical-align: top;\n",
       "    }\n",
       "\n",
       "    .dataframe thead th {\n",
       "        text-align: right;\n",
       "    }\n",
       "</style>\n",
       "<table border=\"1\" class=\"dataframe\">\n",
       "  <thead>\n",
       "    <tr style=\"text-align: right;\">\n",
       "      <th></th>\n",
       "      <th>mean</th>\n",
       "      <th>count</th>\n",
       "    </tr>\n",
       "    <tr>\n",
       "      <th>Model</th>\n",
       "      <th></th>\n",
       "      <th></th>\n",
       "    </tr>\n",
       "  </thead>\n",
       "  <tbody>\n",
       "    <tr>\n",
       "      <td>auris</td>\n",
       "      <td>9059.824786</td>\n",
       "      <td>234</td>\n",
       "    </tr>\n",
       "    <tr>\n",
       "      <td>rav</td>\n",
       "      <td>7049.725714</td>\n",
       "      <td>350</td>\n",
       "    </tr>\n",
       "    <tr>\n",
       "      <td>verso</td>\n",
       "      <td>6957.980583</td>\n",
       "      <td>309</td>\n",
       "    </tr>\n",
       "    <tr>\n",
       "      <td>avensis</td>\n",
       "      <td>5624.769912</td>\n",
       "      <td>565</td>\n",
       "    </tr>\n",
       "    <tr>\n",
       "      <td>other</td>\n",
       "      <td>4602.995261</td>\n",
       "      <td>844</td>\n",
       "    </tr>\n",
       "    <tr>\n",
       "      <td>aygo</td>\n",
       "      <td>4219.313953</td>\n",
       "      <td>430</td>\n",
       "    </tr>\n",
       "    <tr>\n",
       "      <td>yaris</td>\n",
       "      <td>3861.257502</td>\n",
       "      <td>1033</td>\n",
       "    </tr>\n",
       "    <tr>\n",
       "      <td>no_info</td>\n",
       "      <td>3308.949045</td>\n",
       "      <td>157</td>\n",
       "    </tr>\n",
       "    <tr>\n",
       "      <td>corolla</td>\n",
       "      <td>2709.877193</td>\n",
       "      <td>684</td>\n",
       "    </tr>\n",
       "  </tbody>\n",
       "</table>\n",
       "</div>"
      ],
      "text/plain": [
       "                mean  count\n",
       "Model                      \n",
       "auris    9059.824786    234\n",
       "rav      7049.725714    350\n",
       "verso    6957.980583    309\n",
       "avensis  5624.769912    565\n",
       "other    4602.995261    844\n",
       "aygo     4219.313953    430\n",
       "yaris    3861.257502   1033\n",
       "no_info  3308.949045    157\n",
       "corolla  2709.877193    684"
      ]
     },
     "metadata": {},
     "output_type": "display_data"
    },
    {
     "data": {
      "text/plain": [
       "'--------------'"
      ]
     },
     "metadata": {},
     "output_type": "display_data"
    },
    {
     "data": {
      "text/plain": [
       "'Марка chevrolet, количество моделей 6'"
      ]
     },
     "metadata": {},
     "output_type": "display_data"
    },
    {
     "data": {
      "text/plain": [
       "array(['other', 'matiz', 'no_info', 'spark', 'captiva', 'aveo'],\n",
       "      dtype=object)"
      ]
     },
     "metadata": {},
     "output_type": "display_data"
    },
    {
     "data": {
      "text/html": [
       "<div>\n",
       "<style scoped>\n",
       "    .dataframe tbody tr th:only-of-type {\n",
       "        vertical-align: middle;\n",
       "    }\n",
       "\n",
       "    .dataframe tbody tr th {\n",
       "        vertical-align: top;\n",
       "    }\n",
       "\n",
       "    .dataframe thead th {\n",
       "        text-align: right;\n",
       "    }\n",
       "</style>\n",
       "<table border=\"1\" class=\"dataframe\">\n",
       "  <thead>\n",
       "    <tr style=\"text-align: right;\">\n",
       "      <th></th>\n",
       "      <th>mean</th>\n",
       "      <th>count</th>\n",
       "    </tr>\n",
       "    <tr>\n",
       "      <th>Model</th>\n",
       "      <th></th>\n",
       "      <th></th>\n",
       "    </tr>\n",
       "  </thead>\n",
       "  <tbody>\n",
       "    <tr>\n",
       "      <td>captiva</td>\n",
       "      <td>10178.095238</td>\n",
       "      <td>168</td>\n",
       "    </tr>\n",
       "    <tr>\n",
       "      <td>other</td>\n",
       "      <td>6226.007368</td>\n",
       "      <td>950</td>\n",
       "    </tr>\n",
       "    <tr>\n",
       "      <td>spark</td>\n",
       "      <td>4904.976000</td>\n",
       "      <td>125</td>\n",
       "    </tr>\n",
       "    <tr>\n",
       "      <td>aveo</td>\n",
       "      <td>4653.393162</td>\n",
       "      <td>117</td>\n",
       "    </tr>\n",
       "    <tr>\n",
       "      <td>no_info</td>\n",
       "      <td>4650.118182</td>\n",
       "      <td>110</td>\n",
       "    </tr>\n",
       "    <tr>\n",
       "      <td>matiz</td>\n",
       "      <td>2104.383803</td>\n",
       "      <td>284</td>\n",
       "    </tr>\n",
       "  </tbody>\n",
       "</table>\n",
       "</div>"
      ],
      "text/plain": [
       "                 mean  count\n",
       "Model                       \n",
       "captiva  10178.095238    168\n",
       "other     6226.007368    950\n",
       "spark     4904.976000    125\n",
       "aveo      4653.393162    117\n",
       "no_info   4650.118182    110\n",
       "matiz     2104.383803    284"
      ]
     },
     "metadata": {},
     "output_type": "display_data"
    },
    {
     "data": {
      "text/plain": [
       "'--------------'"
      ]
     },
     "metadata": {},
     "output_type": "display_data"
    },
    {
     "data": {
      "text/plain": [
       "'Марка dacia, количество моделей 6'"
      ]
     },
     "metadata": {},
     "output_type": "display_data"
    },
    {
     "data": {
      "text/plain": [
       "array(['logan', 'duster', 'sandero', 'lodgy', 'no_info', 'other'],\n",
       "      dtype=object)"
      ]
     },
     "metadata": {},
     "output_type": "display_data"
    },
    {
     "data": {
      "text/html": [
       "<div>\n",
       "<style scoped>\n",
       "    .dataframe tbody tr th:only-of-type {\n",
       "        vertical-align: middle;\n",
       "    }\n",
       "\n",
       "    .dataframe tbody tr th {\n",
       "        vertical-align: top;\n",
       "    }\n",
       "\n",
       "    .dataframe thead th {\n",
       "        text-align: right;\n",
       "    }\n",
       "</style>\n",
       "<table border=\"1\" class=\"dataframe\">\n",
       "  <thead>\n",
       "    <tr style=\"text-align: right;\">\n",
       "      <th></th>\n",
       "      <th>mean</th>\n",
       "      <th>count</th>\n",
       "    </tr>\n",
       "    <tr>\n",
       "      <th>Model</th>\n",
       "      <th></th>\n",
       "      <th></th>\n",
       "    </tr>\n",
       "  </thead>\n",
       "  <tbody>\n",
       "    <tr>\n",
       "      <td>lodgy</td>\n",
       "      <td>10362.771429</td>\n",
       "      <td>35</td>\n",
       "    </tr>\n",
       "    <tr>\n",
       "      <td>duster</td>\n",
       "      <td>10028.348039</td>\n",
       "      <td>204</td>\n",
       "    </tr>\n",
       "    <tr>\n",
       "      <td>other</td>\n",
       "      <td>5763.454545</td>\n",
       "      <td>22</td>\n",
       "    </tr>\n",
       "    <tr>\n",
       "      <td>no_info</td>\n",
       "      <td>5184.954545</td>\n",
       "      <td>22</td>\n",
       "    </tr>\n",
       "    <tr>\n",
       "      <td>sandero</td>\n",
       "      <td>4875.477966</td>\n",
       "      <td>295</td>\n",
       "    </tr>\n",
       "    <tr>\n",
       "      <td>logan</td>\n",
       "      <td>3627.571429</td>\n",
       "      <td>322</td>\n",
       "    </tr>\n",
       "  </tbody>\n",
       "</table>\n",
       "</div>"
      ],
      "text/plain": [
       "                 mean  count\n",
       "Model                       \n",
       "lodgy    10362.771429     35\n",
       "duster   10028.348039    204\n",
       "other     5763.454545     22\n",
       "no_info   5184.954545     22\n",
       "sandero   4875.477966    295\n",
       "logan     3627.571429    322"
      ]
     },
     "metadata": {},
     "output_type": "display_data"
    },
    {
     "data": {
      "text/plain": [
       "'--------------'"
      ]
     },
     "metadata": {},
     "output_type": "display_data"
    },
    {
     "data": {
      "text/plain": [
       "'Марка daihatsu, количество моделей 8'"
      ]
     },
     "metadata": {},
     "output_type": "display_data"
    },
    {
     "data": {
      "text/plain": [
       "array(['cuore', 'sirion', 'other', 'charade', 'move', 'no_info', 'terios',\n",
       "       'materia'], dtype=object)"
      ]
     },
     "metadata": {},
     "output_type": "display_data"
    },
    {
     "data": {
      "text/html": [
       "<div>\n",
       "<style scoped>\n",
       "    .dataframe tbody tr th:only-of-type {\n",
       "        vertical-align: middle;\n",
       "    }\n",
       "\n",
       "    .dataframe tbody tr th {\n",
       "        vertical-align: top;\n",
       "    }\n",
       "\n",
       "    .dataframe thead th {\n",
       "        text-align: right;\n",
       "    }\n",
       "</style>\n",
       "<table border=\"1\" class=\"dataframe\">\n",
       "  <thead>\n",
       "    <tr style=\"text-align: right;\">\n",
       "      <th></th>\n",
       "      <th>mean</th>\n",
       "      <th>count</th>\n",
       "    </tr>\n",
       "    <tr>\n",
       "      <th>Model</th>\n",
       "      <th></th>\n",
       "      <th></th>\n",
       "    </tr>\n",
       "  </thead>\n",
       "  <tbody>\n",
       "    <tr>\n",
       "      <td>materia</td>\n",
       "      <td>4882.055556</td>\n",
       "      <td>18</td>\n",
       "    </tr>\n",
       "    <tr>\n",
       "      <td>terios</td>\n",
       "      <td>4790.171429</td>\n",
       "      <td>35</td>\n",
       "    </tr>\n",
       "    <tr>\n",
       "      <td>other</td>\n",
       "      <td>2420.877193</td>\n",
       "      <td>114</td>\n",
       "    </tr>\n",
       "    <tr>\n",
       "      <td>sirion</td>\n",
       "      <td>2251.532374</td>\n",
       "      <td>139</td>\n",
       "    </tr>\n",
       "    <tr>\n",
       "      <td>no_info</td>\n",
       "      <td>1466.871795</td>\n",
       "      <td>39</td>\n",
       "    </tr>\n",
       "    <tr>\n",
       "      <td>charade</td>\n",
       "      <td>1236.518519</td>\n",
       "      <td>27</td>\n",
       "    </tr>\n",
       "    <tr>\n",
       "      <td>cuore</td>\n",
       "      <td>1052.500000</td>\n",
       "      <td>374</td>\n",
       "    </tr>\n",
       "    <tr>\n",
       "      <td>move</td>\n",
       "      <td>606.366667</td>\n",
       "      <td>60</td>\n",
       "    </tr>\n",
       "  </tbody>\n",
       "</table>\n",
       "</div>"
      ],
      "text/plain": [
       "                mean  count\n",
       "Model                      \n",
       "materia  4882.055556     18\n",
       "terios   4790.171429     35\n",
       "other    2420.877193    114\n",
       "sirion   2251.532374    139\n",
       "no_info  1466.871795     39\n",
       "charade  1236.518519     27\n",
       "cuore    1052.500000    374\n",
       "move      606.366667     60"
      ]
     },
     "metadata": {},
     "output_type": "display_data"
    },
    {
     "data": {
      "text/plain": [
       "'--------------'"
      ]
     },
     "metadata": {},
     "output_type": "display_data"
    },
    {
     "data": {
      "text/plain": [
       "'Марка trabant, количество моделей 3'"
      ]
     },
     "metadata": {},
     "output_type": "display_data"
    },
    {
     "data": {
      "text/plain": [
       "array(['no_info', 'other', '601'], dtype=object)"
      ]
     },
     "metadata": {},
     "output_type": "display_data"
    },
    {
     "data": {
      "text/html": [
       "<div>\n",
       "<style scoped>\n",
       "    .dataframe tbody tr th:only-of-type {\n",
       "        vertical-align: middle;\n",
       "    }\n",
       "\n",
       "    .dataframe tbody tr th {\n",
       "        vertical-align: top;\n",
       "    }\n",
       "\n",
       "    .dataframe thead th {\n",
       "        text-align: right;\n",
       "    }\n",
       "</style>\n",
       "<table border=\"1\" class=\"dataframe\">\n",
       "  <thead>\n",
       "    <tr style=\"text-align: right;\">\n",
       "      <th></th>\n",
       "      <th>mean</th>\n",
       "      <th>count</th>\n",
       "    </tr>\n",
       "    <tr>\n",
       "      <th>Model</th>\n",
       "      <th></th>\n",
       "      <th></th>\n",
       "    </tr>\n",
       "  </thead>\n",
       "  <tbody>\n",
       "    <tr>\n",
       "      <td>other</td>\n",
       "      <td>2327.253333</td>\n",
       "      <td>75</td>\n",
       "    </tr>\n",
       "    <tr>\n",
       "      <td>601</td>\n",
       "      <td>1617.133652</td>\n",
       "      <td>419</td>\n",
       "    </tr>\n",
       "    <tr>\n",
       "      <td>no_info</td>\n",
       "      <td>1058.778947</td>\n",
       "      <td>95</td>\n",
       "    </tr>\n",
       "  </tbody>\n",
       "</table>\n",
       "</div>"
      ],
      "text/plain": [
       "                mean  count\n",
       "Model                      \n",
       "other    2327.253333     75\n",
       "601      1617.133652    419\n",
       "no_info  1058.778947     95"
      ]
     },
     "metadata": {},
     "output_type": "display_data"
    },
    {
     "data": {
      "text/plain": [
       "'--------------'"
      ]
     },
     "metadata": {},
     "output_type": "display_data"
    },
    {
     "data": {
      "text/plain": [
       "'Марка saab, количество моделей 4'"
      ]
     },
     "metadata": {},
     "output_type": "display_data"
    },
    {
     "data": {
      "text/plain": [
       "array(['no_info', 'other', '900', '9000'], dtype=object)"
      ]
     },
     "metadata": {},
     "output_type": "display_data"
    },
    {
     "data": {
      "text/html": [
       "<div>\n",
       "<style scoped>\n",
       "    .dataframe tbody tr th:only-of-type {\n",
       "        vertical-align: middle;\n",
       "    }\n",
       "\n",
       "    .dataframe tbody tr th {\n",
       "        vertical-align: top;\n",
       "    }\n",
       "\n",
       "    .dataframe thead th {\n",
       "        text-align: right;\n",
       "    }\n",
       "</style>\n",
       "<table border=\"1\" class=\"dataframe\">\n",
       "  <thead>\n",
       "    <tr style=\"text-align: right;\">\n",
       "      <th></th>\n",
       "      <th>mean</th>\n",
       "      <th>count</th>\n",
       "    </tr>\n",
       "    <tr>\n",
       "      <th>Model</th>\n",
       "      <th></th>\n",
       "      <th></th>\n",
       "    </tr>\n",
       "  </thead>\n",
       "  <tbody>\n",
       "    <tr>\n",
       "      <td>other</td>\n",
       "      <td>4069.410468</td>\n",
       "      <td>363</td>\n",
       "    </tr>\n",
       "    <tr>\n",
       "      <td>900</td>\n",
       "      <td>3103.577586</td>\n",
       "      <td>116</td>\n",
       "    </tr>\n",
       "    <tr>\n",
       "      <td>9000</td>\n",
       "      <td>2072.354839</td>\n",
       "      <td>31</td>\n",
       "    </tr>\n",
       "    <tr>\n",
       "      <td>no_info</td>\n",
       "      <td>1748.000000</td>\n",
       "      <td>16</td>\n",
       "    </tr>\n",
       "  </tbody>\n",
       "</table>\n",
       "</div>"
      ],
      "text/plain": [
       "                mean  count\n",
       "Model                      \n",
       "other    4069.410468    363\n",
       "900      3103.577586    116\n",
       "9000     2072.354839     31\n",
       "no_info  1748.000000     16"
      ]
     },
     "metadata": {},
     "output_type": "display_data"
    },
    {
     "data": {
      "text/plain": [
       "'--------------'"
      ]
     },
     "metadata": {},
     "output_type": "display_data"
    },
    {
     "data": {
      "text/plain": [
       "'Марка chrysler, количество моделей 7'"
      ]
     },
     "metadata": {},
     "output_type": "display_data"
    },
    {
     "data": {
      "text/plain": [
       "array(['other', 'ptcruiser', 'crossfire', '300c', 'grand', 'voyager',\n",
       "       'no_info'], dtype=object)"
      ]
     },
     "metadata": {},
     "output_type": "display_data"
    },
    {
     "data": {
      "text/html": [
       "<div>\n",
       "<style scoped>\n",
       "    .dataframe tbody tr th:only-of-type {\n",
       "        vertical-align: middle;\n",
       "    }\n",
       "\n",
       "    .dataframe tbody tr th {\n",
       "        vertical-align: top;\n",
       "    }\n",
       "\n",
       "    .dataframe thead th {\n",
       "        text-align: right;\n",
       "    }\n",
       "</style>\n",
       "<table border=\"1\" class=\"dataframe\">\n",
       "  <thead>\n",
       "    <tr style=\"text-align: right;\">\n",
       "      <th></th>\n",
       "      <th>mean</th>\n",
       "      <th>count</th>\n",
       "    </tr>\n",
       "    <tr>\n",
       "      <th>Model</th>\n",
       "      <th></th>\n",
       "      <th></th>\n",
       "    </tr>\n",
       "  </thead>\n",
       "  <tbody>\n",
       "    <tr>\n",
       "      <td>crossfire</td>\n",
       "      <td>10603.062500</td>\n",
       "      <td>64</td>\n",
       "    </tr>\n",
       "    <tr>\n",
       "      <td>300c</td>\n",
       "      <td>9862.806897</td>\n",
       "      <td>145</td>\n",
       "    </tr>\n",
       "    <tr>\n",
       "      <td>grand</td>\n",
       "      <td>4216.736364</td>\n",
       "      <td>110</td>\n",
       "    </tr>\n",
       "    <tr>\n",
       "      <td>no_info</td>\n",
       "      <td>3148.606742</td>\n",
       "      <td>89</td>\n",
       "    </tr>\n",
       "    <tr>\n",
       "      <td>other</td>\n",
       "      <td>2969.131234</td>\n",
       "      <td>381</td>\n",
       "    </tr>\n",
       "    <tr>\n",
       "      <td>ptcruiser</td>\n",
       "      <td>2408.961039</td>\n",
       "      <td>308</td>\n",
       "    </tr>\n",
       "    <tr>\n",
       "      <td>voyager</td>\n",
       "      <td>1795.111111</td>\n",
       "      <td>342</td>\n",
       "    </tr>\n",
       "  </tbody>\n",
       "</table>\n",
       "</div>"
      ],
      "text/plain": [
       "                   mean  count\n",
       "Model                         \n",
       "crossfire  10603.062500     64\n",
       "300c        9862.806897    145\n",
       "grand       4216.736364    110\n",
       "no_info     3148.606742     89\n",
       "other       2969.131234    381\n",
       "ptcruiser   2408.961039    308\n",
       "voyager     1795.111111    342"
      ]
     },
     "metadata": {},
     "output_type": "display_data"
    },
    {
     "data": {
      "text/plain": [
       "'--------------'"
      ]
     },
     "metadata": {},
     "output_type": "display_data"
    },
    {
     "data": {
      "text/plain": [
       "'Марка jaguar, количество моделей 4'"
      ]
     },
     "metadata": {},
     "output_type": "display_data"
    },
    {
     "data": {
      "text/plain": [
       "array(['other', 'x_type', 's_type', 'no_info'], dtype=object)"
      ]
     },
     "metadata": {},
     "output_type": "display_data"
    },
    {
     "data": {
      "text/html": [
       "<div>\n",
       "<style scoped>\n",
       "    .dataframe tbody tr th:only-of-type {\n",
       "        vertical-align: middle;\n",
       "    }\n",
       "\n",
       "    .dataframe tbody tr th {\n",
       "        vertical-align: top;\n",
       "    }\n",
       "\n",
       "    .dataframe thead th {\n",
       "        text-align: right;\n",
       "    }\n",
       "</style>\n",
       "<table border=\"1\" class=\"dataframe\">\n",
       "  <thead>\n",
       "    <tr style=\"text-align: right;\">\n",
       "      <th></th>\n",
       "      <th>mean</th>\n",
       "      <th>count</th>\n",
       "    </tr>\n",
       "    <tr>\n",
       "      <th>Model</th>\n",
       "      <th></th>\n",
       "      <th></th>\n",
       "    </tr>\n",
       "  </thead>\n",
       "  <tbody>\n",
       "    <tr>\n",
       "      <td>other</td>\n",
       "      <td>9980.210526</td>\n",
       "      <td>190</td>\n",
       "    </tr>\n",
       "    <tr>\n",
       "      <td>x_type</td>\n",
       "      <td>4790.976879</td>\n",
       "      <td>173</td>\n",
       "    </tr>\n",
       "    <tr>\n",
       "      <td>s_type</td>\n",
       "      <td>4609.523438</td>\n",
       "      <td>128</td>\n",
       "    </tr>\n",
       "    <tr>\n",
       "      <td>no_info</td>\n",
       "      <td>4364.214286</td>\n",
       "      <td>14</td>\n",
       "    </tr>\n",
       "  </tbody>\n",
       "</table>\n",
       "</div>"
      ],
      "text/plain": [
       "                mean  count\n",
       "Model                      \n",
       "other    9980.210526    190\n",
       "x_type   4790.976879    173\n",
       "s_type   4609.523438    128\n",
       "no_info  4364.214286     14"
      ]
     },
     "metadata": {},
     "output_type": "display_data"
    },
    {
     "data": {
      "text/plain": [
       "'--------------'"
      ]
     },
     "metadata": {},
     "output_type": "display_data"
    },
    {
     "data": {
      "text/plain": [
       "'Марка daewoo, количество моделей 6'"
      ]
     },
     "metadata": {},
     "output_type": "display_data"
    },
    {
     "data": {
      "text/plain": [
       "array(['lanos', 'kalos', 'matiz', 'other', 'nubira', 'no_info'],\n",
       "      dtype=object)"
      ]
     },
     "metadata": {},
     "output_type": "display_data"
    },
    {
     "data": {
      "text/html": [
       "<div>\n",
       "<style scoped>\n",
       "    .dataframe tbody tr th:only-of-type {\n",
       "        vertical-align: middle;\n",
       "    }\n",
       "\n",
       "    .dataframe tbody tr th {\n",
       "        vertical-align: top;\n",
       "    }\n",
       "\n",
       "    .dataframe thead th {\n",
       "        text-align: right;\n",
       "    }\n",
       "</style>\n",
       "<table border=\"1\" class=\"dataframe\">\n",
       "  <thead>\n",
       "    <tr style=\"text-align: right;\">\n",
       "      <th></th>\n",
       "      <th>mean</th>\n",
       "      <th>count</th>\n",
       "    </tr>\n",
       "    <tr>\n",
       "      <th>Model</th>\n",
       "      <th></th>\n",
       "      <th></th>\n",
       "    </tr>\n",
       "  </thead>\n",
       "  <tbody>\n",
       "    <tr>\n",
       "      <td>kalos</td>\n",
       "      <td>1491.168421</td>\n",
       "      <td>95</td>\n",
       "    </tr>\n",
       "    <tr>\n",
       "      <td>other</td>\n",
       "      <td>1117.560440</td>\n",
       "      <td>91</td>\n",
       "    </tr>\n",
       "    <tr>\n",
       "      <td>matiz</td>\n",
       "      <td>997.452830</td>\n",
       "      <td>159</td>\n",
       "    </tr>\n",
       "    <tr>\n",
       "      <td>nubira</td>\n",
       "      <td>935.758065</td>\n",
       "      <td>62</td>\n",
       "    </tr>\n",
       "    <tr>\n",
       "      <td>no_info</td>\n",
       "      <td>828.000000</td>\n",
       "      <td>46</td>\n",
       "    </tr>\n",
       "    <tr>\n",
       "      <td>lanos</td>\n",
       "      <td>602.191011</td>\n",
       "      <td>89</td>\n",
       "    </tr>\n",
       "  </tbody>\n",
       "</table>\n",
       "</div>"
      ],
      "text/plain": [
       "                mean  count\n",
       "Model                      \n",
       "kalos    1491.168421     95\n",
       "other    1117.560440     91\n",
       "matiz     997.452830    159\n",
       "nubira    935.758065     62\n",
       "no_info   828.000000     46\n",
       "lanos     602.191011     89"
      ]
     },
     "metadata": {},
     "output_type": "display_data"
    },
    {
     "data": {
      "text/plain": [
       "'--------------'"
      ]
     },
     "metadata": {},
     "output_type": "display_data"
    },
    {
     "data": {
      "text/plain": [
       "'Марка porsche, количество моделей 5'"
      ]
     },
     "metadata": {},
     "output_type": "display_data"
    },
    {
     "data": {
      "text/plain": [
       "array(['other', 'boxster', 'cayenne', '911', 'no_info'], dtype=object)"
      ]
     },
     "metadata": {},
     "output_type": "display_data"
    },
    {
     "data": {
      "text/html": [
       "<div>\n",
       "<style scoped>\n",
       "    .dataframe tbody tr th:only-of-type {\n",
       "        vertical-align: middle;\n",
       "    }\n",
       "\n",
       "    .dataframe tbody tr th {\n",
       "        vertical-align: top;\n",
       "    }\n",
       "\n",
       "    .dataframe thead th {\n",
       "        text-align: right;\n",
       "    }\n",
       "</style>\n",
       "<table border=\"1\" class=\"dataframe\">\n",
       "  <thead>\n",
       "    <tr style=\"text-align: right;\">\n",
       "      <th></th>\n",
       "      <th>mean</th>\n",
       "      <th>count</th>\n",
       "    </tr>\n",
       "    <tr>\n",
       "      <th>Model</th>\n",
       "      <th></th>\n",
       "      <th></th>\n",
       "    </tr>\n",
       "  </thead>\n",
       "  <tbody>\n",
       "    <tr>\n",
       "      <td>cayenne</td>\n",
       "      <td>13014.547414</td>\n",
       "      <td>232</td>\n",
       "    </tr>\n",
       "    <tr>\n",
       "      <td>boxster</td>\n",
       "      <td>12970.932127</td>\n",
       "      <td>221</td>\n",
       "    </tr>\n",
       "    <tr>\n",
       "      <td>911</td>\n",
       "      <td>10326.738095</td>\n",
       "      <td>84</td>\n",
       "    </tr>\n",
       "    <tr>\n",
       "      <td>other</td>\n",
       "      <td>7806.960894</td>\n",
       "      <td>179</td>\n",
       "    </tr>\n",
       "    <tr>\n",
       "      <td>no_info</td>\n",
       "      <td>4359.928571</td>\n",
       "      <td>42</td>\n",
       "    </tr>\n",
       "  </tbody>\n",
       "</table>\n",
       "</div>"
      ],
      "text/plain": [
       "                 mean  count\n",
       "Model                       \n",
       "cayenne  13014.547414    232\n",
       "boxster  12970.932127    221\n",
       "911      10326.738095     84\n",
       "other     7806.960894    179\n",
       "no_info   4359.928571     42"
      ]
     },
     "metadata": {},
     "output_type": "display_data"
    },
    {
     "data": {
      "text/plain": [
       "'--------------'"
      ]
     },
     "metadata": {},
     "output_type": "display_data"
    },
    {
     "data": {
      "text/plain": [
       "'Марка rover, количество моделей 6'"
      ]
     },
     "metadata": {},
     "output_type": "display_data"
    },
    {
     "data": {
      "text/plain": [
       "array(['other', 'discovery', 'no_info', 'range_rover', 'freelander',\n",
       "       'defender'], dtype=object)"
      ]
     },
     "metadata": {},
     "output_type": "display_data"
    },
    {
     "data": {
      "text/html": [
       "<div>\n",
       "<style scoped>\n",
       "    .dataframe tbody tr th:only-of-type {\n",
       "        vertical-align: middle;\n",
       "    }\n",
       "\n",
       "    .dataframe tbody tr th {\n",
       "        vertical-align: top;\n",
       "    }\n",
       "\n",
       "    .dataframe thead th {\n",
       "        text-align: right;\n",
       "    }\n",
       "</style>\n",
       "<table border=\"1\" class=\"dataframe\">\n",
       "  <thead>\n",
       "    <tr style=\"text-align: right;\">\n",
       "      <th></th>\n",
       "      <th>mean</th>\n",
       "      <th>count</th>\n",
       "    </tr>\n",
       "    <tr>\n",
       "      <th>Model</th>\n",
       "      <th></th>\n",
       "      <th></th>\n",
       "    </tr>\n",
       "  </thead>\n",
       "  <tbody>\n",
       "    <tr>\n",
       "      <td>range_rover</td>\n",
       "      <td>5937.500000</td>\n",
       "      <td>4</td>\n",
       "    </tr>\n",
       "    <tr>\n",
       "      <td>discovery</td>\n",
       "      <td>2950.000000</td>\n",
       "      <td>2</td>\n",
       "    </tr>\n",
       "    <tr>\n",
       "      <td>freelander</td>\n",
       "      <td>1583.333333</td>\n",
       "      <td>3</td>\n",
       "    </tr>\n",
       "    <tr>\n",
       "      <td>other</td>\n",
       "      <td>1341.271574</td>\n",
       "      <td>394</td>\n",
       "    </tr>\n",
       "    <tr>\n",
       "      <td>no_info</td>\n",
       "      <td>931.951220</td>\n",
       "      <td>82</td>\n",
       "    </tr>\n",
       "    <tr>\n",
       "      <td>defender</td>\n",
       "      <td>550.000000</td>\n",
       "      <td>1</td>\n",
       "    </tr>\n",
       "  </tbody>\n",
       "</table>\n",
       "</div>"
      ],
      "text/plain": [
       "                    mean  count\n",
       "Model                          \n",
       "range_rover  5937.500000      4\n",
       "discovery    2950.000000      2\n",
       "freelander   1583.333333      3\n",
       "other        1341.271574    394\n",
       "no_info       931.951220     82\n",
       "defender      550.000000      1"
      ]
     },
     "metadata": {},
     "output_type": "display_data"
    },
    {
     "data": {
      "text/plain": [
       "'--------------'"
      ]
     },
     "metadata": {},
     "output_type": "display_data"
    },
    {
     "data": {
      "text/plain": [
       "'Марка land_rover, количество моделей 11'"
      ]
     },
     "metadata": {},
     "output_type": "display_data"
    },
    {
     "data": {
      "text/plain": [
       "array(['discovery', 'freelander', 'defender', 'no_info', 'range_rover',\n",
       "       'serie_2', 'range_rover_sport', 'other', 'range_rover_evoque',\n",
       "       'serie_3', 'serie_1'], dtype=object)"
      ]
     },
     "metadata": {},
     "output_type": "display_data"
    },
    {
     "data": {
      "text/html": [
       "<div>\n",
       "<style scoped>\n",
       "    .dataframe tbody tr th:only-of-type {\n",
       "        vertical-align: middle;\n",
       "    }\n",
       "\n",
       "    .dataframe tbody tr th {\n",
       "        vertical-align: top;\n",
       "    }\n",
       "\n",
       "    .dataframe thead th {\n",
       "        text-align: right;\n",
       "    }\n",
       "</style>\n",
       "<table border=\"1\" class=\"dataframe\">\n",
       "  <thead>\n",
       "    <tr style=\"text-align: right;\">\n",
       "      <th></th>\n",
       "      <th>mean</th>\n",
       "      <th>count</th>\n",
       "    </tr>\n",
       "    <tr>\n",
       "      <th>Model</th>\n",
       "      <th></th>\n",
       "      <th></th>\n",
       "    </tr>\n",
       "  </thead>\n",
       "  <tbody>\n",
       "    <tr>\n",
       "      <td>range_rover_sport</td>\n",
       "      <td>15332.796296</td>\n",
       "      <td>54</td>\n",
       "    </tr>\n",
       "    <tr>\n",
       "      <td>range_rover_evoque</td>\n",
       "      <td>12500.000000</td>\n",
       "      <td>2</td>\n",
       "    </tr>\n",
       "    <tr>\n",
       "      <td>defender</td>\n",
       "      <td>11487.946667</td>\n",
       "      <td>75</td>\n",
       "    </tr>\n",
       "    <tr>\n",
       "      <td>serie_3</td>\n",
       "      <td>9812.500000</td>\n",
       "      <td>4</td>\n",
       "    </tr>\n",
       "    <tr>\n",
       "      <td>discovery</td>\n",
       "      <td>9440.584416</td>\n",
       "      <td>77</td>\n",
       "    </tr>\n",
       "    <tr>\n",
       "      <td>serie_2</td>\n",
       "      <td>9315.375000</td>\n",
       "      <td>8</td>\n",
       "    </tr>\n",
       "    <tr>\n",
       "      <td>other</td>\n",
       "      <td>7498.888889</td>\n",
       "      <td>18</td>\n",
       "    </tr>\n",
       "    <tr>\n",
       "      <td>range_rover</td>\n",
       "      <td>7401.935065</td>\n",
       "      <td>77</td>\n",
       "    </tr>\n",
       "    <tr>\n",
       "      <td>freelander</td>\n",
       "      <td>5907.493023</td>\n",
       "      <td>215</td>\n",
       "    </tr>\n",
       "    <tr>\n",
       "      <td>no_info</td>\n",
       "      <td>4607.615385</td>\n",
       "      <td>13</td>\n",
       "    </tr>\n",
       "    <tr>\n",
       "      <td>serie_1</td>\n",
       "      <td>1900.000000</td>\n",
       "      <td>2</td>\n",
       "    </tr>\n",
       "  </tbody>\n",
       "</table>\n",
       "</div>"
      ],
      "text/plain": [
       "                            mean  count\n",
       "Model                                  \n",
       "range_rover_sport   15332.796296     54\n",
       "range_rover_evoque  12500.000000      2\n",
       "defender            11487.946667     75\n",
       "serie_3              9812.500000      4\n",
       "discovery            9440.584416     77\n",
       "serie_2              9315.375000      8\n",
       "other                7498.888889     18\n",
       "range_rover          7401.935065     77\n",
       "freelander           5907.493023    215\n",
       "no_info              4607.615385     13\n",
       "serie_1              1900.000000      2"
      ]
     },
     "metadata": {},
     "output_type": "display_data"
    },
    {
     "data": {
      "text/plain": [
       "'--------------'"
      ]
     },
     "metadata": {},
     "output_type": "display_data"
    },
    {
     "data": {
      "text/plain": [
       "'Марка lada, количество моделей 5'"
      ]
     },
     "metadata": {},
     "output_type": "display_data"
    },
    {
     "data": {
      "text/plain": [
       "array(['other', 'samara', 'niva', 'no_info', 'kalina'], dtype=object)"
      ]
     },
     "metadata": {},
     "output_type": "display_data"
    },
    {
     "data": {
      "text/html": [
       "<div>\n",
       "<style scoped>\n",
       "    .dataframe tbody tr th:only-of-type {\n",
       "        vertical-align: middle;\n",
       "    }\n",
       "\n",
       "    .dataframe tbody tr th {\n",
       "        vertical-align: top;\n",
       "    }\n",
       "\n",
       "    .dataframe thead th {\n",
       "        text-align: right;\n",
       "    }\n",
       "</style>\n",
       "<table border=\"1\" class=\"dataframe\">\n",
       "  <thead>\n",
       "    <tr style=\"text-align: right;\">\n",
       "      <th></th>\n",
       "      <th>mean</th>\n",
       "      <th>count</th>\n",
       "    </tr>\n",
       "    <tr>\n",
       "      <th>Model</th>\n",
       "      <th></th>\n",
       "      <th></th>\n",
       "    </tr>\n",
       "  </thead>\n",
       "  <tbody>\n",
       "    <tr>\n",
       "      <td>niva</td>\n",
       "      <td>3685.410853</td>\n",
       "      <td>129</td>\n",
       "    </tr>\n",
       "    <tr>\n",
       "      <td>other</td>\n",
       "      <td>2526.694915</td>\n",
       "      <td>59</td>\n",
       "    </tr>\n",
       "    <tr>\n",
       "      <td>no_info</td>\n",
       "      <td>2192.600000</td>\n",
       "      <td>15</td>\n",
       "    </tr>\n",
       "    <tr>\n",
       "      <td>kalina</td>\n",
       "      <td>1911.000000</td>\n",
       "      <td>9</td>\n",
       "    </tr>\n",
       "    <tr>\n",
       "      <td>samara</td>\n",
       "      <td>680.307692</td>\n",
       "      <td>13</td>\n",
       "    </tr>\n",
       "  </tbody>\n",
       "</table>\n",
       "</div>"
      ],
      "text/plain": [
       "                mean  count\n",
       "Model                      \n",
       "niva     3685.410853    129\n",
       "other    2526.694915     59\n",
       "no_info  2192.600000     15\n",
       "kalina   1911.000000      9\n",
       "samara    680.307692     13"
      ]
     },
     "metadata": {},
     "output_type": "display_data"
    },
    {
     "data": {
      "text/plain": [
       "'--------------'"
      ]
     },
     "metadata": {},
     "output_type": "display_data"
    }
   ],
   "source": [
    "for brand_name in df['Brand'].unique():\n",
    "\n",
    "    brand_name_df = df.query('Brand == @brand_name')\n",
    "    number_of_models = brand_name_df['Model'].nunique()\n",
    "    display(f'Марка {brand_name}, количество моделей {number_of_models}')\n",
    "    display(brand_name_df['Model'].unique())\n",
    "    display(brand_name_df.groupby('Model')['Price'].agg(['mean', 'count']).sort_values(by='mean', ascending=False).head(number_of_models))\n",
    "    display('--------------')"
   ]
  },
  {
   "cell_type": "markdown",
   "metadata": {},
   "source": [
    "Видим, что от модели цена тоже сильно зависит, поэтому оставим как есть и посмотрим, смогут ли такое количество значений переварить модели. Если нет, то придется отказаться от этого признака.\n",
    "\n",
    "Приведем тип признаков к типу *category*."
   ]
  },
  {
   "cell_type": "code",
   "execution_count": 24,
   "metadata": {},
   "outputs": [
    {
     "name": "stdout",
     "output_type": "stream",
     "text": [
      "<class 'pandas.core.frame.DataFrame'>\n",
      "RangeIndex: 354369 entries, 0 to 354368\n",
      "Data columns (total 6 columns):\n",
      "VehicleType    354369 non-null category\n",
      "Gearbox        354369 non-null category\n",
      "Model          354369 non-null category\n",
      "FuelType       354369 non-null category\n",
      "Brand          354369 non-null category\n",
      "NotRepaired    354369 non-null category\n",
      "dtypes: category(6)\n",
      "memory usage: 2.4 MB\n"
     ]
    }
   ],
   "source": [
    "df[object_columns] = df[object_columns].astype('category')\n",
    "df[object_columns].info()"
   ]
  },
  {
   "cell_type": "markdown",
   "metadata": {},
   "source": [
    "Посмотрим еще на `PostalCode`."
   ]
  },
  {
   "cell_type": "code",
   "execution_count": 25,
   "metadata": {},
   "outputs": [
    {
     "data": {
      "text/plain": [
       "8143"
      ]
     },
     "execution_count": 25,
     "metadata": {},
     "output_type": "execute_result"
    }
   ],
   "source": [
    "df['PostalCode'].nunique()"
   ]
  },
  {
   "cell_type": "markdown",
   "metadata": {},
   "source": [
    "Видим 8143 уникальных значений. Удалим его, нет сомнений, что модели не \"переварят\" такой категориальный признак, а использовать его в качестве количественного было бы странно."
   ]
  },
  {
   "cell_type": "code",
   "execution_count": 26,
   "metadata": {},
   "outputs": [],
   "source": [
    "df = df.drop(columns=['PostalCode'])"
   ]
  },
  {
   "cell_type": "markdown",
   "metadata": {},
   "source": [
    "#### Дубликаты"
   ]
  },
  {
   "cell_type": "code",
   "execution_count": 27,
   "metadata": {
    "scrolled": true
   },
   "outputs": [
    {
     "data": {
      "text/html": [
       "<div>\n",
       "<style scoped>\n",
       "    .dataframe tbody tr th:only-of-type {\n",
       "        vertical-align: middle;\n",
       "    }\n",
       "\n",
       "    .dataframe tbody tr th {\n",
       "        vertical-align: top;\n",
       "    }\n",
       "\n",
       "    .dataframe thead th {\n",
       "        text-align: right;\n",
       "    }\n",
       "</style>\n",
       "<table border=\"1\" class=\"dataframe\">\n",
       "  <thead>\n",
       "    <tr style=\"text-align: right;\">\n",
       "      <th></th>\n",
       "      <th>DateCrawled</th>\n",
       "      <th>Price</th>\n",
       "      <th>VehicleType</th>\n",
       "      <th>RegistrationYear</th>\n",
       "      <th>Gearbox</th>\n",
       "      <th>Power</th>\n",
       "      <th>Model</th>\n",
       "      <th>Kilometer</th>\n",
       "      <th>RegistrationMonth</th>\n",
       "      <th>FuelType</th>\n",
       "      <th>Brand</th>\n",
       "      <th>NotRepaired</th>\n",
       "      <th>DateCreated</th>\n",
       "      <th>NumberOfPictures</th>\n",
       "      <th>LastSeen</th>\n",
       "    </tr>\n",
       "  </thead>\n",
       "  <tbody>\n",
       "    <tr>\n",
       "      <td>51498</td>\n",
       "      <td>2016-03-15 10:56:46</td>\n",
       "      <td>0</td>\n",
       "      <td>wagon</td>\n",
       "      <td>2006</td>\n",
       "      <td>manual</td>\n",
       "      <td>122</td>\n",
       "      <td>other</td>\n",
       "      <td>150000</td>\n",
       "      <td>1</td>\n",
       "      <td>no_info</td>\n",
       "      <td>chevrolet</td>\n",
       "      <td>no</td>\n",
       "      <td>2016-03-15</td>\n",
       "      <td>0</td>\n",
       "      <td>2016-03-18 03:18:11</td>\n",
       "    </tr>\n",
       "    <tr>\n",
       "      <td>256274</td>\n",
       "      <td>2016-03-15 10:56:47</td>\n",
       "      <td>0</td>\n",
       "      <td>wagon</td>\n",
       "      <td>2006</td>\n",
       "      <td>manual</td>\n",
       "      <td>122</td>\n",
       "      <td>other</td>\n",
       "      <td>150000</td>\n",
       "      <td>1</td>\n",
       "      <td>no_info</td>\n",
       "      <td>chevrolet</td>\n",
       "      <td>no</td>\n",
       "      <td>2016-03-15</td>\n",
       "      <td>0</td>\n",
       "      <td>2016-03-18 03:18:11</td>\n",
       "    </tr>\n",
       "    <tr>\n",
       "      <td>317037</td>\n",
       "      <td>2016-03-28 22:38:12</td>\n",
       "      <td>350</td>\n",
       "      <td>wagon</td>\n",
       "      <td>1997</td>\n",
       "      <td>manual</td>\n",
       "      <td>0</td>\n",
       "      <td>other</td>\n",
       "      <td>150000</td>\n",
       "      <td>0</td>\n",
       "      <td>gasoline</td>\n",
       "      <td>citroen</td>\n",
       "      <td>no_info</td>\n",
       "      <td>2016-03-28</td>\n",
       "      <td>0</td>\n",
       "      <td>2016-04-07 07:16:49</td>\n",
       "    </tr>\n",
       "    <tr>\n",
       "      <td>321310</td>\n",
       "      <td>2016-03-28 22:38:13</td>\n",
       "      <td>350</td>\n",
       "      <td>wagon</td>\n",
       "      <td>1997</td>\n",
       "      <td>manual</td>\n",
       "      <td>0</td>\n",
       "      <td>other</td>\n",
       "      <td>150000</td>\n",
       "      <td>0</td>\n",
       "      <td>gasoline</td>\n",
       "      <td>citroen</td>\n",
       "      <td>no_info</td>\n",
       "      <td>2016-03-28</td>\n",
       "      <td>0</td>\n",
       "      <td>2016-04-07 07:16:49</td>\n",
       "    </tr>\n",
       "    <tr>\n",
       "      <td>186618</td>\n",
       "      <td>2016-04-03 22:56:46</td>\n",
       "      <td>500</td>\n",
       "      <td>sedan</td>\n",
       "      <td>1997</td>\n",
       "      <td>manual</td>\n",
       "      <td>88</td>\n",
       "      <td>3_reihe</td>\n",
       "      <td>100000</td>\n",
       "      <td>11</td>\n",
       "      <td>petrol</td>\n",
       "      <td>mazda</td>\n",
       "      <td>no</td>\n",
       "      <td>2016-04-03</td>\n",
       "      <td>0</td>\n",
       "      <td>2016-04-06 00:16:09</td>\n",
       "    </tr>\n",
       "    <tr>\n",
       "      <td>...</td>\n",
       "      <td>...</td>\n",
       "      <td>...</td>\n",
       "      <td>...</td>\n",
       "      <td>...</td>\n",
       "      <td>...</td>\n",
       "      <td>...</td>\n",
       "      <td>...</td>\n",
       "      <td>...</td>\n",
       "      <td>...</td>\n",
       "      <td>...</td>\n",
       "      <td>...</td>\n",
       "      <td>...</td>\n",
       "      <td>...</td>\n",
       "      <td>...</td>\n",
       "      <td>...</td>\n",
       "    </tr>\n",
       "    <tr>\n",
       "      <td>77480</td>\n",
       "      <td>2016-03-16 21:58:18</td>\n",
       "      <td>15700</td>\n",
       "      <td>suv</td>\n",
       "      <td>2011</td>\n",
       "      <td>manual</td>\n",
       "      <td>189</td>\n",
       "      <td>other</td>\n",
       "      <td>90000</td>\n",
       "      <td>6</td>\n",
       "      <td>petrol</td>\n",
       "      <td>mini</td>\n",
       "      <td>no</td>\n",
       "      <td>2016-03-16</td>\n",
       "      <td>0</td>\n",
       "      <td>2016-03-27 14:16:03</td>\n",
       "    </tr>\n",
       "    <tr>\n",
       "      <td>47091</td>\n",
       "      <td>2016-03-31 02:56:59</td>\n",
       "      <td>16499</td>\n",
       "      <td>sedan</td>\n",
       "      <td>2010</td>\n",
       "      <td>manual</td>\n",
       "      <td>204</td>\n",
       "      <td>5er</td>\n",
       "      <td>150000</td>\n",
       "      <td>7</td>\n",
       "      <td>gasoline</td>\n",
       "      <td>bmw</td>\n",
       "      <td>no</td>\n",
       "      <td>2016-03-31</td>\n",
       "      <td>0</td>\n",
       "      <td>2016-04-06 00:17:14</td>\n",
       "    </tr>\n",
       "    <tr>\n",
       "      <td>302493</td>\n",
       "      <td>2016-03-31 02:57:00</td>\n",
       "      <td>16499</td>\n",
       "      <td>sedan</td>\n",
       "      <td>2010</td>\n",
       "      <td>manual</td>\n",
       "      <td>204</td>\n",
       "      <td>5er</td>\n",
       "      <td>150000</td>\n",
       "      <td>7</td>\n",
       "      <td>gasoline</td>\n",
       "      <td>bmw</td>\n",
       "      <td>no</td>\n",
       "      <td>2016-03-31</td>\n",
       "      <td>0</td>\n",
       "      <td>2016-04-06 00:17:14</td>\n",
       "    </tr>\n",
       "    <tr>\n",
       "      <td>267786</td>\n",
       "      <td>2016-03-26 23:06:25</td>\n",
       "      <td>17999</td>\n",
       "      <td>wagon</td>\n",
       "      <td>2011</td>\n",
       "      <td>auto</td>\n",
       "      <td>143</td>\n",
       "      <td>a4</td>\n",
       "      <td>90000</td>\n",
       "      <td>8</td>\n",
       "      <td>gasoline</td>\n",
       "      <td>audi</td>\n",
       "      <td>no</td>\n",
       "      <td>2016-03-26</td>\n",
       "      <td>0</td>\n",
       "      <td>2016-04-07 00:17:35</td>\n",
       "    </tr>\n",
       "    <tr>\n",
       "      <td>349989</td>\n",
       "      <td>2016-03-26 22:57:40</td>\n",
       "      <td>17999</td>\n",
       "      <td>wagon</td>\n",
       "      <td>2011</td>\n",
       "      <td>auto</td>\n",
       "      <td>143</td>\n",
       "      <td>a4</td>\n",
       "      <td>90000</td>\n",
       "      <td>8</td>\n",
       "      <td>gasoline</td>\n",
       "      <td>audi</td>\n",
       "      <td>no</td>\n",
       "      <td>2016-03-26</td>\n",
       "      <td>0</td>\n",
       "      <td>2016-04-07 00:17:35</td>\n",
       "    </tr>\n",
       "  </tbody>\n",
       "</table>\n",
       "<p>205 rows × 15 columns</p>\n",
       "</div>"
      ],
      "text/plain": [
       "               DateCrawled  Price VehicleType  RegistrationYear Gearbox  \\\n",
       "51498  2016-03-15 10:56:46      0       wagon              2006  manual   \n",
       "256274 2016-03-15 10:56:47      0       wagon              2006  manual   \n",
       "317037 2016-03-28 22:38:12    350       wagon              1997  manual   \n",
       "321310 2016-03-28 22:38:13    350       wagon              1997  manual   \n",
       "186618 2016-04-03 22:56:46    500       sedan              1997  manual   \n",
       "...                    ...    ...         ...               ...     ...   \n",
       "77480  2016-03-16 21:58:18  15700         suv              2011  manual   \n",
       "47091  2016-03-31 02:56:59  16499       sedan              2010  manual   \n",
       "302493 2016-03-31 02:57:00  16499       sedan              2010  manual   \n",
       "267786 2016-03-26 23:06:25  17999       wagon              2011    auto   \n",
       "349989 2016-03-26 22:57:40  17999       wagon              2011    auto   \n",
       "\n",
       "        Power    Model  Kilometer  RegistrationMonth  FuelType      Brand  \\\n",
       "51498     122    other     150000                  1   no_info  chevrolet   \n",
       "256274    122    other     150000                  1   no_info  chevrolet   \n",
       "317037      0    other     150000                  0  gasoline    citroen   \n",
       "321310      0    other     150000                  0  gasoline    citroen   \n",
       "186618     88  3_reihe     100000                 11    petrol      mazda   \n",
       "...       ...      ...        ...                ...       ...        ...   \n",
       "77480     189    other      90000                  6    petrol       mini   \n",
       "47091     204      5er     150000                  7  gasoline        bmw   \n",
       "302493    204      5er     150000                  7  gasoline        bmw   \n",
       "267786    143       a4      90000                  8  gasoline       audi   \n",
       "349989    143       a4      90000                  8  gasoline       audi   \n",
       "\n",
       "       NotRepaired DateCreated  NumberOfPictures            LastSeen  \n",
       "51498           no  2016-03-15                 0 2016-03-18 03:18:11  \n",
       "256274          no  2016-03-15                 0 2016-03-18 03:18:11  \n",
       "317037     no_info  2016-03-28                 0 2016-04-07 07:16:49  \n",
       "321310     no_info  2016-03-28                 0 2016-04-07 07:16:49  \n",
       "186618          no  2016-04-03                 0 2016-04-06 00:16:09  \n",
       "...            ...         ...               ...                 ...  \n",
       "77480           no  2016-03-16                 0 2016-03-27 14:16:03  \n",
       "47091           no  2016-03-31                 0 2016-04-06 00:17:14  \n",
       "302493          no  2016-03-31                 0 2016-04-06 00:17:14  \n",
       "267786          no  2016-03-26                 0 2016-04-07 00:17:35  \n",
       "349989          no  2016-03-26                 0 2016-04-07 00:17:35  \n",
       "\n",
       "[205 rows x 15 columns]"
      ]
     },
     "execution_count": 27,
     "metadata": {},
     "output_type": "execute_result"
    }
   ],
   "source": [
    "df[df.drop(columns=['DateCrawled']).duplicated(keep=False)].sort_values(by=['Price', 'Model'])"
   ]
  },
  {
   "cell_type": "markdown",
   "metadata": {},
   "source": [
    "Видим грубые дубли, удалим их."
   ]
  },
  {
   "cell_type": "code",
   "execution_count": 28,
   "metadata": {},
   "outputs": [
    {
     "data": {
      "text/plain": [
       "0"
      ]
     },
     "execution_count": 28,
     "metadata": {},
     "output_type": "execute_result"
    }
   ],
   "source": [
    "df = df.drop_duplicates(subset=['Price', 'VehicleType', 'RegistrationYear', 'Gearbox',\n",
    "       'Power', 'Model', 'Kilometer', 'RegistrationMonth', 'FuelType', 'Brand',\n",
    "       'NotRepaired', 'DateCreated', 'NumberOfPictures', 'LastSeen'])\n",
    "df.drop(columns=['DateCrawled']).duplicated(keep=False).sum()"
   ]
  },
  {
   "cell_type": "markdown",
   "metadata": {},
   "source": [
    "#### Выбросы"
   ]
  },
  {
   "cell_type": "markdown",
   "metadata": {},
   "source": [
    "Удалим столбец с количеством фотографий. Необходимо уточнить, возможно, это ошибка сбора данных. Маловероятно, что во всех 350 тысяч объявлений отсутствуют фотографии.\n",
    "\n",
    "Также удалим столбец c датой скачивания анкеты из базы.\n"
   ]
  },
  {
   "cell_type": "code",
   "execution_count": 29,
   "metadata": {},
   "outputs": [],
   "source": [
    "df = df.drop(columns=['NumberOfPictures', 'DateCrawled'])"
   ]
  },
  {
   "cell_type": "markdown",
   "metadata": {},
   "source": [
    "##### Год регистрации"
   ]
  },
  {
   "cell_type": "markdown",
   "metadata": {},
   "source": [
    "Посмотрим на необычные значения года регистрации. В качестве необычных возьмем те, в которых год регистрации больше года создания объявления, то есть машина зарегистрирована позже, чем создано объявление. Также посмотрим на слишком старые автомобили, у которых год регистрации меньше, чем 1950."
   ]
  },
  {
   "cell_type": "code",
   "execution_count": 30,
   "metadata": {},
   "outputs": [
    {
     "data": {
      "text/plain": [
       "array([2018, 2017, 5000, 9999, 3200, 8888, 2200, 4100, 3000, 2066, 2019,\n",
       "       8000, 5300, 9000, 2900, 6000, 5900, 5911, 4000, 8500, 3700, 3800,\n",
       "       4800, 7000, 6500, 2290, 2500, 9450, 2800, 5555, 5600, 2222, 9996,\n",
       "       8455, 4500, 7800, 9229, 7100, 8200, 7500, 3500])"
      ]
     },
     "execution_count": 30,
     "metadata": {},
     "output_type": "execute_result"
    }
   ],
   "source": [
    "df[df['RegistrationYear'] > df['DateCreated'].dt.year]['RegistrationYear'].unique()"
   ]
  },
  {
   "cell_type": "markdown",
   "metadata": {},
   "source": [
    "Хм, видим несколько разумных значений: 2017, 2018, 2019. Остальные заведомо неправильные. При это непонятно, как могло быть в 2016 году создано объявление о машине, которая будет зарегистрирована только в 2017 году. Поэтому эти значения тоже удалим, как сомнительные. "
   ]
  },
  {
   "cell_type": "code",
   "execution_count": 31,
   "metadata": {},
   "outputs": [
    {
     "data": {
      "text/plain": [
       "'Доля значений к удалению 0.04'"
      ]
     },
     "metadata": {},
     "output_type": "display_data"
    }
   ],
   "source": [
    "to_be_deleted = sum(df['RegistrationYear'] > df['DateCreated'].dt.year) / len(df)\n",
    "display(f'Доля значений к удалению {round(to_be_deleted, 2)}')"
   ]
  },
  {
   "cell_type": "code",
   "execution_count": 32,
   "metadata": {},
   "outputs": [],
   "source": [
    "df = df.drop(df[df['RegistrationYear'] > df['DateCreated'].dt.year].index)"
   ]
  },
  {
   "cell_type": "code",
   "execution_count": 33,
   "metadata": {
    "scrolled": true
   },
   "outputs": [
    {
     "data": {
      "text/plain": [
       "1970    333\n",
       "1978    285\n",
       "1979    283\n",
       "1972    213\n",
       "1960    188\n",
       "       ... \n",
       "1001      1\n",
       "1915      1\n",
       "1255      1\n",
       "1253      1\n",
       "1931      1\n",
       "Name: RegistrationYear, Length: 73, dtype: int64"
      ]
     },
     "execution_count": 33,
     "metadata": {},
     "output_type": "execute_result"
    }
   ],
   "source": [
    "df[df['RegistrationYear'] < 1980]['RegistrationYear'].value_counts()"
   ]
  },
  {
   "cell_type": "markdown",
   "metadata": {},
   "source": [
    "Видим, что доля автомобилей старше 1980 года мала. Удалим их из датасета."
   ]
  },
  {
   "cell_type": "code",
   "execution_count": 34,
   "metadata": {},
   "outputs": [
    {
     "data": {
      "text/plain": [
       "'Доля значений к удалению 0.01'"
      ]
     },
     "metadata": {},
     "output_type": "display_data"
    }
   ],
   "source": [
    "to_be_deleted = len(df[df['RegistrationYear'] < 1980]) / len(df)\n",
    "display(f'Доля значений к удалению {round(to_be_deleted, 3)}')"
   ]
  },
  {
   "cell_type": "code",
   "execution_count": 35,
   "metadata": {},
   "outputs": [],
   "source": [
    "df = df.drop(df[df['RegistrationYear'] < 1980].index)"
   ]
  },
  {
   "cell_type": "markdown",
   "metadata": {},
   "source": [
    "##### Мощность двигателя"
   ]
  },
  {
   "cell_type": "markdown",
   "metadata": {},
   "source": [
    "Посмотрим на мощность двигателя. Ранее мы видели нереалистично большие значения."
   ]
  },
  {
   "cell_type": "code",
   "execution_count": 36,
   "metadata": {},
   "outputs": [
    {
     "data": {
      "text/plain": [
       "count    336286.000000\n",
       "mean        111.360598\n",
       "std         185.535316\n",
       "min           0.000000\n",
       "25%          70.000000\n",
       "50%         105.000000\n",
       "75%         143.000000\n",
       "max       20000.000000\n",
       "Name: Power, dtype: float64"
      ]
     },
     "execution_count": 36,
     "metadata": {},
     "output_type": "execute_result"
    }
   ],
   "source": [
    "df['Power'].describe()"
   ]
  },
  {
   "cell_type": "markdown",
   "metadata": {},
   "source": [
    "Видим, что IQR = 73. В качестве критерия отсева выбросов возьмем Q3 + 3IQR = 143 + 3 * 73 = 362"
   ]
  },
  {
   "cell_type": "code",
   "execution_count": 37,
   "metadata": {},
   "outputs": [
    {
     "data": {
      "text/plain": [
       "'Доля значений к удалению 0.003'"
      ]
     },
     "metadata": {},
     "output_type": "display_data"
    }
   ],
   "source": [
    "to_be_deleted = len(df[df['Power'] > 362]) / len(df)\n",
    "display(f'Доля значений к удалению {round(to_be_deleted, 3)}')"
   ]
  },
  {
   "cell_type": "code",
   "execution_count": 38,
   "metadata": {},
   "outputs": [],
   "source": [
    "df = df.drop(df[df['Power'] > 362].index)"
   ]
  },
  {
   "cell_type": "code",
   "execution_count": 39,
   "metadata": {},
   "outputs": [
    {
     "data": {
      "image/png": "[encoded data removed]",
      "text/plain": [
       "<Figure size 432x288 with 1 Axes>"
      ]
     },
     "metadata": {
      "needs_background": "light"
     },
     "output_type": "display_data"
    }
   ],
   "source": [
    "df['Power'].plot(kind='hist', title='Распределение мощности автомобилей', grid=True, bins=30)\n",
    "plt.xlabel('Мощность, л.с.')\n",
    "plt.show()"
   ]
  },
  {
   "cell_type": "markdown",
   "metadata": {},
   "source": [
    "Обращает на себя внимание группа значений около нуля. Посмотрим на них"
   ]
  },
  {
   "cell_type": "code",
   "execution_count": 40,
   "metadata": {},
   "outputs": [
    {
     "data": {
      "text/plain": [
       "<matplotlib.axes._subplots.AxesSubplot at 0x7f3beb77af10>"
      ]
     },
     "execution_count": 40,
     "metadata": {},
     "output_type": "execute_result"
    },
    {
     "data": {
      "image/png": "[encoded data removed]",
      "text/plain": [
       "<Figure size 432x288 with 1 Axes>"
      ]
     },
     "metadata": {
      "needs_background": "light"
     },
     "output_type": "display_data"
    }
   ],
   "source": [
    "df[df['Power'] < 50]['Power'].hist()"
   ]
  },
  {
   "cell_type": "code",
   "execution_count": 41,
   "metadata": {},
   "outputs": [
    {
     "data": {
      "text/plain": [
       "0    35366\n",
       "5      102\n",
       "4       30\n",
       "1       27\n",
       "7       11\n",
       "6       11\n",
       "2       10\n",
       "3        8\n",
       "8        6\n",
       "9        4\n",
       "Name: Power, dtype: int64"
      ]
     },
     "execution_count": 41,
     "metadata": {},
     "output_type": "execute_result"
    }
   ],
   "source": [
    "df[df['Power'] < 10]['Power'].value_counts()"
   ]
  },
  {
   "cell_type": "markdown",
   "metadata": {},
   "source": [
    "Удалим нулевые значения."
   ]
  },
  {
   "cell_type": "code",
   "execution_count": 42,
   "metadata": {
    "scrolled": true
   },
   "outputs": [
    {
     "data": {
      "text/plain": [
       "'Доля значений к удалению 0.105'"
      ]
     },
     "metadata": {},
     "output_type": "display_data"
    }
   ],
   "source": [
    "to_be_deleted = len(df[df['Power'] < 1]) / len(df)\n",
    "display(f'Доля значений к удалению {round(to_be_deleted, 3)}')"
   ]
  },
  {
   "cell_type": "code",
   "execution_count": 43,
   "metadata": {},
   "outputs": [],
   "source": [
    "df = df.drop(df[df['Power'] < 1].index)"
   ]
  },
  {
   "cell_type": "markdown",
   "metadata": {},
   "source": [
    "##### Месяц регистрации"
   ]
  },
  {
   "cell_type": "code",
   "execution_count": 44,
   "metadata": {},
   "outputs": [
    {
     "data": {
      "text/plain": [
       "3     30540\n",
       "6     27827\n",
       "4     25969\n",
       "5     25877\n",
       "7     23851\n",
       "10    23187\n",
       "12    21492\n",
       "11    21249\n",
       "9     21154\n",
       "1     20307\n",
       "8     19976\n",
       "0     19499\n",
       "2     19010\n",
       "Name: RegistrationMonth, dtype: int64"
      ]
     },
     "metadata": {},
     "output_type": "display_data"
    },
    {
     "data": {
      "image/png": "[encoded data removed]",
      "text/plain": [
       "<Figure size 432x288 with 1 Axes>"
      ]
     },
     "metadata": {
      "needs_background": "light"
     },
     "output_type": "display_data"
    }
   ],
   "source": [
    "display(df['RegistrationMonth'].value_counts())\n",
    "df['RegistrationMonth'].plot(kind='hist', bins=26, xticks=[i for i in range(13)], grid=True)\n",
    "plt.title('Распределение автомобилей по месяцу регистрации')\n",
    "plt.xlabel('Месяц регистрации')\n",
    "plt.show()"
   ]
  },
  {
   "cell_type": "markdown",
   "metadata": {},
   "source": [
    "Надо уточнить, как собирались данные. Вижу три возможных варианта:\n",
    "1. Значение **0** было проставлено автоматически в тех случаях, когда информация о месяце регистрации отсутствовала.\n",
    "2. Значение **0** было проставлено некоторыми пользователями вместо значения **12**.\n",
    "3. Данные собраны из двух источников, в которых месяца кодировались по-разному: интервалами от 0 до 11 и от 1 до 12. \n",
    "Не имея дополнительной информации, принимаем решение ничего не делать с этим признаком. При этом ожидаем, что месяц регистрации скорее всего не сильно влиет на цену автомобиля. \n",
    "\n",
    "Изменим тип данных на *category* и двигаемся дальше."
   ]
  },
  {
   "cell_type": "code",
   "execution_count": 45,
   "metadata": {},
   "outputs": [],
   "source": [
    "df['RegistrationMonth'] = df['RegistrationMonth'].astype('category')"
   ]
  },
  {
   "cell_type": "markdown",
   "metadata": {},
   "source": [
    "##### Цена"
   ]
  },
  {
   "cell_type": "markdown",
   "metadata": {},
   "source": [
    "Посмотрим на распределение цен. При знакомстве нас смутило наличие нулевых значений."
   ]
  },
  {
   "cell_type": "code",
   "execution_count": 46,
   "metadata": {},
   "outputs": [
    {
     "data": {
      "text/plain": [
       "count    299938.000000\n",
       "mean       4710.723306\n",
       "std        4582.467430\n",
       "min           0.000000\n",
       "25%        1250.000000\n",
       "50%        2999.000000\n",
       "75%        6900.000000\n",
       "max       20000.000000\n",
       "Name: Price, dtype: float64"
      ]
     },
     "execution_count": 46,
     "metadata": {},
     "output_type": "execute_result"
    }
   ],
   "source": [
    "df.Price.describe()"
   ]
  },
  {
   "cell_type": "code",
   "execution_count": 47,
   "metadata": {
    "scrolled": true
   },
   "outputs": [
    {
     "data": {
      "text/plain": [
       "'Уникальные значений'"
      ]
     },
     "metadata": {},
     "output_type": "display_data"
    },
    {
     "data": {
      "text/plain": [
       "array([ 0,  1,  2,  3,  5,  9, 10, 11, 12, 13, 15, 16, 17, 20, 24, 25, 26,\n",
       "       29, 30, 35, 38, 39, 40, 45, 47, 49, 50, 55, 60, 65, 66, 69, 70, 75,\n",
       "       77, 79, 80, 85, 89, 90, 95, 98, 99])"
      ]
     },
     "metadata": {},
     "output_type": "display_data"
    },
    {
     "data": {
      "text/plain": [
       "'Наиболее частые значения в интервале от 0 до 100'"
      ]
     },
     "metadata": {},
     "output_type": "display_data"
    },
    {
     "data": {
      "text/plain": [
       "0     6297\n",
       "1      640\n",
       "50     151\n",
       "80      70\n",
       "99      58\n",
       "70      30\n",
       "75      28\n",
       "10      24\n",
       "90      22\n",
       "60      22\n",
       "Name: Price, dtype: int64"
      ]
     },
     "metadata": {},
     "output_type": "display_data"
    },
    {
     "data": {
      "text/plain": [
       "<matplotlib.axes._subplots.AxesSubplot at 0x7f3beb631a50>"
      ]
     },
     "execution_count": 47,
     "metadata": {},
     "output_type": "execute_result"
    },
    {
     "data": {
      "image/png": "[encoded data removed]",
      "text/plain": [
       "<Figure size 432x288 with 1 Axes>"
      ]
     },
     "metadata": {
      "needs_background": "light"
     },
     "output_type": "display_data"
    }
   ],
   "source": [
    "display('Уникальные значений')\n",
    "display(np.sort(df[df['Price'] < 100]['Price'].unique()))\n",
    "display('Наиболее частые значения в интервале от 0 до 100')\n",
    "display(df[df['Price'] < 100]['Price'].value_counts().head(10))\n",
    "df[df['Price'] < 100]['Price'].hist(bins=30)"
   ]
  },
  {
   "cell_type": "markdown",
   "metadata": {},
   "source": [
    "Видим большую группу объектов с нулевой ценой, что неправдоподобно. Удалим эти объекты из рассмотрения."
   ]
  },
  {
   "cell_type": "code",
   "execution_count": 48,
   "metadata": {
    "scrolled": true
   },
   "outputs": [
    {
     "data": {
      "text/plain": [
       "'Доля значений к удалению 0.02'"
      ]
     },
     "metadata": {},
     "output_type": "display_data"
    }
   ],
   "source": [
    "to_be_deleted = len(df[df['Price'] == 0]) / len(df)\n",
    "display(f'Доля значений к удалению {round(to_be_deleted, 2)}')"
   ]
  },
  {
   "cell_type": "code",
   "execution_count": 49,
   "metadata": {},
   "outputs": [],
   "source": [
    "df = df.drop(df[df['Price'] == 0].index)"
   ]
  },
  {
   "cell_type": "markdown",
   "metadata": {},
   "source": [
    "#### Вывод"
   ]
  },
  {
   "cell_type": "code",
   "execution_count": 50,
   "metadata": {},
   "outputs": [
    {
     "name": "stdout",
     "output_type": "stream",
     "text": [
      "<class 'pandas.core.frame.DataFrame'>\n",
      "Int64Index: 293641 entries, 1 to 354368\n",
      "Data columns (total 13 columns):\n",
      "Price                293641 non-null int64\n",
      "VehicleType          293641 non-null category\n",
      "RegistrationYear     293641 non-null int64\n",
      "Gearbox              293641 non-null category\n",
      "Power                293641 non-null int64\n",
      "Model                293641 non-null category\n",
      "Kilometer            293641 non-null int64\n",
      "RegistrationMonth    293641 non-null category\n",
      "FuelType             293641 non-null category\n",
      "Brand                293641 non-null category\n",
      "NotRepaired          293641 non-null category\n",
      "DateCreated          293641 non-null datetime64[ns]\n",
      "LastSeen             293641 non-null datetime64[ns]\n",
      "dtypes: category(7), datetime64[ns](2), int64(4)\n",
      "memory usage: 17.9 MB\n"
     ]
    }
   ],
   "source": [
    "df.info()"
   ]
  },
  {
   "cell_type": "markdown",
   "metadata": {},
   "source": [
    "* Заполнены пропуски в `VehicleType`, `Gearbox`, `NotRepaired`, `Model` и `FuelType` значением *no_info*.\n",
    "* Приведены типы данных в признаках, содержащих информацию о дате, к типу *datetime* и в категориальных - к типу *category*.\n",
    "* Изучены категориальные признаки. У признаков `Brand` и `Model` увидели большое количество уникальных значений (40 и 251), что может быть проблемой при обучении моделей. Обнаружили один скрытый дубликат в `Model`, пофиксили, но ситуацию это не меняет.\n",
    "* Удалены признаки `PostalCode`, `NumberOfPictures` и`DateCrawled` как неинформативные.\n",
    "* Удалены грубые дубликаты объектов.\n",
    "* Удалены выбросы в количественных значениях `RegistrationYear`, `Power` и `Price`. \n",
    "* В признаке `RegistrationMonth` обнаружена проблема: 13 уникальных значений вместо ожидаемых 12. Без понимания того, каким образом это получилось, корректировать значения не стали. Привели признак к типу `category`.\n",
    "\n",
    "После предобработки размер датафрейма уменьшился до 293654 объектов и 13 признаков."
   ]
  },
  {
   "cell_type": "markdown",
   "metadata": {},
   "source": [
    "## Обучение моделей"
   ]
  },
  {
   "cell_type": "markdown",
   "metadata": {},
   "source": [
    "### Подготовка данных"
   ]
  },
  {
   "cell_type": "markdown",
   "metadata": {},
   "source": [
    "Создадим список категориальных фичей."
   ]
  },
  {
   "cell_type": "code",
   "execution_count": 51,
   "metadata": {},
   "outputs": [
    {
     "name": "stdout",
     "output_type": "stream",
     "text": [
      "<class 'pandas.core.frame.DataFrame'>\n",
      "Int64Index: 293641 entries, 1 to 354368\n",
      "Data columns (total 13 columns):\n",
      "Price                293641 non-null int64\n",
      "VehicleType          293641 non-null category\n",
      "RegistrationYear     293641 non-null int64\n",
      "Gearbox              293641 non-null category\n",
      "Power                293641 non-null int64\n",
      "Model                293641 non-null category\n",
      "Kilometer            293641 non-null int64\n",
      "RegistrationMonth    293641 non-null category\n",
      "FuelType             293641 non-null category\n",
      "Brand                293641 non-null category\n",
      "NotRepaired          293641 non-null category\n",
      "DateCreated          293641 non-null datetime64[ns]\n",
      "LastSeen             293641 non-null datetime64[ns]\n",
      "dtypes: category(7), datetime64[ns](2), int64(4)\n",
      "memory usage: 17.9 MB\n"
     ]
    }
   ],
   "source": [
    "df.info()"
   ]
  },
  {
   "cell_type": "code",
   "execution_count": 52,
   "metadata": {},
   "outputs": [],
   "source": [
    "cat_features = ['VehicleType','Gearbox', 'Model', 'FuelType', 'Brand', 'NotRepaired', \n",
    "               'RegistrationMonth']"
   ]
  },
  {
   "cell_type": "markdown",
   "metadata": {},
   "source": [
    "Начнем с простых моделей: константной модели (предсказание по среднему) и модели линейной регрессии. В связи с тем, что в категориальном признаке `Model` у нас много уникальных значений, попробуем линейную регрессию как на полном наборе признаков, так и без использования признака `Model`: это должно ухудшить качество, но заметно улучшить скорость работы модели.\n",
    "\n",
    "Будем сравнивать качество предсказания (RMSE), время обучения и скорость предсказания. Данные об этих характеристиках будем хранить в датафрейме **model_comparison**."
   ]
  },
  {
   "cell_type": "code",
   "execution_count": 53,
   "metadata": {},
   "outputs": [],
   "source": [
    "model_comparison = pd.DataFrame(columns=['rmse', 'learning_time', 'prediction_time'])"
   ]
  },
  {
   "cell_type": "markdown",
   "metadata": {},
   "source": [
    "Посмотрим на корреляцию численных признаков. Приведем `DateCreated` и `LastSeen` к числовому типу, т.к. линейная регрессия и LGBM не работают с типом *timestamp*."
   ]
  },
  {
   "cell_type": "code",
   "execution_count": 54,
   "metadata": {
    "scrolled": false
   },
   "outputs": [
    {
     "data": {
      "image/png": "[encoded data removed]",
      "text/plain": [
       "<Figure size 432x288 with 2 Axes>"
      ]
     },
     "metadata": {
      "needs_background": "light"
     },
     "output_type": "display_data"
    },
    {
     "data": {
      "text/html": [
       "<div>\n",
       "<style scoped>\n",
       "    .dataframe tbody tr th:only-of-type {\n",
       "        vertical-align: middle;\n",
       "    }\n",
       "\n",
       "    .dataframe tbody tr th {\n",
       "        vertical-align: top;\n",
       "    }\n",
       "\n",
       "    .dataframe thead th {\n",
       "        text-align: right;\n",
       "    }\n",
       "</style>\n",
       "<table border=\"1\" class=\"dataframe\">\n",
       "  <thead>\n",
       "    <tr style=\"text-align: right;\">\n",
       "      <th></th>\n",
       "      <th>RegistrationYear</th>\n",
       "      <th>Power</th>\n",
       "      <th>Kilometer</th>\n",
       "      <th>DateCreated</th>\n",
       "      <th>LastSeen</th>\n",
       "      <th>Price</th>\n",
       "    </tr>\n",
       "  </thead>\n",
       "  <tbody>\n",
       "    <tr>\n",
       "      <td>RegistrationYear</td>\n",
       "      <td>1.000000</td>\n",
       "      <td>0.138818</td>\n",
       "      <td>-0.366400</td>\n",
       "      <td>-0.002964</td>\n",
       "      <td>0.040378</td>\n",
       "      <td>0.571382</td>\n",
       "    </tr>\n",
       "    <tr>\n",
       "      <td>Power</td>\n",
       "      <td>0.138818</td>\n",
       "      <td>1.000000</td>\n",
       "      <td>0.105554</td>\n",
       "      <td>0.000462</td>\n",
       "      <td>0.056253</td>\n",
       "      <td>0.510463</td>\n",
       "    </tr>\n",
       "    <tr>\n",
       "      <td>Kilometer</td>\n",
       "      <td>-0.366400</td>\n",
       "      <td>0.105554</td>\n",
       "      <td>1.000000</td>\n",
       "      <td>0.000696</td>\n",
       "      <td>-0.065447</td>\n",
       "      <td>-0.390763</td>\n",
       "    </tr>\n",
       "    <tr>\n",
       "      <td>DateCreated</td>\n",
       "      <td>-0.002964</td>\n",
       "      <td>0.000462</td>\n",
       "      <td>0.000696</td>\n",
       "      <td>1.000000</td>\n",
       "      <td>0.569459</td>\n",
       "      <td>0.011961</td>\n",
       "    </tr>\n",
       "    <tr>\n",
       "      <td>LastSeen</td>\n",
       "      <td>0.040378</td>\n",
       "      <td>0.056253</td>\n",
       "      <td>-0.065447</td>\n",
       "      <td>0.569459</td>\n",
       "      <td>1.000000</td>\n",
       "      <td>0.149098</td>\n",
       "    </tr>\n",
       "    <tr>\n",
       "      <td>Price</td>\n",
       "      <td>0.571382</td>\n",
       "      <td>0.510463</td>\n",
       "      <td>-0.390763</td>\n",
       "      <td>0.011961</td>\n",
       "      <td>0.149098</td>\n",
       "      <td>1.000000</td>\n",
       "    </tr>\n",
       "  </tbody>\n",
       "</table>\n",
       "</div>"
      ],
      "text/plain": [
       "                  RegistrationYear     Power  Kilometer  DateCreated  \\\n",
       "RegistrationYear          1.000000  0.138818  -0.366400    -0.002964   \n",
       "Power                     0.138818  1.000000   0.105554     0.000462   \n",
       "Kilometer                -0.366400  0.105554   1.000000     0.000696   \n",
       "DateCreated              -0.002964  0.000462   0.000696     1.000000   \n",
       "LastSeen                  0.040378  0.056253  -0.065447     0.569459   \n",
       "Price                     0.571382  0.510463  -0.390763     0.011961   \n",
       "\n",
       "                  LastSeen     Price  \n",
       "RegistrationYear  0.040378  0.571382  \n",
       "Power             0.056253  0.510463  \n",
       "Kilometer        -0.065447 -0.390763  \n",
       "DateCreated       0.569459  0.011961  \n",
       "LastSeen          1.000000  0.149098  \n",
       "Price             0.149098  1.000000  "
      ]
     },
     "metadata": {},
     "output_type": "display_data"
    }
   ],
   "source": [
    "df[['DateCreated', 'LastSeen']] = df[['DateCreated', 'LastSeen']].astype('int')\n",
    "num_features = ['RegistrationYear', 'Power', 'Kilometer', 'DateCreated', 'LastSeen']\n",
    "\n",
    "sns.heatmap(df[num_features + ['Price']].corr())\n",
    "plt.show()\n",
    "corr_matrix = df[num_features + ['Price']].corr()\n",
    "display(corr_matrix)"
   ]
  },
  {
   "cell_type": "markdown",
   "metadata": {},
   "source": [
    "Ожидаемо видим положительную корреляцию цены с годом регистрации, мощностью и отрицательную - с пробегом. Ожидаемо не наблюдаем сильной корреляции с датой создания анкеты и датой последней актичности пользователя."
   ]
  },
  {
   "cell_type": "markdown",
   "metadata": {},
   "source": [
    "Разобьем датафрейм на тренировочную, валидационную и тестовую выборки."
   ]
  },
  {
   "cell_type": "code",
   "execution_count": 55,
   "metadata": {},
   "outputs": [],
   "source": [
    "df_train, df_test_valid = train_test_split(df, test_size=0.4, random_state=42)\n",
    "df_test, df_valid = train_test_split(df_test_valid, test_size=0.5, random_state=42)\n",
    "del df_test_valid\n",
    "\n",
    "train_features = df_train.drop(columns=['Price'])\n",
    "train_target = df_train['Price']\n",
    "valid_features = df_valid.drop(columns=['Price'])\n",
    "valid_target = df_valid['Price']\n",
    "test_features = df_test.drop(columns=['Price'])\n",
    "test_target = df_test['Price']"
   ]
  },
  {
   "cell_type": "code",
   "execution_count": 56,
   "metadata": {},
   "outputs": [],
   "source": [
    "scaler = StandardScaler()\n",
    "scaler.fit(train_features[num_features])\n",
    "\n",
    "train_features[num_features] = scaler.transform(train_features[num_features])\n",
    "valid_features[num_features] = scaler.transform(valid_features[num_features])\n",
    "test_features[num_features] = scaler.transform(test_features[num_features])"
   ]
  },
  {
   "cell_type": "markdown",
   "metadata": {},
   "source": [
    "### Dummy Regression (mean)"
   ]
  },
  {
   "cell_type": "markdown",
   "metadata": {},
   "source": [
    "Начнем с константной модели. Время обучения/предсказания может несколько варьироваться, поэтому будем повторим обучение/предсказание 10 раз и посмотрим, какой разброс получим."
   ]
  },
  {
   "cell_type": "code",
   "execution_count": 57,
   "metadata": {},
   "outputs": [
    {
     "data": {
      "application/vnd.jupyter.widget-view+json": {
       "model_id": "6e23357195554b7983d0503e1bd5298f",
       "version_major": 2,
       "version_minor": 0
      },
      "text/plain": [
       "HBox(children=(HTML(value=''), FloatProgress(value=0.0, max=10.0), HTML(value='')))"
      ]
     },
     "metadata": {},
     "output_type": "display_data"
    },
    {
     "name": "stdout",
     "output_type": "stream",
     "text": [
      "\n",
      "CPU times: user 84.6 ms, sys: 8.8 ms, total: 93.4 ms\n",
      "Wall time: 10.1 s\n"
     ]
    }
   ],
   "source": [
    "%%time\n",
    "\n",
    "learning_time = []\n",
    "prediction_time = []\n",
    "\n",
    "for _ in tqdm(range(10)):\n",
    "    model_dummy = DummyRegressor(strategy='mean')\n",
    "\n",
    "    start_time = time.time()\n",
    "    model_dummy.fit(train_features, train_target)\n",
    "    end_time = time.time()\n",
    "    learning_time.append(end_time - start_time)\n",
    "\n",
    "    start_time = time.time()\n",
    "    predictions = model_dummy.predict(test_features)\n",
    "    end_time = time.time()\n",
    "    prediction_time.append(end_time - start_time)\n",
    "    # без задержки второе и следующие значения выглядят заниженными\n",
    "    time.sleep(1)\n",
    "    \n",
    "rmse_test = mean_squared_error(test_target, predictions) ** 0.5"
   ]
  },
  {
   "cell_type": "code",
   "execution_count": 58,
   "metadata": {
    "scrolled": true
   },
   "outputs": [
    {
     "data": {
      "text/plain": [
       "'Learning time: 0.0011115312576293946 +- 0.0001375016190145965'"
      ]
     },
     "metadata": {},
     "output_type": "display_data"
    },
    {
     "data": {
      "text/plain": [
       "'Prediction time: 0.0003188133239746094 +- 9.961312236864852e-05'"
      ]
     },
     "metadata": {},
     "output_type": "display_data"
    },
    {
     "data": {
      "text/html": [
       "<div>\n",
       "<style scoped>\n",
       "    .dataframe tbody tr th:only-of-type {\n",
       "        vertical-align: middle;\n",
       "    }\n",
       "\n",
       "    .dataframe tbody tr th {\n",
       "        vertical-align: top;\n",
       "    }\n",
       "\n",
       "    .dataframe thead th {\n",
       "        text-align: right;\n",
       "    }\n",
       "</style>\n",
       "<table border=\"1\" class=\"dataframe\">\n",
       "  <thead>\n",
       "    <tr style=\"text-align: right;\">\n",
       "      <th></th>\n",
       "      <th>rmse</th>\n",
       "      <th>learning_time</th>\n",
       "      <th>prediction_time</th>\n",
       "    </tr>\n",
       "  </thead>\n",
       "  <tbody>\n",
       "    <tr>\n",
       "      <td>dummy_mean</td>\n",
       "      <td>4577</td>\n",
       "      <td>0.00111</td>\n",
       "      <td>0.00032</td>\n",
       "    </tr>\n",
       "  </tbody>\n",
       "</table>\n",
       "</div>"
      ],
      "text/plain": [
       "            rmse learning_time prediction_time\n",
       "dummy_mean  4577       0.00111         0.00032"
      ]
     },
     "execution_count": 58,
     "metadata": {},
     "output_type": "execute_result"
    }
   ],
   "source": [
    "learning_time_mean = pd.Series(learning_time).describe()[1]\n",
    "prediction_time_mean = pd.Series(prediction_time).describe()[1]\n",
    "display(f'Learning time: {learning_time_mean} +- {pd.Series(learning_time).describe()[2]}')\n",
    "display(f'Prediction time: {prediction_time_mean} +- {pd.Series(prediction_time).describe()[2]}')\n",
    "model_comparison.loc['dummy_mean', :] = [round(rmse_test, 0), round(learning_time_mean, 5), \n",
    "                                         round(prediction_time_mean, 5)]\n",
    "model_comparison"
   ]
  },
  {
   "cell_type": "markdown",
   "metadata": {},
   "source": [
    "### Линейная регрессия"
   ]
  },
  {
   "cell_type": "markdown",
   "metadata": {},
   "source": [
    "Доподготовим данные для лин.регрессии, закодировав категориальные признаки. Уменьшим количество повторов до 3, т.к. ожидаем, что обучение будем небыстрым."
   ]
  },
  {
   "cell_type": "code",
   "execution_count": 59,
   "metadata": {},
   "outputs": [],
   "source": [
    "train_features_OHE = pd.get_dummies(train_features, drop_first=True)\n",
    "test_features_OHE = pd.get_dummies(test_features, drop_first=True)"
   ]
  },
  {
   "cell_type": "code",
   "execution_count": 60,
   "metadata": {},
   "outputs": [
    {
     "data": {
      "application/vnd.jupyter.widget-view+json": {
       "model_id": "59189da5f9054a2f853886036e706981",
       "version_major": 2,
       "version_minor": 0
      },
      "text/plain": [
       "HBox(children=(HTML(value=''), FloatProgress(value=0.0, max=3.0), HTML(value='')))"
      ]
     },
     "metadata": {},
     "output_type": "display_data"
    },
    {
     "name": "stdout",
     "output_type": "stream",
     "text": [
      "\n",
      "CPU times: user 45.3 s, sys: 18.1 s, total: 1min 3s\n",
      "Wall time: 1min 3s\n"
     ]
    }
   ],
   "source": [
    "%%time\n",
    "\n",
    "learning_time = []\n",
    "prediction_time = []\n",
    "\n",
    "for _ in tqdm(range(3)):\n",
    "    model_linreg = LinearRegression()\n",
    "\n",
    "    start_time = time.time()\n",
    "    model_linreg.fit(train_features_OHE, train_target)\n",
    "    end_time = time.time()\n",
    "    learning_time.append(end_time - start_time)\n",
    "\n",
    "    start_time = time.time()\n",
    "    predictions = model_linreg.predict(test_features_OHE)\n",
    "    end_time = time.time()\n",
    "    prediction_time.append(end_time - start_time)\n",
    "    \n",
    "rmse_test = mean_squared_error(test_target, predictions) ** 0.5"
   ]
  },
  {
   "cell_type": "code",
   "execution_count": 61,
   "metadata": {},
   "outputs": [
    {
     "data": {
      "text/plain": [
       "'Learning time: 20.91831064224243 +- 2.241351652626576'"
      ]
     },
     "metadata": {},
     "output_type": "display_data"
    },
    {
     "data": {
      "text/plain": [
       "'Prediction time: 0.1746993064880371 +- 0.04066131323340882'"
      ]
     },
     "metadata": {},
     "output_type": "display_data"
    },
    {
     "data": {
      "text/html": [
       "<div>\n",
       "<style scoped>\n",
       "    .dataframe tbody tr th:only-of-type {\n",
       "        vertical-align: middle;\n",
       "    }\n",
       "\n",
       "    .dataframe tbody tr th {\n",
       "        vertical-align: top;\n",
       "    }\n",
       "\n",
       "    .dataframe thead th {\n",
       "        text-align: right;\n",
       "    }\n",
       "</style>\n",
       "<table border=\"1\" class=\"dataframe\">\n",
       "  <thead>\n",
       "    <tr style=\"text-align: right;\">\n",
       "      <th></th>\n",
       "      <th>rmse</th>\n",
       "      <th>learning_time</th>\n",
       "      <th>prediction_time</th>\n",
       "    </tr>\n",
       "  </thead>\n",
       "  <tbody>\n",
       "    <tr>\n",
       "      <td>dummy_mean</td>\n",
       "      <td>4577</td>\n",
       "      <td>0.00111</td>\n",
       "      <td>0.00032</td>\n",
       "    </tr>\n",
       "    <tr>\n",
       "      <td>linreg_all_data</td>\n",
       "      <td>2384</td>\n",
       "      <td>21</td>\n",
       "      <td>0.17</td>\n",
       "    </tr>\n",
       "  </tbody>\n",
       "</table>\n",
       "</div>"
      ],
      "text/plain": [
       "                 rmse learning_time prediction_time\n",
       "dummy_mean       4577       0.00111         0.00032\n",
       "linreg_all_data  2384            21            0.17"
      ]
     },
     "execution_count": 61,
     "metadata": {},
     "output_type": "execute_result"
    }
   ],
   "source": [
    "learning_time_mean = pd.Series(learning_time).describe()[1]\n",
    "prediction_time_mean = pd.Series(prediction_time).describe()[1]\n",
    "display(f'Learning time: {learning_time_mean} +- {pd.Series(learning_time).describe()[2]}')\n",
    "display(f'Prediction time: {prediction_time_mean} +- {pd.Series(prediction_time).describe()[2]}')\n",
    "model_comparison.loc['linreg_all_data', :] = [round(rmse_test, 0), round(learning_time_mean, 0), \n",
    "                                         round(prediction_time_mean, 2)]\n",
    "model_comparison"
   ]
  },
  {
   "cell_type": "markdown",
   "metadata": {},
   "source": [
    "Видим, что время обучения неудовлетворительное, зато качество заметно возросло по сравнению с предсказанием по среднему.\n",
    "\n",
    "Посмотрим на значимость признаков."
   ]
  },
  {
   "cell_type": "code",
   "execution_count": 62,
   "metadata": {},
   "outputs": [
    {
     "data": {
      "text/html": [
       "<div>\n",
       "<style scoped>\n",
       "    .dataframe tbody tr th:only-of-type {\n",
       "        vertical-align: middle;\n",
       "    }\n",
       "\n",
       "    .dataframe tbody tr th {\n",
       "        vertical-align: top;\n",
       "    }\n",
       "\n",
       "    .dataframe thead th {\n",
       "        text-align: right;\n",
       "    }\n",
       "</style>\n",
       "<table border=\"1\" class=\"dataframe\">\n",
       "  <thead>\n",
       "    <tr style=\"text-align: right;\">\n",
       "      <th></th>\n",
       "      <th>coef</th>\n",
       "    </tr>\n",
       "  </thead>\n",
       "  <tbody>\n",
       "    <tr>\n",
       "      <td>Model_serie_3</td>\n",
       "      <td>1.818989e-12</td>\n",
       "    </tr>\n",
       "    <tr>\n",
       "      <td>Model_serie_1</td>\n",
       "      <td>8.185452e-12</td>\n",
       "    </tr>\n",
       "    <tr>\n",
       "      <td>FuelType_no_info</td>\n",
       "      <td>4.901224e+00</td>\n",
       "    </tr>\n",
       "    <tr>\n",
       "      <td>Model_roomster</td>\n",
       "      <td>6.545000e+00</td>\n",
       "    </tr>\n",
       "    <tr>\n",
       "      <td>Brand_lada</td>\n",
       "      <td>1.506025e+01</td>\n",
       "    </tr>\n",
       "    <tr>\n",
       "      <td>...</td>\n",
       "      <td>...</td>\n",
       "    </tr>\n",
       "    <tr>\n",
       "      <td>Model_wrangler</td>\n",
       "      <td>5.952999e+03</td>\n",
       "    </tr>\n",
       "    <tr>\n",
       "      <td>Model_g_klasse</td>\n",
       "      <td>6.428564e+03</td>\n",
       "    </tr>\n",
       "    <tr>\n",
       "      <td>Model_defender</td>\n",
       "      <td>7.108977e+03</td>\n",
       "    </tr>\n",
       "    <tr>\n",
       "      <td>Brand_porsche</td>\n",
       "      <td>7.667918e+03</td>\n",
       "    </tr>\n",
       "    <tr>\n",
       "      <td>Model_serie_2</td>\n",
       "      <td>9.924588e+03</td>\n",
       "    </tr>\n",
       "  </tbody>\n",
       "</table>\n",
       "<p>324 rows × 1 columns</p>\n",
       "</div>"
      ],
      "text/plain": [
       "                          coef\n",
       "Model_serie_3     1.818989e-12\n",
       "Model_serie_1     8.185452e-12\n",
       "FuelType_no_info  4.901224e+00\n",
       "Model_roomster    6.545000e+00\n",
       "Brand_lada        1.506025e+01\n",
       "...                        ...\n",
       "Model_wrangler    5.952999e+03\n",
       "Model_g_klasse    6.428564e+03\n",
       "Model_defender    7.108977e+03\n",
       "Brand_porsche     7.667918e+03\n",
       "Model_serie_2     9.924588e+03\n",
       "\n",
       "[324 rows x 1 columns]"
      ]
     },
     "execution_count": 62,
     "metadata": {},
     "output_type": "execute_result"
    }
   ],
   "source": [
    "coef_table = pd.DataFrame(model_linreg.coef_, index=train_features_OHE.columns, columns=['coef'])\n",
    "coef_table['coef'] = abs(coef_table['coef'])\n",
    "coef_table.sort_values(by='coef')"
   ]
  },
  {
   "cell_type": "markdown",
   "metadata": {},
   "source": [
    "Видим, что и в начале и в конце таблицы, отсортированной по значимости, встречаются признаки, связанные с моделью автомобиля. Посмотрим, много ли мы потеряем в качестве и много ли выиграем в скорости обучения, отказавшись от этого признака."
   ]
  },
  {
   "cell_type": "markdown",
   "metadata": {},
   "source": [
    "### Линейная регрессия без моделей автомобилей"
   ]
  },
  {
   "cell_type": "code",
   "execution_count": 63,
   "metadata": {},
   "outputs": [],
   "source": [
    "train_features_no_model = train_features.drop(columns=['Model'])\n",
    "test_features_no_model = test_features.drop(columns=['Model'])\n",
    "\n",
    "train_features_no_model_OHE = pd.get_dummies(train_features_no_model, drop_first=True)\n",
    "test_features_no_model_OHE = pd.get_dummies(test_features_no_model, drop_first=True)"
   ]
  },
  {
   "cell_type": "code",
   "execution_count": 64,
   "metadata": {},
   "outputs": [
    {
     "data": {
      "application/vnd.jupyter.widget-view+json": {
       "model_id": "39aa621ac881494ba83b8ebb44e60df3",
       "version_major": 2,
       "version_minor": 0
      },
      "text/plain": [
       "HBox(children=(HTML(value=''), FloatProgress(value=0.0, max=3.0), HTML(value='')))"
      ]
     },
     "metadata": {},
     "output_type": "display_data"
    },
    {
     "name": "stdout",
     "output_type": "stream",
     "text": [
      "\n",
      "CPU times: user 11 s, sys: 6.75 s, total: 17.7 s\n",
      "Wall time: 18.6 s\n"
     ]
    }
   ],
   "source": [
    "%%time\n",
    "\n",
    "learning_time = []\n",
    "prediction_time = []\n",
    "\n",
    "for _ in tqdm(range(3)):\n",
    "    model_linreg = LinearRegression()\n",
    "\n",
    "    start_time = time.time()\n",
    "    model_linreg.fit(train_features_no_model_OHE, train_target)\n",
    "    end_time = time.time()\n",
    "    learning_time.append(end_time - start_time)\n",
    "\n",
    "    start_time = time.time()\n",
    "    predictions = model_linreg.predict(test_features_no_model_OHE)\n",
    "    end_time = time.time()\n",
    "    prediction_time.append(end_time - start_time)\n",
    "    \n",
    "rmse_test = mean_squared_error(test_target, predictions) ** 0.5"
   ]
  },
  {
   "cell_type": "code",
   "execution_count": 65,
   "metadata": {},
   "outputs": [
    {
     "data": {
      "text/plain": [
       "'Learning time: 6.027533054351807 +- 0.5607731722513263'"
      ]
     },
     "metadata": {},
     "output_type": "display_data"
    },
    {
     "data": {
      "text/plain": [
       "'Prediction time: 0.14060258865356445 +- 0.04563953927671769'"
      ]
     },
     "metadata": {},
     "output_type": "display_data"
    },
    {
     "data": {
      "text/html": [
       "<div>\n",
       "<style scoped>\n",
       "    .dataframe tbody tr th:only-of-type {\n",
       "        vertical-align: middle;\n",
       "    }\n",
       "\n",
       "    .dataframe tbody tr th {\n",
       "        vertical-align: top;\n",
       "    }\n",
       "\n",
       "    .dataframe thead th {\n",
       "        text-align: right;\n",
       "    }\n",
       "</style>\n",
       "<table border=\"1\" class=\"dataframe\">\n",
       "  <thead>\n",
       "    <tr style=\"text-align: right;\">\n",
       "      <th></th>\n",
       "      <th>rmse</th>\n",
       "      <th>learning_time</th>\n",
       "      <th>prediction_time</th>\n",
       "    </tr>\n",
       "  </thead>\n",
       "  <tbody>\n",
       "    <tr>\n",
       "      <td>dummy_mean</td>\n",
       "      <td>4577</td>\n",
       "      <td>0.00111</td>\n",
       "      <td>0.00032</td>\n",
       "    </tr>\n",
       "    <tr>\n",
       "      <td>linreg_all_data</td>\n",
       "      <td>2384</td>\n",
       "      <td>21</td>\n",
       "      <td>0.17</td>\n",
       "    </tr>\n",
       "    <tr>\n",
       "      <td>linreg_no_model</td>\n",
       "      <td>2527</td>\n",
       "      <td>6</td>\n",
       "      <td>0.14</td>\n",
       "    </tr>\n",
       "  </tbody>\n",
       "</table>\n",
       "</div>"
      ],
      "text/plain": [
       "                 rmse learning_time prediction_time\n",
       "dummy_mean       4577       0.00111         0.00032\n",
       "linreg_all_data  2384            21            0.17\n",
       "linreg_no_model  2527             6            0.14"
      ]
     },
     "execution_count": 65,
     "metadata": {},
     "output_type": "execute_result"
    }
   ],
   "source": [
    "learning_time_mean = pd.Series(learning_time).describe()[1]\n",
    "prediction_time_mean = pd.Series(prediction_time).describe()[1]\n",
    "display(f'Learning time: {learning_time_mean} +- {pd.Series(learning_time).describe()[2]}')\n",
    "display(f'Prediction time: {prediction_time_mean} +- {pd.Series(prediction_time).describe()[2]}')\n",
    "model_comparison.loc['linreg_no_model', :] = [round(rmse_test, 0), round(learning_time_mean, 1), \n",
    "                                         round(prediction_time_mean, 2)]\n",
    "model_comparison"
   ]
  },
  {
   "cell_type": "markdown",
   "metadata": {},
   "source": [
    "Выигрыш по времени обучения в 7 раз при потере в качестве около 10%, отлично."
   ]
  },
  {
   "cell_type": "code",
   "execution_count": 66,
   "metadata": {
    "scrolled": true
   },
   "outputs": [
    {
     "data": {
      "text/html": [
       "<div>\n",
       "<style scoped>\n",
       "    .dataframe tbody tr th:only-of-type {\n",
       "        vertical-align: middle;\n",
       "    }\n",
       "\n",
       "    .dataframe tbody tr th {\n",
       "        vertical-align: top;\n",
       "    }\n",
       "\n",
       "    .dataframe thead th {\n",
       "        text-align: right;\n",
       "    }\n",
       "</style>\n",
       "<table border=\"1\" class=\"dataframe\">\n",
       "  <thead>\n",
       "    <tr style=\"text-align: right;\">\n",
       "      <th></th>\n",
       "      <th>coef</th>\n",
       "    </tr>\n",
       "  </thead>\n",
       "  <tbody>\n",
       "    <tr>\n",
       "      <td>Brand_hyundai</td>\n",
       "      <td>14.143926</td>\n",
       "    </tr>\n",
       "    <tr>\n",
       "      <td>Brand_smart</td>\n",
       "      <td>33.730197</td>\n",
       "    </tr>\n",
       "    <tr>\n",
       "      <td>Brand_daewoo</td>\n",
       "      <td>34.183173</td>\n",
       "    </tr>\n",
       "    <tr>\n",
       "      <td>Brand_kia</td>\n",
       "      <td>75.631978</td>\n",
       "    </tr>\n",
       "    <tr>\n",
       "      <td>RegistrationMonth_8</td>\n",
       "      <td>87.600989</td>\n",
       "    </tr>\n",
       "    <tr>\n",
       "      <td>...</td>\n",
       "      <td>...</td>\n",
       "    </tr>\n",
       "    <tr>\n",
       "      <td>Brand_land_rover</td>\n",
       "      <td>2787.839149</td>\n",
       "    </tr>\n",
       "    <tr>\n",
       "      <td>Brand_mini</td>\n",
       "      <td>3332.302221</td>\n",
       "    </tr>\n",
       "    <tr>\n",
       "      <td>VehicleType_no_info</td>\n",
       "      <td>3643.988043</td>\n",
       "    </tr>\n",
       "    <tr>\n",
       "      <td>Brand_trabant</td>\n",
       "      <td>5161.267451</td>\n",
       "    </tr>\n",
       "    <tr>\n",
       "      <td>Brand_porsche</td>\n",
       "      <td>5267.625755</td>\n",
       "    </tr>\n",
       "  </tbody>\n",
       "</table>\n",
       "<p>75 rows × 1 columns</p>\n",
       "</div>"
      ],
      "text/plain": [
       "                            coef\n",
       "Brand_hyundai          14.143926\n",
       "Brand_smart            33.730197\n",
       "Brand_daewoo           34.183173\n",
       "Brand_kia              75.631978\n",
       "RegistrationMonth_8    87.600989\n",
       "...                          ...\n",
       "Brand_land_rover     2787.839149\n",
       "Brand_mini           3332.302221\n",
       "VehicleType_no_info  3643.988043\n",
       "Brand_trabant        5161.267451\n",
       "Brand_porsche        5267.625755\n",
       "\n",
       "[75 rows x 1 columns]"
      ]
     },
     "execution_count": 66,
     "metadata": {},
     "output_type": "execute_result"
    }
   ],
   "source": [
    "coef_table = pd.DataFrame(model_linreg.coef_, index=test_features_no_model_OHE.columns, \n",
    "                          columns=['coef'])\n",
    "coef_table['coef'] = abs(coef_table['coef'])\n",
    "coef_table.sort_values(by='coef')"
   ]
  },
  {
   "cell_type": "markdown",
   "metadata": {},
   "source": [
    "### LightGBM"
   ]
  },
  {
   "cell_type": "code",
   "execution_count": 67,
   "metadata": {},
   "outputs": [],
   "source": [
    "params = {\n",
    "    'metric': 'rmse',\n",
    "}"
   ]
  },
  {
   "cell_type": "code",
   "execution_count": 68,
   "metadata": {},
   "outputs": [],
   "source": [
    "train_data = lgb.Dataset(train_features, train_target)\n",
    "eval_data = lgb.Dataset(valid_features, valid_target, reference=train_data)"
   ]
  },
  {
   "cell_type": "markdown",
   "metadata": {},
   "source": [
    "Поэкспериментируем с количеством раундов. Чтобы не дублировать код, подготовим функцию, принимающую на вход количество раундов."
   ]
  },
  {
   "cell_type": "code",
   "execution_count": 69,
   "metadata": {},
   "outputs": [],
   "source": [
    "def lgbm_probe_func(num_rounds=20):\n",
    "    verbose_value = int(num_rounds / 5)\n",
    "    learning_time = []\n",
    "    prediction_time = []\n",
    "\n",
    "    for _ in tqdm(range(3)):\n",
    "        start_time = time.time()\n",
    "        gbm = lgb.train(params,\n",
    "                        train_data,\n",
    "                        num_boost_round=num_rounds,\n",
    "                        valid_sets=eval_data,\n",
    "                        early_stopping_rounds=5,\n",
    "                        feature_name=list(train_features.columns), \n",
    "                        categorical_feature=cat_features,\n",
    "                        verbose_eval=verbose_value)\n",
    "        end_time = time.time()\n",
    "        learning_time.append(end_time - start_time)\n",
    "\n",
    "        start_time = time.time()\n",
    "        predictions = gbm.predict(test_features, num_iteration=gbm.best_iteration)\n",
    "        end_time = time.time()\n",
    "        prediction_time.append(end_time - start_time)\n",
    "        display('------------------')\n",
    "\n",
    "    display(f'--finish-iteration-by-num_rounds={num_rounds}')    \n",
    "    rmse_test = mean_squared_error(test_target, predictions) ** 0.5\n",
    "    display(f'The RMSE of prediction on test with num_rounds = {num_rounds} is: {rmse_test}')\n",
    "\n",
    "    learning_time_mean = pd.Series(learning_time).describe()[1]\n",
    "    prediction_time_mean = pd.Series(prediction_time).describe()[1]\n",
    "    display(f'Learning time: {learning_time_mean} +- {pd.Series(learning_time).describe()[2]}')\n",
    "    display(f'Prediction time: {prediction_time_mean} +- {pd.Series(prediction_time).describe()[2]}')\n",
    "    \n",
    "    return [round(rmse_test, 0), round(learning_time_mean, 1), round(prediction_time_mean, 2)]\n",
    "    "
   ]
  },
  {
   "cell_type": "code",
   "execution_count": 70,
   "metadata": {
    "scrolled": true
   },
   "outputs": [
    {
     "data": {
      "application/vnd.jupyter.widget-view+json": {
       "model_id": "ffe3ccc548284dc588bcf2fe091fd66c",
       "version_major": 2,
       "version_minor": 0
      },
      "text/plain": [
       "HBox(children=(HTML(value=''), FloatProgress(value=0.0, max=3.0), HTML(value='')))"
      ]
     },
     "metadata": {},
     "output_type": "display_data"
    },
    {
     "name": "stderr",
     "output_type": "stream",
     "text": [
      "/opt/conda/lib/python3.7/site-packages/lightgbm/basic.py:1295: UserWarning: categorical_feature in Dataset is overridden.\n",
      "New categorical_feature is ['Brand', 'FuelType', 'Gearbox', 'Model', 'NotRepaired', 'RegistrationMonth', 'VehicleType']\n",
      "  'New categorical_feature is {}'.format(sorted(list(categorical_feature))))\n"
     ]
    },
    {
     "name": "stdout",
     "output_type": "stream",
     "text": [
      "Training until validation scores don't improve for 5 rounds\n",
      "[4]\tvalid_0's rmse: 3427.42\n",
      "[8]\tvalid_0's rmse: 2720.26\n",
      "[12]\tvalid_0's rmse: 2290.74\n",
      "[16]\tvalid_0's rmse: 2032.46\n",
      "[20]\tvalid_0's rmse: 1873.05\n",
      "Did not meet early stopping. Best iteration is:\n",
      "[20]\tvalid_0's rmse: 1873.05\n"
     ]
    },
    {
     "data": {
      "text/plain": [
       "'------------------'"
      ]
     },
     "metadata": {},
     "output_type": "display_data"
    },
    {
     "name": "stdout",
     "output_type": "stream",
     "text": [
      "Training until validation scores don't improve for 5 rounds\n",
      "[4]\tvalid_0's rmse: 3427.42\n",
      "[8]\tvalid_0's rmse: 2720.26\n",
      "[12]\tvalid_0's rmse: 2290.74\n",
      "[16]\tvalid_0's rmse: 2032.46\n",
      "[20]\tvalid_0's rmse: 1873.05\n",
      "Did not meet early stopping. Best iteration is:\n",
      "[20]\tvalid_0's rmse: 1873.05\n"
     ]
    },
    {
     "data": {
      "text/plain": [
       "'------------------'"
      ]
     },
     "metadata": {},
     "output_type": "display_data"
    },
    {
     "name": "stdout",
     "output_type": "stream",
     "text": [
      "Training until validation scores don't improve for 5 rounds\n",
      "[4]\tvalid_0's rmse: 3427.42\n",
      "[8]\tvalid_0's rmse: 2720.26\n",
      "[12]\tvalid_0's rmse: 2290.74\n",
      "[16]\tvalid_0's rmse: 2032.46\n",
      "[20]\tvalid_0's rmse: 1873.05\n",
      "Did not meet early stopping. Best iteration is:\n",
      "[20]\tvalid_0's rmse: 1873.05\n"
     ]
    },
    {
     "data": {
      "text/plain": [
       "'------------------'"
      ]
     },
     "metadata": {},
     "output_type": "display_data"
    },
    {
     "name": "stdout",
     "output_type": "stream",
     "text": [
      "\n"
     ]
    },
    {
     "data": {
      "text/plain": [
       "'--finish-iteration-by-num_rounds=20'"
      ]
     },
     "metadata": {},
     "output_type": "display_data"
    },
    {
     "data": {
      "text/plain": [
       "'The RMSE of prediction on test with num_rounds = 20 is: 1883.5505438839607'"
      ]
     },
     "metadata": {},
     "output_type": "display_data"
    },
    {
     "data": {
      "text/plain": [
       "'Learning time: 21.69803301493327 +- 21.385111279367347'"
      ]
     },
     "metadata": {},
     "output_type": "display_data"
    },
    {
     "data": {
      "text/plain": [
       "'Prediction time: 0.23464123407999674 +- 0.06353605163138026'"
      ]
     },
     "metadata": {},
     "output_type": "display_data"
    },
    {
     "name": "stdout",
     "output_type": "stream",
     "text": [
      "CPU times: user 1min 5s, sys: 0 ns, total: 1min 5s\n",
      "Wall time: 1min 5s\n"
     ]
    }
   ],
   "source": [
    "%%time\n",
    "    \n",
    "model_comparison.loc[f'LGBM_20', :] = lgbm_probe_func(20)"
   ]
  },
  {
   "cell_type": "code",
   "execution_count": 71,
   "metadata": {
    "scrolled": true
   },
   "outputs": [
    {
     "data": {
      "application/vnd.jupyter.widget-view+json": {
       "model_id": "e81fe3389c6745e4b8c9346a106a0cd8",
       "version_major": 2,
       "version_minor": 0
      },
      "text/plain": [
       "HBox(children=(HTML(value=''), FloatProgress(value=0.0, max=3.0), HTML(value='')))"
      ]
     },
     "metadata": {},
     "output_type": "display_data"
    },
    {
     "name": "stdout",
     "output_type": "stream",
     "text": [
      "Training until validation scores don't improve for 5 rounds\n",
      "[20]\tvalid_0's rmse: 1873.05\n",
      "[40]\tvalid_0's rmse: 1620.83\n",
      "[60]\tvalid_0's rmse: 1569.99\n",
      "[80]\tvalid_0's rmse: 1542.01\n",
      "[100]\tvalid_0's rmse: 1528.47\n",
      "Did not meet early stopping. Best iteration is:\n",
      "[100]\tvalid_0's rmse: 1528.47\n"
     ]
    },
    {
     "data": {
      "text/plain": [
       "'------------------'"
      ]
     },
     "metadata": {},
     "output_type": "display_data"
    },
    {
     "name": "stdout",
     "output_type": "stream",
     "text": [
      "Training until validation scores don't improve for 5 rounds\n",
      "[20]\tvalid_0's rmse: 1873.05\n",
      "[40]\tvalid_0's rmse: 1620.83\n",
      "[60]\tvalid_0's rmse: 1569.99\n",
      "[80]\tvalid_0's rmse: 1542.01\n",
      "[100]\tvalid_0's rmse: 1528.47\n",
      "Did not meet early stopping. Best iteration is:\n",
      "[100]\tvalid_0's rmse: 1528.47\n"
     ]
    },
    {
     "data": {
      "text/plain": [
       "'------------------'"
      ]
     },
     "metadata": {},
     "output_type": "display_data"
    },
    {
     "name": "stdout",
     "output_type": "stream",
     "text": [
      "Training until validation scores don't improve for 5 rounds\n",
      "[20]\tvalid_0's rmse: 1873.05\n",
      "[40]\tvalid_0's rmse: 1620.83\n",
      "[60]\tvalid_0's rmse: 1569.99\n",
      "[80]\tvalid_0's rmse: 1542.01\n",
      "[100]\tvalid_0's rmse: 1528.47\n",
      "Did not meet early stopping. Best iteration is:\n",
      "[100]\tvalid_0's rmse: 1528.47\n"
     ]
    },
    {
     "data": {
      "text/plain": [
       "'------------------'"
      ]
     },
     "metadata": {},
     "output_type": "display_data"
    },
    {
     "name": "stdout",
     "output_type": "stream",
     "text": [
      "\n"
     ]
    },
    {
     "data": {
      "text/plain": [
       "'--finish-iteration-by-num_rounds=100'"
      ]
     },
     "metadata": {},
     "output_type": "display_data"
    },
    {
     "data": {
      "text/plain": [
       "'The RMSE of prediction on test with num_rounds = 100 is: 1536.6937243655964'"
      ]
     },
     "metadata": {},
     "output_type": "display_data"
    },
    {
     "data": {
      "text/plain": [
       "'Learning time: 9.224551916122437 +- 2.309373142208471'"
      ]
     },
     "metadata": {},
     "output_type": "display_data"
    },
    {
     "data": {
      "text/plain": [
       "'Prediction time: 0.9338483015696207 +- 0.05258343188706218'"
      ]
     },
     "metadata": {},
     "output_type": "display_data"
    },
    {
     "name": "stdout",
     "output_type": "stream",
     "text": [
      "CPU times: user 29.7 s, sys: 0 ns, total: 29.7 s\n",
      "Wall time: 30.7 s\n"
     ]
    }
   ],
   "source": [
    "%%time\n",
    "    \n",
    "model_comparison.loc[f'LGBM_100', :] = lgbm_probe_func(100)"
   ]
  },
  {
   "cell_type": "code",
   "execution_count": 72,
   "metadata": {
    "scrolled": true
   },
   "outputs": [
    {
     "data": {
      "application/vnd.jupyter.widget-view+json": {
       "model_id": "5e03d99c99e645088bcb9815f1fb88c4",
       "version_major": 2,
       "version_minor": 0
      },
      "text/plain": [
       "HBox(children=(HTML(value=''), FloatProgress(value=0.0, max=3.0), HTML(value='')))"
      ]
     },
     "metadata": {},
     "output_type": "display_data"
    },
    {
     "name": "stdout",
     "output_type": "stream",
     "text": [
      "Training until validation scores don't improve for 5 rounds\n",
      "[100]\tvalid_0's rmse: 1528.47\n",
      "[200]\tvalid_0's rmse: 1495.22\n",
      "[300]\tvalid_0's rmse: 1482.7\n",
      "[400]\tvalid_0's rmse: 1472.84\n",
      "Early stopping, best iteration is:\n",
      "[484]\tvalid_0's rmse: 1469.13\n"
     ]
    },
    {
     "data": {
      "text/plain": [
       "'------------------'"
      ]
     },
     "metadata": {},
     "output_type": "display_data"
    },
    {
     "name": "stdout",
     "output_type": "stream",
     "text": [
      "Training until validation scores don't improve for 5 rounds\n",
      "[100]\tvalid_0's rmse: 1528.47\n",
      "[200]\tvalid_0's rmse: 1495.22\n",
      "[300]\tvalid_0's rmse: 1482.7\n",
      "[400]\tvalid_0's rmse: 1472.84\n",
      "Early stopping, best iteration is:\n",
      "[484]\tvalid_0's rmse: 1469.13\n"
     ]
    },
    {
     "data": {
      "text/plain": [
       "'------------------'"
      ]
     },
     "metadata": {},
     "output_type": "display_data"
    },
    {
     "name": "stdout",
     "output_type": "stream",
     "text": [
      "Training until validation scores don't improve for 5 rounds\n",
      "[100]\tvalid_0's rmse: 1528.47\n",
      "[200]\tvalid_0's rmse: 1495.22\n",
      "[300]\tvalid_0's rmse: 1482.7\n",
      "[400]\tvalid_0's rmse: 1472.84\n",
      "Early stopping, best iteration is:\n",
      "[484]\tvalid_0's rmse: 1469.13\n"
     ]
    },
    {
     "data": {
      "text/plain": [
       "'------------------'"
      ]
     },
     "metadata": {},
     "output_type": "display_data"
    },
    {
     "name": "stdout",
     "output_type": "stream",
     "text": [
      "\n"
     ]
    },
    {
     "data": {
      "text/plain": [
       "'--finish-iteration-by-num_rounds=500'"
      ]
     },
     "metadata": {},
     "output_type": "display_data"
    },
    {
     "data": {
      "text/plain": [
       "'The RMSE of prediction on test with num_rounds = 500 is: 1473.7210103728064'"
      ]
     },
     "metadata": {},
     "output_type": "display_data"
    },
    {
     "data": {
      "text/plain": [
       "'Learning time: 31.846468687057495 +- 1.5144767084360207'"
      ]
     },
     "metadata": {},
     "output_type": "display_data"
    },
    {
     "data": {
      "text/plain": [
       "'Prediction time: 3.9087514877319336 +- 0.19573692098445095'"
      ]
     },
     "metadata": {},
     "output_type": "display_data"
    },
    {
     "name": "stdout",
     "output_type": "stream",
     "text": [
      "CPU times: user 1min 45s, sys: 0 ns, total: 1min 45s\n",
      "Wall time: 1min 47s\n"
     ]
    }
   ],
   "source": [
    "%%time\n",
    "    \n",
    "model_comparison.loc[f'LGBM_500', :] = lgbm_probe_func(500)"
   ]
  },
  {
   "cell_type": "code",
   "execution_count": 73,
   "metadata": {},
   "outputs": [
    {
     "data": {
      "text/html": [
       "<div>\n",
       "<style scoped>\n",
       "    .dataframe tbody tr th:only-of-type {\n",
       "        vertical-align: middle;\n",
       "    }\n",
       "\n",
       "    .dataframe tbody tr th {\n",
       "        vertical-align: top;\n",
       "    }\n",
       "\n",
       "    .dataframe thead th {\n",
       "        text-align: right;\n",
       "    }\n",
       "</style>\n",
       "<table border=\"1\" class=\"dataframe\">\n",
       "  <thead>\n",
       "    <tr style=\"text-align: right;\">\n",
       "      <th></th>\n",
       "      <th>rmse</th>\n",
       "      <th>learning_time</th>\n",
       "      <th>prediction_time</th>\n",
       "    </tr>\n",
       "  </thead>\n",
       "  <tbody>\n",
       "    <tr>\n",
       "      <td>dummy_mean</td>\n",
       "      <td>4577</td>\n",
       "      <td>0.00111</td>\n",
       "      <td>0.00032</td>\n",
       "    </tr>\n",
       "    <tr>\n",
       "      <td>linreg_all_data</td>\n",
       "      <td>2384</td>\n",
       "      <td>21</td>\n",
       "      <td>0.17</td>\n",
       "    </tr>\n",
       "    <tr>\n",
       "      <td>linreg_no_model</td>\n",
       "      <td>2527</td>\n",
       "      <td>6</td>\n",
       "      <td>0.14</td>\n",
       "    </tr>\n",
       "    <tr>\n",
       "      <td>LGBM_20</td>\n",
       "      <td>1884</td>\n",
       "      <td>21.7</td>\n",
       "      <td>0.23</td>\n",
       "    </tr>\n",
       "    <tr>\n",
       "      <td>LGBM_100</td>\n",
       "      <td>1537</td>\n",
       "      <td>9.2</td>\n",
       "      <td>0.93</td>\n",
       "    </tr>\n",
       "    <tr>\n",
       "      <td>LGBM_500</td>\n",
       "      <td>1474</td>\n",
       "      <td>31.8</td>\n",
       "      <td>3.91</td>\n",
       "    </tr>\n",
       "  </tbody>\n",
       "</table>\n",
       "</div>"
      ],
      "text/plain": [
       "                 rmse learning_time prediction_time\n",
       "dummy_mean       4577       0.00111         0.00032\n",
       "linreg_all_data  2384            21            0.17\n",
       "linreg_no_model  2527             6            0.14\n",
       "LGBM_20          1884          21.7            0.23\n",
       "LGBM_100         1537           9.2            0.93\n",
       "LGBM_500         1474          31.8            3.91"
      ]
     },
     "execution_count": 73,
     "metadata": {},
     "output_type": "execute_result"
    }
   ],
   "source": [
    "model_comparison"
   ]
  },
  {
   "cell_type": "markdown",
   "metadata": {},
   "source": [
    "LGBM считает небыстро, но и не очень долго. Попробуем подобрать гиперпараметры."
   ]
  },
  {
   "cell_type": "code",
   "execution_count": 74,
   "metadata": {},
   "outputs": [
    {
     "name": "stdout",
     "output_type": "stream",
     "text": [
      "Fitting 5 folds for each of 4 candidates, totalling 20 fits\n"
     ]
    },
    {
     "name": "stderr",
     "output_type": "stream",
     "text": [
      "[Parallel(n_jobs=1)]: Using backend SequentialBackend with 1 concurrent workers.\n",
      "[Parallel(n_jobs=1)]: Done  20 out of  20 | elapsed:  1.8min finished\n"
     ]
    },
    {
     "data": {
      "text/plain": [
       "{'max_depth': 7}"
      ]
     },
     "metadata": {},
     "output_type": "display_data"
    },
    {
     "data": {
      "text/plain": [
       "'Лучшее значение метрики MSE'"
      ]
     },
     "metadata": {},
     "output_type": "display_data"
    },
    {
     "data": {
      "text/plain": [
       "-2371589.33192461"
      ]
     },
     "metadata": {},
     "output_type": "display_data"
    },
    {
     "data": {
      "text/plain": [
       "'Лучшее значение метрики RMSE'"
      ]
     },
     "metadata": {},
     "output_type": "display_data"
    },
    {
     "data": {
      "text/plain": [
       "1539.996536335264"
      ]
     },
     "metadata": {},
     "output_type": "display_data"
    },
    {
     "name": "stdout",
     "output_type": "stream",
     "text": [
      "CPU times: user 1min 55s, sys: 142 ms, total: 1min 56s\n",
      "Wall time: 1min 58s\n"
     ]
    }
   ],
   "source": [
    "%%time\n",
    "\n",
    "parameters  = {'max_depth': range(1, 9, 2),\n",
    "              }\n",
    "\n",
    "model_lgbm = lgb.LGBMRegressor()\n",
    "grid = GridSearchCV(model_lgbm, parameters, cv=5, verbose=1, scoring='neg_mean_squared_error')\n",
    "grid.fit(train_features, train_target)\n",
    "\n",
    "display(grid.best_params_)\n",
    "\n",
    "display('Лучшее значение метрики MSE', grid.best_score_)\n",
    "display('Лучшее значение метрики RMSE', (-grid.best_score_) ** 0.5)"
   ]
  },
  {
   "cell_type": "code",
   "execution_count": 75,
   "metadata": {},
   "outputs": [
    {
     "name": "stdout",
     "output_type": "stream",
     "text": [
      "Fitting 3 folds for each of 5 candidates, totalling 15 fits\n"
     ]
    },
    {
     "name": "stderr",
     "output_type": "stream",
     "text": [
      "[Parallel(n_jobs=1)]: Using backend SequentialBackend with 1 concurrent workers.\n",
      "[Parallel(n_jobs=1)]: Done  15 out of  15 | elapsed:  2.4min finished\n"
     ]
    },
    {
     "data": {
      "text/plain": [
       "{'learning_rate': 0.30000000000000004}"
      ]
     },
     "metadata": {},
     "output_type": "display_data"
    },
    {
     "data": {
      "text/plain": [
       "'Лучшее значение метрики MSE'"
      ]
     },
     "metadata": {},
     "output_type": "display_data"
    },
    {
     "data": {
      "text/plain": [
       "-2346244.681418744"
      ]
     },
     "metadata": {},
     "output_type": "display_data"
    },
    {
     "data": {
      "text/plain": [
       "'Лучшее значение метрики RMSE'"
      ]
     },
     "metadata": {},
     "output_type": "display_data"
    },
    {
     "data": {
      "text/plain": [
       "1531.7456320873723"
      ]
     },
     "metadata": {},
     "output_type": "display_data"
    },
    {
     "name": "stdout",
     "output_type": "stream",
     "text": [
      "CPU times: user 2min 27s, sys: 574 ms, total: 2min 28s\n",
      "Wall time: 2min 30s\n"
     ]
    }
   ],
   "source": [
    "%%time\n",
    "\n",
    "parameters  = {'learning_rate': np.arange(0.1, 1, 0.2)\n",
    "              }\n",
    "\n",
    "model_lgbm = lgb.LGBMRegressor()\n",
    "grid = GridSearchCV(model_lgbm, parameters, cv=3, verbose=1, scoring='neg_mean_squared_error')\n",
    "grid.fit(train_features, train_target)\n",
    "\n",
    "display(grid.best_params_)\n",
    "\n",
    "display('Лучшее значение метрики MSE', grid.best_score_)\n",
    "display('Лучшее значение метрики RMSE', (-grid.best_score_) ** 0.5)"
   ]
  },
  {
   "cell_type": "code",
   "execution_count": 76,
   "metadata": {
    "scrolled": true
   },
   "outputs": [
    {
     "name": "stdout",
     "output_type": "stream",
     "text": [
      "Fitting 3 folds for each of 9 candidates, totalling 27 fits\n",
      "[CV] learning_rate=0.2, max_depth=6 ..................................\n"
     ]
    },
    {
     "name": "stderr",
     "output_type": "stream",
     "text": [
      "[Parallel(n_jobs=1)]: Using backend SequentialBackend with 1 concurrent workers.\n"
     ]
    },
    {
     "name": "stdout",
     "output_type": "stream",
     "text": [
      "[CV] ................... learning_rate=0.2, max_depth=6, total=   5.4s\n",
      "[CV] learning_rate=0.2, max_depth=6 ..................................\n"
     ]
    },
    {
     "name": "stderr",
     "output_type": "stream",
     "text": [
      "[Parallel(n_jobs=1)]: Done   1 out of   1 | elapsed:    5.4s remaining:    0.0s\n"
     ]
    },
    {
     "name": "stdout",
     "output_type": "stream",
     "text": [
      "[CV] ................... learning_rate=0.2, max_depth=6, total=   5.4s\n",
      "[CV] learning_rate=0.2, max_depth=6 ..................................\n",
      "[CV] ................... learning_rate=0.2, max_depth=6, total= 1.4min\n",
      "[CV] learning_rate=0.2, max_depth=7 ..................................\n",
      "[CV] ................... learning_rate=0.2, max_depth=7, total=   5.5s\n",
      "[CV] learning_rate=0.2, max_depth=7 ..................................\n",
      "[CV] ................... learning_rate=0.2, max_depth=7, total=   5.6s\n",
      "[CV] learning_rate=0.2, max_depth=7 ..................................\n",
      "[CV] ................... learning_rate=0.2, max_depth=7, total=   5.5s\n",
      "[CV] learning_rate=0.2, max_depth=8 ..................................\n",
      "[CV] ................... learning_rate=0.2, max_depth=8, total=  10.8s\n",
      "[CV] learning_rate=0.2, max_depth=8 ..................................\n",
      "[CV] ................... learning_rate=0.2, max_depth=8, total=   5.4s\n",
      "[CV] learning_rate=0.2, max_depth=8 ..................................\n",
      "[CV] ................... learning_rate=0.2, max_depth=8, total=   5.4s\n",
      "[CV] learning_rate=0.3, max_depth=6 ..................................\n",
      "[CV] ................... learning_rate=0.3, max_depth=6, total=   4.7s\n",
      "[CV] learning_rate=0.3, max_depth=6 ..................................\n",
      "[CV] ................... learning_rate=0.3, max_depth=6, total=   5.1s\n",
      "[CV] learning_rate=0.3, max_depth=6 ..................................\n",
      "[CV] ................... learning_rate=0.3, max_depth=6, total=   5.4s\n",
      "[CV] learning_rate=0.3, max_depth=7 ..................................\n",
      "[CV] ................... learning_rate=0.3, max_depth=7, total=   4.8s\n",
      "[CV] learning_rate=0.3, max_depth=7 ..................................\n",
      "[CV] ................... learning_rate=0.3, max_depth=7, total=   5.4s\n",
      "[CV] learning_rate=0.3, max_depth=7 ..................................\n",
      "[CV] ................... learning_rate=0.3, max_depth=7, total=   5.4s\n",
      "[CV] learning_rate=0.3, max_depth=8 ..................................\n",
      "[CV] ................... learning_rate=0.3, max_depth=8, total=   4.9s\n",
      "[CV] learning_rate=0.3, max_depth=8 ..................................\n",
      "[CV] ................... learning_rate=0.3, max_depth=8, total=   4.9s\n",
      "[CV] learning_rate=0.3, max_depth=8 ..................................\n",
      "[CV] ................... learning_rate=0.3, max_depth=8, total=   5.0s\n",
      "[CV] learning_rate=0.4, max_depth=6 ..................................\n",
      "[CV] ................... learning_rate=0.4, max_depth=6, total=   4.8s\n",
      "[CV] learning_rate=0.4, max_depth=6 ..................................\n",
      "[CV] ................... learning_rate=0.4, max_depth=6, total=   5.7s\n",
      "[CV] learning_rate=0.4, max_depth=6 ..................................\n",
      "[CV] ................... learning_rate=0.4, max_depth=6, total=   5.0s\n",
      "[CV] learning_rate=0.4, max_depth=7 ..................................\n",
      "[CV] ................... learning_rate=0.4, max_depth=7, total=   4.6s\n",
      "[CV] learning_rate=0.4, max_depth=7 ..................................\n",
      "[CV] ................... learning_rate=0.4, max_depth=7, total=   5.1s\n",
      "[CV] learning_rate=0.4, max_depth=7 ..................................\n",
      "[CV] ................... learning_rate=0.4, max_depth=7, total=   4.8s\n",
      "[CV] learning_rate=0.4, max_depth=8 ..................................\n",
      "[CV] ................... learning_rate=0.4, max_depth=8, total=   4.5s\n",
      "[CV] learning_rate=0.4, max_depth=8 ..................................\n",
      "[CV] ................... learning_rate=0.4, max_depth=8, total=   8.5s\n",
      "[CV] learning_rate=0.4, max_depth=8 ..................................\n",
      "[CV] ................... learning_rate=0.4, max_depth=8, total=   5.5s\n"
     ]
    },
    {
     "name": "stderr",
     "output_type": "stream",
     "text": [
      "[Parallel(n_jobs=1)]: Done  27 out of  27 | elapsed:  3.8min finished\n"
     ]
    },
    {
     "data": {
      "text/plain": [
       "{'learning_rate': 0.2, 'max_depth': 8}"
      ]
     },
     "metadata": {},
     "output_type": "display_data"
    },
    {
     "data": {
      "text/plain": [
       "'Лучшее значение метрики MSE'"
      ]
     },
     "metadata": {},
     "output_type": "display_data"
    },
    {
     "data": {
      "text/plain": [
       "-2327615.634551972"
      ]
     },
     "metadata": {},
     "output_type": "display_data"
    },
    {
     "data": {
      "text/plain": [
       "'Лучшее значение метрики RMSE'"
      ]
     },
     "metadata": {},
     "output_type": "display_data"
    },
    {
     "data": {
      "text/plain": [
       "1525.6525274622568"
      ]
     },
     "metadata": {},
     "output_type": "display_data"
    },
    {
     "name": "stdout",
     "output_type": "stream",
     "text": [
      "CPU times: user 3min 55s, sys: 867 ms, total: 3min 55s\n",
      "Wall time: 3min 59s\n"
     ]
    }
   ],
   "source": [
    "%%time\n",
    "\n",
    "parameters  = {'max_depth': [6, 7, 8],\n",
    "               'learning_rate': [0.2, 0.3, 0.4]\n",
    "              }\n",
    "\n",
    "model_lgbm = lgb.LGBMRegressor()\n",
    "grid = GridSearchCV(model_lgbm, parameters, cv=3, verbose=2, scoring='neg_mean_squared_error')\n",
    "grid.fit(train_features, train_target)\n",
    "\n",
    "display(grid.best_params_)\n",
    "\n",
    "display('Лучшее значение метрики MSE', grid.best_score_)\n",
    "display('Лучшее значение метрики RMSE', (-grid.best_score_) ** 0.5)"
   ]
  },
  {
   "cell_type": "code",
   "execution_count": 77,
   "metadata": {},
   "outputs": [],
   "source": [
    "params = {\n",
    "    'metric': 'rmse',\n",
    "    'learning_rate': 0.3, \n",
    "    'max_depth': 7\n",
    "}"
   ]
  },
  {
   "cell_type": "code",
   "execution_count": 78,
   "metadata": {
    "scrolled": true
   },
   "outputs": [
    {
     "name": "stdout",
     "output_type": "stream",
     "text": [
      "Training until validation scores don't improve for 5 rounds\n",
      "[10]\tvalid_0's rmse: 1706.03\n",
      "[20]\tvalid_0's rmse: 1598.65\n",
      "[30]\tvalid_0's rmse: 1567.7\n",
      "[40]\tvalid_0's rmse: 1551.56\n",
      "[50]\tvalid_0's rmse: 1543.28\n",
      "[60]\tvalid_0's rmse: 1535.04\n",
      "[70]\tvalid_0's rmse: 1527.72\n",
      "[80]\tvalid_0's rmse: 1523.34\n",
      "[90]\tvalid_0's rmse: 1517.6\n",
      "[100]\tvalid_0's rmse: 1516.06\n",
      "[110]\tvalid_0's rmse: 1511.72\n",
      "[120]\tvalid_0's rmse: 1506.59\n",
      "[130]\tvalid_0's rmse: 1502.44\n",
      "[140]\tvalid_0's rmse: 1500.46\n",
      "Early stopping, best iteration is:\n",
      "[136]\tvalid_0's rmse: 1500.06\n",
      "CPU times: user 9.13 s, sys: 42 ms, total: 9.17 s\n",
      "Wall time: 9.3 s\n"
     ]
    },
    {
     "data": {
      "text/html": [
       "<div>\n",
       "<style scoped>\n",
       "    .dataframe tbody tr th:only-of-type {\n",
       "        vertical-align: middle;\n",
       "    }\n",
       "\n",
       "    .dataframe tbody tr th {\n",
       "        vertical-align: top;\n",
       "    }\n",
       "\n",
       "    .dataframe thead th {\n",
       "        text-align: right;\n",
       "    }\n",
       "</style>\n",
       "<table border=\"1\" class=\"dataframe\">\n",
       "  <thead>\n",
       "    <tr style=\"text-align: right;\">\n",
       "      <th></th>\n",
       "      <th>rmse</th>\n",
       "      <th>learning_time</th>\n",
       "      <th>prediction_time</th>\n",
       "    </tr>\n",
       "  </thead>\n",
       "  <tbody>\n",
       "    <tr>\n",
       "      <td>dummy_mean</td>\n",
       "      <td>4577</td>\n",
       "      <td>0.00111</td>\n",
       "      <td>0.00032</td>\n",
       "    </tr>\n",
       "    <tr>\n",
       "      <td>linreg_all_data</td>\n",
       "      <td>2384</td>\n",
       "      <td>21</td>\n",
       "      <td>0.17</td>\n",
       "    </tr>\n",
       "    <tr>\n",
       "      <td>linreg_no_model</td>\n",
       "      <td>2527</td>\n",
       "      <td>6</td>\n",
       "      <td>0.14</td>\n",
       "    </tr>\n",
       "    <tr>\n",
       "      <td>LGBM_20</td>\n",
       "      <td>1884</td>\n",
       "      <td>21.7</td>\n",
       "      <td>0.23</td>\n",
       "    </tr>\n",
       "    <tr>\n",
       "      <td>LGBM_100</td>\n",
       "      <td>1537</td>\n",
       "      <td>9.2</td>\n",
       "      <td>0.93</td>\n",
       "    </tr>\n",
       "    <tr>\n",
       "      <td>LGBM_500</td>\n",
       "      <td>1474</td>\n",
       "      <td>31.8</td>\n",
       "      <td>3.91</td>\n",
       "    </tr>\n",
       "    <tr>\n",
       "      <td>LGBM_best</td>\n",
       "      <td>1506</td>\n",
       "      <td>8.3</td>\n",
       "      <td>0.92</td>\n",
       "    </tr>\n",
       "  </tbody>\n",
       "</table>\n",
       "</div>"
      ],
      "text/plain": [
       "                 rmse learning_time prediction_time\n",
       "dummy_mean       4577       0.00111         0.00032\n",
       "linreg_all_data  2384            21            0.17\n",
       "linreg_no_model  2527             6            0.14\n",
       "LGBM_20          1884          21.7            0.23\n",
       "LGBM_100         1537           9.2            0.93\n",
       "LGBM_500         1474          31.8            3.91\n",
       "LGBM_best        1506           8.3            0.92"
      ]
     },
     "execution_count": 78,
     "metadata": {},
     "output_type": "execute_result"
    }
   ],
   "source": [
    "%%time\n",
    "\n",
    "start_time = time.time()\n",
    "gbm = lgb.train(params, train_data, num_boost_round=500, valid_sets=eval_data, \n",
    "                early_stopping_rounds=5, feature_name=list(train_features.columns),  \n",
    "                categorical_feature=cat_features, verbose_eval=10)\n",
    "end_time = time.time()\n",
    "learning_time = end_time - start_time\n",
    "\n",
    "start_time = time.time()\n",
    "predictions = gbm.predict(test_features, num_iteration=gbm.best_iteration)\n",
    "end_time = time.time()\n",
    "prediction_time = end_time - start_time\n",
    "\n",
    "rmse_test = mean_squared_error(test_target, predictions) ** 0.5\n",
    "\n",
    "model_comparison.loc[f'LGBM_best', :] = [round(rmse_test, 0), round(learning_time, 1), \n",
    "                                         round(prediction_time, 2)]\n",
    "model_comparison"
   ]
  },
  {
   "cell_type": "markdown",
   "metadata": {},
   "source": [
    "### CatBoost"
   ]
  },
  {
   "cell_type": "code",
   "execution_count": 79,
   "metadata": {},
   "outputs": [],
   "source": [
    "train_pool = Pool(train_features, \n",
    "                  train_target, \n",
    "                  cat_features=cat_features)\n",
    "eval_pool = Pool(valid_features, \n",
    "                  valid_target, \n",
    "                  cat_features=cat_features)\n",
    "test_pool = Pool(test_features, \n",
    "                 cat_features=cat_features) "
   ]
  },
  {
   "cell_type": "code",
   "execution_count": 80,
   "metadata": {},
   "outputs": [],
   "source": [
    "def CatBoost_probe_func(iterations=20):\n",
    "    model_cat = CatBoostRegressor(iterations=iterations, early_stopping_rounds=5, verbose=10)\n",
    "\n",
    "    start_time = time.time()\n",
    "    model_cat.fit(train_pool, eval_set=eval_pool)\n",
    "    end_time = time.time()\n",
    "    learning_time = end_time - start_time\n",
    "\n",
    "    start_time = time.time()\n",
    "    predictions = model_cat.predict(test_pool)\n",
    "    end_time = time.time()\n",
    "    prediction_time = end_time - start_time\n",
    "\n",
    "    rmse_test = mean_squared_error(test_target, predictions) ** 0.5\n",
    "    display(f'The RMSE of prediction on test is: {rmse_test}')\n",
    "\n",
    "    return [round(rmse_test, 0), round(learning_time, 1), round(prediction_time, 2)]"
   ]
  },
  {
   "cell_type": "code",
   "execution_count": 81,
   "metadata": {},
   "outputs": [
    {
     "name": "stdout",
     "output_type": "stream",
     "text": [
      "0:\tlearn: 4491.1976930\ttest: 4472.4793788\tbest: 4472.4793788 (0)\ttotal: 408ms\tremaining: 7.74s\n",
      "10:\tlearn: 3725.4590469\ttest: 3710.7413621\tbest: 3710.7413621 (10)\ttotal: 3.6s\tremaining: 2.95s\n",
      "19:\tlearn: 3230.6520614\ttest: 3217.8815960\tbest: 3217.8815960 (19)\ttotal: 6.3s\tremaining: 0us\n",
      "\n",
      "bestTest = 3217.881596\n",
      "bestIteration = 19\n",
      "\n"
     ]
    },
    {
     "data": {
      "text/plain": [
       "'The RMSE of prediction on test is: 3231.225064383773'"
      ]
     },
     "metadata": {},
     "output_type": "display_data"
    },
    {
     "name": "stdout",
     "output_type": "stream",
     "text": [
      "CPU times: user 6.34 s, sys: 661 ms, total: 7 s\n",
      "Wall time: 10.8 s\n"
     ]
    }
   ],
   "source": [
    "%%time\n",
    "\n",
    "model_comparison.loc[f'CatBoost_20', :] = CatBoost_probe_func(20)"
   ]
  },
  {
   "cell_type": "code",
   "execution_count": 82,
   "metadata": {},
   "outputs": [
    {
     "name": "stdout",
     "output_type": "stream",
     "text": [
      "0:\tlearn: 4491.1976930\ttest: 4472.4793788\tbest: 4472.4793788 (0)\ttotal: 245ms\tremaining: 24.2s\n",
      "10:\tlearn: 3725.4590469\ttest: 3710.7413621\tbest: 3710.7413621 (10)\ttotal: 3.43s\tremaining: 27.8s\n",
      "20:\tlearn: 3182.8239742\ttest: 3170.2869838\tbest: 3170.2869838 (20)\ttotal: 6.53s\tremaining: 24.6s\n",
      "30:\tlearn: 2802.6593717\ttest: 2791.9833368\tbest: 2791.9833368 (30)\ttotal: 9.52s\tremaining: 21.2s\n",
      "40:\tlearn: 2539.3574007\ttest: 2529.8790537\tbest: 2529.8790537 (40)\ttotal: 12.5s\tremaining: 18s\n",
      "50:\tlearn: 2341.2637277\ttest: 2330.6916967\tbest: 2330.6916967 (50)\ttotal: 15.6s\tremaining: 15s\n",
      "60:\tlearn: 2208.4677698\ttest: 2197.8980251\tbest: 2197.8980251 (60)\ttotal: 18.6s\tremaining: 11.9s\n",
      "70:\tlearn: 2106.8966700\ttest: 2097.7662103\tbest: 2097.7662103 (70)\ttotal: 21.7s\tremaining: 8.85s\n",
      "80:\tlearn: 2026.7902621\ttest: 2018.4762623\tbest: 2018.4762623 (80)\ttotal: 24.7s\tremaining: 5.79s\n",
      "90:\tlearn: 1967.0155394\ttest: 1958.1865735\tbest: 1958.1865735 (90)\ttotal: 27.7s\tremaining: 2.74s\n",
      "99:\tlearn: 1927.2158662\ttest: 1918.4345522\tbest: 1918.4345522 (99)\ttotal: 30.4s\tremaining: 0us\n",
      "\n",
      "bestTest = 1918.434552\n",
      "bestIteration = 99\n",
      "\n"
     ]
    },
    {
     "data": {
      "text/plain": [
       "'The RMSE of prediction on test is: 1933.2384509560598'"
      ]
     },
     "metadata": {},
     "output_type": "display_data"
    },
    {
     "name": "stdout",
     "output_type": "stream",
     "text": [
      "CPU times: user 28.8 s, sys: 2.21 s, total: 31 s\n",
      "Wall time: 35.5 s\n"
     ]
    }
   ],
   "source": [
    "%%time\n",
    "\n",
    "model_comparison.loc[f'CatBoost_100', :] = CatBoost_probe_func(100)"
   ]
  },
  {
   "cell_type": "code",
   "execution_count": 83,
   "metadata": {
    "scrolled": true
   },
   "outputs": [
    {
     "name": "stdout",
     "output_type": "stream",
     "text": [
      "0:\tlearn: 4490.3843605\ttest: 4471.5626980\tbest: 4471.5626980 (0)\ttotal: 777ms\tremaining: 6m 27s\n",
      "10:\tlearn: 3718.4658961\ttest: 3702.1617917\tbest: 3702.1617917 (10)\ttotal: 8.96s\tremaining: 6m 38s\n",
      "20:\tlearn: 3172.7520182\ttest: 3158.6090630\tbest: 3158.6090630 (20)\ttotal: 16.7s\tremaining: 6m 22s\n",
      "30:\tlearn: 2789.6867773\ttest: 2776.6413908\tbest: 2776.6413908 (30)\ttotal: 24.2s\tremaining: 6m 6s\n",
      "40:\tlearn: 2519.0760578\ttest: 2506.3136919\tbest: 2506.3136919 (40)\ttotal: 32.2s\tremaining: 6m\n",
      "50:\tlearn: 2324.3665714\ttest: 2312.7153410\tbest: 2312.7153410 (50)\ttotal: 39.8s\tremaining: 5m 50s\n",
      "60:\tlearn: 2179.5333567\ttest: 2168.4235852\tbest: 2168.4235852 (60)\ttotal: 47.8s\tremaining: 5m 44s\n",
      "70:\tlearn: 2072.4181554\ttest: 2061.2057320\tbest: 2061.2057320 (70)\ttotal: 56.1s\tremaining: 5m 39s\n",
      "80:\tlearn: 1996.2928541\ttest: 1984.8229139\tbest: 1984.8229139 (80)\ttotal: 1m 3s\tremaining: 5m 29s\n",
      "90:\tlearn: 1938.7212989\ttest: 1926.2815351\tbest: 1926.2815351 (90)\ttotal: 1m 11s\tremaining: 5m 21s\n",
      "100:\tlearn: 1898.1491927\ttest: 1885.9981416\tbest: 1885.9981416 (100)\ttotal: 1m 18s\tremaining: 5m 11s\n",
      "110:\tlearn: 1865.8893911\ttest: 1853.9383508\tbest: 1853.9383508 (110)\ttotal: 1m 26s\tremaining: 5m 3s\n",
      "120:\tlearn: 1840.8824046\ttest: 1829.4761463\tbest: 1829.4761463 (120)\ttotal: 1m 34s\tremaining: 4m 55s\n",
      "130:\tlearn: 1818.8992884\ttest: 1808.0340520\tbest: 1808.0340520 (130)\ttotal: 1m 42s\tremaining: 4m 48s\n",
      "140:\tlearn: 1801.3959383\ttest: 1791.0520317\tbest: 1791.0520317 (140)\ttotal: 1m 50s\tremaining: 4m 40s\n",
      "150:\tlearn: 1786.2649201\ttest: 1776.1519249\tbest: 1776.1519249 (150)\ttotal: 1m 58s\tremaining: 4m 32s\n",
      "160:\tlearn: 1774.1447622\ttest: 1764.7598230\tbest: 1764.7598230 (160)\ttotal: 2m 6s\tremaining: 4m 25s\n",
      "170:\tlearn: 1763.2926795\ttest: 1754.0797871\tbest: 1754.0797871 (170)\ttotal: 2m 13s\tremaining: 4m 17s\n",
      "180:\tlearn: 1752.4085922\ttest: 1743.6374435\tbest: 1743.6374435 (180)\ttotal: 2m 21s\tremaining: 4m 9s\n",
      "190:\tlearn: 1743.7719543\ttest: 1735.9048090\tbest: 1735.9048090 (190)\ttotal: 2m 29s\tremaining: 4m 1s\n",
      "200:\tlearn: 1735.7265813\ttest: 1727.9841986\tbest: 1727.9841986 (200)\ttotal: 2m 37s\tremaining: 3m 54s\n",
      "210:\tlearn: 1727.6602415\ttest: 1720.1705166\tbest: 1720.1705166 (210)\ttotal: 2m 44s\tremaining: 3m 45s\n",
      "220:\tlearn: 1719.9367388\ttest: 1713.1008139\tbest: 1713.1008139 (220)\ttotal: 2m 52s\tremaining: 3m 37s\n",
      "230:\tlearn: 1712.7946671\ttest: 1706.0509747\tbest: 1706.0509747 (230)\ttotal: 3m\tremaining: 3m 29s\n",
      "240:\tlearn: 1706.3061253\ttest: 1699.5636398\tbest: 1699.5636398 (240)\ttotal: 3m 9s\tremaining: 3m 23s\n",
      "250:\tlearn: 1700.5194564\ttest: 1694.0040071\tbest: 1694.0040071 (250)\ttotal: 3m 17s\tremaining: 3m 15s\n",
      "260:\tlearn: 1693.6975297\ttest: 1687.1555242\tbest: 1687.1555242 (260)\ttotal: 3m 25s\tremaining: 3m 7s\n",
      "270:\tlearn: 1688.4419322\ttest: 1682.1979351\tbest: 1682.1979351 (270)\ttotal: 3m 32s\tremaining: 2m 59s\n",
      "280:\tlearn: 1683.0697160\ttest: 1677.1673496\tbest: 1677.1673496 (280)\ttotal: 3m 40s\tremaining: 2m 51s\n",
      "290:\tlearn: 1677.6198328\ttest: 1671.6361631\tbest: 1671.6361631 (290)\ttotal: 3m 48s\tremaining: 2m 43s\n",
      "300:\tlearn: 1672.9146515\ttest: 1667.1198180\tbest: 1667.1198180 (300)\ttotal: 3m 56s\tremaining: 2m 36s\n",
      "310:\tlearn: 1667.8730212\ttest: 1661.5918604\tbest: 1661.5918604 (310)\ttotal: 4m 3s\tremaining: 2m 28s\n",
      "320:\tlearn: 1663.0561942\ttest: 1657.1981818\tbest: 1657.1981818 (320)\ttotal: 4m 11s\tremaining: 2m 20s\n",
      "330:\tlearn: 1658.5929318\ttest: 1653.0103727\tbest: 1653.0103727 (330)\ttotal: 4m 19s\tremaining: 2m 12s\n",
      "340:\tlearn: 1654.6985252\ttest: 1649.5094925\tbest: 1649.5094925 (340)\ttotal: 4m 27s\tremaining: 2m 4s\n",
      "350:\tlearn: 1651.1538702\ttest: 1646.2002252\tbest: 1646.2002252 (350)\ttotal: 4m 35s\tremaining: 1m 56s\n",
      "360:\tlearn: 1647.6106225\ttest: 1642.6974594\tbest: 1642.6974594 (360)\ttotal: 4m 43s\tremaining: 1m 49s\n",
      "370:\tlearn: 1644.0145487\ttest: 1639.3983374\tbest: 1639.3983374 (370)\ttotal: 4m 50s\tremaining: 1m 41s\n",
      "380:\tlearn: 1640.5119991\ttest: 1636.1866887\tbest: 1636.1866887 (380)\ttotal: 4m 59s\tremaining: 1m 33s\n",
      "390:\tlearn: 1636.7761464\ttest: 1632.7211440\tbest: 1632.7211440 (390)\ttotal: 5m 8s\tremaining: 1m 25s\n",
      "400:\tlearn: 1633.2705521\ttest: 1629.4488188\tbest: 1629.4488188 (400)\ttotal: 5m 16s\tremaining: 1m 18s\n",
      "410:\tlearn: 1630.0610642\ttest: 1626.5811523\tbest: 1626.5811523 (410)\ttotal: 5m 24s\tremaining: 1m 10s\n",
      "420:\tlearn: 1626.9275590\ttest: 1624.0144305\tbest: 1624.0144305 (420)\ttotal: 5m 31s\tremaining: 1m 2s\n",
      "430:\tlearn: 1624.0257678\ttest: 1621.4024398\tbest: 1621.4024398 (430)\ttotal: 5m 40s\tremaining: 54.5s\n",
      "440:\tlearn: 1620.7369825\ttest: 1618.4642757\tbest: 1618.4642757 (440)\ttotal: 5m 48s\tremaining: 46.6s\n",
      "450:\tlearn: 1617.7325342\ttest: 1615.7893020\tbest: 1615.7893020 (450)\ttotal: 5m 56s\tremaining: 38.7s\n",
      "460:\tlearn: 1614.6869217\ttest: 1613.0757800\tbest: 1613.0757800 (460)\ttotal: 6m 4s\tremaining: 30.9s\n",
      "470:\tlearn: 1611.7093400\ttest: 1610.5118572\tbest: 1610.5118572 (470)\ttotal: 6m 12s\tremaining: 23s\n",
      "480:\tlearn: 1609.3747539\ttest: 1608.2942752\tbest: 1608.2942752 (480)\ttotal: 6m 21s\tremaining: 15.1s\n",
      "490:\tlearn: 1606.7438652\ttest: 1605.7597011\tbest: 1605.7597011 (490)\ttotal: 6m 29s\tremaining: 7.13s\n",
      "499:\tlearn: 1604.2022800\ttest: 1603.3864869\tbest: 1603.3864869 (499)\ttotal: 6m 36s\tremaining: 0us\n",
      "\n",
      "bestTest = 1603.386487\n",
      "bestIteration = 499\n",
      "\n"
     ]
    },
    {
     "data": {
      "text/plain": [
       "'The RMSE of prediction on test is: 1621.7956699228841'"
      ]
     },
     "metadata": {},
     "output_type": "display_data"
    },
    {
     "name": "stdout",
     "output_type": "stream",
     "text": [
      "CPU times: user 6min 8s, sys: 26.9 s, total: 6min 35s\n",
      "Wall time: 6min 40s\n"
     ]
    }
   ],
   "source": [
    "%%time\n",
    "\n",
    "model_comparison.loc[f'CatBoost_500', :] = CatBoost_probe_func(500)"
   ]
  },
  {
   "cell_type": "markdown",
   "metadata": {},
   "source": [
    "Получается небыстро, не будем подбирать гиперпараметры."
   ]
  },
  {
   "cell_type": "markdown",
   "metadata": {},
   "source": [
    "## Анализ моделей"
   ]
  },
  {
   "cell_type": "code",
   "execution_count": 84,
   "metadata": {},
   "outputs": [],
   "source": [
    "model_comparison['rmse_to_best'] = model_comparison['rmse'] / model_comparison['rmse'].min()"
   ]
  },
  {
   "cell_type": "code",
   "execution_count": 85,
   "metadata": {},
   "outputs": [
    {
     "data": {
      "text/html": [
       "<div>\n",
       "<style scoped>\n",
       "    .dataframe tbody tr th:only-of-type {\n",
       "        vertical-align: middle;\n",
       "    }\n",
       "\n",
       "    .dataframe tbody tr th {\n",
       "        vertical-align: top;\n",
       "    }\n",
       "\n",
       "    .dataframe thead th {\n",
       "        text-align: right;\n",
       "    }\n",
       "</style>\n",
       "<table border=\"1\" class=\"dataframe\">\n",
       "  <thead>\n",
       "    <tr style=\"text-align: right;\">\n",
       "      <th></th>\n",
       "      <th>rmse</th>\n",
       "      <th>learning_time</th>\n",
       "      <th>prediction_time</th>\n",
       "      <th>rmse_to_best</th>\n",
       "    </tr>\n",
       "  </thead>\n",
       "  <tbody>\n",
       "    <tr>\n",
       "      <td>LGBM_500</td>\n",
       "      <td>1474</td>\n",
       "      <td>31.8</td>\n",
       "      <td>3.91</td>\n",
       "      <td>1</td>\n",
       "    </tr>\n",
       "    <tr>\n",
       "      <td>LGBM_best</td>\n",
       "      <td>1506</td>\n",
       "      <td>8.3</td>\n",
       "      <td>0.92</td>\n",
       "      <td>1.02171</td>\n",
       "    </tr>\n",
       "    <tr>\n",
       "      <td>LGBM_100</td>\n",
       "      <td>1537</td>\n",
       "      <td>9.2</td>\n",
       "      <td>0.93</td>\n",
       "      <td>1.04274</td>\n",
       "    </tr>\n",
       "    <tr>\n",
       "      <td>CatBoost_500</td>\n",
       "      <td>1622</td>\n",
       "      <td>400.1</td>\n",
       "      <td>0.35</td>\n",
       "      <td>1.10041</td>\n",
       "    </tr>\n",
       "    <tr>\n",
       "      <td>LGBM_20</td>\n",
       "      <td>1884</td>\n",
       "      <td>21.7</td>\n",
       "      <td>0.23</td>\n",
       "      <td>1.27815</td>\n",
       "    </tr>\n",
       "    <tr>\n",
       "      <td>CatBoost_100</td>\n",
       "      <td>1933</td>\n",
       "      <td>35.4</td>\n",
       "      <td>0.01</td>\n",
       "      <td>1.3114</td>\n",
       "    </tr>\n",
       "    <tr>\n",
       "      <td>linreg_all_data</td>\n",
       "      <td>2384</td>\n",
       "      <td>21</td>\n",
       "      <td>0.17</td>\n",
       "      <td>1.61737</td>\n",
       "    </tr>\n",
       "    <tr>\n",
       "      <td>linreg_no_model</td>\n",
       "      <td>2527</td>\n",
       "      <td>6</td>\n",
       "      <td>0.14</td>\n",
       "      <td>1.71438</td>\n",
       "    </tr>\n",
       "    <tr>\n",
       "      <td>CatBoost_20</td>\n",
       "      <td>3231</td>\n",
       "      <td>10.8</td>\n",
       "      <td>0.01</td>\n",
       "      <td>2.19199</td>\n",
       "    </tr>\n",
       "    <tr>\n",
       "      <td>dummy_mean</td>\n",
       "      <td>4577</td>\n",
       "      <td>0.00111</td>\n",
       "      <td>0.00032</td>\n",
       "      <td>3.10516</td>\n",
       "    </tr>\n",
       "  </tbody>\n",
       "</table>\n",
       "</div>"
      ],
      "text/plain": [
       "                 rmse learning_time prediction_time rmse_to_best\n",
       "LGBM_500         1474          31.8            3.91            1\n",
       "LGBM_best        1506           8.3            0.92      1.02171\n",
       "LGBM_100         1537           9.2            0.93      1.04274\n",
       "CatBoost_500     1622         400.1            0.35      1.10041\n",
       "LGBM_20          1884          21.7            0.23      1.27815\n",
       "CatBoost_100     1933          35.4            0.01       1.3114\n",
       "linreg_all_data  2384            21            0.17      1.61737\n",
       "linreg_no_model  2527             6            0.14      1.71438\n",
       "CatBoost_20      3231          10.8            0.01      2.19199\n",
       "dummy_mean       4577       0.00111         0.00032      3.10516"
      ]
     },
     "execution_count": 85,
     "metadata": {},
     "output_type": "execute_result"
    }
   ],
   "source": [
    "model_comparison.sort_values(by='rmse')"
   ]
  },
  {
   "cell_type": "markdown",
   "metadata": {},
   "source": [
    "* Лучший результат по значению RMSE показал LGBM с 500 итерациями (остановился на 484), но видим большое время обучения и предсказания. Хорошая альтернатива - LGBM с 100 итерациями или LGBM_best (*'learning_rate': 0.3, 'max_depth': 7*): качество всего на 4-5% хуже, зато время обучения и предсказания - в 4-5 раз меньше. \n",
    "* CatBoost оказался долгим по сравнению с LGBM, а с малым количеством итераций (20) показал себя даже хуже линейной регрессии.\n",
    "* Линейная регрессия показала результат в 1.5-2 раза хуже, чем LGBM_500, не порадовав высокой скоростью. По всей видимости, это связано с большим количеством признаков, возникающих в результате OHE из категориальных: отказ от использования модели автомобиля и снижение количества фичей с 324 до 75 увеличило скорость обучения в 5 раз."
   ]
  }
 ],
 "metadata": {
  "ExecuteTimeLog": [
   {
    "duration": 1664,
    "start_time": "2021-07-03T17:08:46.499Z"
   },
   {
    "duration": 1170,
    "start_time": "2021-07-03T17:09:47.185Z"
   },
   {
    "duration": 162,
    "start_time": "2021-07-03T17:09:53.946Z"
   },
   {
    "duration": 157,
    "start_time": "2021-07-03T17:10:26.336Z"
   },
   {
    "duration": 158,
    "start_time": "2021-07-03T17:10:33.900Z"
   },
   {
    "duration": 163,
    "start_time": "2021-07-03T17:10:45.493Z"
   },
   {
    "duration": 26,
    "start_time": "2021-07-03T17:10:57.641Z"
   },
   {
    "duration": 168,
    "start_time": "2021-07-03T17:11:15.148Z"
   },
   {
    "duration": 163,
    "start_time": "2021-07-03T17:11:27.941Z"
   },
   {
    "duration": 8,
    "start_time": "2021-07-03T17:11:35.965Z"
   },
   {
    "duration": 1146,
    "start_time": "2021-07-03T17:20:36.731Z"
   },
   {
    "duration": 30,
    "start_time": "2021-07-03T17:25:14.099Z"
   },
   {
    "duration": 20,
    "start_time": "2021-07-03T17:25:20.977Z"
   },
   {
    "duration": 2046,
    "start_time": "2021-07-03T18:33:31.005Z"
   },
   {
    "duration": 2044,
    "start_time": "2021-07-03T18:33:49.434Z"
   },
   {
    "duration": 1614,
    "start_time": "2021-07-03T18:34:03.772Z"
   },
   {
    "duration": 1150,
    "start_time": "2021-07-03T18:34:05.389Z"
   },
   {
    "duration": 22,
    "start_time": "2021-07-03T18:34:06.542Z"
   },
   {
    "duration": 180,
    "start_time": "2021-07-03T18:34:06.567Z"
   },
   {
    "duration": 6,
    "start_time": "2021-07-03T18:34:06.750Z"
   },
   {
    "duration": 8383,
    "start_time": "2021-07-03T18:34:06.758Z"
   },
   {
    "duration": 2010,
    "start_time": "2021-07-03T18:34:13.133Z"
   },
   {
    "duration": 8,
    "start_time": "2021-07-03T18:36:07.916Z"
   },
   {
    "duration": 6,
    "start_time": "2021-07-03T18:36:12.514Z"
   },
   {
    "duration": 6,
    "start_time": "2021-07-03T18:36:18.080Z"
   },
   {
    "duration": 8,
    "start_time": "2021-07-03T18:36:49.856Z"
   },
   {
    "duration": 147,
    "start_time": "2021-07-03T18:37:01.120Z"
   },
   {
    "duration": 315,
    "start_time": "2021-07-03T18:38:59.202Z"
   },
   {
    "duration": 2530,
    "start_time": "2021-07-03T18:39:08.607Z"
   },
   {
    "duration": 154,
    "start_time": "2021-07-03T18:45:30.666Z"
   },
   {
    "duration": 23,
    "start_time": "2021-07-03T18:45:43.464Z"
   },
   {
    "duration": 23,
    "start_time": "2021-07-03T18:45:46.604Z"
   },
   {
    "duration": 22,
    "start_time": "2021-07-03T18:45:49.019Z"
   },
   {
    "duration": 161,
    "start_time": "2021-07-03T18:46:01.649Z"
   },
   {
    "duration": 46,
    "start_time": "2021-07-03T18:46:22.745Z"
   },
   {
    "duration": 53,
    "start_time": "2021-07-03T18:46:39.240Z"
   },
   {
    "duration": 417,
    "start_time": "2021-07-03T18:49:05.841Z"
   },
   {
    "duration": 414,
    "start_time": "2021-07-03T18:49:18.244Z"
   },
   {
    "duration": 45,
    "start_time": "2021-07-03T18:57:32.900Z"
   },
   {
    "duration": 45,
    "start_time": "2021-07-03T18:57:41.860Z"
   },
   {
    "duration": 47,
    "start_time": "2021-07-03T19:03:11.168Z"
   },
   {
    "duration": 46,
    "start_time": "2021-07-03T19:03:46.371Z"
   },
   {
    "duration": 94,
    "start_time": "2021-07-03T19:04:04.501Z"
   },
   {
    "duration": 359,
    "start_time": "2021-07-03T19:12:27.911Z"
   },
   {
    "duration": 370,
    "start_time": "2021-07-03T19:13:23.443Z"
   },
   {
    "duration": 5,
    "start_time": "2021-07-03T19:14:13.874Z"
   },
   {
    "duration": 43,
    "start_time": "2021-07-03T19:14:20.580Z"
   },
   {
    "duration": 82,
    "start_time": "2021-07-03T19:15:34.046Z"
   },
   {
    "duration": 79,
    "start_time": "2021-07-03T19:15:39.736Z"
   },
   {
    "duration": 79,
    "start_time": "2021-07-03T19:15:44.566Z"
   },
   {
    "duration": 78,
    "start_time": "2021-07-03T19:15:54.216Z"
   },
   {
    "duration": 82,
    "start_time": "2021-07-03T19:18:32.916Z"
   },
   {
    "duration": 501,
    "start_time": "2021-07-03T19:18:51.460Z"
   },
   {
    "duration": 96,
    "start_time": "2021-07-03T19:20:11.275Z"
   },
   {
    "duration": 95,
    "start_time": "2021-07-03T19:21:29.445Z"
   },
   {
    "duration": 271,
    "start_time": "2021-07-03T19:23:25.234Z"
   },
   {
    "duration": 1596,
    "start_time": "2021-07-03T19:34:13.904Z"
   },
   {
    "duration": 1171,
    "start_time": "2021-07-03T19:34:15.503Z"
   },
   {
    "duration": 38,
    "start_time": "2021-07-03T19:34:16.681Z"
   },
   {
    "duration": 178,
    "start_time": "2021-07-03T19:34:16.721Z"
   },
   {
    "duration": 12,
    "start_time": "2021-07-03T19:34:16.901Z"
   },
   {
    "duration": 2407,
    "start_time": "2021-07-03T19:34:16.915Z"
   },
   {
    "duration": 423,
    "start_time": "2021-07-03T19:34:19.325Z"
   },
   {
    "duration": 112,
    "start_time": "2021-07-03T19:34:19.751Z"
   },
   {
    "duration": 530,
    "start_time": "2021-07-03T19:34:19.865Z"
   },
   {
    "duration": 1052,
    "start_time": "2021-07-04T15:08:53.545Z"
   },
   {
    "duration": 756,
    "start_time": "2021-07-04T15:08:54.599Z"
   },
   {
    "duration": 16,
    "start_time": "2021-07-04T15:08:55.356Z"
   },
   {
    "duration": 124,
    "start_time": "2021-07-04T15:08:55.385Z"
   },
   {
    "duration": 5,
    "start_time": "2021-07-04T15:08:55.511Z"
   },
   {
    "duration": 5,
    "start_time": "2021-07-04T15:08:55.517Z"
   },
   {
    "duration": 1517,
    "start_time": "2021-07-04T15:08:55.523Z"
   },
   {
    "duration": 295,
    "start_time": "2021-07-04T15:08:57.041Z"
   },
   {
    "duration": 83,
    "start_time": "2021-07-04T15:08:57.338Z"
   },
   {
    "duration": 378,
    "start_time": "2021-07-04T15:08:57.423Z"
   },
   {
    "duration": 21,
    "start_time": "2021-07-04T15:09:16.250Z"
   },
   {
    "duration": 298,
    "start_time": "2021-07-04T15:09:31.507Z"
   },
   {
    "duration": 23,
    "start_time": "2021-07-04T15:10:17.933Z"
   },
   {
    "duration": 68,
    "start_time": "2021-07-04T16:14:43.130Z"
   },
   {
    "duration": 65,
    "start_time": "2021-07-04T16:15:08.250Z"
   },
   {
    "duration": 95,
    "start_time": "2021-07-04T16:15:11.787Z"
   },
   {
    "duration": 196,
    "start_time": "2021-07-04T16:15:16.102Z"
   },
   {
    "duration": 291,
    "start_time": "2021-07-04T16:15:55.546Z"
   },
   {
    "duration": 32,
    "start_time": "2021-07-04T16:16:16.576Z"
   },
   {
    "duration": 267,
    "start_time": "2021-07-04T16:17:20.157Z"
   },
   {
    "duration": 177,
    "start_time": "2021-07-04T16:42:23.842Z"
   },
   {
    "duration": 42,
    "start_time": "2021-07-04T16:42:31.191Z"
   },
   {
    "duration": 13,
    "start_time": "2021-07-04T16:42:49.158Z"
   },
   {
    "duration": 31,
    "start_time": "2021-07-04T16:43:02.361Z"
   },
   {
    "duration": 37,
    "start_time": "2021-07-04T16:43:23.808Z"
   },
   {
    "duration": 229,
    "start_time": "2021-07-04T16:43:42.130Z"
   },
   {
    "duration": 214,
    "start_time": "2021-07-04T16:43:51.104Z"
   },
   {
    "duration": 209,
    "start_time": "2021-07-04T16:43:56.328Z"
   },
   {
    "duration": 47,
    "start_time": "2021-07-04T16:44:26.935Z"
   },
   {
    "duration": 5585,
    "start_time": "2021-07-04T16:44:31.738Z"
   },
   {
    "duration": 35,
    "start_time": "2021-07-04T16:44:41.359Z"
   },
   {
    "duration": 33,
    "start_time": "2021-07-04T16:46:59.581Z"
   },
   {
    "duration": 35,
    "start_time": "2021-07-04T16:47:20.639Z"
   },
   {
    "duration": 35,
    "start_time": "2021-07-04T16:47:31.035Z"
   },
   {
    "duration": 34,
    "start_time": "2021-07-04T16:47:38.409Z"
   },
   {
    "duration": 37,
    "start_time": "2021-07-04T16:47:43.594Z"
   },
   {
    "duration": 35,
    "start_time": "2021-07-04T16:48:15.121Z"
   },
   {
    "duration": 34,
    "start_time": "2021-07-04T16:48:20.918Z"
   },
   {
    "duration": 37,
    "start_time": "2021-07-04T16:48:33.218Z"
   },
   {
    "duration": 36,
    "start_time": "2021-07-04T16:48:37.831Z"
   },
   {
    "duration": 36,
    "start_time": "2021-07-04T16:48:43.119Z"
   },
   {
    "duration": 34,
    "start_time": "2021-07-04T16:48:49.522Z"
   },
   {
    "duration": 32,
    "start_time": "2021-07-04T16:49:40.434Z"
   },
   {
    "duration": 35,
    "start_time": "2021-07-04T16:49:46.584Z"
   },
   {
    "duration": -1366,
    "start_time": "2021-07-04T16:59:08.240Z"
   },
   {
    "duration": 35,
    "start_time": "2021-07-04T16:59:06.973Z"
   },
   {
    "duration": 31,
    "start_time": "2021-07-04T16:59:08.916Z"
   },
   {
    "duration": 4741,
    "start_time": "2021-07-04T16:59:12.629Z"
   },
   {
    "duration": 1163,
    "start_time": "2021-07-04T17:06:01.523Z"
   },
   {
    "duration": 794,
    "start_time": "2021-07-04T17:06:02.689Z"
   },
   {
    "duration": 16,
    "start_time": "2021-07-04T17:06:03.486Z"
   },
   {
    "duration": 135,
    "start_time": "2021-07-04T17:06:03.504Z"
   },
   {
    "duration": 5,
    "start_time": "2021-07-04T17:06:03.641Z"
   },
   {
    "duration": 4,
    "start_time": "2021-07-04T17:06:03.647Z"
   },
   {
    "duration": 1505,
    "start_time": "2021-07-04T17:06:03.652Z"
   },
   {
    "duration": 300,
    "start_time": "2021-07-04T17:06:05.159Z"
   },
   {
    "duration": 85,
    "start_time": "2021-07-04T17:06:05.461Z"
   },
   {
    "duration": 384,
    "start_time": "2021-07-04T17:06:05.547Z"
   },
   {
    "duration": 262,
    "start_time": "2021-07-04T17:06:05.932Z"
   },
   {
    "duration": 274,
    "start_time": "2021-07-04T17:06:06.196Z"
   },
   {
    "duration": 11856,
    "start_time": "2021-07-04T17:06:06.472Z"
   },
   {
    "duration": -1191,
    "start_time": "2021-07-04T17:06:19.521Z"
   },
   {
    "duration": -1219,
    "start_time": "2021-07-04T17:06:19.550Z"
   },
   {
    "duration": -1234,
    "start_time": "2021-07-04T17:06:19.565Z"
   },
   {
    "duration": 83,
    "start_time": "2021-07-04T17:06:20.204Z"
   },
   {
    "duration": 173,
    "start_time": "2021-07-04T17:10:25.030Z"
   },
   {
    "duration": 195,
    "start_time": "2021-07-04T17:10:30.303Z"
   },
   {
    "duration": 161,
    "start_time": "2021-07-04T17:32:15.711Z"
   },
   {
    "duration": 19,
    "start_time": "2021-07-04T17:32:30.109Z"
   },
   {
    "duration": 6,
    "start_time": "2021-07-04T17:33:12.859Z"
   },
   {
    "duration": 9,
    "start_time": "2021-07-04T17:54:56.647Z"
   },
   {
    "duration": 1184,
    "start_time": "2021-07-06T07:59:46.440Z"
   },
   {
    "duration": 883,
    "start_time": "2021-07-06T07:59:47.626Z"
   },
   {
    "duration": 17,
    "start_time": "2021-07-06T07:59:48.511Z"
   },
   {
    "duration": 142,
    "start_time": "2021-07-06T07:59:48.530Z"
   },
   {
    "duration": 16,
    "start_time": "2021-07-06T07:59:48.674Z"
   },
   {
    "duration": 3,
    "start_time": "2021-07-06T07:59:48.692Z"
   },
   {
    "duration": 1651,
    "start_time": "2021-07-06T07:59:48.698Z"
   },
   {
    "duration": 338,
    "start_time": "2021-07-06T07:59:50.351Z"
   },
   {
    "duration": 98,
    "start_time": "2021-07-06T07:59:50.692Z"
   },
   {
    "duration": 423,
    "start_time": "2021-07-06T07:59:50.793Z"
   },
   {
    "duration": 287,
    "start_time": "2021-07-06T07:59:51.218Z"
   },
   {
    "duration": 319,
    "start_time": "2021-07-06T07:59:51.507Z"
   },
   {
    "duration": 37,
    "start_time": "2021-07-06T07:59:51.828Z"
   },
   {
    "duration": 151,
    "start_time": "2021-07-06T07:59:51.867Z"
   },
   {
    "duration": 10,
    "start_time": "2021-07-06T07:59:52.020Z"
   },
   {
    "duration": 8,
    "start_time": "2021-07-06T08:02:14.168Z"
   },
   {
    "duration": 9,
    "start_time": "2021-07-06T08:02:23.531Z"
   },
   {
    "duration": 9,
    "start_time": "2021-07-06T08:02:29.630Z"
   },
   {
    "duration": 9,
    "start_time": "2021-07-06T08:02:38.364Z"
   },
   {
    "duration": 8,
    "start_time": "2021-07-06T08:02:41.247Z"
   },
   {
    "duration": 10,
    "start_time": "2021-07-06T08:02:49.688Z"
   },
   {
    "duration": 13,
    "start_time": "2021-07-06T08:02:53.583Z"
   },
   {
    "duration": 13,
    "start_time": "2021-07-06T08:05:04.394Z"
   },
   {
    "duration": 15,
    "start_time": "2021-07-06T08:05:07.683Z"
   },
   {
    "duration": 8,
    "start_time": "2021-07-06T08:05:13.218Z"
   },
   {
    "duration": 8,
    "start_time": "2021-07-06T08:05:23.136Z"
   },
   {
    "duration": 15,
    "start_time": "2021-07-06T08:05:29.792Z"
   },
   {
    "duration": 8,
    "start_time": "2021-07-06T08:08:40.974Z"
   },
   {
    "duration": 10,
    "start_time": "2021-07-06T08:09:01.968Z"
   },
   {
    "duration": 8,
    "start_time": "2021-07-06T08:09:05.232Z"
   },
   {
    "duration": 9,
    "start_time": "2021-07-06T08:09:08.280Z"
   },
   {
    "duration": 13,
    "start_time": "2021-07-06T08:10:12.775Z"
   },
   {
    "duration": 298,
    "start_time": "2021-07-06T08:10:25.506Z"
   },
   {
    "duration": 15,
    "start_time": "2021-07-06T08:10:29.749Z"
   },
   {
    "duration": 13,
    "start_time": "2021-07-06T08:10:36.854Z"
   },
   {
    "duration": 17,
    "start_time": "2021-07-06T08:10:42.225Z"
   },
   {
    "duration": 13,
    "start_time": "2021-07-06T08:11:10.243Z"
   },
   {
    "duration": 9,
    "start_time": "2021-07-06T08:11:58.391Z"
   },
   {
    "duration": 9,
    "start_time": "2021-07-06T08:12:11.072Z"
   },
   {
    "duration": 11,
    "start_time": "2021-07-06T08:12:48.374Z"
   },
   {
    "duration": 11,
    "start_time": "2021-07-06T08:12:55.276Z"
   },
   {
    "duration": 10,
    "start_time": "2021-07-06T08:13:04.365Z"
   },
   {
    "duration": 19,
    "start_time": "2021-07-06T08:19:34.279Z"
   },
   {
    "duration": 19,
    "start_time": "2021-07-06T08:20:04.186Z"
   },
   {
    "duration": 196,
    "start_time": "2021-07-06T08:20:20.795Z"
   },
   {
    "duration": 245,
    "start_time": "2021-07-06T08:20:42.697Z"
   },
   {
    "duration": 185,
    "start_time": "2021-07-06T08:20:48.494Z"
   },
   {
    "duration": 210,
    "start_time": "2021-07-06T08:47:31.134Z"
   },
   {
    "duration": 213,
    "start_time": "2021-07-06T08:47:36.899Z"
   },
   {
    "duration": 24,
    "start_time": "2021-07-06T08:47:50.329Z"
   },
   {
    "duration": 5,
    "start_time": "2021-07-06T08:48:10.533Z"
   },
   {
    "duration": 213,
    "start_time": "2021-07-06T08:48:36.032Z"
   },
   {
    "duration": 44,
    "start_time": "2021-07-06T08:48:44.486Z"
   },
   {
    "duration": 20,
    "start_time": "2021-07-06T08:48:51.306Z"
   },
   {
    "duration": 22,
    "start_time": "2021-07-06T08:48:58.602Z"
   },
   {
    "duration": 19,
    "start_time": "2021-07-06T08:49:02.350Z"
   },
   {
    "duration": 22,
    "start_time": "2021-07-06T08:49:12.996Z"
   },
   {
    "duration": 23,
    "start_time": "2021-07-06T08:49:15.851Z"
   },
   {
    "duration": 17,
    "start_time": "2021-07-06T08:49:35.400Z"
   },
   {
    "duration": 22,
    "start_time": "2021-07-06T08:49:41.699Z"
   },
   {
    "duration": 21,
    "start_time": "2021-07-06T08:49:51.475Z"
   },
   {
    "duration": 1268,
    "start_time": "2021-07-06T08:50:55.726Z"
   },
   {
    "duration": 1856,
    "start_time": "2021-07-06T08:51:46.855Z"
   },
   {
    "duration": 1773,
    "start_time": "2021-07-06T08:52:02.014Z"
   },
   {
    "duration": 1802,
    "start_time": "2021-07-06T08:52:13.000Z"
   },
   {
    "duration": 1129,
    "start_time": "2021-07-06T08:52:44.558Z"
   },
   {
    "duration": 2348,
    "start_time": "2021-07-06T08:52:59.268Z"
   },
   {
    "duration": 2320,
    "start_time": "2021-07-06T08:53:21.982Z"
   },
   {
    "duration": 2232,
    "start_time": "2021-07-06T08:54:40.861Z"
   },
   {
    "duration": 2246,
    "start_time": "2021-07-06T08:54:47.708Z"
   },
   {
    "duration": 959,
    "start_time": "2021-07-06T08:56:29.744Z"
   },
   {
    "duration": 1009,
    "start_time": "2021-07-06T08:57:00.100Z"
   },
   {
    "duration": 212,
    "start_time": "2021-07-06T08:58:01.580Z"
   },
   {
    "duration": 1208,
    "start_time": "2021-07-06T08:58:15.589Z"
   },
   {
    "duration": 213,
    "start_time": "2021-07-06T09:00:43.984Z"
   },
   {
    "duration": 1104,
    "start_time": "2021-07-06T09:01:08.117Z"
   },
   {
    "duration": 148,
    "start_time": "2021-07-06T09:06:48.237Z"
   },
   {
    "duration": 160,
    "start_time": "2021-07-06T09:06:57.467Z"
   },
   {
    "duration": 165,
    "start_time": "2021-07-06T09:07:08.329Z"
   },
   {
    "duration": 180,
    "start_time": "2021-07-06T09:07:35.918Z"
   },
   {
    "duration": 170,
    "start_time": "2021-07-06T09:08:10.427Z"
   },
   {
    "duration": 37,
    "start_time": "2021-07-06T09:08:18.150Z"
   },
   {
    "duration": 330,
    "start_time": "2021-07-06T09:09:07.435Z"
   },
   {
    "duration": 176,
    "start_time": "2021-07-06T09:09:12.613Z"
   },
   {
    "duration": 176,
    "start_time": "2021-07-06T09:10:08.328Z"
   },
   {
    "duration": 8,
    "start_time": "2021-07-06T09:11:34.727Z"
   },
   {
    "duration": 8,
    "start_time": "2021-07-06T09:11:40.184Z"
   },
   {
    "duration": 228,
    "start_time": "2021-07-06T09:11:50.125Z"
   },
   {
    "duration": 231,
    "start_time": "2021-07-06T09:11:53.305Z"
   },
   {
    "duration": 1131,
    "start_time": "2021-07-06T09:12:01.065Z"
   },
   {
    "duration": 755,
    "start_time": "2021-07-06T09:12:02.198Z"
   },
   {
    "duration": 15,
    "start_time": "2021-07-06T09:12:02.955Z"
   },
   {
    "duration": 133,
    "start_time": "2021-07-06T09:12:02.971Z"
   },
   {
    "duration": 5,
    "start_time": "2021-07-06T09:12:03.105Z"
   },
   {
    "duration": 5,
    "start_time": "2021-07-06T09:12:03.111Z"
   },
   {
    "duration": 1490,
    "start_time": "2021-07-06T09:12:03.117Z"
   },
   {
    "duration": 300,
    "start_time": "2021-07-06T09:12:04.609Z"
   },
   {
    "duration": 96,
    "start_time": "2021-07-06T09:12:04.911Z"
   },
   {
    "duration": 381,
    "start_time": "2021-07-06T09:12:05.009Z"
   },
   {
    "duration": 250,
    "start_time": "2021-07-06T09:12:05.392Z"
   },
   {
    "duration": 273,
    "start_time": "2021-07-06T09:12:05.644Z"
   },
   {
    "duration": 33,
    "start_time": "2021-07-06T09:12:05.919Z"
   },
   {
    "duration": 37,
    "start_time": "2021-07-06T09:12:05.953Z"
   },
   {
    "duration": 289,
    "start_time": "2021-07-06T09:12:05.992Z"
   },
   {
    "duration": 12,
    "start_time": "2021-07-06T09:12:06.270Z"
   },
   {
    "duration": -17,
    "start_time": "2021-07-06T09:12:06.300Z"
   },
   {
    "duration": 197,
    "start_time": "2021-07-06T09:12:19.338Z"
   },
   {
    "duration": 204,
    "start_time": "2021-07-06T09:12:24.881Z"
   },
   {
    "duration": 250,
    "start_time": "2021-07-06T09:12:35.381Z"
   },
   {
    "duration": 21,
    "start_time": "2021-07-06T09:12:39.040Z"
   },
   {
    "duration": 200,
    "start_time": "2021-07-06T09:12:44.201Z"
   },
   {
    "duration": 22,
    "start_time": "2021-07-06T09:12:47.808Z"
   },
   {
    "duration": 200,
    "start_time": "2021-07-06T09:13:07.076Z"
   },
   {
    "duration": 4,
    "start_time": "2021-07-06T09:13:18.443Z"
   },
   {
    "duration": 76,
    "start_time": "2021-07-06T09:13:22.013Z"
   },
   {
    "duration": 263,
    "start_time": "2021-07-06T09:13:25.963Z"
   },
   {
    "duration": 113,
    "start_time": "2021-07-06T09:13:31.475Z"
   },
   {
    "duration": 116,
    "start_time": "2021-07-06T09:13:36.919Z"
   },
   {
    "duration": 19,
    "start_time": "2021-07-06T09:13:40.553Z"
   },
   {
    "duration": 1348,
    "start_time": "2021-07-06T09:30:35.182Z"
   },
   {
    "duration": 268,
    "start_time": "2021-07-06T09:30:39.462Z"
   },
   {
    "duration": 4,
    "start_time": "2021-07-06T09:31:04.745Z"
   },
   {
    "duration": 204,
    "start_time": "2021-07-06T09:33:01.842Z"
   },
   {
    "duration": 439,
    "start_time": "2021-07-06T09:34:49.067Z"
   },
   {
    "duration": 5,
    "start_time": "2021-07-06T09:36:15.165Z"
   },
   {
    "duration": 10,
    "start_time": "2021-07-06T09:36:20.810Z"
   },
   {
    "duration": 8,
    "start_time": "2021-07-06T09:36:38.143Z"
   },
   {
    "duration": 202,
    "start_time": "2021-07-06T09:36:44.922Z"
   },
   {
    "duration": 6,
    "start_time": "2021-07-06T09:37:03.634Z"
   },
   {
    "duration": 28,
    "start_time": "2021-07-06T09:37:08.815Z"
   },
   {
    "duration": 24,
    "start_time": "2021-07-06T09:37:43.472Z"
   },
   {
    "duration": 7,
    "start_time": "2021-07-06T09:38:21.516Z"
   },
   {
    "duration": 8,
    "start_time": "2021-07-06T09:38:23.800Z"
   },
   {
    "duration": 203,
    "start_time": "2021-07-06T09:40:19.292Z"
   },
   {
    "duration": 198,
    "start_time": "2021-07-06T09:40:33.466Z"
   },
   {
    "duration": 229,
    "start_time": "2021-07-06T09:40:37.312Z"
   },
   {
    "duration": 200,
    "start_time": "2021-07-06T09:40:53.164Z"
   },
   {
    "duration": 4,
    "start_time": "2021-07-06T09:41:10.000Z"
   },
   {
    "duration": 4,
    "start_time": "2021-07-06T09:41:17.495Z"
   },
   {
    "duration": 33,
    "start_time": "2021-07-06T09:41:34.433Z"
   },
   {
    "duration": 54,
    "start_time": "2021-07-06T09:41:40.257Z"
   },
   {
    "duration": 41,
    "start_time": "2021-07-06T09:42:20.753Z"
   },
   {
    "duration": 43,
    "start_time": "2021-07-06T09:42:23.751Z"
   },
   {
    "duration": 40,
    "start_time": "2021-07-06T09:47:57.014Z"
   },
   {
    "duration": 39,
    "start_time": "2021-07-06T09:48:01.777Z"
   },
   {
    "duration": 40,
    "start_time": "2021-07-06T09:48:07.072Z"
   },
   {
    "duration": 42,
    "start_time": "2021-07-06T09:49:24.373Z"
   },
   {
    "duration": 40,
    "start_time": "2021-07-06T09:49:34.942Z"
   },
   {
    "duration": 40,
    "start_time": "2021-07-06T09:49:43.918Z"
   },
   {
    "duration": 40,
    "start_time": "2021-07-06T09:49:49.958Z"
   },
   {
    "duration": 40,
    "start_time": "2021-07-06T09:50:02.466Z"
   },
   {
    "duration": 279,
    "start_time": "2021-07-06T09:51:20.001Z"
   },
   {
    "duration": 59,
    "start_time": "2021-07-06T09:51:29.240Z"
   },
   {
    "duration": 5016,
    "start_time": "2021-07-06T09:51:47.874Z"
   },
   {
    "duration": 35,
    "start_time": "2021-07-06T09:51:58.606Z"
   },
   {
    "duration": 34,
    "start_time": "2021-07-06T09:52:03.496Z"
   },
   {
    "duration": 207,
    "start_time": "2021-07-06T09:52:16.392Z"
   },
   {
    "duration": 34,
    "start_time": "2021-07-06T09:52:26.107Z"
   },
   {
    "duration": 34,
    "start_time": "2021-07-06T09:52:30.033Z"
   },
   {
    "duration": 60,
    "start_time": "2021-07-06T09:52:34.613Z"
   },
   {
    "duration": 213,
    "start_time": "2021-07-06T09:52:43.640Z"
   },
   {
    "duration": 49,
    "start_time": "2021-07-06T09:52:48.040Z"
   },
   {
    "duration": 87,
    "start_time": "2021-07-06T09:53:08.304Z"
   },
   {
    "duration": 58,
    "start_time": "2021-07-06T09:54:07.939Z"
   },
   {
    "duration": 33,
    "start_time": "2021-07-06T09:54:25.268Z"
   },
   {
    "duration": 57,
    "start_time": "2021-07-06T09:54:31.277Z"
   },
   {
    "duration": 102,
    "start_time": "2021-07-06T09:54:45.541Z"
   },
   {
    "duration": 120,
    "start_time": "2021-07-06T09:55:02.868Z"
   },
   {
    "duration": 66,
    "start_time": "2021-07-06T09:55:08.258Z"
   },
   {
    "duration": 78,
    "start_time": "2021-07-06T09:55:13.366Z"
   },
   {
    "duration": 52,
    "start_time": "2021-07-06T09:56:37.106Z"
   },
   {
    "duration": 36,
    "start_time": "2021-07-06T09:56:44.777Z"
   },
   {
    "duration": 1158,
    "start_time": "2021-07-06T09:56:51.081Z"
   },
   {
    "duration": 747,
    "start_time": "2021-07-06T09:56:52.241Z"
   },
   {
    "duration": 16,
    "start_time": "2021-07-06T09:56:52.990Z"
   },
   {
    "duration": 141,
    "start_time": "2021-07-06T09:56:53.008Z"
   },
   {
    "duration": 5,
    "start_time": "2021-07-06T09:56:53.151Z"
   },
   {
    "duration": 5,
    "start_time": "2021-07-06T09:56:53.157Z"
   },
   {
    "duration": 1625,
    "start_time": "2021-07-06T09:56:53.164Z"
   },
   {
    "duration": 301,
    "start_time": "2021-07-06T09:56:54.792Z"
   },
   {
    "duration": 70,
    "start_time": "2021-07-06T09:56:55.095Z"
   },
   {
    "duration": 386,
    "start_time": "2021-07-06T09:56:55.185Z"
   },
   {
    "duration": 260,
    "start_time": "2021-07-06T09:56:55.573Z"
   },
   {
    "duration": 279,
    "start_time": "2021-07-06T09:56:55.835Z"
   },
   {
    "duration": 34,
    "start_time": "2021-07-06T09:56:56.116Z"
   },
   {
    "duration": 43,
    "start_time": "2021-07-06T09:56:56.152Z"
   },
   {
    "duration": 134,
    "start_time": "2021-07-06T09:56:56.197Z"
   },
   {
    "duration": 19,
    "start_time": "2021-07-06T09:56:56.333Z"
   },
   {
    "duration": 1201,
    "start_time": "2021-07-06T09:56:56.353Z"
   },
   {
    "duration": 279,
    "start_time": "2021-07-06T09:56:57.556Z"
   },
   {
    "duration": 402,
    "start_time": "2021-07-06T09:56:57.837Z"
   },
   {
    "duration": 23,
    "start_time": "2021-07-06T09:56:58.241Z"
   },
   {
    "duration": 50,
    "start_time": "2021-07-06T09:56:58.265Z"
   },
   {
    "duration": 56,
    "start_time": "2021-07-06T09:56:58.317Z"
   },
   {
    "duration": 79,
    "start_time": "2021-07-06T09:56:58.386Z"
   },
   {
    "duration": 19,
    "start_time": "2021-07-06T09:56:58.467Z"
   },
   {
    "duration": 8,
    "start_time": "2021-07-06T09:58:21.936Z"
   },
   {
    "duration": 286,
    "start_time": "2021-07-06T09:59:05.139Z"
   },
   {
    "duration": 7,
    "start_time": "2021-07-06T09:59:07.669Z"
   },
   {
    "duration": 7,
    "start_time": "2021-07-06T09:59:15.223Z"
   },
   {
    "duration": 7,
    "start_time": "2021-07-06T09:59:50.385Z"
   },
   {
    "duration": 191,
    "start_time": "2021-07-06T10:00:00.438Z"
   },
   {
    "duration": 8,
    "start_time": "2021-07-06T10:00:14.064Z"
   },
   {
    "duration": 7,
    "start_time": "2021-07-06T10:00:31.256Z"
   },
   {
    "duration": 1111,
    "start_time": "2021-07-06T14:17:36.346Z"
   },
   {
    "duration": 776,
    "start_time": "2021-07-06T14:17:37.459Z"
   },
   {
    "duration": 20,
    "start_time": "2021-07-06T14:17:38.240Z"
   },
   {
    "duration": 216,
    "start_time": "2021-07-06T14:17:38.261Z"
   },
   {
    "duration": 14,
    "start_time": "2021-07-06T14:17:38.478Z"
   },
   {
    "duration": 6,
    "start_time": "2021-07-06T14:17:38.494Z"
   },
   {
    "duration": 1478,
    "start_time": "2021-07-06T14:17:38.503Z"
   },
   {
    "duration": 480,
    "start_time": "2021-07-06T14:17:39.983Z"
   },
   {
    "duration": 110,
    "start_time": "2021-07-06T14:17:40.464Z"
   },
   {
    "duration": 555,
    "start_time": "2021-07-06T14:17:40.576Z"
   },
   {
    "duration": 378,
    "start_time": "2021-07-06T14:17:41.133Z"
   },
   {
    "duration": 461,
    "start_time": "2021-07-06T14:17:41.513Z"
   },
   {
    "duration": 60,
    "start_time": "2021-07-06T14:17:41.976Z"
   },
   {
    "duration": 45,
    "start_time": "2021-07-06T14:17:42.038Z"
   },
   {
    "duration": 179,
    "start_time": "2021-07-06T14:17:42.085Z"
   },
   {
    "duration": 36,
    "start_time": "2021-07-06T14:17:42.266Z"
   },
   {
    "duration": 1140,
    "start_time": "2021-07-06T14:17:42.303Z"
   },
   {
    "duration": 242,
    "start_time": "2021-07-06T14:17:43.444Z"
   },
   {
    "duration": 373,
    "start_time": "2021-07-06T14:17:43.687Z"
   },
   {
    "duration": 21,
    "start_time": "2021-07-06T14:17:44.062Z"
   },
   {
    "duration": 39,
    "start_time": "2021-07-06T14:17:44.084Z"
   },
   {
    "duration": 51,
    "start_time": "2021-07-06T14:17:44.126Z"
   },
   {
    "duration": 73,
    "start_time": "2021-07-06T14:17:44.191Z"
   },
   {
    "duration": 6,
    "start_time": "2021-07-06T14:17:44.265Z"
   },
   {
    "duration": 1617,
    "start_time": "2021-07-19T09:25:26.607Z"
   },
   {
    "duration": 6340,
    "start_time": "2021-07-19T09:25:28.227Z"
   },
   {
    "duration": 24,
    "start_time": "2021-07-19T09:25:34.570Z"
   },
   {
    "duration": 181,
    "start_time": "2021-07-19T09:25:34.597Z"
   },
   {
    "duration": 8,
    "start_time": "2021-07-19T09:25:34.780Z"
   },
   {
    "duration": 10,
    "start_time": "2021-07-19T09:25:34.790Z"
   },
   {
    "duration": 2482,
    "start_time": "2021-07-19T09:25:34.803Z"
   },
   {
    "duration": 416,
    "start_time": "2021-07-19T09:25:37.289Z"
   },
   {
    "duration": 113,
    "start_time": "2021-07-19T09:25:37.708Z"
   },
   {
    "duration": 524,
    "start_time": "2021-07-19T09:25:37.823Z"
   },
   {
    "duration": 387,
    "start_time": "2021-07-19T09:25:38.349Z"
   },
   {
    "duration": 382,
    "start_time": "2021-07-19T09:25:38.739Z"
   },
   {
    "duration": 57,
    "start_time": "2021-07-19T09:25:39.123Z"
   },
   {
    "duration": 54,
    "start_time": "2021-07-19T09:25:39.183Z"
   },
   {
    "duration": 189,
    "start_time": "2021-07-19T09:25:39.240Z"
   },
   {
    "duration": 38,
    "start_time": "2021-07-19T09:25:39.431Z"
   },
   {
    "duration": 1841,
    "start_time": "2021-07-19T09:25:39.472Z"
   },
   {
    "duration": 443,
    "start_time": "2021-07-19T09:25:41.315Z"
   },
   {
    "duration": 747,
    "start_time": "2021-07-19T09:25:41.762Z"
   },
   {
    "duration": 52,
    "start_time": "2021-07-19T09:25:42.512Z"
   },
   {
    "duration": 59,
    "start_time": "2021-07-19T09:25:42.567Z"
   },
   {
    "duration": 107,
    "start_time": "2021-07-19T09:25:42.629Z"
   },
   {
    "duration": 142,
    "start_time": "2021-07-19T09:25:42.740Z"
   },
   {
    "duration": 9,
    "start_time": "2021-07-19T09:25:42.884Z"
   },
   {
    "duration": 482,
    "start_time": "2021-07-19T11:22:45.522Z"
   },
   {
    "duration": 26,
    "start_time": "2021-07-19T11:22:58.342Z"
   },
   {
    "duration": 29,
    "start_time": "2021-07-19T11:23:13.129Z"
   },
   {
    "duration": 29,
    "start_time": "2021-07-19T11:23:21.580Z"
   },
   {
    "duration": 375,
    "start_time": "2021-07-19T11:24:42.404Z"
   },
   {
    "duration": 155,
    "start_time": "2021-07-19T11:25:08.004Z"
   },
   {
    "duration": 57,
    "start_time": "2021-07-19T11:25:12.113Z"
   },
   {
    "duration": 18,
    "start_time": "2021-07-19T11:25:59.698Z"
   },
   {
    "duration": 27,
    "start_time": "2021-07-19T11:26:05.241Z"
   },
   {
    "duration": 25,
    "start_time": "2021-07-19T11:28:22.003Z"
   },
   {
    "duration": 30,
    "start_time": "2021-07-19T11:28:25.257Z"
   },
   {
    "duration": 29,
    "start_time": "2021-07-19T11:59:39.863Z"
   },
   {
    "duration": 23,
    "start_time": "2021-07-19T12:04:32.907Z"
   },
   {
    "duration": 28,
    "start_time": "2021-07-19T12:04:46.412Z"
   },
   {
    "duration": 350,
    "start_time": "2021-07-19T12:06:31.837Z"
   },
   {
    "duration": 381,
    "start_time": "2021-07-19T12:06:39.772Z"
   },
   {
    "duration": 49,
    "start_time": "2021-07-19T12:06:56.467Z"
   },
   {
    "duration": 35,
    "start_time": "2021-07-19T12:07:11.676Z"
   },
   {
    "duration": 164,
    "start_time": "2021-07-19T12:08:44.731Z"
   },
   {
    "duration": 37,
    "start_time": "2021-07-19T12:10:07.464Z"
   },
   {
    "duration": 52,
    "start_time": "2021-07-19T12:10:14.528Z"
   },
   {
    "duration": 58,
    "start_time": "2021-07-19T12:12:33.671Z"
   },
   {
    "duration": 57,
    "start_time": "2021-07-19T12:12:42.064Z"
   },
   {
    "duration": 289,
    "start_time": "2021-07-19T12:12:56.243Z"
   },
   {
    "duration": 39,
    "start_time": "2021-07-19T12:13:13.569Z"
   },
   {
    "duration": 5561,
    "start_time": "2021-07-19T12:13:34.015Z"
   },
   {
    "duration": 349,
    "start_time": "2021-07-19T12:13:48.104Z"
   },
   {
    "duration": 134,
    "start_time": "2021-07-19T12:13:56.842Z"
   },
   {
    "duration": 27,
    "start_time": "2021-07-19T12:17:16.207Z"
   },
   {
    "duration": 30,
    "start_time": "2021-07-19T12:29:45.415Z"
   },
   {
    "duration": 1540,
    "start_time": "2021-07-20T13:45:47.206Z"
   },
   {
    "duration": 1067,
    "start_time": "2021-07-20T13:45:48.749Z"
   },
   {
    "duration": 25,
    "start_time": "2021-07-20T13:45:49.820Z"
   },
   {
    "duration": 179,
    "start_time": "2021-07-20T13:45:49.848Z"
   },
   {
    "duration": 6,
    "start_time": "2021-07-20T13:45:50.030Z"
   },
   {
    "duration": 6,
    "start_time": "2021-07-20T13:45:50.038Z"
   },
   {
    "duration": 2433,
    "start_time": "2021-07-20T13:45:50.047Z"
   },
   {
    "duration": 394,
    "start_time": "2021-07-20T13:45:52.484Z"
   },
   {
    "duration": 100,
    "start_time": "2021-07-20T13:45:52.881Z"
   },
   {
    "duration": 499,
    "start_time": "2021-07-20T13:45:53.001Z"
   },
   {
    "duration": 366,
    "start_time": "2021-07-20T13:45:53.502Z"
   },
   {
    "duration": 375,
    "start_time": "2021-07-20T13:45:53.871Z"
   },
   {
    "duration": 56,
    "start_time": "2021-07-20T13:45:54.249Z"
   },
   {
    "duration": 40,
    "start_time": "2021-07-20T13:45:54.308Z"
   },
   {
    "duration": 187,
    "start_time": "2021-07-20T13:45:54.350Z"
   },
   {
    "duration": 25,
    "start_time": "2021-07-20T13:45:54.540Z"
   },
   {
    "duration": 48,
    "start_time": "2021-07-20T13:45:54.568Z"
   },
   {
    "duration": 5496,
    "start_time": "2021-07-20T13:45:54.620Z"
   },
   {
    "duration": 323,
    "start_time": "2021-07-20T13:46:00.119Z"
   },
   {
    "duration": 34,
    "start_time": "2021-07-20T13:46:00.445Z"
   },
   {
    "duration": 589,
    "start_time": "2021-07-20T13:46:00.501Z"
   },
   {
    "duration": 1185,
    "start_time": "2021-07-20T13:45:59.908Z"
   },
   {
    "duration": 1173,
    "start_time": "2021-07-20T13:45:59.921Z"
   },
   {
    "duration": 1168,
    "start_time": "2021-07-20T13:45:59.928Z"
   },
   {
    "duration": 1161,
    "start_time": "2021-07-20T13:45:59.936Z"
   },
   {
    "duration": 1155,
    "start_time": "2021-07-20T13:45:59.943Z"
   },
   {
    "duration": 1149,
    "start_time": "2021-07-20T13:45:59.950Z"
   },
   {
    "duration": 1143,
    "start_time": "2021-07-20T13:45:59.958Z"
   },
   {
    "duration": 385,
    "start_time": "2021-07-20T13:52:36.260Z"
   },
   {
    "duration": 30,
    "start_time": "2021-07-20T13:53:42.396Z"
   },
   {
    "duration": 30,
    "start_time": "2021-07-20T13:54:05.586Z"
   },
   {
    "duration": 38,
    "start_time": "2021-07-20T13:54:26.107Z"
   },
   {
    "duration": 297,
    "start_time": "2021-07-20T13:55:48.286Z"
   },
   {
    "duration": 282,
    "start_time": "2021-07-20T13:55:58.116Z"
   },
   {
    "duration": 6,
    "start_time": "2021-07-20T13:56:02.305Z"
   },
   {
    "duration": 271,
    "start_time": "2021-07-20T13:56:10.262Z"
   },
   {
    "duration": 6,
    "start_time": "2021-07-20T13:56:18.781Z"
   },
   {
    "duration": 30,
    "start_time": "2021-07-20T13:56:25.692Z"
   },
   {
    "duration": 7,
    "start_time": "2021-07-20T13:56:33.056Z"
   },
   {
    "duration": 8,
    "start_time": "2021-07-20T13:57:12.372Z"
   },
   {
    "duration": 9,
    "start_time": "2021-07-20T13:57:20.515Z"
   },
   {
    "duration": 9,
    "start_time": "2021-07-20T13:57:21.606Z"
   },
   {
    "duration": 334,
    "start_time": "2021-07-20T13:58:25.320Z"
   },
   {
    "duration": 1559,
    "start_time": "2021-07-20T13:58:31.571Z"
   },
   {
    "duration": 1034,
    "start_time": "2021-07-20T13:58:33.132Z"
   },
   {
    "duration": 34,
    "start_time": "2021-07-20T13:58:34.169Z"
   },
   {
    "duration": 168,
    "start_time": "2021-07-20T13:58:34.206Z"
   },
   {
    "duration": 7,
    "start_time": "2021-07-20T13:58:34.377Z"
   },
   {
    "duration": 4,
    "start_time": "2021-07-20T13:58:34.400Z"
   },
   {
    "duration": 2795,
    "start_time": "2021-07-20T13:58:34.406Z"
   },
   {
    "duration": 7,
    "start_time": "2021-07-20T13:58:37.205Z"
   },
   {
    "duration": 417,
    "start_time": "2021-07-20T13:58:37.214Z"
   },
   {
    "duration": 114,
    "start_time": "2021-07-20T13:58:37.634Z"
   },
   {
    "duration": 491,
    "start_time": "2021-07-20T13:58:37.750Z"
   },
   {
    "duration": 376,
    "start_time": "2021-07-20T13:58:38.244Z"
   },
   {
    "duration": 363,
    "start_time": "2021-07-20T13:58:38.623Z"
   },
   {
    "duration": 54,
    "start_time": "2021-07-20T13:58:38.988Z"
   },
   {
    "duration": 38,
    "start_time": "2021-07-20T13:58:39.045Z"
   },
   {
    "duration": 193,
    "start_time": "2021-07-20T13:58:39.102Z"
   },
   {
    "duration": 25,
    "start_time": "2021-07-20T13:58:39.301Z"
   },
   {
    "duration": 29,
    "start_time": "2021-07-20T13:58:39.328Z"
   },
   {
    "duration": 44,
    "start_time": "2021-07-20T13:58:39.360Z"
   },
   {
    "duration": 37,
    "start_time": "2021-07-20T13:58:39.407Z"
   },
   {
    "duration": 57,
    "start_time": "2021-07-20T13:58:39.447Z"
   },
   {
    "duration": 31,
    "start_time": "2021-07-20T13:58:39.506Z"
   },
   {
    "duration": 30,
    "start_time": "2021-07-20T13:58:39.542Z"
   },
   {
    "duration": 32,
    "start_time": "2021-07-20T13:58:39.574Z"
   },
   {
    "duration": 430,
    "start_time": "2021-07-20T13:58:39.609Z"
   },
   {
    "duration": 1194,
    "start_time": "2021-07-20T13:58:38.848Z"
   },
   {
    "duration": 1188,
    "start_time": "2021-07-20T13:58:38.856Z"
   },
   {
    "duration": 1183,
    "start_time": "2021-07-20T13:58:38.862Z"
   },
   {
    "duration": 1180,
    "start_time": "2021-07-20T13:58:38.867Z"
   },
   {
    "duration": 1175,
    "start_time": "2021-07-20T13:58:38.873Z"
   },
   {
    "duration": 1172,
    "start_time": "2021-07-20T13:58:38.878Z"
   },
   {
    "duration": 1155,
    "start_time": "2021-07-20T13:58:38.896Z"
   },
   {
    "duration": 1150,
    "start_time": "2021-07-20T13:58:38.903Z"
   },
   {
    "duration": 1825,
    "start_time": "2021-07-20T13:59:01.244Z"
   },
   {
    "duration": 513,
    "start_time": "2021-07-20T13:59:06.604Z"
   },
   {
    "duration": 741,
    "start_time": "2021-07-20T13:59:10.390Z"
   },
   {
    "duration": 39,
    "start_time": "2021-07-20T13:59:13.752Z"
   },
   {
    "duration": 57,
    "start_time": "2021-07-20T13:59:16.164Z"
   },
   {
    "duration": 90,
    "start_time": "2021-07-20T13:59:17.994Z"
   },
   {
    "duration": 130,
    "start_time": "2021-07-20T13:59:19.592Z"
   },
   {
    "duration": 8,
    "start_time": "2021-07-20T13:59:21.125Z"
   },
   {
    "duration": 10,
    "start_time": "2021-07-20T14:34:41.990Z"
   },
   {
    "duration": 9,
    "start_time": "2021-07-20T14:34:47.998Z"
   },
   {
    "duration": 13,
    "start_time": "2021-07-20T14:34:56.352Z"
   },
   {
    "duration": 14,
    "start_time": "2021-07-20T14:35:35.490Z"
   },
   {
    "duration": 285,
    "start_time": "2021-07-20T14:35:41.310Z"
   },
   {
    "duration": 2396,
    "start_time": "2021-07-20T14:35:48.518Z"
   },
   {
    "duration": 14,
    "start_time": "2021-07-20T14:35:56.930Z"
   },
   {
    "duration": 11,
    "start_time": "2021-07-20T14:36:02.636Z"
   },
   {
    "duration": 399,
    "start_time": "2021-07-20T14:36:18.541Z"
   },
   {
    "duration": 294,
    "start_time": "2021-07-20T14:36:29.557Z"
   },
   {
    "duration": 297,
    "start_time": "2021-07-20T14:36:34.128Z"
   },
   {
    "duration": 41,
    "start_time": "2021-07-20T14:36:54.162Z"
   },
   {
    "duration": 9,
    "start_time": "2021-07-20T14:37:01.073Z"
   },
   {
    "duration": 295,
    "start_time": "2021-07-20T14:37:04.845Z"
   },
   {
    "duration": 9,
    "start_time": "2021-07-20T14:37:13.387Z"
   },
   {
    "duration": 11,
    "start_time": "2021-07-20T14:37:18.720Z"
   },
   {
    "duration": 12,
    "start_time": "2021-07-20T14:37:41.706Z"
   },
   {
    "duration": 11,
    "start_time": "2021-07-20T14:37:48.784Z"
   },
   {
    "duration": 345,
    "start_time": "2021-07-20T14:38:16.017Z"
   },
   {
    "duration": 364,
    "start_time": "2021-07-20T14:38:20.539Z"
   },
   {
    "duration": 341,
    "start_time": "2021-07-20T14:38:24.233Z"
   },
   {
    "duration": 359,
    "start_time": "2021-07-20T14:38:34.696Z"
   },
   {
    "duration": 11,
    "start_time": "2021-07-20T14:38:51.680Z"
   },
   {
    "duration": 11,
    "start_time": "2021-07-20T14:46:07.886Z"
   },
   {
    "duration": 29,
    "start_time": "2021-07-20T14:46:14.377Z"
   },
   {
    "duration": 29,
    "start_time": "2021-07-20T14:46:21.001Z"
   },
   {
    "duration": 17,
    "start_time": "2021-07-20T14:46:24.230Z"
   },
   {
    "duration": 14,
    "start_time": "2021-07-20T14:46:30.872Z"
   },
   {
    "duration": 5249,
    "start_time": "2021-07-20T14:47:51.342Z"
   },
   {
    "duration": 4663,
    "start_time": "2021-07-20T14:48:26.385Z"
   },
   {
    "duration": 331,
    "start_time": "2021-07-20T14:48:50.358Z"
   },
   {
    "duration": 13,
    "start_time": "2021-07-20T14:49:02.068Z"
   },
   {
    "duration": 11,
    "start_time": "2021-07-20T14:50:10.973Z"
   },
   {
    "duration": 10,
    "start_time": "2021-07-20T14:50:14.584Z"
   },
   {
    "duration": 11,
    "start_time": "2021-07-20T14:50:17.763Z"
   },
   {
    "duration": 11,
    "start_time": "2021-07-20T14:50:20.260Z"
   },
   {
    "duration": 69,
    "start_time": "2021-07-20T14:50:41.154Z"
   },
   {
    "duration": 6,
    "start_time": "2021-07-20T14:50:46.360Z"
   },
   {
    "duration": 7,
    "start_time": "2021-07-20T14:51:29.034Z"
   },
   {
    "duration": 321,
    "start_time": "2021-07-20T14:51:33.027Z"
   },
   {
    "duration": 277,
    "start_time": "2021-07-20T14:51:40.672Z"
   },
   {
    "duration": 20,
    "start_time": "2021-07-20T14:51:51.019Z"
   },
   {
    "duration": 7,
    "start_time": "2021-07-20T14:52:07.824Z"
   },
   {
    "duration": 15,
    "start_time": "2021-07-20T14:52:21.325Z"
   },
   {
    "duration": 20,
    "start_time": "2021-07-20T14:52:33.197Z"
   },
   {
    "duration": 349,
    "start_time": "2021-07-20T14:53:00.412Z"
   },
   {
    "duration": 344,
    "start_time": "2021-07-20T14:53:05.307Z"
   },
   {
    "duration": 325,
    "start_time": "2021-07-20T14:53:08.983Z"
   },
   {
    "duration": 469,
    "start_time": "2021-07-20T14:53:15.198Z"
   },
   {
    "duration": 6,
    "start_time": "2021-07-20T14:55:31.107Z"
   },
   {
    "duration": 340,
    "start_time": "2021-07-20T14:55:42.936Z"
   },
   {
    "duration": 49,
    "start_time": "2021-07-20T14:56:02.598Z"
   },
   {
    "duration": 9,
    "start_time": "2021-07-20T14:56:07.181Z"
   },
   {
    "duration": 6,
    "start_time": "2021-07-20T14:56:30.885Z"
   },
   {
    "duration": 328,
    "start_time": "2021-07-20T14:56:37.411Z"
   },
   {
    "duration": 331,
    "start_time": "2021-07-20T14:56:53.636Z"
   },
   {
    "duration": 77,
    "start_time": "2021-07-20T14:57:09.817Z"
   },
   {
    "duration": 287,
    "start_time": "2021-07-20T14:57:16.462Z"
   },
   {
    "duration": 563,
    "start_time": "2021-07-20T14:57:48.596Z"
   },
   {
    "duration": 542,
    "start_time": "2021-07-20T14:57:56.512Z"
   },
   {
    "duration": 604,
    "start_time": "2021-07-20T14:58:07.918Z"
   },
   {
    "duration": 649,
    "start_time": "2021-07-20T14:58:11.675Z"
   },
   {
    "duration": 341,
    "start_time": "2021-07-20T14:58:59.916Z"
   },
   {
    "duration": 330,
    "start_time": "2021-07-20T14:59:10.700Z"
   },
   {
    "duration": 588,
    "start_time": "2021-07-20T14:59:52.559Z"
   },
   {
    "duration": 284,
    "start_time": "2021-07-20T15:01:18.688Z"
   },
   {
    "duration": 6,
    "start_time": "2021-07-20T15:01:33.578Z"
   },
   {
    "duration": 4,
    "start_time": "2021-07-20T15:01:39.464Z"
   },
   {
    "duration": 464,
    "start_time": "2021-07-20T15:02:48.720Z"
   },
   {
    "duration": 451,
    "start_time": "2021-07-20T15:02:56.384Z"
   },
   {
    "duration": 433,
    "start_time": "2021-07-20T15:03:05.562Z"
   },
   {
    "duration": 322,
    "start_time": "2021-07-20T15:25:19.308Z"
   },
   {
    "duration": 47,
    "start_time": "2021-07-20T15:37:05.798Z"
   },
   {
    "duration": 65,
    "start_time": "2021-07-20T15:37:26.447Z"
   },
   {
    "duration": 59,
    "start_time": "2021-07-20T15:37:32.574Z"
   },
   {
    "duration": 62,
    "start_time": "2021-07-20T15:37:44.990Z"
   },
   {
    "duration": 61,
    "start_time": "2021-07-20T15:37:53.784Z"
   },
   {
    "duration": 65,
    "start_time": "2021-07-20T15:37:57.265Z"
   },
   {
    "duration": 58,
    "start_time": "2021-07-20T15:38:28.694Z"
   },
   {
    "duration": 56,
    "start_time": "2021-07-20T15:39:19.352Z"
   },
   {
    "duration": 56,
    "start_time": "2021-07-20T15:40:54.789Z"
   },
   {
    "duration": 56,
    "start_time": "2021-07-20T15:42:12.446Z"
   },
   {
    "duration": 59,
    "start_time": "2021-07-20T15:42:15.855Z"
   },
   {
    "duration": 56,
    "start_time": "2021-07-20T15:42:36.240Z"
   },
   {
    "duration": 299,
    "start_time": "2021-07-20T15:43:36.718Z"
   },
   {
    "duration": 354,
    "start_time": "2021-07-20T15:43:42.111Z"
   },
   {
    "duration": 438,
    "start_time": "2021-07-20T15:43:49.799Z"
   },
   {
    "duration": 304,
    "start_time": "2021-07-20T15:43:56.324Z"
   },
   {
    "duration": 54,
    "start_time": "2021-07-20T15:44:05.087Z"
   },
   {
    "duration": 54,
    "start_time": "2021-07-20T15:44:08.102Z"
   },
   {
    "duration": 304,
    "start_time": "2021-07-20T15:44:29.448Z"
   },
   {
    "duration": 39,
    "start_time": "2021-07-20T15:44:32.295Z"
   },
   {
    "duration": 54,
    "start_time": "2021-07-20T15:44:44.455Z"
   },
   {
    "duration": 303,
    "start_time": "2021-07-20T16:00:44.012Z"
   },
   {
    "duration": 295,
    "start_time": "2021-07-20T16:00:48.146Z"
   },
   {
    "duration": 23,
    "start_time": "2021-07-20T16:00:57.349Z"
   },
   {
    "duration": 19,
    "start_time": "2021-07-20T16:06:27.277Z"
   },
   {
    "duration": 18,
    "start_time": "2021-07-20T16:06:33.656Z"
   },
   {
    "duration": 19,
    "start_time": "2021-07-20T16:06:54.576Z"
   },
   {
    "duration": 17,
    "start_time": "2021-07-20T16:07:13.407Z"
   },
   {
    "duration": 123,
    "start_time": "2021-07-20T16:07:21.398Z"
   },
   {
    "duration": 13,
    "start_time": "2021-07-20T16:09:08.961Z"
   },
   {
    "duration": 286,
    "start_time": "2021-07-20T16:09:24.524Z"
   },
   {
    "duration": 310,
    "start_time": "2021-07-20T16:09:29.627Z"
   },
   {
    "duration": 330,
    "start_time": "2021-07-20T16:09:32.819Z"
   },
   {
    "duration": 298,
    "start_time": "2021-07-20T16:09:43.776Z"
   },
   {
    "duration": 332,
    "start_time": "2021-07-20T16:09:47.662Z"
   },
   {
    "duration": 13,
    "start_time": "2021-07-20T16:10:11.080Z"
   },
   {
    "duration": 310,
    "start_time": "2021-07-20T16:10:45.366Z"
   },
   {
    "duration": 372,
    "start_time": "2021-07-20T16:10:51.983Z"
   },
   {
    "duration": 664,
    "start_time": "2021-07-20T16:11:17.226Z"
   },
   {
    "duration": 610,
    "start_time": "2021-07-20T16:11:40.608Z"
   },
   {
    "duration": 358,
    "start_time": "2021-07-20T16:11:48.352Z"
   },
   {
    "duration": 371,
    "start_time": "2021-07-20T16:11:57.864Z"
   },
   {
    "duration": 418,
    "start_time": "2021-07-20T16:12:30.266Z"
   },
   {
    "duration": 374,
    "start_time": "2021-07-20T16:12:51.765Z"
   },
   {
    "duration": 315,
    "start_time": "2021-07-20T18:13:44.847Z"
   },
   {
    "duration": 384,
    "start_time": "2021-07-20T18:13:56.092Z"
   },
   {
    "duration": 20,
    "start_time": "2021-07-20T18:14:09.353Z"
   },
   {
    "duration": 538,
    "start_time": "2021-07-20T18:14:22.752Z"
   },
   {
    "duration": 364,
    "start_time": "2021-07-20T18:15:03.691Z"
   },
   {
    "duration": 355,
    "start_time": "2021-07-20T18:15:12.582Z"
   },
   {
    "duration": 347,
    "start_time": "2021-07-20T18:15:25.070Z"
   },
   {
    "duration": 361,
    "start_time": "2021-07-20T18:15:29.550Z"
   },
   {
    "duration": 17,
    "start_time": "2021-07-20T18:15:50.273Z"
   },
   {
    "duration": 16,
    "start_time": "2021-07-20T18:15:58.819Z"
   },
   {
    "duration": 17,
    "start_time": "2021-07-20T18:16:10.658Z"
   },
   {
    "duration": 404,
    "start_time": "2021-07-20T18:16:45.501Z"
   },
   {
    "duration": 355,
    "start_time": "2021-07-20T18:17:04.826Z"
   },
   {
    "duration": 346,
    "start_time": "2021-07-20T18:17:10.659Z"
   },
   {
    "duration": 355,
    "start_time": "2021-07-20T18:17:16.546Z"
   },
   {
    "duration": 377,
    "start_time": "2021-07-20T18:17:41.358Z"
   },
   {
    "duration": 384,
    "start_time": "2021-07-20T18:17:59.736Z"
   },
   {
    "duration": 103,
    "start_time": "2021-07-20T18:18:09.982Z"
   },
   {
    "duration": 370,
    "start_time": "2021-07-20T18:18:12.510Z"
   },
   {
    "duration": 366,
    "start_time": "2021-07-20T18:18:24.923Z"
   },
   {
    "duration": 89,
    "start_time": "2021-07-20T18:18:49.759Z"
   },
   {
    "duration": 375,
    "start_time": "2021-07-20T18:18:53.668Z"
   },
   {
    "duration": 382,
    "start_time": "2021-07-20T18:20:07.638Z"
   },
   {
    "duration": 15,
    "start_time": "2021-07-20T18:21:39.228Z"
   },
   {
    "duration": 15,
    "start_time": "2021-07-20T18:21:49.432Z"
   },
   {
    "duration": 13,
    "start_time": "2021-07-20T18:22:01.020Z"
   },
   {
    "duration": 83,
    "start_time": "2021-07-20T18:22:02.651Z"
   },
   {
    "duration": 9,
    "start_time": "2021-07-20T18:22:05.467Z"
   },
   {
    "duration": 84,
    "start_time": "2021-07-20T18:22:06.948Z"
   },
   {
    "duration": 1589,
    "start_time": "2021-07-20T18:24:19.489Z"
   },
   {
    "duration": 1349,
    "start_time": "2021-07-20T18:24:21.081Z"
   },
   {
    "duration": 38,
    "start_time": "2021-07-20T18:24:22.435Z"
   },
   {
    "duration": 276,
    "start_time": "2021-07-20T18:24:22.502Z"
   },
   {
    "duration": 20,
    "start_time": "2021-07-20T18:24:22.781Z"
   },
   {
    "duration": 5,
    "start_time": "2021-07-20T18:24:22.804Z"
   },
   {
    "duration": 2455,
    "start_time": "2021-07-20T18:24:22.812Z"
   },
   {
    "duration": 444,
    "start_time": "2021-07-20T18:24:25.270Z"
   },
   {
    "duration": 165,
    "start_time": "2021-07-20T18:24:25.718Z"
   },
   {
    "duration": 671,
    "start_time": "2021-07-20T18:24:25.887Z"
   },
   {
    "duration": 374,
    "start_time": "2021-07-20T18:24:26.560Z"
   },
   {
    "duration": 400,
    "start_time": "2021-07-20T18:24:26.937Z"
   },
   {
    "duration": 47,
    "start_time": "2021-07-20T18:24:27.339Z"
   },
   {
    "duration": 38,
    "start_time": "2021-07-20T18:24:27.401Z"
   },
   {
    "duration": 216,
    "start_time": "2021-07-20T18:24:27.442Z"
   },
   {
    "duration": 24,
    "start_time": "2021-07-20T18:24:27.661Z"
   },
   {
    "duration": 29,
    "start_time": "2021-07-20T18:24:27.701Z"
   },
   {
    "duration": 24,
    "start_time": "2021-07-20T18:24:27.733Z"
   },
   {
    "duration": 64,
    "start_time": "2021-07-20T18:24:27.759Z"
   },
   {
    "duration": 29,
    "start_time": "2021-07-20T18:24:27.826Z"
   },
   {
    "duration": 61,
    "start_time": "2021-07-20T18:24:27.858Z"
   },
   {
    "duration": 30,
    "start_time": "2021-07-20T18:24:27.921Z"
   },
   {
    "duration": 6,
    "start_time": "2021-07-20T18:24:27.957Z"
   },
   {
    "duration": 2001,
    "start_time": "2021-07-20T18:24:28.002Z"
   },
   {
    "duration": 474,
    "start_time": "2021-07-20T18:24:30.006Z"
   },
   {
    "duration": 800,
    "start_time": "2021-07-20T18:24:30.483Z"
   },
   {
    "duration": 54,
    "start_time": "2021-07-20T18:24:31.286Z"
   },
   {
    "duration": 93,
    "start_time": "2021-07-20T18:24:31.343Z"
   },
   {
    "duration": 122,
    "start_time": "2021-07-20T18:24:31.439Z"
   },
   {
    "duration": 142,
    "start_time": "2021-07-20T18:24:31.563Z"
   },
   {
    "duration": 16,
    "start_time": "2021-07-20T18:24:31.708Z"
   },
   {
    "duration": 12,
    "start_time": "2021-07-20T18:24:31.727Z"
   },
   {
    "duration": 127,
    "start_time": "2021-07-20T18:24:31.742Z"
   },
   {
    "duration": 40,
    "start_time": "2021-07-20T18:24:31.872Z"
   },
   {
    "duration": 11,
    "start_time": "2021-07-20T18:24:31.915Z"
   },
   {
    "duration": 115,
    "start_time": "2021-07-20T18:24:31.929Z"
   },
   {
    "duration": 435,
    "start_time": "2021-07-20T18:24:32.046Z"
   },
   {
    "duration": 321,
    "start_time": "2021-07-20T18:24:32.483Z"
   },
   {
    "duration": 20,
    "start_time": "2021-07-20T18:24:32.807Z"
   },
   {
    "duration": 17,
    "start_time": "2021-07-20T18:24:32.830Z"
   },
   {
    "duration": 128,
    "start_time": "2021-07-20T18:24:32.849Z"
   },
   {
    "duration": 384,
    "start_time": "2021-07-20T18:24:32.980Z"
   },
   {
    "duration": 36,
    "start_time": "2021-07-20T18:24:33.367Z"
   },
   {
    "duration": 388,
    "start_time": "2021-07-20T18:24:33.406Z"
   },
   {
    "duration": 12,
    "start_time": "2021-07-20T18:24:33.801Z"
   },
   {
    "duration": 101,
    "start_time": "2021-07-20T18:24:33.816Z"
   },
   {
    "duration": 61,
    "start_time": "2021-07-21T10:39:38.369Z"
   },
   {
    "duration": 23,
    "start_time": "2021-07-21T10:41:10.674Z"
   },
   {
    "duration": 21,
    "start_time": "2021-07-21T10:41:24.345Z"
   },
   {
    "duration": 25,
    "start_time": "2021-07-21T10:41:26.258Z"
   },
   {
    "duration": 105,
    "start_time": "2021-07-21T10:45:23.686Z"
   },
   {
    "duration": 1160,
    "start_time": "2021-07-21T10:46:00.731Z"
   },
   {
    "duration": 720,
    "start_time": "2021-07-21T10:46:01.893Z"
   },
   {
    "duration": 14,
    "start_time": "2021-07-21T10:46:02.617Z"
   },
   {
    "duration": 127,
    "start_time": "2021-07-21T10:46:02.633Z"
   },
   {
    "duration": 4,
    "start_time": "2021-07-21T10:46:02.762Z"
   },
   {
    "duration": 6,
    "start_time": "2021-07-21T10:46:02.767Z"
   },
   {
    "duration": 1340,
    "start_time": "2021-07-21T10:46:02.775Z"
   },
   {
    "duration": 279,
    "start_time": "2021-07-21T10:46:04.117Z"
   },
   {
    "duration": 66,
    "start_time": "2021-07-21T10:46:04.398Z"
   },
   {
    "duration": 379,
    "start_time": "2021-07-21T10:46:04.465Z"
   },
   {
    "duration": 332,
    "start_time": "2021-07-21T10:46:04.846Z"
   },
   {
    "duration": -536,
    "start_time": "2021-07-21T10:46:05.717Z"
   },
   {
    "duration": -545,
    "start_time": "2021-07-21T10:46:05.726Z"
   },
   {
    "duration": -552,
    "start_time": "2021-07-21T10:46:05.734Z"
   },
   {
    "duration": -563,
    "start_time": "2021-07-21T10:46:05.746Z"
   },
   {
    "duration": -571,
    "start_time": "2021-07-21T10:46:05.755Z"
   },
   {
    "duration": -578,
    "start_time": "2021-07-21T10:46:05.763Z"
   },
   {
    "duration": -585,
    "start_time": "2021-07-21T10:46:05.771Z"
   },
   {
    "duration": -591,
    "start_time": "2021-07-21T10:46:05.778Z"
   },
   {
    "duration": -598,
    "start_time": "2021-07-21T10:46:05.785Z"
   },
   {
    "duration": -619,
    "start_time": "2021-07-21T10:46:05.807Z"
   },
   {
    "duration": -625,
    "start_time": "2021-07-21T10:46:05.814Z"
   },
   {
    "duration": -633,
    "start_time": "2021-07-21T10:46:05.823Z"
   },
   {
    "duration": -640,
    "start_time": "2021-07-21T10:46:05.831Z"
   },
   {
    "duration": -665,
    "start_time": "2021-07-21T10:46:05.857Z"
   },
   {
    "duration": -693,
    "start_time": "2021-07-21T10:46:05.886Z"
   },
   {
    "duration": -715,
    "start_time": "2021-07-21T10:46:05.909Z"
   },
   {
    "duration": -786,
    "start_time": "2021-07-21T10:46:05.980Z"
   },
   {
    "duration": -796,
    "start_time": "2021-07-21T10:46:05.991Z"
   },
   {
    "duration": -814,
    "start_time": "2021-07-21T10:46:06.010Z"
   },
   {
    "duration": -829,
    "start_time": "2021-07-21T10:46:06.026Z"
   },
   {
    "duration": -837,
    "start_time": "2021-07-21T10:46:06.035Z"
   },
   {
    "duration": -846,
    "start_time": "2021-07-21T10:46:06.045Z"
   },
   {
    "duration": -853,
    "start_time": "2021-07-21T10:46:06.053Z"
   },
   {
    "duration": -863,
    "start_time": "2021-07-21T10:46:06.064Z"
   },
   {
    "duration": -871,
    "start_time": "2021-07-21T10:46:06.073Z"
   },
   {
    "duration": -901,
    "start_time": "2021-07-21T10:46:06.103Z"
   },
   {
    "duration": -908,
    "start_time": "2021-07-21T10:46:06.111Z"
   },
   {
    "duration": -924,
    "start_time": "2021-07-21T10:46:06.128Z"
   },
   {
    "duration": -940,
    "start_time": "2021-07-21T10:46:06.145Z"
   },
   {
    "duration": -946,
    "start_time": "2021-07-21T10:46:06.153Z"
   },
   {
    "duration": -952,
    "start_time": "2021-07-21T10:46:06.160Z"
   },
   {
    "duration": -960,
    "start_time": "2021-07-21T10:46:06.169Z"
   },
   {
    "duration": -967,
    "start_time": "2021-07-21T10:46:06.177Z"
   },
   {
    "duration": -975,
    "start_time": "2021-07-21T10:46:06.186Z"
   },
   {
    "duration": -981,
    "start_time": "2021-07-21T10:46:06.193Z"
   },
   {
    "duration": -1005,
    "start_time": "2021-07-21T10:46:06.218Z"
   },
   {
    "duration": 239,
    "start_time": "2021-07-21T10:46:32.130Z"
   },
   {
    "duration": 1182,
    "start_time": "2021-07-21T10:46:38.086Z"
   },
   {
    "duration": 689,
    "start_time": "2021-07-21T10:46:39.270Z"
   },
   {
    "duration": 15,
    "start_time": "2021-07-21T10:46:39.961Z"
   },
   {
    "duration": 123,
    "start_time": "2021-07-21T10:46:39.978Z"
   },
   {
    "duration": 5,
    "start_time": "2021-07-21T10:46:40.102Z"
   },
   {
    "duration": 10,
    "start_time": "2021-07-21T10:46:40.108Z"
   },
   {
    "duration": 1308,
    "start_time": "2021-07-21T10:46:40.120Z"
   },
   {
    "duration": 269,
    "start_time": "2021-07-21T10:46:41.430Z"
   },
   {
    "duration": 68,
    "start_time": "2021-07-21T10:46:41.701Z"
   },
   {
    "duration": 357,
    "start_time": "2021-07-21T10:46:41.771Z"
   },
   {
    "duration": 276,
    "start_time": "2021-07-21T10:46:42.130Z"
   },
   {
    "duration": 416,
    "start_time": "2021-07-21T10:46:42.408Z"
   },
   {
    "duration": 31,
    "start_time": "2021-07-21T10:46:42.826Z"
   },
   {
    "duration": 38,
    "start_time": "2021-07-21T10:46:42.859Z"
   },
   {
    "duration": 111,
    "start_time": "2021-07-21T10:46:42.898Z"
   },
   {
    "duration": 17,
    "start_time": "2021-07-21T10:46:43.010Z"
   },
   {
    "duration": 19,
    "start_time": "2021-07-21T10:46:43.028Z"
   },
   {
    "duration": 43,
    "start_time": "2021-07-21T10:46:43.048Z"
   },
   {
    "duration": 21,
    "start_time": "2021-07-21T10:46:43.093Z"
   },
   {
    "duration": 19,
    "start_time": "2021-07-21T10:46:43.116Z"
   },
   {
    "duration": 16,
    "start_time": "2021-07-21T10:46:43.137Z"
   },
   {
    "duration": 42,
    "start_time": "2021-07-21T10:46:43.155Z"
   },
   {
    "duration": 1053,
    "start_time": "2021-07-21T10:46:43.200Z"
   },
   {
    "duration": 158,
    "start_time": "2021-07-21T10:46:44.254Z"
   },
   {
    "duration": 163,
    "start_time": "2021-07-21T10:46:44.414Z"
   },
   {
    "duration": 252,
    "start_time": "2021-07-21T10:46:44.578Z"
   },
   {
    "duration": 10,
    "start_time": "2021-07-21T10:46:44.831Z"
   },
   {
    "duration": 50,
    "start_time": "2021-07-21T10:46:44.842Z"
   },
   {
    "duration": 56,
    "start_time": "2021-07-21T10:46:44.893Z"
   },
   {
    "duration": 84,
    "start_time": "2021-07-21T10:46:44.950Z"
   },
   {
    "duration": 10,
    "start_time": "2021-07-21T10:46:45.036Z"
   },
   {
    "duration": 9,
    "start_time": "2021-07-21T10:46:45.048Z"
   },
   {
    "duration": 59,
    "start_time": "2021-07-21T10:46:45.058Z"
   },
   {
    "duration": 15,
    "start_time": "2021-07-21T10:46:45.119Z"
   },
   {
    "duration": 5,
    "start_time": "2021-07-21T10:46:45.136Z"
   },
   {
    "duration": 57,
    "start_time": "2021-07-21T10:46:45.143Z"
   },
   {
    "duration": 233,
    "start_time": "2021-07-21T10:46:45.202Z"
   },
   {
    "duration": 172,
    "start_time": "2021-07-21T10:46:45.436Z"
   },
   {
    "duration": 12,
    "start_time": "2021-07-21T10:46:45.610Z"
   },
   {
    "duration": 13,
    "start_time": "2021-07-21T10:46:45.624Z"
   },
   {
    "duration": 58,
    "start_time": "2021-07-21T10:46:45.639Z"
   },
   {
    "duration": 322,
    "start_time": "2021-07-21T10:46:45.699Z"
   },
   {
    "duration": 14,
    "start_time": "2021-07-21T10:46:46.023Z"
   },
   {
    "duration": 209,
    "start_time": "2021-07-21T10:46:46.039Z"
   },
   {
    "duration": 7,
    "start_time": "2021-07-21T10:46:46.249Z"
   },
   {
    "duration": 47,
    "start_time": "2021-07-21T10:46:46.258Z"
   },
   {
    "duration": 15,
    "start_time": "2021-07-21T10:46:46.306Z"
   },
   {
    "duration": 11,
    "start_time": "2021-07-21T10:47:50.621Z"
   },
   {
    "duration": 5,
    "start_time": "2021-07-21T10:47:59.553Z"
   },
   {
    "duration": 5,
    "start_time": "2021-07-21T10:48:04.337Z"
   },
   {
    "duration": 319,
    "start_time": "2021-07-21T10:48:08.058Z"
   },
   {
    "duration": 9,
    "start_time": "2021-07-21T10:48:12.987Z"
   },
   {
    "duration": 15,
    "start_time": "2021-07-21T10:48:23.014Z"
   },
   {
    "duration": 3,
    "start_time": "2021-07-21T10:48:33.568Z"
   },
   {
    "duration": 14,
    "start_time": "2021-07-21T10:48:39.664Z"
   },
   {
    "duration": 22,
    "start_time": "2021-07-21T11:39:25.770Z"
   },
   {
    "duration": 15,
    "start_time": "2021-07-21T11:39:55.947Z"
   },
   {
    "duration": 9,
    "start_time": "2021-07-21T11:43:53.024Z"
   },
   {
    "duration": 15,
    "start_time": "2021-07-21T11:43:56.470Z"
   },
   {
    "duration": 9,
    "start_time": "2021-07-21T11:44:07.665Z"
   },
   {
    "duration": 11,
    "start_time": "2021-07-21T11:44:20.509Z"
   },
   {
    "duration": 226,
    "start_time": "2021-07-21T11:44:35.369Z"
   },
   {
    "duration": 16,
    "start_time": "2021-07-21T11:44:39.742Z"
   },
   {
    "duration": 17,
    "start_time": "2021-07-21T11:44:44.899Z"
   },
   {
    "duration": 2,
    "start_time": "2021-07-21T11:49:03.078Z"
   },
   {
    "duration": 244,
    "start_time": "2021-07-21T11:52:02.277Z"
   },
   {
    "duration": 253,
    "start_time": "2021-07-21T11:52:22.009Z"
   },
   {
    "duration": 4,
    "start_time": "2021-07-21T12:13:38.802Z"
   },
   {
    "duration": 5,
    "start_time": "2021-07-21T12:13:58.524Z"
   },
   {
    "duration": 3,
    "start_time": "2021-07-21T12:15:36.643Z"
   },
   {
    "duration": 3,
    "start_time": "2021-07-21T12:15:46.620Z"
   },
   {
    "duration": 3,
    "start_time": "2021-07-21T12:17:02.468Z"
   },
   {
    "duration": 216,
    "start_time": "2021-07-21T12:17:45.324Z"
   },
   {
    "duration": 3,
    "start_time": "2021-07-21T12:19:14.946Z"
   },
   {
    "duration": 217,
    "start_time": "2021-07-21T12:19:16.796Z"
   },
   {
    "duration": 261,
    "start_time": "2021-07-21T12:19:34.834Z"
   },
   {
    "duration": 28,
    "start_time": "2021-07-21T13:11:07.937Z"
   },
   {
    "duration": 4,
    "start_time": "2021-07-21T13:11:15.824Z"
   },
   {
    "duration": 6,
    "start_time": "2021-07-21T13:11:41.735Z"
   },
   {
    "duration": 6176,
    "start_time": "2021-07-21T13:11:52.635Z"
   },
   {
    "duration": 11,
    "start_time": "2021-07-21T13:11:58.983Z"
   },
   {
    "duration": 10,
    "start_time": "2021-07-21T13:12:10.302Z"
   },
   {
    "duration": 12,
    "start_time": "2021-07-21T13:12:18.274Z"
   },
   {
    "duration": 10,
    "start_time": "2021-07-21T13:13:13.657Z"
   },
   {
    "duration": 2596,
    "start_time": "2021-07-21T13:13:28.369Z"
   },
   {
    "duration": 3,
    "start_time": "2021-07-21T13:13:35.717Z"
   },
   {
    "duration": 3,
    "start_time": "2021-07-21T13:13:40.009Z"
   },
   {
    "duration": 156,
    "start_time": "2021-07-21T13:13:44.213Z"
   },
   {
    "duration": 149,
    "start_time": "2021-07-21T13:13:46.555Z"
   },
   {
    "duration": 3,
    "start_time": "2021-07-21T13:14:03.449Z"
   },
   {
    "duration": 2552,
    "start_time": "2021-07-21T13:14:05.073Z"
   },
   {
    "duration": 3,
    "start_time": "2021-07-21T13:14:51.337Z"
   },
   {
    "duration": 1344,
    "start_time": "2021-07-21T13:14:52.490Z"
   },
   {
    "duration": 3,
    "start_time": "2021-07-21T13:42:34.043Z"
   },
   {
    "duration": 1618,
    "start_time": "2021-07-21T13:42:35.689Z"
   },
   {
    "duration": 2,
    "start_time": "2021-07-21T13:43:21.878Z"
   },
   {
    "duration": 498,
    "start_time": "2021-07-21T13:45:52.061Z"
   },
   {
    "duration": 457,
    "start_time": "2021-07-21T13:46:06.243Z"
   },
   {
    "duration": 516,
    "start_time": "2021-07-21T13:46:21.059Z"
   },
   {
    "duration": 661,
    "start_time": "2021-07-21T13:46:30.331Z"
   },
   {
    "duration": 473,
    "start_time": "2021-07-21T13:47:06.600Z"
   },
   {
    "duration": 4,
    "start_time": "2021-07-21T13:48:17.988Z"
   },
   {
    "duration": 5,
    "start_time": "2021-07-21T13:48:48.621Z"
   },
   {
    "duration": 236,
    "start_time": "2021-07-21T13:49:00.441Z"
   },
   {
    "duration": 3,
    "start_time": "2021-07-21T13:49:22.464Z"
   },
   {
    "duration": 29,
    "start_time": "2021-07-21T13:49:23.678Z"
   },
   {
    "duration": 345,
    "start_time": "2021-07-21T13:50:22.265Z"
   },
   {
    "duration": 3974,
    "start_time": "2021-07-21T13:51:16.709Z"
   },
   {
    "duration": 491,
    "start_time": "2021-07-21T13:52:00.074Z"
   },
   {
    "duration": 470,
    "start_time": "2021-07-21T14:00:25.238Z"
   },
   {
    "duration": -960,
    "start_time": "2021-07-21T14:00:54.513Z"
   },
   {
    "duration": 30276,
    "start_time": "2021-07-21T14:01:56.718Z"
   },
   {
    "duration": 797,
    "start_time": "2021-07-21T14:02:26.996Z"
   },
   {
    "duration": 239,
    "start_time": "2021-07-21T14:02:27.796Z"
   },
   {
    "duration": 3,
    "start_time": "2021-07-21T14:02:46.176Z"
   },
   {
    "duration": 236,
    "start_time": "2021-07-21T14:03:33.089Z"
   },
   {
    "duration": 240,
    "start_time": "2021-07-21T14:03:44.488Z"
   },
   {
    "duration": 243,
    "start_time": "2021-07-21T14:04:06.805Z"
   },
   {
    "duration": 7,
    "start_time": "2021-07-21T14:04:10.412Z"
   },
   {
    "duration": 6,
    "start_time": "2021-07-21T14:04:15.127Z"
   },
   {
    "duration": 3,
    "start_time": "2021-07-21T14:04:53.786Z"
   },
   {
    "duration": 328,
    "start_time": "2021-07-21T14:04:55.749Z"
   },
   {
    "duration": 231,
    "start_time": "2021-07-21T14:05:09.612Z"
   },
   {
    "duration": 326,
    "start_time": "2021-07-21T14:05:15.732Z"
   },
   {
    "duration": 253,
    "start_time": "2021-07-21T14:10:25.869Z"
   },
   {
    "duration": 2263,
    "start_time": "2021-07-21T14:10:29.015Z"
   },
   {
    "duration": 2299,
    "start_time": "2021-07-21T14:10:39.021Z"
   },
   {
    "duration": 152,
    "start_time": "2021-07-21T14:11:22.864Z"
   },
   {
    "duration": 153,
    "start_time": "2021-07-21T14:11:27.632Z"
   },
   {
    "duration": 168,
    "start_time": "2021-07-21T14:11:45.962Z"
   },
   {
    "duration": 2269,
    "start_time": "2021-07-21T14:11:50.361Z"
   },
   {
    "duration": 163,
    "start_time": "2021-07-21T14:11:56.090Z"
   },
   {
    "duration": 267,
    "start_time": "2021-07-21T14:12:06.741Z"
   },
   {
    "duration": 4,
    "start_time": "2021-07-21T14:12:32.522Z"
   },
   {
    "duration": 2261,
    "start_time": "2021-07-21T14:14:18.959Z"
   },
   {
    "duration": 5,
    "start_time": "2021-07-21T14:14:41.252Z"
   },
   {
    "duration": 4,
    "start_time": "2021-07-21T14:14:47.388Z"
   },
   {
    "duration": 4,
    "start_time": "2021-07-21T14:14:53.344Z"
   },
   {
    "duration": 4,
    "start_time": "2021-07-21T14:14:59.348Z"
   },
   {
    "duration": 4,
    "start_time": "2021-07-21T14:15:08.258Z"
   },
   {
    "duration": 2259,
    "start_time": "2021-07-21T14:15:24.132Z"
   },
   {
    "duration": 2443,
    "start_time": "2021-07-21T14:15:55.278Z"
   },
   {
    "duration": 2262,
    "start_time": "2021-07-21T14:16:08.489Z"
   },
   {
    "duration": 4,
    "start_time": "2021-07-21T14:16:10.752Z"
   },
   {
    "duration": 2265,
    "start_time": "2021-07-21T14:17:00.343Z"
   },
   {
    "duration": 4,
    "start_time": "2021-07-21T14:17:05.073Z"
   },
   {
    "duration": 111382,
    "start_time": "2021-07-21T14:38:15.909Z"
   },
   {
    "duration": 6,
    "start_time": "2021-07-21T14:40:07.295Z"
   },
   {
    "duration": 5,
    "start_time": "2021-07-21T14:41:23.184Z"
   },
   {
    "duration": 4,
    "start_time": "2021-07-21T14:41:57.291Z"
   },
   {
    "duration": 4,
    "start_time": "2021-07-21T14:42:07.733Z"
   },
   {
    "duration": 240,
    "start_time": "2021-07-21T14:45:25.651Z"
   },
   {
    "duration": 409,
    "start_time": "2021-07-21T14:45:30.765Z"
   },
   {
    "duration": 711,
    "start_time": "2021-07-21T14:45:36.562Z"
   },
   {
    "duration": 728,
    "start_time": "2021-07-21T14:45:56.619Z"
   },
   {
    "duration": 2,
    "start_time": "2021-07-21T14:46:18.756Z"
   },
   {
    "duration": 580,
    "start_time": "2021-07-21T14:46:21.403Z"
   },
   {
    "duration": 758,
    "start_time": "2021-07-21T14:46:59.334Z"
   },
   {
    "duration": 803,
    "start_time": "2021-07-21T14:47:04.740Z"
   },
   {
    "duration": 25486,
    "start_time": "2021-07-21T14:47:15.408Z"
   },
   {
    "duration": 511,
    "start_time": "2021-07-21T14:47:45.882Z"
   },
   {
    "duration": 5,
    "start_time": "2021-07-21T14:47:47.625Z"
   },
   {
    "duration": 107663,
    "start_time": "2021-07-21T14:47:55.230Z"
   },
   {
    "duration": 96,
    "start_time": "2021-07-21T14:49:42.896Z"
   },
   {
    "duration": 217,
    "start_time": "2021-07-21T16:14:13.085Z"
   },
   {
    "duration": 225,
    "start_time": "2021-07-21T16:14:31.296Z"
   },
   {
    "duration": 208,
    "start_time": "2021-07-21T16:15:33.337Z"
   },
   {
    "duration": 218,
    "start_time": "2021-07-21T16:15:36.193Z"
   },
   {
    "duration": 223,
    "start_time": "2021-07-21T16:15:38.014Z"
   },
   {
    "duration": 26119,
    "start_time": "2021-07-21T16:16:11.875Z"
   },
   {
    "duration": 458,
    "start_time": "2021-07-21T16:16:49.536Z"
   },
   {
    "duration": 6,
    "start_time": "2021-07-21T16:16:51.623Z"
   },
   {
    "duration": 6,
    "start_time": "2021-07-21T16:16:53.182Z"
   },
   {
    "duration": 221,
    "start_time": "2021-07-21T16:16:57.062Z"
   },
   {
    "duration": 237,
    "start_time": "2021-07-21T16:17:25.692Z"
   },
   {
    "duration": 16,
    "start_time": "2021-07-21T16:17:31.061Z"
   },
   {
    "duration": 5,
    "start_time": "2021-07-21T16:17:42.506Z"
   },
   {
    "duration": 8,
    "start_time": "2021-07-21T16:17:46.825Z"
   },
   {
    "duration": 9,
    "start_time": "2021-07-21T16:17:58.743Z"
   },
   {
    "duration": 228,
    "start_time": "2021-07-21T16:18:21.851Z"
   },
   {
    "duration": 224,
    "start_time": "2021-07-21T16:18:26.514Z"
   },
   {
    "duration": 211,
    "start_time": "2021-07-21T16:18:41.341Z"
   },
   {
    "duration": 9,
    "start_time": "2021-07-21T16:18:45.918Z"
   },
   {
    "duration": 9,
    "start_time": "2021-07-21T16:19:17.393Z"
   },
   {
    "duration": 364,
    "start_time": "2021-07-21T16:21:26.434Z"
   },
   {
    "duration": 5730,
    "start_time": "2021-07-21T16:21:30.068Z"
   },
   {
    "duration": 195,
    "start_time": "2021-07-21T16:21:35.800Z"
   },
   {
    "duration": 96,
    "start_time": "2021-07-21T16:21:35.997Z"
   },
   {
    "duration": 10,
    "start_time": "2021-07-21T16:22:47.511Z"
   },
   {
    "duration": 4,
    "start_time": "2021-07-21T16:27:28.940Z"
   },
   {
    "duration": 10,
    "start_time": "2021-07-21T16:31:09.634Z"
   },
   {
    "duration": 327,
    "start_time": "2021-07-21T16:31:21.404Z"
   },
   {
    "duration": 226,
    "start_time": "2021-07-21T16:31:25.147Z"
   },
   {
    "duration": 221,
    "start_time": "2021-07-21T16:31:28.537Z"
   },
   {
    "duration": 221,
    "start_time": "2021-07-21T16:31:36.083Z"
   },
   {
    "duration": 249,
    "start_time": "2021-07-21T16:31:41.934Z"
   },
   {
    "duration": 4,
    "start_time": "2021-07-21T16:32:58.271Z"
   },
   {
    "duration": 235,
    "start_time": "2021-07-21T16:33:04.297Z"
   },
   {
    "duration": 211,
    "start_time": "2021-07-21T16:33:10.241Z"
   },
   {
    "duration": 220,
    "start_time": "2021-07-21T16:33:13.961Z"
   },
   {
    "duration": 10,
    "start_time": "2021-07-21T16:33:18.976Z"
   },
   {
    "duration": 161,
    "start_time": "2021-07-21T17:30:20.961Z"
   },
   {
    "duration": 2,
    "start_time": "2021-07-21T17:30:27.016Z"
   },
   {
    "duration": 168,
    "start_time": "2021-07-21T17:30:28.584Z"
   },
   {
    "duration": 316,
    "start_time": "2021-07-21T17:30:39.676Z"
   },
   {
    "duration": 248,
    "start_time": "2021-07-21T17:30:43.278Z"
   },
   {
    "duration": 8,
    "start_time": "2021-07-21T17:30:52.908Z"
   },
   {
    "duration": 8,
    "start_time": "2021-07-21T17:30:54.452Z"
   },
   {
    "duration": 2,
    "start_time": "2021-07-21T17:30:56.540Z"
   },
   {
    "duration": 3,
    "start_time": "2021-07-21T17:30:57.826Z"
   },
   {
    "duration": 3,
    "start_time": "2021-07-21T17:30:59.104Z"
   },
   {
    "duration": 1162,
    "start_time": "2021-07-21T17:31:01.233Z"
   },
   {
    "duration": 130,
    "start_time": "2021-07-21T17:31:03.665Z"
   },
   {
    "duration": 5,
    "start_time": "2021-07-21T17:31:05.494Z"
   },
   {
    "duration": 3,
    "start_time": "2021-07-21T17:32:53.237Z"
   },
   {
    "duration": 3,
    "start_time": "2021-07-21T17:32:55.545Z"
   },
   {
    "duration": 1418,
    "start_time": "2021-07-21T17:32:56.876Z"
   },
   {
    "duration": 80,
    "start_time": "2021-07-21T17:33:03.018Z"
   },
   {
    "duration": 5,
    "start_time": "2021-07-21T17:33:04.370Z"
   },
   {
    "duration": 505,
    "start_time": "2021-07-21T17:33:25.349Z"
   },
   {
    "duration": 733,
    "start_time": "2021-07-21T17:33:54.463Z"
   },
   {
    "duration": 74,
    "start_time": "2021-07-21T17:33:58.224Z"
   },
   {
    "duration": 6,
    "start_time": "2021-07-21T17:33:59.512Z"
   },
   {
    "duration": 4,
    "start_time": "2021-07-21T17:34:41.670Z"
   },
   {
    "duration": 3,
    "start_time": "2021-07-21T17:35:12.311Z"
   },
   {
    "duration": 2592,
    "start_time": "2021-07-21T17:35:13.509Z"
   },
   {
    "duration": 500,
    "start_time": "2021-07-21T17:35:18.199Z"
   },
   {
    "duration": 5,
    "start_time": "2021-07-21T17:35:19.609Z"
   },
   {
    "duration": 5301,
    "start_time": "2021-07-21T17:35:54.555Z"
   },
   {
    "duration": 4,
    "start_time": "2021-07-21T17:36:13.695Z"
   },
   {
    "duration": 5484,
    "start_time": "2021-07-21T17:52:55.909Z"
   },
   {
    "duration": 10772,
    "start_time": "2021-07-21T17:53:05.729Z"
   },
   {
    "duration": 2813,
    "start_time": "2021-07-21T17:53:22.005Z"
   },
   {
    "duration": 6,
    "start_time": "2021-07-21T17:53:25.955Z"
   },
   {
    "duration": 2883,
    "start_time": "2021-07-21T17:53:33.909Z"
   },
   {
    "duration": 5,
    "start_time": "2021-07-21T17:53:39.332Z"
   },
   {
    "duration": 4,
    "start_time": "2021-07-21T17:53:41.875Z"
   },
   {
    "duration": 5221,
    "start_time": "2021-07-21T17:53:48.440Z"
   },
   {
    "duration": 5890,
    "start_time": "2021-07-21T17:54:57.708Z"
   },
   {
    "duration": 2218,
    "start_time": "2021-07-21T17:55:03.778Z"
   },
   {
    "duration": 1349,
    "start_time": "2021-07-22T11:24:29.209Z"
   },
   {
    "duration": 1015,
    "start_time": "2021-07-22T11:24:30.560Z"
   },
   {
    "duration": 14,
    "start_time": "2021-07-22T11:24:31.577Z"
   },
   {
    "duration": 140,
    "start_time": "2021-07-22T11:24:31.592Z"
   },
   {
    "duration": 9,
    "start_time": "2021-07-22T11:24:31.734Z"
   },
   {
    "duration": 14,
    "start_time": "2021-07-22T11:24:31.745Z"
   },
   {
    "duration": 1602,
    "start_time": "2021-07-22T11:24:31.761Z"
   },
   {
    "duration": 411,
    "start_time": "2021-07-22T11:24:33.366Z"
   },
   {
    "duration": 122,
    "start_time": "2021-07-22T11:24:33.780Z"
   },
   {
    "duration": 342,
    "start_time": "2021-07-22T11:24:33.904Z"
   },
   {
    "duration": 245,
    "start_time": "2021-07-22T11:24:34.249Z"
   },
   {
    "duration": 275,
    "start_time": "2021-07-22T11:24:34.495Z"
   },
   {
    "duration": 33,
    "start_time": "2021-07-22T11:24:34.772Z"
   },
   {
    "duration": 36,
    "start_time": "2021-07-22T11:24:34.807Z"
   },
   {
    "duration": 210,
    "start_time": "2021-07-22T11:24:34.845Z"
   },
   {
    "duration": 27,
    "start_time": "2021-07-22T11:24:35.057Z"
   },
   {
    "duration": 32,
    "start_time": "2021-07-22T11:24:35.086Z"
   },
   {
    "duration": 63,
    "start_time": "2021-07-22T11:24:35.120Z"
   },
   {
    "duration": 30,
    "start_time": "2021-07-22T11:24:35.186Z"
   },
   {
    "duration": 30,
    "start_time": "2021-07-22T11:24:35.218Z"
   },
   {
    "duration": 18,
    "start_time": "2021-07-22T11:24:35.250Z"
   },
   {
    "duration": 29,
    "start_time": "2021-07-22T11:24:35.270Z"
   },
   {
    "duration": 1202,
    "start_time": "2021-07-22T11:24:35.302Z"
   },
   {
    "duration": 168,
    "start_time": "2021-07-22T11:24:36.507Z"
   },
   {
    "duration": 156,
    "start_time": "2021-07-22T11:24:36.677Z"
   },
   {
    "duration": 253,
    "start_time": "2021-07-22T11:24:36.834Z"
   },
   {
    "duration": 9,
    "start_time": "2021-07-22T11:24:37.089Z"
   },
   {
    "duration": 48,
    "start_time": "2021-07-22T11:24:37.099Z"
   },
   {
    "duration": 55,
    "start_time": "2021-07-22T11:24:37.149Z"
   },
   {
    "duration": 92,
    "start_time": "2021-07-22T11:24:37.205Z"
   },
   {
    "duration": 8,
    "start_time": "2021-07-22T11:24:37.298Z"
   },
   {
    "duration": 6,
    "start_time": "2021-07-22T11:24:37.308Z"
   },
   {
    "duration": 61,
    "start_time": "2021-07-22T11:24:37.316Z"
   },
   {
    "duration": 14,
    "start_time": "2021-07-22T11:24:37.378Z"
   },
   {
    "duration": 6,
    "start_time": "2021-07-22T11:24:37.394Z"
   },
   {
    "duration": 49,
    "start_time": "2021-07-22T11:24:37.401Z"
   },
   {
    "duration": 235,
    "start_time": "2021-07-22T11:24:37.452Z"
   },
   {
    "duration": 187,
    "start_time": "2021-07-22T11:24:37.689Z"
   },
   {
    "duration": 12,
    "start_time": "2021-07-22T11:24:37.877Z"
   },
   {
    "duration": 10,
    "start_time": "2021-07-22T11:24:37.890Z"
   },
   {
    "duration": 61,
    "start_time": "2021-07-22T11:24:37.901Z"
   },
   {
    "duration": 237,
    "start_time": "2021-07-22T11:24:37.963Z"
   },
   {
    "duration": 9,
    "start_time": "2021-07-22T11:24:38.201Z"
   },
   {
    "duration": 14,
    "start_time": "2021-07-22T11:24:38.212Z"
   },
   {
    "duration": 318,
    "start_time": "2021-07-22T11:24:38.241Z"
   },
   {
    "duration": 10,
    "start_time": "2021-07-22T11:24:38.561Z"
   },
   {
    "duration": 68,
    "start_time": "2021-07-22T11:24:38.573Z"
   },
   {
    "duration": 18,
    "start_time": "2021-07-22T11:24:38.643Z"
   },
   {
    "duration": 27,
    "start_time": "2021-07-22T11:24:38.663Z"
   },
   {
    "duration": 3,
    "start_time": "2021-07-22T11:24:38.692Z"
   },
   {
    "duration": 14,
    "start_time": "2021-07-22T11:24:38.698Z"
   },
   {
    "duration": 35,
    "start_time": "2021-07-22T11:24:38.714Z"
   },
   {
    "duration": 3,
    "start_time": "2021-07-22T11:24:38.752Z"
   },
   {
    "duration": 4,
    "start_time": "2021-07-22T11:24:38.758Z"
   },
   {
    "duration": 19477,
    "start_time": "2021-07-22T11:24:38.765Z"
   },
   {
    "duration": 625,
    "start_time": "2021-07-22T11:24:58.244Z"
   },
   {
    "duration": 5,
    "start_time": "2021-07-22T11:24:58.870Z"
   },
   {
    "duration": 6,
    "start_time": "2021-07-22T11:24:58.877Z"
   },
   {
    "duration": 328,
    "start_time": "2021-07-22T11:24:58.885Z"
   },
   {
    "duration": 4,
    "start_time": "2021-07-22T11:24:59.215Z"
   },
   {
    "duration": 124,
    "start_time": "2021-07-22T11:24:59.221Z"
   },
   {
    "duration": 6,
    "start_time": "2021-07-22T11:24:59.348Z"
   },
   {
    "duration": 127,
    "start_time": "2021-07-22T11:24:59.356Z"
   },
   {
    "duration": 5,
    "start_time": "2021-07-22T11:24:59.484Z"
   },
   {
    "duration": 7,
    "start_time": "2021-07-22T11:24:59.491Z"
   },
   {
    "duration": 372,
    "start_time": "2021-07-22T11:24:59.499Z"
   },
   {
    "duration": 883,
    "start_time": "2021-07-22T11:24:59.873Z"
   },
   {
    "duration": 32084,
    "start_time": "2021-07-22T11:25:00.761Z"
   },
   {
    "duration": 128298,
    "start_time": "2021-07-22T11:25:32.850Z"
   },
   {
    "duration": 7,
    "start_time": "2021-07-22T11:27:41.151Z"
   },
   {
    "duration": 278,
    "start_time": "2021-07-22T11:27:41.160Z"
   },
   {
    "duration": 277,
    "start_time": "2021-07-22T11:27:41.440Z"
   },
   {
    "duration": -599,
    "start_time": "2021-07-22T11:27:42.318Z"
   },
   {
    "duration": -610,
    "start_time": "2021-07-22T11:27:42.330Z"
   },
   {
    "duration": -623,
    "start_time": "2021-07-22T11:27:42.343Z"
   },
   {
    "duration": -634,
    "start_time": "2021-07-22T11:27:42.355Z"
   },
   {
    "duration": -645,
    "start_time": "2021-07-22T11:27:42.367Z"
   },
   {
    "duration": -660,
    "start_time": "2021-07-22T11:27:42.383Z"
   },
   {
    "duration": -672,
    "start_time": "2021-07-22T11:27:42.396Z"
   },
   {
    "duration": -683,
    "start_time": "2021-07-22T11:27:42.407Z"
   },
   {
    "duration": -695,
    "start_time": "2021-07-22T11:27:42.420Z"
   },
   {
    "duration": 1327,
    "start_time": "2021-07-22T11:33:30.625Z"
   },
   {
    "duration": 755,
    "start_time": "2021-07-22T11:33:31.954Z"
   },
   {
    "duration": 13,
    "start_time": "2021-07-22T11:33:32.711Z"
   },
   {
    "duration": 126,
    "start_time": "2021-07-22T11:33:32.726Z"
   },
   {
    "duration": 4,
    "start_time": "2021-07-22T11:33:32.854Z"
   },
   {
    "duration": 18,
    "start_time": "2021-07-22T11:33:32.860Z"
   },
   {
    "duration": 1885,
    "start_time": "2021-07-22T11:33:32.879Z"
   },
   {
    "duration": 358,
    "start_time": "2021-07-22T11:33:34.767Z"
   },
   {
    "duration": 79,
    "start_time": "2021-07-22T11:33:35.127Z"
   },
   {
    "duration": 372,
    "start_time": "2021-07-22T11:33:35.207Z"
   },
   {
    "duration": 257,
    "start_time": "2021-07-22T11:33:35.580Z"
   },
   {
    "duration": 269,
    "start_time": "2021-07-22T11:33:35.840Z"
   },
   {
    "duration": 42,
    "start_time": "2021-07-22T11:33:36.111Z"
   },
   {
    "duration": 24,
    "start_time": "2021-07-22T11:33:36.156Z"
   },
   {
    "duration": 129,
    "start_time": "2021-07-22T11:33:36.181Z"
   },
   {
    "duration": 17,
    "start_time": "2021-07-22T11:33:36.311Z"
   },
   {
    "duration": 28,
    "start_time": "2021-07-22T11:33:36.329Z"
   },
   {
    "duration": 25,
    "start_time": "2021-07-22T11:33:36.359Z"
   },
   {
    "duration": 23,
    "start_time": "2021-07-22T11:33:36.385Z"
   },
   {
    "duration": 46,
    "start_time": "2021-07-22T11:33:36.409Z"
   },
   {
    "duration": 24,
    "start_time": "2021-07-22T11:33:36.457Z"
   },
   {
    "duration": 22,
    "start_time": "2021-07-22T11:33:36.482Z"
   },
   {
    "duration": 1313,
    "start_time": "2021-07-22T11:33:36.508Z"
   },
   {
    "duration": 158,
    "start_time": "2021-07-22T11:33:37.841Z"
   },
   {
    "duration": 172,
    "start_time": "2021-07-22T11:33:38.001Z"
   },
   {
    "duration": 261,
    "start_time": "2021-07-22T11:33:38.175Z"
   },
   {
    "duration": 8,
    "start_time": "2021-07-22T11:33:38.438Z"
   },
   {
    "duration": 40,
    "start_time": "2021-07-22T11:33:38.448Z"
   },
   {
    "duration": 72,
    "start_time": "2021-07-22T11:33:38.490Z"
   },
   {
    "duration": 77,
    "start_time": "2021-07-22T11:33:38.564Z"
   },
   {
    "duration": 14,
    "start_time": "2021-07-22T11:33:38.643Z"
   },
   {
    "duration": 6,
    "start_time": "2021-07-22T11:33:38.659Z"
   },
   {
    "duration": 37,
    "start_time": "2021-07-22T11:33:38.666Z"
   },
   {
    "duration": 39,
    "start_time": "2021-07-22T11:33:38.705Z"
   },
   {
    "duration": 7,
    "start_time": "2021-07-22T11:33:38.745Z"
   },
   {
    "duration": 36,
    "start_time": "2021-07-22T11:33:38.753Z"
   },
   {
    "duration": 279,
    "start_time": "2021-07-22T11:33:38.791Z"
   },
   {
    "duration": 180,
    "start_time": "2021-07-22T11:33:39.071Z"
   },
   {
    "duration": 12,
    "start_time": "2021-07-22T11:33:39.252Z"
   },
   {
    "duration": 16,
    "start_time": "2021-07-22T11:33:39.265Z"
   },
   {
    "duration": 59,
    "start_time": "2021-07-22T11:33:39.282Z"
   },
   {
    "duration": 247,
    "start_time": "2021-07-22T11:33:39.342Z"
   },
   {
    "duration": 8,
    "start_time": "2021-07-22T11:33:39.591Z"
   },
   {
    "duration": 20,
    "start_time": "2021-07-22T11:33:39.601Z"
   },
   {
    "duration": 253,
    "start_time": "2021-07-22T11:33:39.623Z"
   },
   {
    "duration": 7,
    "start_time": "2021-07-22T11:33:39.877Z"
   },
   {
    "duration": 55,
    "start_time": "2021-07-22T11:33:39.886Z"
   },
   {
    "duration": 14,
    "start_time": "2021-07-22T11:33:39.942Z"
   },
   {
    "duration": 24,
    "start_time": "2021-07-22T11:33:39.958Z"
   },
   {
    "duration": 2,
    "start_time": "2021-07-22T11:33:39.984Z"
   },
   {
    "duration": 27,
    "start_time": "2021-07-22T11:33:39.987Z"
   },
   {
    "duration": 20,
    "start_time": "2021-07-22T11:33:40.015Z"
   },
   {
    "duration": 8,
    "start_time": "2021-07-22T11:33:40.037Z"
   },
   {
    "duration": 16,
    "start_time": "2021-07-22T11:33:40.047Z"
   },
   {
    "duration": 32885,
    "start_time": "2021-07-22T11:33:40.065Z"
   },
   {
    "duration": 644,
    "start_time": "2021-07-22T11:34:12.952Z"
   },
   {
    "duration": 6,
    "start_time": "2021-07-22T11:34:13.598Z"
   },
   {
    "duration": 5,
    "start_time": "2021-07-22T11:34:13.606Z"
   },
   {
    "duration": 66313,
    "start_time": "2021-07-22T11:34:13.613Z"
   },
   {
    "duration": 145,
    "start_time": "2021-07-22T11:35:19.927Z"
   },
   {
    "duration": 6,
    "start_time": "2021-07-22T11:35:20.074Z"
   },
   {
    "duration": 153,
    "start_time": "2021-07-22T11:35:20.082Z"
   },
   {
    "duration": 6,
    "start_time": "2021-07-22T11:35:20.236Z"
   },
   {
    "duration": 7,
    "start_time": "2021-07-22T11:35:20.244Z"
   },
   {
    "duration": 399,
    "start_time": "2021-07-22T11:35:20.253Z"
   },
   {
    "duration": 959,
    "start_time": "2021-07-22T11:35:20.655Z"
   },
   {
    "duration": 27542,
    "start_time": "2021-07-22T11:35:21.616Z"
   },
   {
    "duration": 116778,
    "start_time": "2021-07-22T11:35:49.166Z"
   },
   {
    "duration": 94,
    "start_time": "2021-07-22T11:37:45.947Z"
   },
   {
    "duration": 290,
    "start_time": "2021-07-22T11:37:46.043Z"
   },
   {
    "duration": 290,
    "start_time": "2021-07-22T11:37:46.335Z"
   },
   {
    "duration": 363,
    "start_time": "2021-07-22T11:37:46.264Z"
   },
   {
    "duration": 353,
    "start_time": "2021-07-22T11:37:46.276Z"
   },
   {
    "duration": 344,
    "start_time": "2021-07-22T11:37:46.286Z"
   },
   {
    "duration": 335,
    "start_time": "2021-07-22T11:37:46.297Z"
   },
   {
    "duration": 326,
    "start_time": "2021-07-22T11:37:46.307Z"
   },
   {
    "duration": 314,
    "start_time": "2021-07-22T11:37:46.319Z"
   },
   {
    "duration": 305,
    "start_time": "2021-07-22T11:37:46.329Z"
   },
   {
    "duration": 278,
    "start_time": "2021-07-22T11:37:46.358Z"
   },
   {
    "duration": 267,
    "start_time": "2021-07-22T11:37:46.369Z"
   },
   {
    "duration": 137978,
    "start_time": "2021-07-22T11:37:59.338Z"
   },
   {
    "duration": 25794,
    "start_time": "2021-07-22T11:45:25.873Z"
   },
   {
    "duration": 450,
    "start_time": "2021-07-22T11:45:51.669Z"
   },
   {
    "duration": 5,
    "start_time": "2021-07-22T11:46:37.352Z"
   },
   {
    "duration": 4,
    "start_time": "2021-07-22T11:46:45.757Z"
   },
   {
    "duration": 283,
    "start_time": "2021-07-22T11:46:50.495Z"
   },
   {
    "duration": 271,
    "start_time": "2021-07-22T11:46:57.739Z"
   },
   {
    "duration": 278,
    "start_time": "2021-07-22T11:47:08.527Z"
   },
   {
    "duration": 4,
    "start_time": "2021-07-22T11:47:51.711Z"
   },
   {
    "duration": 4,
    "start_time": "2021-07-22T11:47:59.006Z"
   },
   {
    "duration": 55046,
    "start_time": "2021-07-22T11:48:12.035Z"
   },
   {
    "duration": 4,
    "start_time": "2021-07-22T11:49:34.047Z"
   },
   {
    "duration": 4,
    "start_time": "2021-07-22T11:49:45.484Z"
   },
   {
    "duration": 3,
    "start_time": "2021-07-22T11:51:36.738Z"
   },
   {
    "duration": 185,
    "start_time": "2021-07-22T11:51:41.722Z"
   },
   {
    "duration": 4,
    "start_time": "2021-07-22T11:52:04.972Z"
   },
   {
    "duration": 7,
    "start_time": "2021-07-22T11:52:10.259Z"
   },
   {
    "duration": 4,
    "start_time": "2021-07-22T11:52:17.969Z"
   },
   {
    "duration": 449,
    "start_time": "2021-07-22T11:52:19.232Z"
   },
   {
    "duration": 3,
    "start_time": "2021-07-22T11:52:37.526Z"
   },
   {
    "duration": 460,
    "start_time": "2021-07-22T11:52:39.913Z"
   },
   {
    "duration": 2,
    "start_time": "2021-07-22T11:52:55.366Z"
   },
   {
    "duration": 222,
    "start_time": "2021-07-22T11:52:56.871Z"
   },
   {
    "duration": 3,
    "start_time": "2021-07-22T11:53:07.801Z"
   },
   {
    "duration": 507,
    "start_time": "2021-07-22T11:53:08.979Z"
   },
   {
    "duration": 4,
    "start_time": "2021-07-22T11:53:34.699Z"
   },
   {
    "duration": 7,
    "start_time": "2021-07-22T11:53:48.791Z"
   },
   {
    "duration": 8,
    "start_time": "2021-07-22T11:53:51.004Z"
   },
   {
    "duration": 3,
    "start_time": "2021-07-22T11:53:54.132Z"
   },
   {
    "duration": 3,
    "start_time": "2021-07-22T11:53:57.956Z"
   },
   {
    "duration": 210,
    "start_time": "2021-07-22T11:53:59.387Z"
   },
   {
    "duration": 3,
    "start_time": "2021-07-22T11:54:15.974Z"
   },
   {
    "duration": 15638,
    "start_time": "2021-07-22T11:54:17.111Z"
   },
   {
    "duration": 544,
    "start_time": "2021-07-22T11:54:35.208Z"
   },
   {
    "duration": 6,
    "start_time": "2021-07-22T11:54:37.220Z"
   },
   {
    "duration": 5,
    "start_time": "2021-07-22T11:54:39.257Z"
   },
   {
    "duration": 173,
    "start_time": "2021-07-22T11:54:42.946Z"
   },
   {
    "duration": 19549,
    "start_time": "2021-07-22T11:54:58.752Z"
   },
   {
    "duration": 17519,
    "start_time": "2021-07-22T11:56:13.533Z"
   },
   {
    "duration": 570,
    "start_time": "2021-07-22T11:56:41.672Z"
   },
   {
    "duration": 5,
    "start_time": "2021-07-22T11:56:44.308Z"
   },
   {
    "duration": 273,
    "start_time": "2021-07-22T12:04:05.177Z"
   },
   {
    "duration": 2336,
    "start_time": "2021-07-22T12:06:07.212Z"
   },
   {
    "duration": 543,
    "start_time": "2021-07-22T12:06:11.099Z"
   },
   {
    "duration": 5,
    "start_time": "2021-07-22T12:06:13.501Z"
   },
   {
    "duration": 4,
    "start_time": "2021-07-22T12:06:16.231Z"
   },
   {
    "duration": 14429,
    "start_time": "2021-07-22T12:06:18.333Z"
   },
   {
    "duration": 193,
    "start_time": "2021-07-22T12:07:22.325Z"
   },
   {
    "duration": 55073,
    "start_time": "2021-07-22T12:09:34.078Z"
   },
   {
    "duration": 41527,
    "start_time": "2021-07-22T12:10:35.416Z"
   },
   {
    "duration": 3,
    "start_time": "2021-07-22T12:12:03.027Z"
   },
   {
    "duration": 118079,
    "start_time": "2021-07-22T12:13:23.542Z"
   },
   {
    "duration": 22,
    "start_time": "2021-07-22T12:15:21.623Z"
   },
   {
    "duration": 49,
    "start_time": "2021-07-22T12:15:21.649Z"
   },
   {
    "duration": 266,
    "start_time": "2021-07-22T12:15:41.764Z"
   },
   {
    "duration": 169,
    "start_time": "2021-07-22T12:15:49.114Z"
   },
   {
    "duration": 158,
    "start_time": "2021-07-22T12:16:07.083Z"
   },
   {
    "duration": 64608,
    "start_time": "2021-07-22T12:17:33.958Z"
   },
   {
    "duration": 169,
    "start_time": "2021-07-22T12:18:38.567Z"
   },
   {
    "duration": 3,
    "start_time": "2021-07-22T12:21:18.999Z"
   },
   {
    "duration": 1780,
    "start_time": "2021-07-22T12:21:25.265Z"
   },
   {
    "duration": 602,
    "start_time": "2021-07-22T12:21:27.046Z"
   },
   {
    "duration": 5,
    "start_time": "2021-07-22T12:21:33.622Z"
   },
   {
    "duration": 14300,
    "start_time": "2021-07-22T12:21:44.417Z"
   },
   {
    "duration": 205,
    "start_time": "2021-07-22T12:21:58.719Z"
   },
   {
    "duration": 148,
    "start_time": "2021-07-22T12:22:23.304Z"
   },
   {
    "duration": 51761,
    "start_time": "2021-07-22T12:22:29.717Z"
   },
   {
    "duration": 148,
    "start_time": "2021-07-22T12:23:21.480Z"
   },
   {
    "duration": 167,
    "start_time": "2021-07-22T12:23:26.812Z"
   },
   {
    "duration": 966,
    "start_time": "2021-07-22T12:24:03.739Z"
   },
   {
    "duration": 30487,
    "start_time": "2021-07-22T12:24:06.654Z"
   },
   {
    "duration": 120610,
    "start_time": "2021-07-22T12:24:37.143Z"
   },
   {
    "duration": 6,
    "start_time": "2021-07-22T12:26:37.843Z"
   },
   {
    "duration": 109008,
    "start_time": "2021-07-22T12:26:37.942Z"
   },
   {
    "duration": 410,
    "start_time": "2021-07-22T12:28:26.952Z"
   },
   {
    "duration": 268,
    "start_time": "2021-07-22T12:28:27.364Z"
   },
   {
    "duration": 255,
    "start_time": "2021-07-22T12:28:27.380Z"
   },
   {
    "duration": 244,
    "start_time": "2021-07-22T12:28:27.392Z"
   },
   {
    "duration": 228,
    "start_time": "2021-07-22T12:28:27.410Z"
   },
   {
    "duration": 218,
    "start_time": "2021-07-22T12:28:27.421Z"
   },
   {
    "duration": 208,
    "start_time": "2021-07-22T12:28:27.433Z"
   },
   {
    "duration": 199,
    "start_time": "2021-07-22T12:28:27.443Z"
   },
   {
    "duration": 191,
    "start_time": "2021-07-22T12:28:27.453Z"
   },
   {
    "duration": 182,
    "start_time": "2021-07-22T12:28:27.463Z"
   },
   {
    "duration": 173,
    "start_time": "2021-07-22T12:28:27.473Z"
   },
   {
    "duration": 240,
    "start_time": "2021-07-22T12:36:26.454Z"
   },
   {
    "duration": 24745,
    "start_time": "2021-07-22T12:36:29.197Z"
   },
   {
    "duration": 498,
    "start_time": "2021-07-22T12:36:53.944Z"
   },
   {
    "duration": 9,
    "start_time": "2021-07-22T12:36:54.444Z"
   },
   {
    "duration": 9,
    "start_time": "2021-07-22T12:37:16.229Z"
   },
   {
    "duration": 342,
    "start_time": "2021-07-22T12:37:34.845Z"
   },
   {
    "duration": 4948,
    "start_time": "2021-07-22T12:37:37.802Z"
   },
   {
    "duration": 200,
    "start_time": "2021-07-22T12:37:42.842Z"
   },
   {
    "duration": 6,
    "start_time": "2021-07-22T12:37:45.332Z"
   },
   {
    "duration": 10,
    "start_time": "2021-07-22T12:37:46.540Z"
   },
   {
    "duration": 21957,
    "start_time": "2021-07-22T12:38:13.291Z"
   },
   {
    "duration": 92,
    "start_time": "2021-07-22T12:38:35.252Z"
   },
   {
    "duration": 400,
    "start_time": "2021-07-22T12:40:15.790Z"
   },
   {
    "duration": 35,
    "start_time": "2021-07-22T12:40:18.257Z"
   },
   {
    "duration": 35,
    "start_time": "2021-07-22T12:40:27.843Z"
   },
   {
    "duration": 6,
    "start_time": "2021-07-22T13:01:17.836Z"
   },
   {
    "duration": 8,
    "start_time": "2021-07-22T13:01:27.027Z"
   },
   {
    "duration": 5,
    "start_time": "2021-07-22T13:01:31.175Z"
   },
   {
    "duration": 676,
    "start_time": "2021-07-22T13:27:21.386Z"
   },
   {
    "duration": 370,
    "start_time": "2021-07-22T13:27:23.742Z"
   },
   {
    "duration": 26,
    "start_time": "2021-07-22T13:31:58.726Z"
   },
   {
    "duration": 23,
    "start_time": "2021-07-22T13:32:02.961Z"
   },
   {
    "duration": 31,
    "start_time": "2021-07-22T13:32:12.714Z"
   },
   {
    "duration": 3,
    "start_time": "2021-07-22T13:32:17.139Z"
   },
   {
    "duration": 258,
    "start_time": "2021-07-22T13:32:26.482Z"
   },
   {
    "duration": 3,
    "start_time": "2021-07-22T13:32:30.743Z"
   },
   {
    "duration": 23,
    "start_time": "2021-07-22T13:32:35.013Z"
   },
   {
    "duration": 23,
    "start_time": "2021-07-22T13:32:42.250Z"
   },
   {
    "duration": 23,
    "start_time": "2021-07-22T13:32:46.784Z"
   },
   {
    "duration": 37,
    "start_time": "2021-07-22T13:32:59.995Z"
   },
   {
    "duration": 6,
    "start_time": "2021-07-22T13:42:25.534Z"
   },
   {
    "duration": 1215,
    "start_time": "2021-07-22T13:43:06.731Z"
   },
   {
    "duration": 721,
    "start_time": "2021-07-22T13:43:07.948Z"
   },
   {
    "duration": 14,
    "start_time": "2021-07-22T13:43:08.671Z"
   },
   {
    "duration": 123,
    "start_time": "2021-07-22T13:43:08.687Z"
   },
   {
    "duration": 4,
    "start_time": "2021-07-22T13:43:08.812Z"
   },
   {
    "duration": 7,
    "start_time": "2021-07-22T13:43:08.818Z"
   },
   {
    "duration": 1390,
    "start_time": "2021-07-22T13:43:08.826Z"
   },
   {
    "duration": 380,
    "start_time": "2021-07-22T13:43:10.217Z"
   },
   {
    "duration": 77,
    "start_time": "2021-07-22T13:43:10.599Z"
   },
   {
    "duration": 350,
    "start_time": "2021-07-22T13:43:10.678Z"
   },
   {
    "duration": 240,
    "start_time": "2021-07-22T13:43:11.030Z"
   },
   {
    "duration": 257,
    "start_time": "2021-07-22T13:43:11.272Z"
   },
   {
    "duration": 35,
    "start_time": "2021-07-22T13:43:11.531Z"
   },
   {
    "duration": 33,
    "start_time": "2021-07-22T13:43:11.568Z"
   },
   {
    "duration": 122,
    "start_time": "2021-07-22T13:43:11.602Z"
   },
   {
    "duration": 22,
    "start_time": "2021-07-22T13:43:11.725Z"
   },
   {
    "duration": 25,
    "start_time": "2021-07-22T13:43:11.748Z"
   },
   {
    "duration": 25,
    "start_time": "2021-07-22T13:43:11.774Z"
   },
   {
    "duration": 23,
    "start_time": "2021-07-22T13:43:11.801Z"
   },
   {
    "duration": 20,
    "start_time": "2021-07-22T13:43:11.840Z"
   },
   {
    "duration": 18,
    "start_time": "2021-07-22T13:43:11.861Z"
   },
   {
    "duration": 19,
    "start_time": "2021-07-22T13:43:11.880Z"
   },
   {
    "duration": 1117,
    "start_time": "2021-07-22T13:43:11.900Z"
   },
   {
    "duration": 138,
    "start_time": "2021-07-22T13:43:13.041Z"
   },
   {
    "duration": 5,
    "start_time": "2021-07-22T13:43:13.181Z"
   },
   {
    "duration": 344,
    "start_time": "2021-07-22T13:43:13.188Z"
   },
   {
    "duration": -739,
    "start_time": "2021-07-22T13:43:14.275Z"
   },
   {
    "duration": -746,
    "start_time": "2021-07-22T13:43:14.283Z"
   },
   {
    "duration": -756,
    "start_time": "2021-07-22T13:43:14.293Z"
   },
   {
    "duration": -764,
    "start_time": "2021-07-22T13:43:14.302Z"
   },
   {
    "duration": -827,
    "start_time": "2021-07-22T13:43:14.366Z"
   },
   {
    "duration": -836,
    "start_time": "2021-07-22T13:43:14.376Z"
   },
   {
    "duration": -845,
    "start_time": "2021-07-22T13:43:14.386Z"
   },
   {
    "duration": -854,
    "start_time": "2021-07-22T13:43:14.395Z"
   },
   {
    "duration": -863,
    "start_time": "2021-07-22T13:43:14.405Z"
   },
   {
    "duration": -871,
    "start_time": "2021-07-22T13:43:14.414Z"
   },
   {
    "duration": -881,
    "start_time": "2021-07-22T13:43:14.424Z"
   },
   {
    "duration": -889,
    "start_time": "2021-07-22T13:43:14.433Z"
   },
   {
    "duration": -898,
    "start_time": "2021-07-22T13:43:14.443Z"
   },
   {
    "duration": -909,
    "start_time": "2021-07-22T13:43:14.454Z"
   },
   {
    "duration": -940,
    "start_time": "2021-07-22T13:43:14.486Z"
   },
   {
    "duration": -948,
    "start_time": "2021-07-22T13:43:14.495Z"
   },
   {
    "duration": -959,
    "start_time": "2021-07-22T13:43:14.506Z"
   },
   {
    "duration": -967,
    "start_time": "2021-07-22T13:43:14.515Z"
   },
   {
    "duration": -976,
    "start_time": "2021-07-22T13:43:14.525Z"
   },
   {
    "duration": -984,
    "start_time": "2021-07-22T13:43:14.534Z"
   },
   {
    "duration": -995,
    "start_time": "2021-07-22T13:43:14.545Z"
   },
   {
    "duration": -1003,
    "start_time": "2021-07-22T13:43:14.554Z"
   },
   {
    "duration": -1012,
    "start_time": "2021-07-22T13:43:14.564Z"
   },
   {
    "duration": -1021,
    "start_time": "2021-07-22T13:43:14.574Z"
   },
   {
    "duration": -1050,
    "start_time": "2021-07-22T13:43:14.603Z"
   },
   {
    "duration": -1058,
    "start_time": "2021-07-22T13:43:14.612Z"
   },
   {
    "duration": -1067,
    "start_time": "2021-07-22T13:43:14.622Z"
   },
   {
    "duration": -1076,
    "start_time": "2021-07-22T13:43:14.632Z"
   },
   {
    "duration": -1086,
    "start_time": "2021-07-22T13:43:14.643Z"
   },
   {
    "duration": -1094,
    "start_time": "2021-07-22T13:43:14.652Z"
   },
   {
    "duration": -1103,
    "start_time": "2021-07-22T13:43:14.662Z"
   },
   {
    "duration": -1112,
    "start_time": "2021-07-22T13:43:14.672Z"
   },
   {
    "duration": -1121,
    "start_time": "2021-07-22T13:43:14.682Z"
   },
   {
    "duration": -1128,
    "start_time": "2021-07-22T13:43:14.690Z"
   },
   {
    "duration": -1156,
    "start_time": "2021-07-22T13:43:14.719Z"
   },
   {
    "duration": -1164,
    "start_time": "2021-07-22T13:43:14.728Z"
   },
   {
    "duration": -1177,
    "start_time": "2021-07-22T13:43:14.742Z"
   },
   {
    "duration": -1185,
    "start_time": "2021-07-22T13:43:14.751Z"
   },
   {
    "duration": -1194,
    "start_time": "2021-07-22T13:43:14.761Z"
   },
   {
    "duration": -1202,
    "start_time": "2021-07-22T13:43:14.769Z"
   },
   {
    "duration": -1211,
    "start_time": "2021-07-22T13:43:14.779Z"
   },
   {
    "duration": -1219,
    "start_time": "2021-07-22T13:43:14.788Z"
   },
   {
    "duration": -1227,
    "start_time": "2021-07-22T13:43:14.797Z"
   },
   {
    "duration": -1236,
    "start_time": "2021-07-22T13:43:14.807Z"
   },
   {
    "duration": -1264,
    "start_time": "2021-07-22T13:43:14.835Z"
   },
   {
    "duration": -1273,
    "start_time": "2021-07-22T13:43:14.845Z"
   },
   {
    "duration": -1282,
    "start_time": "2021-07-22T13:43:14.855Z"
   },
   {
    "duration": -1292,
    "start_time": "2021-07-22T13:43:14.865Z"
   },
   {
    "duration": -1301,
    "start_time": "2021-07-22T13:43:14.875Z"
   },
   {
    "duration": -1309,
    "start_time": "2021-07-22T13:43:14.884Z"
   },
   {
    "duration": -1319,
    "start_time": "2021-07-22T13:43:14.895Z"
   },
   {
    "duration": -1327,
    "start_time": "2021-07-22T13:43:14.904Z"
   },
   {
    "duration": -1336,
    "start_time": "2021-07-22T13:43:14.914Z"
   },
   {
    "duration": -1344,
    "start_time": "2021-07-22T13:43:14.923Z"
   },
   {
    "duration": -1374,
    "start_time": "2021-07-22T13:43:14.954Z"
   },
   {
    "duration": -1382,
    "start_time": "2021-07-22T13:43:14.963Z"
   },
   {
    "duration": -1391,
    "start_time": "2021-07-22T13:43:14.973Z"
   },
   {
    "duration": -1401,
    "start_time": "2021-07-22T13:43:14.983Z"
   },
   {
    "duration": 10,
    "start_time": "2021-07-22T13:45:29.305Z"
   },
   {
    "duration": 1164,
    "start_time": "2021-07-22T13:45:36.760Z"
   },
   {
    "duration": 727,
    "start_time": "2021-07-22T13:45:37.926Z"
   },
   {
    "duration": 15,
    "start_time": "2021-07-22T13:45:38.657Z"
   },
   {
    "duration": 133,
    "start_time": "2021-07-22T13:45:38.674Z"
   },
   {
    "duration": 5,
    "start_time": "2021-07-22T13:45:38.808Z"
   },
   {
    "duration": 6,
    "start_time": "2021-07-22T13:45:38.814Z"
   },
   {
    "duration": 1624,
    "start_time": "2021-07-22T13:45:38.822Z"
   },
   {
    "duration": 294,
    "start_time": "2021-07-22T13:45:40.448Z"
   },
   {
    "duration": 64,
    "start_time": "2021-07-22T13:45:40.743Z"
   },
   {
    "duration": 357,
    "start_time": "2021-07-22T13:45:40.809Z"
   },
   {
    "duration": 237,
    "start_time": "2021-07-22T13:45:41.168Z"
   },
   {
    "duration": 256,
    "start_time": "2021-07-22T13:45:41.406Z"
   },
   {
    "duration": 34,
    "start_time": "2021-07-22T13:45:41.663Z"
   },
   {
    "duration": 43,
    "start_time": "2021-07-22T13:45:41.699Z"
   },
   {
    "duration": 120,
    "start_time": "2021-07-22T13:45:41.743Z"
   },
   {
    "duration": 19,
    "start_time": "2021-07-22T13:45:41.865Z"
   },
   {
    "duration": 20,
    "start_time": "2021-07-22T13:45:41.886Z"
   },
   {
    "duration": 43,
    "start_time": "2021-07-22T13:45:41.908Z"
   },
   {
    "duration": 26,
    "start_time": "2021-07-22T13:45:41.953Z"
   },
   {
    "duration": 21,
    "start_time": "2021-07-22T13:45:41.980Z"
   },
   {
    "duration": 40,
    "start_time": "2021-07-22T13:45:42.002Z"
   },
   {
    "duration": 22,
    "start_time": "2021-07-22T13:45:42.046Z"
   },
   {
    "duration": 1143,
    "start_time": "2021-07-22T13:45:42.070Z"
   },
   {
    "duration": 173,
    "start_time": "2021-07-22T13:45:43.214Z"
   },
   {
    "duration": 5,
    "start_time": "2021-07-22T13:45:43.389Z"
   },
   {
    "duration": 18,
    "start_time": "2021-07-22T13:45:43.395Z"
   },
   {
    "duration": 158,
    "start_time": "2021-07-22T13:45:43.414Z"
   },
   {
    "duration": 361,
    "start_time": "2021-07-22T13:45:43.574Z"
   },
   {
    "duration": -1232,
    "start_time": "2021-07-22T13:45:45.169Z"
   },
   {
    "duration": -1240,
    "start_time": "2021-07-22T13:45:45.178Z"
   },
   {
    "duration": -1250,
    "start_time": "2021-07-22T13:45:45.189Z"
   },
   {
    "duration": -1258,
    "start_time": "2021-07-22T13:45:45.198Z"
   },
   {
    "duration": -1267,
    "start_time": "2021-07-22T13:45:45.208Z"
   },
   {
    "duration": -1276,
    "start_time": "2021-07-22T13:45:45.218Z"
   },
   {
    "duration": -1286,
    "start_time": "2021-07-22T13:45:45.228Z"
   },
   {
    "duration": -1294,
    "start_time": "2021-07-22T13:45:45.237Z"
   },
   {
    "duration": -1303,
    "start_time": "2021-07-22T13:45:45.247Z"
   },
   {
    "duration": -1331,
    "start_time": "2021-07-22T13:45:45.276Z"
   },
   {
    "duration": -1340,
    "start_time": "2021-07-22T13:45:45.286Z"
   },
   {
    "duration": -1353,
    "start_time": "2021-07-22T13:45:45.300Z"
   },
   {
    "duration": -1363,
    "start_time": "2021-07-22T13:45:45.310Z"
   },
   {
    "duration": -1371,
    "start_time": "2021-07-22T13:45:45.319Z"
   },
   {
    "duration": -1380,
    "start_time": "2021-07-22T13:45:45.329Z"
   },
   {
    "duration": -1388,
    "start_time": "2021-07-22T13:45:45.338Z"
   },
   {
    "duration": -1397,
    "start_time": "2021-07-22T13:45:45.348Z"
   },
   {
    "duration": -1405,
    "start_time": "2021-07-22T13:45:45.357Z"
   },
   {
    "duration": -1414,
    "start_time": "2021-07-22T13:45:45.367Z"
   },
   {
    "duration": -1440,
    "start_time": "2021-07-22T13:45:45.394Z"
   },
   {
    "duration": -1451,
    "start_time": "2021-07-22T13:45:45.405Z"
   },
   {
    "duration": -1459,
    "start_time": "2021-07-22T13:45:45.414Z"
   },
   {
    "duration": -1468,
    "start_time": "2021-07-22T13:45:45.424Z"
   },
   {
    "duration": -1489,
    "start_time": "2021-07-22T13:45:45.446Z"
   },
   {
    "duration": -1499,
    "start_time": "2021-07-22T13:45:45.457Z"
   },
   {
    "duration": -1508,
    "start_time": "2021-07-22T13:45:45.467Z"
   },
   {
    "duration": -1525,
    "start_time": "2021-07-22T13:45:45.484Z"
   },
   {
    "duration": -1735,
    "start_time": "2021-07-22T13:45:45.695Z"
   },
   {
    "duration": -1753,
    "start_time": "2021-07-22T13:45:45.714Z"
   },
   {
    "duration": -1762,
    "start_time": "2021-07-22T13:45:45.724Z"
   },
   {
    "duration": -1770,
    "start_time": "2021-07-22T13:45:45.734Z"
   },
   {
    "duration": -1778,
    "start_time": "2021-07-22T13:45:45.743Z"
   },
   {
    "duration": -1788,
    "start_time": "2021-07-22T13:45:45.754Z"
   },
   {
    "duration": -1796,
    "start_time": "2021-07-22T13:45:45.763Z"
   },
   {
    "duration": -1805,
    "start_time": "2021-07-22T13:45:45.773Z"
   },
   {
    "duration": -1814,
    "start_time": "2021-07-22T13:45:45.782Z"
   },
   {
    "duration": -1841,
    "start_time": "2021-07-22T13:45:45.810Z"
   },
   {
    "duration": -1849,
    "start_time": "2021-07-22T13:45:45.819Z"
   },
   {
    "duration": -1858,
    "start_time": "2021-07-22T13:45:45.829Z"
   },
   {
    "duration": -1866,
    "start_time": "2021-07-22T13:45:45.838Z"
   },
   {
    "duration": -1875,
    "start_time": "2021-07-22T13:45:45.848Z"
   },
   {
    "duration": -1883,
    "start_time": "2021-07-22T13:45:45.857Z"
   },
   {
    "duration": -1892,
    "start_time": "2021-07-22T13:45:45.867Z"
   },
   {
    "duration": -1901,
    "start_time": "2021-07-22T13:45:45.876Z"
   },
   {
    "duration": -1910,
    "start_time": "2021-07-22T13:45:45.886Z"
   },
   {
    "duration": -1920,
    "start_time": "2021-07-22T13:45:45.897Z"
   },
   {
    "duration": -1949,
    "start_time": "2021-07-22T13:45:45.927Z"
   },
   {
    "duration": -1957,
    "start_time": "2021-07-22T13:45:45.936Z"
   },
   {
    "duration": -1967,
    "start_time": "2021-07-22T13:45:45.946Z"
   },
   {
    "duration": -1977,
    "start_time": "2021-07-22T13:45:45.957Z"
   },
   {
    "duration": -1987,
    "start_time": "2021-07-22T13:45:45.968Z"
   },
   {
    "duration": -1995,
    "start_time": "2021-07-22T13:45:45.977Z"
   },
   {
    "duration": -2004,
    "start_time": "2021-07-22T13:45:45.987Z"
   },
   {
    "duration": -2013,
    "start_time": "2021-07-22T13:45:45.996Z"
   },
   {
    "duration": -1966,
    "start_time": "2021-07-22T13:45:46.006Z"
   },
   {
    "duration": -1974,
    "start_time": "2021-07-22T13:45:46.015Z"
   },
   {
    "duration": 242,
    "start_time": "2021-07-22T13:45:59.977Z"
   },
   {
    "duration": 12,
    "start_time": "2021-07-22T13:46:02.985Z"
   },
   {
    "duration": 1189,
    "start_time": "2021-07-22T13:46:21.562Z"
   },
   {
    "duration": 715,
    "start_time": "2021-07-22T13:46:22.753Z"
   },
   {
    "duration": 15,
    "start_time": "2021-07-22T13:46:23.470Z"
   },
   {
    "duration": 121,
    "start_time": "2021-07-22T13:46:23.487Z"
   },
   {
    "duration": 5,
    "start_time": "2021-07-22T13:46:23.610Z"
   },
   {
    "duration": 5,
    "start_time": "2021-07-22T13:46:23.616Z"
   },
   {
    "duration": 1370,
    "start_time": "2021-07-22T13:46:23.623Z"
   },
   {
    "duration": 484,
    "start_time": "2021-07-22T13:46:24.995Z"
   },
   {
    "duration": 83,
    "start_time": "2021-07-22T13:46:25.481Z"
   },
   {
    "duration": 359,
    "start_time": "2021-07-22T13:46:25.566Z"
   },
   {
    "duration": 241,
    "start_time": "2021-07-22T13:46:25.927Z"
   },
   {
    "duration": 261,
    "start_time": "2021-07-22T13:46:26.170Z"
   },
   {
    "duration": 36,
    "start_time": "2021-07-22T13:46:26.432Z"
   },
   {
    "duration": 27,
    "start_time": "2021-07-22T13:46:26.469Z"
   },
   {
    "duration": 122,
    "start_time": "2021-07-22T13:46:26.498Z"
   },
   {
    "duration": 26,
    "start_time": "2021-07-22T13:46:26.622Z"
   },
   {
    "duration": 20,
    "start_time": "2021-07-22T13:46:26.649Z"
   },
   {
    "duration": 25,
    "start_time": "2021-07-22T13:46:26.670Z"
   },
   {
    "duration": 45,
    "start_time": "2021-07-22T13:46:26.697Z"
   },
   {
    "duration": 17,
    "start_time": "2021-07-22T13:46:26.743Z"
   },
   {
    "duration": 19,
    "start_time": "2021-07-22T13:46:26.762Z"
   },
   {
    "duration": 19,
    "start_time": "2021-07-22T13:46:26.783Z"
   },
   {
    "duration": 1161,
    "start_time": "2021-07-22T13:46:26.805Z"
   },
   {
    "duration": 148,
    "start_time": "2021-07-22T13:46:27.969Z"
   },
   {
    "duration": 7,
    "start_time": "2021-07-22T13:46:28.120Z"
   },
   {
    "duration": 10,
    "start_time": "2021-07-22T13:46:28.141Z"
   },
   {
    "duration": 160,
    "start_time": "2021-07-22T13:46:28.153Z"
   },
   {
    "duration": 250,
    "start_time": "2021-07-22T13:46:28.315Z"
   },
   {
    "duration": 8,
    "start_time": "2021-07-22T13:46:28.566Z"
   },
   {
    "duration": 37,
    "start_time": "2021-07-22T13:46:28.575Z"
   },
   {
    "duration": 74,
    "start_time": "2021-07-22T13:46:28.614Z"
   },
   {
    "duration": 73,
    "start_time": "2021-07-22T13:46:28.689Z"
   },
   {
    "duration": 8,
    "start_time": "2021-07-22T13:46:28.764Z"
   },
   {
    "duration": 6,
    "start_time": "2021-07-22T13:46:28.774Z"
   },
   {
    "duration": 36,
    "start_time": "2021-07-22T13:46:28.781Z"
   },
   {
    "duration": 39,
    "start_time": "2021-07-22T13:46:28.818Z"
   },
   {
    "duration": 6,
    "start_time": "2021-07-22T13:46:28.859Z"
   },
   {
    "duration": 43,
    "start_time": "2021-07-22T13:46:28.867Z"
   },
   {
    "duration": 282,
    "start_time": "2021-07-22T13:46:28.912Z"
   },
   {
    "duration": 173,
    "start_time": "2021-07-22T13:46:29.195Z"
   },
   {
    "duration": 11,
    "start_time": "2021-07-22T13:46:29.370Z"
   },
   {
    "duration": 10,
    "start_time": "2021-07-22T13:46:29.382Z"
   },
   {
    "duration": 59,
    "start_time": "2021-07-22T13:46:29.393Z"
   },
   {
    "duration": 231,
    "start_time": "2021-07-22T13:46:29.453Z"
   },
   {
    "duration": 10,
    "start_time": "2021-07-22T13:46:29.686Z"
   },
   {
    "duration": 16,
    "start_time": "2021-07-22T13:46:29.698Z"
   },
   {
    "duration": 239,
    "start_time": "2021-07-22T13:46:29.715Z"
   },
   {
    "duration": 8,
    "start_time": "2021-07-22T13:46:29.956Z"
   },
   {
    "duration": 39,
    "start_time": "2021-07-22T13:46:29.966Z"
   },
   {
    "duration": 41,
    "start_time": "2021-07-22T13:46:30.007Z"
   },
   {
    "duration": 24,
    "start_time": "2021-07-22T13:46:30.050Z"
   },
   {
    "duration": 3,
    "start_time": "2021-07-22T13:46:30.076Z"
   },
   {
    "duration": 16,
    "start_time": "2021-07-22T13:46:30.081Z"
   },
   {
    "duration": 401,
    "start_time": "2021-07-22T13:46:30.099Z"
   },
   {
    "duration": -1357,
    "start_time": "2021-07-22T13:46:31.859Z"
   },
   {
    "duration": -1366,
    "start_time": "2021-07-22T13:46:31.869Z"
   },
   {
    "duration": -1376,
    "start_time": "2021-07-22T13:46:31.880Z"
   },
   {
    "duration": -1389,
    "start_time": "2021-07-22T13:46:31.894Z"
   },
   {
    "duration": -1399,
    "start_time": "2021-07-22T13:46:31.905Z"
   },
   {
    "duration": -1407,
    "start_time": "2021-07-22T13:46:31.914Z"
   },
   {
    "duration": -1636,
    "start_time": "2021-07-22T13:46:32.145Z"
   },
   {
    "duration": -1646,
    "start_time": "2021-07-22T13:46:32.156Z"
   },
   {
    "duration": -1657,
    "start_time": "2021-07-22T13:46:32.168Z"
   },
   {
    "duration": -1665,
    "start_time": "2021-07-22T13:46:32.177Z"
   },
   {
    "duration": -1674,
    "start_time": "2021-07-22T13:46:32.187Z"
   },
   {
    "duration": -1683,
    "start_time": "2021-07-22T13:46:32.197Z"
   },
   {
    "duration": -1693,
    "start_time": "2021-07-22T13:46:32.208Z"
   },
   {
    "duration": -1701,
    "start_time": "2021-07-22T13:46:32.217Z"
   },
   {
    "duration": -1710,
    "start_time": "2021-07-22T13:46:32.227Z"
   },
   {
    "duration": -1719,
    "start_time": "2021-07-22T13:46:32.237Z"
   },
   {
    "duration": -1750,
    "start_time": "2021-07-22T13:46:32.269Z"
   },
   {
    "duration": -1758,
    "start_time": "2021-07-22T13:46:32.278Z"
   },
   {
    "duration": -1767,
    "start_time": "2021-07-22T13:46:32.289Z"
   },
   {
    "duration": -1775,
    "start_time": "2021-07-22T13:46:32.298Z"
   },
   {
    "duration": -1785,
    "start_time": "2021-07-22T13:46:32.309Z"
   },
   {
    "duration": -1793,
    "start_time": "2021-07-22T13:46:32.318Z"
   },
   {
    "duration": -1803,
    "start_time": "2021-07-22T13:46:32.329Z"
   },
   {
    "duration": -1813,
    "start_time": "2021-07-22T13:46:32.340Z"
   },
   {
    "duration": -1824,
    "start_time": "2021-07-22T13:46:32.351Z"
   },
   {
    "duration": -1833,
    "start_time": "2021-07-22T13:46:32.361Z"
   },
   {
    "duration": -1860,
    "start_time": "2021-07-22T13:46:32.389Z"
   },
   {
    "duration": -1870,
    "start_time": "2021-07-22T13:46:32.400Z"
   },
   {
    "duration": -1880,
    "start_time": "2021-07-22T13:46:32.411Z"
   },
   {
    "duration": -1895,
    "start_time": "2021-07-22T13:46:32.427Z"
   },
   {
    "duration": 718,
    "start_time": "2021-07-22T13:57:09.309Z"
   },
   {
    "duration": 388,
    "start_time": "2021-07-22T13:57:11.291Z"
   },
   {
    "duration": 413,
    "start_time": "2021-07-22T13:59:06.777Z"
   },
   {
    "duration": 5,
    "start_time": "2021-07-22T14:01:37.923Z"
   },
   {
    "duration": 4,
    "start_time": "2021-07-22T14:01:44.958Z"
   },
   {
    "duration": 4,
    "start_time": "2021-07-22T14:02:11.328Z"
   },
   {
    "duration": 4,
    "start_time": "2021-07-22T14:02:14.681Z"
   },
   {
    "duration": 1208,
    "start_time": "2021-07-22T14:04:07.627Z"
   },
   {
    "duration": 732,
    "start_time": "2021-07-22T14:04:08.837Z"
   },
   {
    "duration": 15,
    "start_time": "2021-07-22T14:04:09.570Z"
   },
   {
    "duration": 130,
    "start_time": "2021-07-22T14:04:09.587Z"
   },
   {
    "duration": 5,
    "start_time": "2021-07-22T14:04:09.719Z"
   },
   {
    "duration": 15,
    "start_time": "2021-07-22T14:04:09.726Z"
   },
   {
    "duration": 1378,
    "start_time": "2021-07-22T14:04:09.742Z"
   },
   {
    "duration": 279,
    "start_time": "2021-07-22T14:04:11.123Z"
   },
   {
    "duration": 82,
    "start_time": "2021-07-22T14:04:11.404Z"
   },
   {
    "duration": 441,
    "start_time": "2021-07-22T14:04:11.487Z"
   },
   {
    "duration": 243,
    "start_time": "2021-07-22T14:04:11.930Z"
   },
   {
    "duration": 274,
    "start_time": "2021-07-22T14:04:12.175Z"
   },
   {
    "duration": 33,
    "start_time": "2021-07-22T14:04:12.450Z"
   },
   {
    "duration": 31,
    "start_time": "2021-07-22T14:04:12.484Z"
   },
   {
    "duration": 115,
    "start_time": "2021-07-22T14:04:12.516Z"
   },
   {
    "duration": 22,
    "start_time": "2021-07-22T14:04:12.632Z"
   },
   {
    "duration": 19,
    "start_time": "2021-07-22T14:04:12.656Z"
   },
   {
    "duration": 24,
    "start_time": "2021-07-22T14:04:12.677Z"
   },
   {
    "duration": 54,
    "start_time": "2021-07-22T14:04:12.703Z"
   },
   {
    "duration": 20,
    "start_time": "2021-07-22T14:04:12.759Z"
   },
   {
    "duration": 20,
    "start_time": "2021-07-22T14:04:12.781Z"
   },
   {
    "duration": 19,
    "start_time": "2021-07-22T14:04:12.802Z"
   },
   {
    "duration": 1124,
    "start_time": "2021-07-22T14:04:12.843Z"
   },
   {
    "duration": 153,
    "start_time": "2021-07-22T14:04:13.970Z"
   },
   {
    "duration": 6,
    "start_time": "2021-07-22T14:04:14.125Z"
   },
   {
    "duration": 9,
    "start_time": "2021-07-22T14:04:14.141Z"
   },
   {
    "duration": 150,
    "start_time": "2021-07-22T14:04:14.152Z"
   },
   {
    "duration": 249,
    "start_time": "2021-07-22T14:04:14.304Z"
   },
   {
    "duration": 9,
    "start_time": "2021-07-22T14:04:14.555Z"
   },
   {
    "duration": 37,
    "start_time": "2021-07-22T14:04:14.565Z"
   },
   {
    "duration": 80,
    "start_time": "2021-07-22T14:04:14.604Z"
   },
   {
    "duration": 68,
    "start_time": "2021-07-22T14:04:14.686Z"
   },
   {
    "duration": 8,
    "start_time": "2021-07-22T14:04:14.756Z"
   },
   {
    "duration": 6,
    "start_time": "2021-07-22T14:04:14.766Z"
   },
   {
    "duration": 35,
    "start_time": "2021-07-22T14:04:14.773Z"
   },
   {
    "duration": 41,
    "start_time": "2021-07-22T14:04:14.810Z"
   },
   {
    "duration": 6,
    "start_time": "2021-07-22T14:04:14.853Z"
   },
   {
    "duration": 30,
    "start_time": "2021-07-22T14:04:14.860Z"
   },
   {
    "duration": 255,
    "start_time": "2021-07-22T14:04:14.891Z"
   },
   {
    "duration": 179,
    "start_time": "2021-07-22T14:04:15.147Z"
   },
   {
    "duration": 20,
    "start_time": "2021-07-22T14:04:15.328Z"
   },
   {
    "duration": 22,
    "start_time": "2021-07-22T14:04:15.349Z"
   },
   {
    "duration": 56,
    "start_time": "2021-07-22T14:04:15.373Z"
   },
   {
    "duration": 239,
    "start_time": "2021-07-22T14:04:15.431Z"
   },
   {
    "duration": 8,
    "start_time": "2021-07-22T14:04:15.672Z"
   },
   {
    "duration": 33,
    "start_time": "2021-07-22T14:04:15.682Z"
   },
   {
    "duration": 220,
    "start_time": "2021-07-22T14:04:15.717Z"
   },
   {
    "duration": 7,
    "start_time": "2021-07-22T14:04:15.938Z"
   },
   {
    "duration": 46,
    "start_time": "2021-07-22T14:04:15.947Z"
   },
   {
    "duration": 13,
    "start_time": "2021-07-22T14:04:15.995Z"
   },
   {
    "duration": 32,
    "start_time": "2021-07-22T14:04:16.009Z"
   },
   {
    "duration": 2,
    "start_time": "2021-07-22T14:04:16.043Z"
   },
   {
    "duration": 16,
    "start_time": "2021-07-22T14:04:16.047Z"
   },
   {
    "duration": 423,
    "start_time": "2021-07-22T14:04:16.064Z"
   },
   {
    "duration": 364,
    "start_time": "2021-07-22T14:04:16.488Z"
   },
   {
    "duration": -1223,
    "start_time": "2021-07-22T14:04:18.077Z"
   },
   {
    "duration": -1232,
    "start_time": "2021-07-22T14:04:18.087Z"
   },
   {
    "duration": -1307,
    "start_time": "2021-07-22T14:04:18.163Z"
   },
   {
    "duration": -1320,
    "start_time": "2021-07-22T14:04:18.177Z"
   },
   {
    "duration": -1328,
    "start_time": "2021-07-22T14:04:18.186Z"
   },
   {
    "duration": -1338,
    "start_time": "2021-07-22T14:04:18.196Z"
   },
   {
    "duration": -1347,
    "start_time": "2021-07-22T14:04:18.206Z"
   },
   {
    "duration": -1356,
    "start_time": "2021-07-22T14:04:18.216Z"
   },
   {
    "duration": -1364,
    "start_time": "2021-07-22T14:04:18.225Z"
   },
   {
    "duration": -1373,
    "start_time": "2021-07-22T14:04:18.235Z"
   },
   {
    "duration": -1381,
    "start_time": "2021-07-22T14:04:18.244Z"
   },
   {
    "duration": -1391,
    "start_time": "2021-07-22T14:04:18.254Z"
   },
   {
    "duration": -1418,
    "start_time": "2021-07-22T14:04:18.282Z"
   },
   {
    "duration": -1427,
    "start_time": "2021-07-22T14:04:18.292Z"
   },
   {
    "duration": -1435,
    "start_time": "2021-07-22T14:04:18.301Z"
   },
   {
    "duration": -1445,
    "start_time": "2021-07-22T14:04:18.312Z"
   },
   {
    "duration": -1453,
    "start_time": "2021-07-22T14:04:18.321Z"
   },
   {
    "duration": -1462,
    "start_time": "2021-07-22T14:04:18.331Z"
   },
   {
    "duration": -1471,
    "start_time": "2021-07-22T14:04:18.341Z"
   },
   {
    "duration": -1481,
    "start_time": "2021-07-22T14:04:18.351Z"
   },
   {
    "duration": -1489,
    "start_time": "2021-07-22T14:04:18.360Z"
   },
   {
    "duration": -1498,
    "start_time": "2021-07-22T14:04:18.370Z"
   },
   {
    "duration": -1525,
    "start_time": "2021-07-22T14:04:18.398Z"
   },
   {
    "duration": -1535,
    "start_time": "2021-07-22T14:04:18.409Z"
   },
   {
    "duration": -1542,
    "start_time": "2021-07-22T14:04:18.417Z"
   },
   {
    "duration": -1552,
    "start_time": "2021-07-22T14:04:18.428Z"
   },
   {
    "duration": -1561,
    "start_time": "2021-07-22T14:04:18.437Z"
   },
   {
    "duration": -1570,
    "start_time": "2021-07-22T14:04:18.447Z"
   },
   {
    "duration": -1579,
    "start_time": "2021-07-22T14:04:18.457Z"
   },
   {
    "duration": -1588,
    "start_time": "2021-07-22T14:04:18.467Z"
   },
   {
    "duration": -1597,
    "start_time": "2021-07-22T14:04:18.476Z"
   },
   {
    "duration": 13,
    "start_time": "2021-07-22T14:04:50.863Z"
   },
   {
    "duration": 56,
    "start_time": "2021-07-22T14:05:22.342Z"
   },
   {
    "duration": 1686,
    "start_time": "2021-07-23T09:08:58.456Z"
   },
   {
    "duration": 1267,
    "start_time": "2021-07-23T09:09:00.149Z"
   },
   {
    "duration": 37,
    "start_time": "2021-07-23T09:09:01.419Z"
   },
   {
    "duration": 180,
    "start_time": "2021-07-23T09:09:01.459Z"
   },
   {
    "duration": 14,
    "start_time": "2021-07-23T09:09:01.642Z"
   },
   {
    "duration": 13,
    "start_time": "2021-07-23T09:09:01.658Z"
   },
   {
    "duration": 2312,
    "start_time": "2021-07-23T09:09:01.673Z"
   },
   {
    "duration": 417,
    "start_time": "2021-07-23T09:09:03.989Z"
   },
   {
    "duration": 113,
    "start_time": "2021-07-23T09:09:04.409Z"
   },
   {
    "duration": 519,
    "start_time": "2021-07-23T09:09:04.524Z"
   },
   {
    "duration": 382,
    "start_time": "2021-07-23T09:09:05.046Z"
   },
   {
    "duration": 373,
    "start_time": "2021-07-23T09:09:05.431Z"
   },
   {
    "duration": 53,
    "start_time": "2021-07-23T09:09:05.807Z"
   },
   {
    "duration": 42,
    "start_time": "2021-07-23T09:09:05.863Z"
   },
   {
    "duration": 192,
    "start_time": "2021-07-23T09:09:05.907Z"
   },
   {
    "duration": 26,
    "start_time": "2021-07-23T09:09:06.102Z"
   },
   {
    "duration": 50,
    "start_time": "2021-07-23T09:09:06.130Z"
   },
   {
    "duration": 49,
    "start_time": "2021-07-23T09:09:06.182Z"
   },
   {
    "duration": 48,
    "start_time": "2021-07-23T09:09:06.233Z"
   },
   {
    "duration": 34,
    "start_time": "2021-07-23T09:09:06.284Z"
   },
   {
    "duration": 50,
    "start_time": "2021-07-23T09:09:06.321Z"
   },
   {
    "duration": 27,
    "start_time": "2021-07-23T09:09:06.373Z"
   },
   {
    "duration": 1799,
    "start_time": "2021-07-23T09:09:06.407Z"
   },
   {
    "duration": 263,
    "start_time": "2021-07-23T09:09:08.212Z"
   },
   {
    "duration": 9,
    "start_time": "2021-07-23T09:09:08.478Z"
   },
   {
    "duration": 26,
    "start_time": "2021-07-23T09:09:08.490Z"
   },
   {
    "duration": 310,
    "start_time": "2021-07-23T09:09:08.519Z"
   },
   {
    "duration": 487,
    "start_time": "2021-07-23T09:09:08.832Z"
   },
   {
    "duration": 15,
    "start_time": "2021-07-23T09:09:09.322Z"
   },
   {
    "duration": 61,
    "start_time": "2021-07-23T09:09:09.354Z"
   },
   {
    "duration": 112,
    "start_time": "2021-07-23T09:09:09.417Z"
   },
   {
    "duration": 109,
    "start_time": "2021-07-23T09:09:09.532Z"
   },
   {
    "duration": 18,
    "start_time": "2021-07-23T09:09:09.643Z"
   },
   {
    "duration": 11,
    "start_time": "2021-07-23T09:09:09.664Z"
   },
   {
    "duration": 91,
    "start_time": "2021-07-23T09:09:09.677Z"
   },
   {
    "duration": 22,
    "start_time": "2021-07-23T09:09:09.770Z"
   },
   {
    "duration": 10,
    "start_time": "2021-07-23T09:09:09.795Z"
   },
   {
    "duration": 86,
    "start_time": "2021-07-23T09:09:09.808Z"
   },
   {
    "duration": 422,
    "start_time": "2021-07-23T09:09:09.897Z"
   },
   {
    "duration": 307,
    "start_time": "2021-07-23T09:09:10.321Z"
   },
   {
    "duration": 30,
    "start_time": "2021-07-23T09:09:10.630Z"
   },
   {
    "duration": 15,
    "start_time": "2021-07-23T09:09:10.662Z"
   },
   {
    "duration": 85,
    "start_time": "2021-07-23T09:09:10.680Z"
   },
   {
    "duration": 404,
    "start_time": "2021-07-23T09:09:10.767Z"
   },
   {
    "duration": 11,
    "start_time": "2021-07-23T09:09:11.174Z"
   },
   {
    "duration": 19,
    "start_time": "2021-07-23T09:09:11.187Z"
   },
   {
    "duration": 402,
    "start_time": "2021-07-23T09:09:11.208Z"
   },
   {
    "duration": 11,
    "start_time": "2021-07-23T09:09:11.612Z"
   },
   {
    "duration": 80,
    "start_time": "2021-07-23T09:09:11.625Z"
   },
   {
    "duration": 20,
    "start_time": "2021-07-23T09:09:11.708Z"
   },
   {
    "duration": 38,
    "start_time": "2021-07-23T09:09:11.731Z"
   },
   {
    "duration": 13,
    "start_time": "2021-07-23T09:09:11.771Z"
   },
   {
    "duration": 31,
    "start_time": "2021-07-23T09:09:11.787Z"
   },
   {
    "duration": 611,
    "start_time": "2021-07-23T09:09:11.821Z"
   },
   {
    "duration": 73,
    "start_time": "2021-07-23T09:09:12.434Z"
   },
   {
    "duration": 1076,
    "start_time": "2021-07-23T09:09:12.510Z"
   },
   {
    "duration": 403,
    "start_time": "2021-07-23T09:09:13.590Z"
   },
   {
    "duration": 62,
    "start_time": "2021-07-23T09:09:13.996Z"
   },
   {
    "duration": 1363,
    "start_time": "2021-07-23T09:09:14.060Z"
   },
   {
    "duration": 31442,
    "start_time": "2021-07-23T09:09:15.425Z"
   },
   {
    "duration": 686,
    "start_time": "2021-07-23T09:09:46.870Z"
   },
   {
    "duration": 95,
    "start_time": "2021-07-23T09:09:47.562Z"
   },
   {
    "duration": 14,
    "start_time": "2021-07-23T09:09:47.660Z"
   },
   {
    "duration": 134777,
    "start_time": "2021-07-23T09:09:47.676Z"
   },
   {
    "duration": 6,
    "start_time": "2021-07-23T09:12:02.456Z"
   },
   {
    "duration": 608,
    "start_time": "2021-07-23T09:12:02.465Z"
   },
   {
    "duration": 6482,
    "start_time": "2021-07-23T09:12:03.076Z"
   },
   {
    "duration": 195,
    "start_time": "2021-07-23T09:12:09.567Z"
   },
   {
    "duration": 101,
    "start_time": "2021-07-23T09:12:09.855Z"
   },
   {
    "duration": 15,
    "start_time": "2021-07-23T09:12:09.958Z"
   },
   {
    "duration": 28797,
    "start_time": "2021-07-23T09:12:09.976Z"
   },
   {
    "duration": 180,
    "start_time": "2021-07-23T09:12:38.776Z"
   },
   {
    "duration": 51,
    "start_time": "2021-07-23T09:12:38.959Z"
   },
   {
    "duration": 10,
    "start_time": "2021-07-23T09:12:39.012Z"
   },
   {
    "duration": 38,
    "start_time": "2021-07-23T09:12:39.024Z"
   },
   {
    "duration": 5,
    "start_time": "2021-07-23T09:12:39.064Z"
   },
   {
    "duration": 12,
    "start_time": "2021-07-23T09:12:39.071Z"
   },
   {
    "duration": 7,
    "start_time": "2021-07-23T09:12:39.085Z"
   },
   {
    "duration": 3264,
    "start_time": "2021-07-23T09:12:39.095Z"
   },
   {
    "duration": 807,
    "start_time": "2021-07-23T09:12:42.361Z"
   },
   {
    "duration": 88,
    "start_time": "2021-07-23T09:12:43.170Z"
   },
   {
    "duration": 7,
    "start_time": "2021-07-23T09:12:43.260Z"
   },
   {
    "duration": 109664,
    "start_time": "2021-07-23T09:12:43.270Z"
   },
   {
    "duration": 273,
    "start_time": "2021-07-23T09:14:32.937Z"
   },
   {
    "duration": 46049,
    "start_time": "2021-07-23T09:14:33.212Z"
   },
   {
    "duration": 83,
    "start_time": "2021-07-23T11:30:50.224Z"
   },
   {
    "duration": 276,
    "start_time": "2021-07-23T11:33:13.314Z"
   },
   {
    "duration": 20,
    "start_time": "2021-07-23T11:36:38.496Z"
   },
   {
    "duration": 453,
    "start_time": "2021-07-23T11:36:47.383Z"
   },
   {
    "duration": 307,
    "start_time": "2021-07-23T11:36:58.118Z"
   },
   {
    "duration": 301,
    "start_time": "2021-07-23T11:38:02.151Z"
   },
   {
    "duration": 421,
    "start_time": "2021-07-23T11:38:34.787Z"
   },
   {
    "duration": 324,
    "start_time": "2021-07-23T11:38:43.999Z"
   },
   {
    "duration": 20,
    "start_time": "2021-07-23T11:38:56.677Z"
   },
   {
    "duration": 8,
    "start_time": "2021-07-23T11:39:05.749Z"
   },
   {
    "duration": 305,
    "start_time": "2021-07-23T11:39:14.402Z"
   },
   {
    "duration": 23,
    "start_time": "2021-07-23T11:39:23.195Z"
   },
   {
    "duration": 8,
    "start_time": "2021-07-23T11:39:32.806Z"
   },
   {
    "duration": 20,
    "start_time": "2021-07-23T11:39:38.092Z"
   },
   {
    "duration": 17,
    "start_time": "2021-07-23T11:39:45.073Z"
   },
   {
    "duration": 16,
    "start_time": "2021-07-23T11:39:51.363Z"
   },
   {
    "duration": 16,
    "start_time": "2021-07-23T11:39:54.114Z"
   },
   {
    "duration": 17,
    "start_time": "2021-07-23T11:39:57.267Z"
   },
   {
    "duration": 18,
    "start_time": "2021-07-23T11:40:01.646Z"
   },
   {
    "duration": 17,
    "start_time": "2021-07-23T11:40:04.414Z"
   },
   {
    "duration": 19,
    "start_time": "2021-07-23T11:40:12.821Z"
   },
   {
    "duration": 19,
    "start_time": "2021-07-23T11:40:17.608Z"
   },
   {
    "duration": 19,
    "start_time": "2021-07-23T11:40:21.665Z"
   },
   {
    "duration": 17,
    "start_time": "2021-07-23T11:40:27.607Z"
   },
   {
    "duration": 10,
    "start_time": "2021-07-23T11:41:09.326Z"
   },
   {
    "duration": 9,
    "start_time": "2021-07-23T11:41:10.385Z"
   },
   {
    "duration": 9,
    "start_time": "2021-07-23T11:41:11.059Z"
   },
   {
    "duration": 9,
    "start_time": "2021-07-23T11:41:11.561Z"
   },
   {
    "duration": 17,
    "start_time": "2021-07-23T11:41:13.572Z"
   },
   {
    "duration": 8,
    "start_time": "2021-07-23T11:41:13.869Z"
   },
   {
    "duration": 19,
    "start_time": "2021-07-23T11:41:22.313Z"
   },
   {
    "duration": 8,
    "start_time": "2021-07-23T11:41:32.061Z"
   },
   {
    "duration": 31,
    "start_time": "2021-07-23T11:45:05.824Z"
   },
   {
    "duration": 30,
    "start_time": "2021-07-23T11:45:42.929Z"
   },
   {
    "duration": 6,
    "start_time": "2021-07-23T11:47:40.751Z"
   },
   {
    "duration": 24,
    "start_time": "2021-07-23T11:47:53.028Z"
   },
   {
    "duration": 25,
    "start_time": "2021-07-23T11:48:04.079Z"
   },
   {
    "duration": 25,
    "start_time": "2021-07-23T11:48:06.567Z"
   },
   {
    "duration": 29,
    "start_time": "2021-07-23T11:48:07.525Z"
   },
   {
    "duration": 28,
    "start_time": "2021-07-23T11:48:08.306Z"
   },
   {
    "duration": 23,
    "start_time": "2021-07-23T11:48:09.066Z"
   },
   {
    "duration": 27,
    "start_time": "2021-07-23T11:48:09.827Z"
   },
   {
    "duration": 31,
    "start_time": "2021-07-23T11:48:10.544Z"
   },
   {
    "duration": 26,
    "start_time": "2021-07-23T11:48:11.224Z"
   },
   {
    "duration": 25,
    "start_time": "2021-07-23T11:48:11.900Z"
   },
   {
    "duration": 25,
    "start_time": "2021-07-23T11:48:12.514Z"
   },
   {
    "duration": 26,
    "start_time": "2021-07-23T11:48:13.016Z"
   },
   {
    "duration": 25,
    "start_time": "2021-07-23T11:48:13.469Z"
   },
   {
    "duration": 27,
    "start_time": "2021-07-23T11:48:13.873Z"
   },
   {
    "duration": 25,
    "start_time": "2021-07-23T11:48:14.278Z"
   },
   {
    "duration": 25,
    "start_time": "2021-07-23T11:48:14.674Z"
   },
   {
    "duration": 31,
    "start_time": "2021-07-23T11:48:15.056Z"
   },
   {
    "duration": 10,
    "start_time": "2021-07-23T11:48:59.612Z"
   },
   {
    "duration": 10,
    "start_time": "2021-07-23T11:49:00.912Z"
   },
   {
    "duration": 9,
    "start_time": "2021-07-23T11:49:01.562Z"
   },
   {
    "duration": 9,
    "start_time": "2021-07-23T11:49:02.066Z"
   },
   {
    "duration": 10,
    "start_time": "2021-07-23T11:49:02.456Z"
   },
   {
    "duration": 10,
    "start_time": "2021-07-23T11:49:02.863Z"
   },
   {
    "duration": 9,
    "start_time": "2021-07-23T11:49:03.244Z"
   },
   {
    "duration": 9,
    "start_time": "2021-07-23T11:49:03.604Z"
   },
   {
    "duration": 9,
    "start_time": "2021-07-23T11:49:03.947Z"
   },
   {
    "duration": 9,
    "start_time": "2021-07-23T11:49:04.317Z"
   },
   {
    "duration": 9,
    "start_time": "2021-07-23T11:49:04.619Z"
   },
   {
    "duration": 9,
    "start_time": "2021-07-23T11:49:04.910Z"
   },
   {
    "duration": 9,
    "start_time": "2021-07-23T11:49:05.157Z"
   },
   {
    "duration": 10,
    "start_time": "2021-07-23T11:49:05.343Z"
   },
   {
    "duration": 10,
    "start_time": "2021-07-23T11:49:05.545Z"
   },
   {
    "duration": 10,
    "start_time": "2021-07-23T11:49:05.720Z"
   },
   {
    "duration": 9,
    "start_time": "2021-07-23T11:49:05.907Z"
   },
   {
    "duration": 9,
    "start_time": "2021-07-23T11:49:06.107Z"
   },
   {
    "duration": 10,
    "start_time": "2021-07-23T11:49:06.316Z"
   },
   {
    "duration": 10,
    "start_time": "2021-07-23T11:49:06.521Z"
   },
   {
    "duration": 9,
    "start_time": "2021-07-23T11:49:06.711Z"
   },
   {
    "duration": 25,
    "start_time": "2021-07-23T11:49:08.619Z"
   },
   {
    "duration": 24,
    "start_time": "2021-07-23T11:49:09.359Z"
   },
   {
    "duration": 28,
    "start_time": "2021-07-23T11:49:10.121Z"
   },
   {
    "duration": 26,
    "start_time": "2021-07-23T11:49:10.894Z"
   },
   {
    "duration": 20050,
    "start_time": "2021-07-23T11:49:27.420Z"
   },
   {
    "duration": 10,
    "start_time": "2021-07-23T11:52:57.070Z"
   },
   {
    "duration": 10,
    "start_time": "2021-07-23T11:53:00.543Z"
   },
   {
    "duration": 9,
    "start_time": "2021-07-23T11:53:04.496Z"
   },
   {
    "duration": 10,
    "start_time": "2021-07-23T11:53:05.034Z"
   },
   {
    "duration": 9,
    "start_time": "2021-07-23T11:53:05.426Z"
   },
   {
    "duration": 9,
    "start_time": "2021-07-23T11:53:05.787Z"
   },
   {
    "duration": 9,
    "start_time": "2021-07-23T11:53:07.754Z"
   },
   {
    "duration": 9,
    "start_time": "2021-07-23T11:53:08.326Z"
   },
   {
    "duration": 9,
    "start_time": "2021-07-23T11:53:08.705Z"
   },
   {
    "duration": 12,
    "start_time": "2021-07-23T11:53:09.225Z"
   },
   {
    "duration": 9,
    "start_time": "2021-07-23T11:53:09.720Z"
   },
   {
    "duration": 9,
    "start_time": "2021-07-23T11:53:10.215Z"
   },
   {
    "duration": 8,
    "start_time": "2021-07-23T11:53:10.715Z"
   },
   {
    "duration": 9,
    "start_time": "2021-07-23T11:53:11.176Z"
   },
   {
    "duration": 9,
    "start_time": "2021-07-23T11:53:11.588Z"
   },
   {
    "duration": 9,
    "start_time": "2021-07-23T11:53:11.985Z"
   },
   {
    "duration": 9,
    "start_time": "2021-07-23T11:53:12.376Z"
   },
   {
    "duration": 25,
    "start_time": "2021-07-23T11:53:30.142Z"
   },
   {
    "duration": 10107,
    "start_time": "2021-07-23T11:53:52.203Z"
   },
   {
    "duration": 6,
    "start_time": "2021-07-23T11:54:02.312Z"
   },
   {
    "duration": 10103,
    "start_time": "2021-07-23T11:54:05.725Z"
   },
   {
    "duration": 10104,
    "start_time": "2021-07-23T11:54:34.709Z"
   },
   {
    "duration": 10396,
    "start_time": "2021-07-23T12:21:09.285Z"
   },
   {
    "duration": 293,
    "start_time": "2021-07-23T12:21:39.713Z"
   },
   {
    "duration": 10105,
    "start_time": "2021-07-23T12:22:34.676Z"
   },
   {
    "duration": 100553,
    "start_time": "2021-07-23T12:24:11.929Z"
   },
   {
    "duration": 353,
    "start_time": "2021-07-23T12:39:01.839Z"
   },
   {
    "duration": 303,
    "start_time": "2021-07-23T12:39:08.628Z"
   },
   {
    "duration": 16,
    "start_time": "2021-07-23T12:39:19.146Z"
   },
   {
    "duration": 10108,
    "start_time": "2021-07-23T12:39:29.614Z"
   },
   {
    "duration": 10095,
    "start_time": "2021-07-23T12:39:51.982Z"
   },
   {
    "duration": 36,
    "start_time": "2021-07-23T12:40:03.843Z"
   },
   {
    "duration": 47,
    "start_time": "2021-07-23T12:41:32.950Z"
   },
   {
    "duration": 53,
    "start_time": "2021-07-23T12:42:16.949Z"
   },
   {
    "duration": 49,
    "start_time": "2021-07-23T12:42:57.821Z"
   },
   {
    "duration": 47,
    "start_time": "2021-07-23T12:43:14.216Z"
   },
   {
    "duration": 29,
    "start_time": "2021-07-23T12:43:25.144Z"
   },
   {
    "duration": 68,
    "start_time": "2021-07-23T12:44:12.130Z"
   },
   {
    "duration": 31,
    "start_time": "2021-07-23T12:44:34.587Z"
   },
   {
    "duration": 30,
    "start_time": "2021-07-23T12:44:50.109Z"
   },
   {
    "duration": 433,
    "start_time": "2021-07-23T12:46:33.788Z"
   },
   {
    "duration": 1905,
    "start_time": "2021-07-23T12:47:20.010Z"
   },
   {
    "duration": 444,
    "start_time": "2021-07-23T12:47:30.316Z"
   },
   {
    "duration": 306,
    "start_time": "2021-07-23T12:47:32.336Z"
   },
   {
    "duration": 50,
    "start_time": "2021-07-23T12:47:37.469Z"
   },
   {
    "duration": 32273,
    "start_time": "2021-07-23T12:47:44.001Z"
   },
   {
    "duration": 29290,
    "start_time": "2021-07-23T12:48:16.278Z"
   },
   {
    "duration": 236,
    "start_time": "2021-07-23T12:51:20.948Z"
   },
   {
    "duration": 385743,
    "start_time": "2021-07-23T12:51:26.335Z"
   },
   {
    "duration": 31,
    "start_time": "2021-07-23T12:58:48.087Z"
   },
   {
    "duration": 7,
    "start_time": "2021-07-23T12:58:54.862Z"
   },
   {
    "duration": 6,
    "start_time": "2021-07-23T12:59:01.748Z"
   },
   {
    "duration": 35,
    "start_time": "2021-07-23T12:59:40.511Z"
   },
   {
    "duration": 1043,
    "start_time": "2021-07-23T13:00:20.037Z"
   },
   {
    "duration": 18,
    "start_time": "2021-07-23T13:00:34.107Z"
   },
   {
    "duration": 156228,
    "start_time": "2021-07-23T13:03:04.544Z"
   },
   {
    "duration": 116,
    "start_time": "2021-07-23T13:05:40.775Z"
   },
   {
    "duration": 87,
    "start_time": "2021-07-23T13:06:51.123Z"
   },
   {
    "duration": 5,
    "start_time": "2021-07-23T13:06:58.643Z"
   },
   {
    "duration": 24574,
    "start_time": "2021-07-23T13:08:00.609Z"
   },
   {
    "duration": 33,
    "start_time": "2021-07-23T13:08:25.186Z"
   },
   {
    "duration": 23819,
    "start_time": "2021-07-23T13:08:38.446Z"
   },
   {
    "duration": 126,
    "start_time": "2021-07-23T13:09:02.269Z"
   },
   {
    "duration": 140150,
    "start_time": "2021-07-23T13:09:16.214Z"
   },
   {
    "duration": 119,
    "start_time": "2021-07-23T13:11:36.372Z"
   },
   {
    "duration": 16,
    "start_time": "2021-07-23T13:11:36.495Z"
   },
   {
    "duration": 128,
    "start_time": "2021-07-23T13:11:36.515Z"
   },
   {
    "duration": 22133,
    "start_time": "2021-07-23T13:11:36.645Z"
   },
   {
    "duration": 197,
    "start_time": "2021-07-23T13:11:58.782Z"
   },
   {
    "duration": 486,
    "start_time": "2021-07-23T13:11:58.982Z"
   },
   {
    "duration": 42,
    "start_time": "2021-07-23T13:14:05.804Z"
   },
   {
    "duration": 16,
    "start_time": "2021-07-23T13:14:35.073Z"
   },
   {
    "duration": 6,
    "start_time": "2021-07-23T13:17:41.369Z"
   },
   {
    "duration": 224,
    "start_time": "2021-07-23T13:18:27.501Z"
   },
   {
    "duration": 17769,
    "start_time": "2021-07-23T13:18:32.412Z"
   },
   {
    "duration": 9059,
    "start_time": "2021-07-23T13:19:09.491Z"
   },
   {
    "duration": 10,
    "start_time": "2021-07-23T13:19:18.553Z"
   },
   {
    "duration": 4,
    "start_time": "2021-07-23T13:19:19.825Z"
   },
   {
    "duration": 9056,
    "start_time": "2021-07-23T13:19:20.822Z"
   },
   {
    "duration": 6995,
    "start_time": "2021-07-23T13:19:31.382Z"
   },
   {
    "duration": 5,
    "start_time": "2021-07-23T13:19:42.760Z"
   },
   {
    "duration": 9020,
    "start_time": "2021-07-23T13:19:43.834Z"
   },
   {
    "duration": 9364,
    "start_time": "2021-07-23T13:19:58.512Z"
   },
   {
    "duration": 56,
    "start_time": "2021-07-23T13:20:09.245Z"
   },
   {
    "duration": 50,
    "start_time": "2021-07-23T13:20:20.087Z"
   },
   {
    "duration": 9,
    "start_time": "2021-07-23T13:20:29.256Z"
   },
   {
    "duration": 4,
    "start_time": "2021-07-23T13:22:07.547Z"
   },
   {
    "duration": 9058,
    "start_time": "2021-07-23T13:22:08.614Z"
   },
   {
    "duration": 7740,
    "start_time": "2021-07-23T13:22:48.937Z"
   },
   {
    "duration": 9783,
    "start_time": "2021-07-23T13:22:59.278Z"
   },
   {
    "duration": 49671,
    "start_time": "2021-07-23T13:23:31.499Z"
   },
   {
    "duration": 962,
    "start_time": "2021-07-23T13:24:59.195Z"
   },
   {
    "duration": 6,
    "start_time": "2021-07-23T13:25:01.299Z"
   },
   {
    "duration": 105107,
    "start_time": "2021-07-23T13:25:08.773Z"
   },
   {
    "duration": 2053,
    "start_time": "2021-07-23T13:30:46.536Z"
   },
   {
    "duration": 6,
    "start_time": "2021-07-23T13:30:48.665Z"
   },
   {
    "duration": 361158,
    "start_time": "2021-07-23T13:30:59.907Z"
   },
   {
    "duration": 4441,
    "start_time": "2021-07-23T13:43:34.234Z"
   },
   {
    "duration": 6,
    "start_time": "2021-07-23T13:43:38.679Z"
   },
   {
    "duration": 5,
    "start_time": "2021-07-23T13:45:07.663Z"
   },
   {
    "duration": 4,
    "start_time": "2021-07-23T13:45:18.200Z"
   },
   {
    "duration": 9675,
    "start_time": "2021-07-23T13:52:18.473Z"
   },
   {
    "duration": 4,
    "start_time": "2021-07-23T13:52:32.067Z"
   },
   {
    "duration": 195684,
    "start_time": "2021-07-23T13:52:34.167Z"
   },
   {
    "duration": 299,
    "start_time": "2021-07-23T13:55:55.036Z"
   },
   {
    "duration": 295,
    "start_time": "2021-07-23T13:56:13.077Z"
   },
   {
    "duration": 3,
    "start_time": "2021-07-23T13:56:56.270Z"
   },
   {
    "duration": 266,
    "start_time": "2021-07-23T13:56:59.170Z"
   },
   {
    "duration": 273,
    "start_time": "2021-07-23T13:57:40.291Z"
   },
   {
    "duration": 12594,
    "start_time": "2021-07-23T13:57:50.767Z"
   },
   {
    "duration": 19,
    "start_time": "2021-07-23T13:58:03.372Z"
   },
   {
    "duration": 4,
    "start_time": "2021-07-23T13:58:05.646Z"
   },
   {
    "duration": 318334,
    "start_time": "2021-07-23T13:58:06.734Z"
   },
   {
    "duration": 95,
    "start_time": "2021-07-23T14:07:46.889Z"
   },
   {
    "duration": 13651,
    "start_time": "2021-07-23T14:07:53.635Z"
   },
   {
    "duration": 13415,
    "start_time": "2021-07-23T14:09:18.842Z"
   },
   {
    "duration": 13209,
    "start_time": "2021-07-23T14:09:43.385Z"
   },
   {
    "duration": 14765,
    "start_time": "2021-07-23T14:10:03.024Z"
   },
   {
    "duration": 14500,
    "start_time": "2021-07-23T14:10:35.691Z"
   },
   {
    "duration": 15415,
    "start_time": "2021-07-23T14:10:52.275Z"
   },
   {
    "duration": 11520,
    "start_time": "2021-07-23T14:11:12.768Z"
   },
   {
    "duration": 12462,
    "start_time": "2021-07-23T14:11:25.113Z"
   },
   {
    "duration": 104,
    "start_time": "2021-07-23T14:13:21.894Z"
   },
   {
    "duration": 94,
    "start_time": "2021-07-23T14:13:32.824Z"
   },
   {
    "duration": 92,
    "start_time": "2021-07-23T14:13:52.501Z"
   },
   {
    "duration": 97,
    "start_time": "2021-07-23T14:14:00.259Z"
   },
   {
    "duration": 8,
    "start_time": "2021-07-23T14:14:23.376Z"
   },
   {
    "duration": 16729,
    "start_time": "2021-07-23T14:15:02.253Z"
   },
   {
    "duration": 56524,
    "start_time": "2021-07-23T14:16:50.563Z"
   },
   {
    "duration": 195495,
    "start_time": "2021-07-23T14:17:47.091Z"
   },
   {
    "duration": 59,
    "start_time": "2021-07-23T14:21:02.603Z"
   },
   {
    "duration": 1570,
    "start_time": "2021-07-23T14:21:34.851Z"
   },
   {
    "duration": 1545,
    "start_time": "2021-07-23T14:21:36.424Z"
   },
   {
    "duration": 25,
    "start_time": "2021-07-23T14:21:37.972Z"
   },
   {
    "duration": 176,
    "start_time": "2021-07-23T14:21:37.999Z"
   },
   {
    "duration": 6,
    "start_time": "2021-07-23T14:21:38.177Z"
   },
   {
    "duration": 10,
    "start_time": "2021-07-23T14:21:38.185Z"
   },
   {
    "duration": 2379,
    "start_time": "2021-07-23T14:21:38.197Z"
   },
   {
    "duration": 417,
    "start_time": "2021-07-23T14:21:40.580Z"
   },
   {
    "duration": 113,
    "start_time": "2021-07-23T14:21:41.000Z"
   },
   {
    "duration": 518,
    "start_time": "2021-07-23T14:21:41.115Z"
   },
   {
    "duration": 388,
    "start_time": "2021-07-23T14:21:41.635Z"
   },
   {
    "duration": 374,
    "start_time": "2021-07-23T14:21:42.026Z"
   },
   {
    "duration": 54,
    "start_time": "2021-07-23T14:21:42.402Z"
   },
   {
    "duration": 41,
    "start_time": "2021-07-23T14:21:42.458Z"
   },
   {
    "duration": 200,
    "start_time": "2021-07-23T14:21:42.501Z"
   },
   {
    "duration": 25,
    "start_time": "2021-07-23T14:21:42.703Z"
   },
   {
    "duration": 46,
    "start_time": "2021-07-23T14:21:42.730Z"
   },
   {
    "duration": 39,
    "start_time": "2021-07-23T14:21:42.778Z"
   },
   {
    "duration": 61,
    "start_time": "2021-07-23T14:21:42.819Z"
   },
   {
    "duration": 32,
    "start_time": "2021-07-23T14:21:42.882Z"
   },
   {
    "duration": 48,
    "start_time": "2021-07-23T14:21:42.916Z"
   },
   {
    "duration": 31,
    "start_time": "2021-07-23T14:21:42.966Z"
   },
   {
    "duration": 1896,
    "start_time": "2021-07-23T14:21:43.002Z"
   },
   {
    "duration": 259,
    "start_time": "2021-07-23T14:21:44.902Z"
   },
   {
    "duration": 9,
    "start_time": "2021-07-23T14:21:45.164Z"
   },
   {
    "duration": 18,
    "start_time": "2021-07-23T14:21:45.175Z"
   },
   {
    "duration": 360,
    "start_time": "2021-07-23T14:21:45.196Z"
   },
   {
    "duration": 448,
    "start_time": "2021-07-23T14:21:45.558Z"
   },
   {
    "duration": 12,
    "start_time": "2021-07-23T14:21:46.008Z"
   },
   {
    "duration": 71,
    "start_time": "2021-07-23T14:21:46.022Z"
   },
   {
    "duration": 100,
    "start_time": "2021-07-23T14:21:46.096Z"
   },
   {
    "duration": 114,
    "start_time": "2021-07-23T14:21:46.198Z"
   },
   {
    "duration": 15,
    "start_time": "2021-07-23T14:21:46.314Z"
   },
   {
    "duration": 25,
    "start_time": "2021-07-23T14:21:46.331Z"
   },
   {
    "duration": 61,
    "start_time": "2021-07-23T14:21:46.359Z"
   },
   {
    "duration": 42,
    "start_time": "2021-07-23T14:21:46.422Z"
   },
   {
    "duration": 10,
    "start_time": "2021-07-23T14:21:46.466Z"
   },
   {
    "duration": 78,
    "start_time": "2021-07-23T14:21:46.478Z"
   },
   {
    "duration": 413,
    "start_time": "2021-07-23T14:21:46.558Z"
   },
   {
    "duration": 306,
    "start_time": "2021-07-23T14:21:46.973Z"
   },
   {
    "duration": 17,
    "start_time": "2021-07-23T14:21:47.281Z"
   },
   {
    "duration": 17,
    "start_time": "2021-07-23T14:21:47.300Z"
   },
   {
    "duration": 96,
    "start_time": "2021-07-23T14:21:47.319Z"
   },
   {
    "duration": 402,
    "start_time": "2021-07-23T14:21:47.418Z"
   },
   {
    "duration": 12,
    "start_time": "2021-07-23T14:21:47.822Z"
   },
   {
    "duration": 32,
    "start_time": "2021-07-23T14:21:47.836Z"
   },
   {
    "duration": 396,
    "start_time": "2021-07-23T14:21:47.870Z"
   },
   {
    "duration": 11,
    "start_time": "2021-07-23T14:21:48.268Z"
   },
   {
    "duration": 83,
    "start_time": "2021-07-23T14:21:48.282Z"
   },
   {
    "duration": 20,
    "start_time": "2021-07-23T14:21:48.367Z"
   },
   {
    "duration": 19,
    "start_time": "2021-07-23T14:21:48.389Z"
   },
   {
    "duration": 3,
    "start_time": "2021-07-23T14:21:48.411Z"
   },
   {
    "duration": 38,
    "start_time": "2021-07-23T14:21:48.417Z"
   },
   {
    "duration": 543,
    "start_time": "2021-07-23T14:21:48.458Z"
   },
   {
    "duration": 100,
    "start_time": "2021-07-23T14:21:49.003Z"
   },
   {
    "duration": 286,
    "start_time": "2021-07-23T14:21:49.106Z"
   },
   {
    "duration": 10096,
    "start_time": "2021-07-23T14:21:49.394Z"
   },
   {
    "duration": 32,
    "start_time": "2021-07-23T14:21:59.493Z"
   },
   {
    "duration": 355,
    "start_time": "2021-07-23T14:21:59.527Z"
   },
   {
    "duration": 103177,
    "start_time": "2021-07-23T14:21:59.885Z"
   },
   {
    "duration": 46,
    "start_time": "2021-07-23T14:23:43.154Z"
   },
   {
    "duration": 55,
    "start_time": "2021-07-23T14:23:43.203Z"
   },
   {
    "duration": 105,
    "start_time": "2021-07-23T14:23:43.261Z"
   },
   {
    "duration": 22686,
    "start_time": "2021-07-23T14:23:43.369Z"
   },
   {
    "duration": 34,
    "start_time": "2021-07-23T14:24:06.058Z"
   },
   {
    "duration": 16,
    "start_time": "2021-07-23T14:24:06.095Z"
   },
   {
    "duration": 70,
    "start_time": "2021-07-23T14:24:06.114Z"
   },
   {
    "duration": 12,
    "start_time": "2021-07-23T14:24:06.191Z"
   },
   {
    "duration": 19,
    "start_time": "2021-07-23T14:24:06.206Z"
   },
   {
    "duration": 11,
    "start_time": "2021-07-23T14:24:06.228Z"
   },
   {
    "duration": 13585,
    "start_time": "2021-07-23T14:24:06.242Z"
   },
   {
    "duration": 49199,
    "start_time": "2021-07-23T14:24:19.830Z"
   },
   {
    "duration": 198569,
    "start_time": "2021-07-23T14:25:09.031Z"
   },
   {
    "duration": 12228,
    "start_time": "2021-07-23T14:53:35.028Z"
   },
   {
    "duration": 52428,
    "start_time": "2021-07-23T14:53:47.258Z"
   },
   {
    "duration": 233809,
    "start_time": "2021-07-23T14:54:39.689Z"
   },
   {
    "duration": 26,
    "start_time": "2021-07-23T14:58:33.555Z"
   },
   {
    "duration": 5,
    "start_time": "2021-07-23T14:58:33.584Z"
   },
   {
    "duration": 16,
    "start_time": "2021-07-23T14:58:33.591Z"
   },
   {
    "duration": 18,
    "start_time": "2021-07-23T15:05:10.922Z"
   },
   {
    "duration": 2188,
    "start_time": "2021-07-23T15:06:49.065Z"
   },
   {
    "duration": 1132,
    "start_time": "2021-07-23T15:07:05.299Z"
   },
   {
    "duration": 1148,
    "start_time": "2021-07-23T15:07:47.566Z"
   },
   {
    "duration": 263,
    "start_time": "2021-07-23T15:08:50.898Z"
   },
   {
    "duration": 1908,
    "start_time": "2021-07-23T15:09:55.897Z"
   },
   {
    "duration": 1908,
    "start_time": "2021-07-23T15:10:25.864Z"
   },
   {
    "duration": 1794,
    "start_time": "2021-07-23T15:11:03.036Z"
   },
   {
    "duration": 1743,
    "start_time": "2021-07-23T15:11:15.042Z"
   },
   {
    "duration": 1708,
    "start_time": "2021-07-23T15:11:28.601Z"
   },
   {
    "duration": 341,
    "start_time": "2021-07-23T15:12:48.472Z"
   },
   {
    "duration": 181,
    "start_time": "2021-07-23T15:13:15.724Z"
   },
   {
    "duration": 92,
    "start_time": "2021-07-23T15:13:55.636Z"
   },
   {
    "duration": 184,
    "start_time": "2021-07-23T15:14:04.667Z"
   },
   {
    "duration": 3240,
    "start_time": "2021-07-23T15:15:55.969Z"
   },
   {
    "duration": 2656,
    "start_time": "2021-07-23T15:16:48.285Z"
   },
   {
    "duration": 2237,
    "start_time": "2021-07-23T15:17:02.528Z"
   },
   {
    "duration": 2015,
    "start_time": "2021-07-23T15:17:51.982Z"
   },
   {
    "duration": 354,
    "start_time": "2021-07-23T15:18:38.401Z"
   },
   {
    "duration": 2205,
    "start_time": "2021-07-23T15:18:39.570Z"
   },
   {
    "duration": 2211,
    "start_time": "2021-07-23T15:20:03.114Z"
   },
   {
    "duration": 2527,
    "start_time": "2021-07-23T15:21:09.573Z"
   },
   {
    "duration": 1586,
    "start_time": "2021-07-23T15:22:49.143Z"
   },
   {
    "duration": 1111,
    "start_time": "2021-07-23T15:22:50.732Z"
   },
   {
    "duration": 28,
    "start_time": "2021-07-23T15:22:51.846Z"
   },
   {
    "duration": 171,
    "start_time": "2021-07-23T15:22:51.877Z"
   },
   {
    "duration": 6,
    "start_time": "2021-07-23T15:22:52.055Z"
   },
   {
    "duration": 8,
    "start_time": "2021-07-23T15:22:52.064Z"
   },
   {
    "duration": 2372,
    "start_time": "2021-07-23T15:22:52.075Z"
   },
   {
    "duration": 418,
    "start_time": "2021-07-23T15:22:54.450Z"
   },
   {
    "duration": 118,
    "start_time": "2021-07-23T15:22:54.871Z"
   },
   {
    "duration": 558,
    "start_time": "2021-07-23T15:22:54.992Z"
   },
   {
    "duration": 389,
    "start_time": "2021-07-23T15:22:55.555Z"
   },
   {
    "duration": 395,
    "start_time": "2021-07-23T15:22:55.946Z"
   },
   {
    "duration": 54,
    "start_time": "2021-07-23T15:22:56.344Z"
   },
   {
    "duration": 56,
    "start_time": "2021-07-23T15:22:56.400Z"
   },
   {
    "duration": 185,
    "start_time": "2021-07-23T15:22:56.459Z"
   },
   {
    "duration": 24,
    "start_time": "2021-07-23T15:22:56.655Z"
   },
   {
    "duration": 31,
    "start_time": "2021-07-23T15:22:56.682Z"
   },
   {
    "duration": 59,
    "start_time": "2021-07-23T15:22:56.716Z"
   },
   {
    "duration": 39,
    "start_time": "2021-07-23T15:22:56.778Z"
   },
   {
    "duration": 49,
    "start_time": "2021-07-23T15:22:56.820Z"
   },
   {
    "duration": 30,
    "start_time": "2021-07-23T15:22:56.872Z"
   },
   {
    "duration": 50,
    "start_time": "2021-07-23T15:22:56.904Z"
   },
   {
    "duration": 1897,
    "start_time": "2021-07-23T15:22:56.960Z"
   },
   {
    "duration": 243,
    "start_time": "2021-07-23T15:22:58.863Z"
   },
   {
    "duration": 12,
    "start_time": "2021-07-23T15:22:59.109Z"
   },
   {
    "duration": 39,
    "start_time": "2021-07-23T15:22:59.124Z"
   },
   {
    "duration": 266,
    "start_time": "2021-07-23T15:22:59.166Z"
   },
   {
    "duration": 586,
    "start_time": "2021-07-23T15:22:59.435Z"
   },
   {
    "duration": 14,
    "start_time": "2021-07-23T15:23:00.024Z"
   },
   {
    "duration": 56,
    "start_time": "2021-07-23T15:23:00.053Z"
   },
   {
    "duration": 114,
    "start_time": "2021-07-23T15:23:00.112Z"
   },
   {
    "duration": 125,
    "start_time": "2021-07-23T15:23:00.229Z"
   },
   {
    "duration": 14,
    "start_time": "2021-07-23T15:23:00.356Z"
   },
   {
    "duration": 23,
    "start_time": "2021-07-23T15:23:00.373Z"
   },
   {
    "duration": 87,
    "start_time": "2021-07-23T15:23:00.399Z"
   },
   {
    "duration": 22,
    "start_time": "2021-07-23T15:23:00.488Z"
   },
   {
    "duration": 10,
    "start_time": "2021-07-23T15:23:00.513Z"
   },
   {
    "duration": 84,
    "start_time": "2021-07-23T15:23:00.526Z"
   },
   {
    "duration": 440,
    "start_time": "2021-07-23T15:23:00.613Z"
   },
   {
    "duration": 311,
    "start_time": "2021-07-23T15:23:01.055Z"
   },
   {
    "duration": 17,
    "start_time": "2021-07-23T15:23:01.368Z"
   },
   {
    "duration": 22,
    "start_time": "2021-07-23T15:23:01.388Z"
   },
   {
    "duration": 95,
    "start_time": "2021-07-23T15:23:01.412Z"
   },
   {
    "duration": 415,
    "start_time": "2021-07-23T15:23:01.510Z"
   },
   {
    "duration": 28,
    "start_time": "2021-07-23T15:23:01.927Z"
   },
   {
    "duration": 27,
    "start_time": "2021-07-23T15:23:01.957Z"
   },
   {
    "duration": 395,
    "start_time": "2021-07-23T15:23:01.987Z"
   },
   {
    "duration": 11,
    "start_time": "2021-07-23T15:23:02.384Z"
   },
   {
    "duration": 82,
    "start_time": "2021-07-23T15:23:02.397Z"
   },
   {
    "duration": 24,
    "start_time": "2021-07-23T15:23:02.482Z"
   },
   {
    "duration": 19,
    "start_time": "2021-07-23T15:23:02.509Z"
   },
   {
    "duration": 26,
    "start_time": "2021-07-23T15:23:02.530Z"
   },
   {
    "duration": 25,
    "start_time": "2021-07-23T15:23:02.560Z"
   },
   {
    "duration": 528,
    "start_time": "2021-07-23T15:23:02.588Z"
   },
   {
    "duration": 107,
    "start_time": "2021-07-23T15:23:03.119Z"
   },
   {
    "duration": 296,
    "start_time": "2021-07-23T15:23:03.228Z"
   },
   {
    "duration": 10100,
    "start_time": "2021-07-23T15:23:03.527Z"
   },
   {
    "duration": 34,
    "start_time": "2021-07-23T15:23:13.629Z"
   },
   {
    "duration": 347,
    "start_time": "2021-07-23T15:23:13.665Z"
   },
   {
    "duration": 104951,
    "start_time": "2021-07-23T15:23:14.015Z"
   },
   {
    "duration": 33,
    "start_time": "2021-07-23T15:24:59.055Z"
   },
   {
    "duration": 14,
    "start_time": "2021-07-23T15:24:59.091Z"
   },
   {
    "duration": 127,
    "start_time": "2021-07-23T15:24:59.107Z"
   },
   {
    "duration": 22422,
    "start_time": "2021-07-23T15:24:59.236Z"
   },
   {
    "duration": 118,
    "start_time": "2021-07-23T15:25:21.660Z"
   },
   {
    "duration": 15,
    "start_time": "2021-07-23T15:25:21.780Z"
   },
   {
    "duration": 25,
    "start_time": "2021-07-23T15:25:21.797Z"
   },
   {
    "duration": 12,
    "start_time": "2021-07-23T15:25:21.853Z"
   },
   {
    "duration": 25,
    "start_time": "2021-07-23T15:25:21.868Z"
   },
   {
    "duration": 46,
    "start_time": "2021-07-23T15:25:21.896Z"
   },
   {
    "duration": 12843,
    "start_time": "2021-07-23T15:25:21.944Z"
   },
   {
    "duration": 47686,
    "start_time": "2021-07-23T15:25:34.790Z"
   },
   {
    "duration": 191098,
    "start_time": "2021-07-23T15:26:22.479Z"
   },
   {
    "duration": 378,
    "start_time": "2021-07-23T15:29:33.580Z"
   },
   {
    "duration": 325,
    "start_time": "2021-07-23T15:29:33.960Z"
   },
   {
    "duration": 5415,
    "start_time": "2021-07-23T15:29:46.946Z"
   },
   {
    "duration": 33135,
    "start_time": "2021-07-23T15:30:05.828Z"
   },
   {
    "duration": 404753,
    "start_time": "2021-07-23T15:30:55.121Z"
   },
   {
    "duration": 802919,
    "start_time": "2021-07-23T15:40:48.951Z"
   },
   {
    "duration": 13,
    "start_time": "2021-07-23T15:54:11.874Z"
   },
   {
    "duration": 405964,
    "start_time": "2021-07-23T16:00:38.020Z"
   },
   {
    "duration": 67,
    "start_time": "2021-07-23T16:07:23.987Z"
   },
   {
    "duration": 11,
    "start_time": "2021-07-23T16:09:14.017Z"
   },
   {
    "duration": 6,
    "start_time": "2021-07-23T16:10:50.078Z"
   },
   {
    "duration": 6,
    "start_time": "2021-07-23T16:12:19.299Z"
   },
   {
    "duration": 8429,
    "start_time": "2021-07-23T16:12:21.123Z"
   },
   {
    "duration": 32651,
    "start_time": "2021-07-23T16:12:29.555Z"
   },
   {
    "duration": 408668,
    "start_time": "2021-07-23T16:13:02.209Z"
   },
   {
    "duration": 11,
    "start_time": "2021-07-23T16:19:50.880Z"
   },
   {
    "duration": 6,
    "start_time": "2021-07-23T16:21:53.675Z"
   },
   {
    "duration": 260,
    "start_time": "2021-07-23T16:26:56.849Z"
   },
   {
    "duration": 254,
    "start_time": "2021-07-23T16:27:08.247Z"
   },
   {
    "duration": 268,
    "start_time": "2021-07-23T16:27:14.413Z"
   },
   {
    "duration": 264,
    "start_time": "2021-07-23T16:27:50.231Z"
   },
   {
    "duration": 260,
    "start_time": "2021-07-23T16:27:56.173Z"
   },
   {
    "duration": 12057,
    "start_time": "2021-07-23T16:28:09.291Z"
   },
   {
    "duration": 24337,
    "start_time": "2021-07-23T16:28:25.596Z"
   },
   {
    "duration": 19742,
    "start_time": "2021-07-23T16:28:57.909Z"
   },
   {
    "duration": 66002,
    "start_time": "2021-07-23T16:29:29.126Z"
   },
   {
    "duration": -443,
    "start_time": "2021-07-23T16:30:35.574Z"
   },
   {
    "duration": 114542,
    "start_time": "2021-07-23T16:30:36.822Z"
   },
   {
    "duration": 38901,
    "start_time": "2021-07-23T16:32:31.366Z"
   },
   {
    "duration": 170635,
    "start_time": "2021-07-23T16:33:13.323Z"
   },
   {
    "duration": 349111,
    "start_time": "2021-07-23T16:36:23.153Z"
   },
   {
    "duration": 6,
    "start_time": "2021-07-23T16:44:28.324Z"
   },
   {
    "duration": 5,
    "start_time": "2021-07-23T16:47:59.730Z"
   },
   {
    "duration": 180,
    "start_time": "2021-07-23T16:48:08.317Z"
   },
   {
    "duration": 450,
    "start_time": "2021-07-23T16:48:22.231Z"
   },
   {
    "duration": 11347,
    "start_time": "2021-07-23T16:48:35.726Z"
   },
   {
    "duration": 10154,
    "start_time": "2021-07-23T16:48:56.227Z"
   },
   {
    "duration": 12459,
    "start_time": "2021-07-23T16:49:53.299Z"
   },
   {
    "duration": 355917,
    "start_time": "2021-07-23T16:50:08.063Z"
   },
   {
    "duration": 82,
    "start_time": "2021-07-23T16:56:03.983Z"
   },
   {
    "duration": 13,
    "start_time": "2021-07-23T16:57:49.640Z"
   },
   {
    "duration": 1593,
    "start_time": "2021-07-23T16:58:07.646Z"
   },
   {
    "duration": 1104,
    "start_time": "2021-07-23T16:58:09.242Z"
   },
   {
    "duration": 26,
    "start_time": "2021-07-23T16:58:10.349Z"
   },
   {
    "duration": 176,
    "start_time": "2021-07-23T16:58:10.378Z"
   },
   {
    "duration": 7,
    "start_time": "2021-07-23T16:58:10.556Z"
   },
   {
    "duration": 16,
    "start_time": "2021-07-23T16:58:10.565Z"
   },
   {
    "duration": 2320,
    "start_time": "2021-07-23T16:58:10.584Z"
   },
   {
    "duration": 410,
    "start_time": "2021-07-23T16:58:12.908Z"
   },
   {
    "duration": 116,
    "start_time": "2021-07-23T16:58:13.321Z"
   },
   {
    "duration": 535,
    "start_time": "2021-07-23T16:58:13.439Z"
   },
   {
    "duration": 391,
    "start_time": "2021-07-23T16:58:13.976Z"
   },
   {
    "duration": 385,
    "start_time": "2021-07-23T16:58:14.369Z"
   },
   {
    "duration": 47,
    "start_time": "2021-07-23T16:58:14.756Z"
   },
   {
    "duration": 57,
    "start_time": "2021-07-23T16:58:14.806Z"
   },
   {
    "duration": 196,
    "start_time": "2021-07-23T16:58:14.866Z"
   },
   {
    "duration": 25,
    "start_time": "2021-07-23T16:58:15.065Z"
   },
   {
    "duration": 35,
    "start_time": "2021-07-23T16:58:15.092Z"
   },
   {
    "duration": 60,
    "start_time": "2021-07-23T16:58:15.130Z"
   },
   {
    "duration": 61,
    "start_time": "2021-07-23T16:58:15.193Z"
   },
   {
    "duration": 29,
    "start_time": "2021-07-23T16:58:15.256Z"
   },
   {
    "duration": 26,
    "start_time": "2021-07-23T16:58:15.288Z"
   },
   {
    "duration": 54,
    "start_time": "2021-07-23T16:58:15.317Z"
   },
   {
    "duration": 1850,
    "start_time": "2021-07-23T16:58:15.377Z"
   },
   {
    "duration": 243,
    "start_time": "2021-07-23T16:58:17.257Z"
   },
   {
    "duration": 9,
    "start_time": "2021-07-23T16:58:17.502Z"
   },
   {
    "duration": 13,
    "start_time": "2021-07-23T16:58:17.514Z"
   },
   {
    "duration": 284,
    "start_time": "2021-07-23T16:58:17.529Z"
   },
   {
    "duration": 439,
    "start_time": "2021-07-23T16:58:17.817Z"
   },
   {
    "duration": 13,
    "start_time": "2021-07-23T16:58:18.259Z"
   },
   {
    "duration": 81,
    "start_time": "2021-07-23T16:58:18.275Z"
   },
   {
    "duration": 99,
    "start_time": "2021-07-23T16:58:18.358Z"
   },
   {
    "duration": 123,
    "start_time": "2021-07-23T16:58:18.459Z"
   },
   {
    "duration": 16,
    "start_time": "2021-07-23T16:58:18.584Z"
   },
   {
    "duration": 11,
    "start_time": "2021-07-23T16:58:18.602Z"
   },
   {
    "duration": 95,
    "start_time": "2021-07-23T16:58:18.616Z"
   },
   {
    "duration": 42,
    "start_time": "2021-07-23T16:58:18.714Z"
   },
   {
    "duration": 13,
    "start_time": "2021-07-23T16:58:18.759Z"
   },
   {
    "duration": 79,
    "start_time": "2021-07-23T16:58:18.775Z"
   },
   {
    "duration": 422,
    "start_time": "2021-07-23T16:58:18.857Z"
   },
   {
    "duration": 328,
    "start_time": "2021-07-23T16:58:19.282Z"
   },
   {
    "duration": 16,
    "start_time": "2021-07-23T16:58:19.613Z"
   },
   {
    "duration": 30,
    "start_time": "2021-07-23T16:58:19.632Z"
   },
   {
    "duration": 65,
    "start_time": "2021-07-23T16:58:19.664Z"
   },
   {
    "duration": 418,
    "start_time": "2021-07-23T16:58:19.731Z"
   },
   {
    "duration": 13,
    "start_time": "2021-07-23T16:58:20.154Z"
   },
   {
    "duration": 19,
    "start_time": "2021-07-23T16:58:20.169Z"
   },
   {
    "duration": 403,
    "start_time": "2021-07-23T16:58:20.190Z"
   },
   {
    "duration": 13,
    "start_time": "2021-07-23T16:58:20.596Z"
   },
   {
    "duration": 94,
    "start_time": "2021-07-23T16:58:20.612Z"
   },
   {
    "duration": 23,
    "start_time": "2021-07-23T16:58:20.708Z"
   },
   {
    "duration": 37,
    "start_time": "2021-07-23T16:58:20.734Z"
   },
   {
    "duration": 4,
    "start_time": "2021-07-23T16:58:20.773Z"
   },
   {
    "duration": 11,
    "start_time": "2021-07-23T16:58:20.780Z"
   },
   {
    "duration": 563,
    "start_time": "2021-07-23T16:58:20.794Z"
   },
   {
    "duration": 103,
    "start_time": "2021-07-23T16:58:21.361Z"
   },
   {
    "duration": 296,
    "start_time": "2021-07-23T16:58:21.467Z"
   },
   {
    "duration": 10093,
    "start_time": "2021-07-23T16:58:21.766Z"
   },
   {
    "duration": 33,
    "start_time": "2021-07-23T16:58:31.862Z"
   },
   {
    "duration": 364,
    "start_time": "2021-07-23T16:58:31.897Z"
   },
   {
    "duration": 98591,
    "start_time": "2021-07-23T16:58:32.264Z"
   },
   {
    "duration": 33,
    "start_time": "2021-07-23T17:00:10.857Z"
   },
   {
    "duration": 13,
    "start_time": "2021-07-23T17:00:10.893Z"
   },
   {
    "duration": 121,
    "start_time": "2021-07-23T17:00:10.908Z"
   },
   {
    "duration": 21236,
    "start_time": "2021-07-23T17:00:11.031Z"
   },
   {
    "duration": 200,
    "start_time": "2021-07-23T17:00:32.269Z"
   },
   {
    "duration": 16,
    "start_time": "2021-07-23T17:00:32.472Z"
   },
   {
    "duration": 9,
    "start_time": "2021-07-23T17:00:32.491Z"
   },
   {
    "duration": 45,
    "start_time": "2021-07-23T17:00:32.510Z"
   },
   {
    "duration": 10,
    "start_time": "2021-07-23T17:00:32.558Z"
   },
   {
    "duration": 13605,
    "start_time": "2021-07-23T17:00:32.570Z"
   },
   {
    "duration": 52611,
    "start_time": "2021-07-23T17:00:46.178Z"
   },
   {
    "duration": 266979,
    "start_time": "2021-07-23T17:01:38.791Z"
   },
   {
    "duration": 11,
    "start_time": "2021-07-23T17:06:05.773Z"
   },
   {
    "duration": 116077,
    "start_time": "2021-07-23T17:06:05.786Z"
   },
   {
    "duration": 158702,
    "start_time": "2021-07-23T17:08:01.865Z"
   },
   {
    "duration": 318997,
    "start_time": "2021-07-23T17:10:40.570Z"
   },
   {
    "duration": 4,
    "start_time": "2021-07-23T17:15:59.571Z"
   },
   {
    "duration": 10094,
    "start_time": "2021-07-23T17:15:59.578Z"
   },
   {
    "duration": 385,
    "start_time": "2021-07-23T17:16:09.675Z"
   },
   {
    "duration": 7,
    "start_time": "2021-07-23T17:16:10.062Z"
   },
   {
    "duration": 8437,
    "start_time": "2021-07-23T17:16:10.071Z"
   },
   {
    "duration": 3764,
    "start_time": "2021-07-23T17:16:18.510Z"
   },
   {
    "duration": 65038,
    "start_time": "2021-07-23T17:16:22.276Z"
   },
   {
    "duration": 12,
    "start_time": "2021-07-23T17:17:27.316Z"
   },
   {
    "duration": 61948,
    "start_time": "2021-07-23T17:17:27.333Z"
   },
   {
    "duration": 343,
    "start_time": "2021-07-23T17:19:23.854Z"
   },
   {
    "duration": 6,
    "start_time": "2021-07-23T17:19:25.379Z"
   },
   {
    "duration": 8353,
    "start_time": "2021-07-23T17:19:27.793Z"
   },
   {
    "duration": 33426,
    "start_time": "2021-07-23T17:19:36.149Z"
   },
   {
    "duration": 406789,
    "start_time": "2021-07-23T17:20:09.579Z"
   },
   {
    "duration": 12,
    "start_time": "2021-07-23T17:26:56.370Z"
   },
   {
    "duration": 12,
    "start_time": "2021-07-23T17:27:52.823Z"
   },
   {
    "duration": 5,
    "start_time": "2021-07-23T17:31:08.025Z"
   },
   {
    "duration": 14,
    "start_time": "2021-07-23T17:31:09.945Z"
   },
   {
    "duration": 9867,
    "start_time": "2021-07-23T17:34:13.708Z"
   },
   {
    "duration": 10607,
    "start_time": "2021-07-23T17:34:34.861Z"
   },
   {
    "duration": 5,
    "start_time": "2021-07-23T17:35:03.495Z"
   },
   {
    "duration": 14,
    "start_time": "2021-07-23T17:35:05.014Z"
   },
   {
    "duration": 46,
    "start_time": "2021-07-23T17:40:03.931Z"
   },
   {
    "duration": 42,
    "start_time": "2021-07-23T17:40:22.591Z"
   },
   {
    "duration": 1672,
    "start_time": "2021-07-23T17:40:55.662Z"
   },
   {
    "duration": 1233,
    "start_time": "2021-07-23T17:40:57.337Z"
   },
   {
    "duration": 24,
    "start_time": "2021-07-23T17:40:58.573Z"
   },
   {
    "duration": 178,
    "start_time": "2021-07-23T17:40:58.599Z"
   },
   {
    "duration": 7,
    "start_time": "2021-07-23T17:40:58.779Z"
   },
   {
    "duration": 5,
    "start_time": "2021-07-23T17:40:58.788Z"
   },
   {
    "duration": 2548,
    "start_time": "2021-07-23T17:40:58.796Z"
   },
   {
    "duration": 447,
    "start_time": "2021-07-23T17:41:01.349Z"
   },
   {
    "duration": 121,
    "start_time": "2021-07-23T17:41:01.799Z"
   },
   {
    "duration": 551,
    "start_time": "2021-07-23T17:41:01.922Z"
   },
   {
    "duration": 411,
    "start_time": "2021-07-23T17:41:02.476Z"
   },
   {
    "duration": 396,
    "start_time": "2021-07-23T17:41:02.890Z"
   },
   {
    "duration": 47,
    "start_time": "2021-07-23T17:41:03.289Z"
   },
   {
    "duration": 44,
    "start_time": "2021-07-23T17:41:03.354Z"
   },
   {
    "duration": 217,
    "start_time": "2021-07-23T17:41:03.401Z"
   },
   {
    "duration": 42,
    "start_time": "2021-07-23T17:41:03.620Z"
   },
   {
    "duration": 33,
    "start_time": "2021-07-23T17:41:03.666Z"
   },
   {
    "duration": 71,
    "start_time": "2021-07-23T17:41:03.702Z"
   },
   {
    "duration": 41,
    "start_time": "2021-07-23T17:41:03.776Z"
   },
   {
    "duration": 55,
    "start_time": "2021-07-23T17:41:03.820Z"
   },
   {
    "duration": 32,
    "start_time": "2021-07-23T17:41:03.877Z"
   },
   {
    "duration": 59,
    "start_time": "2021-07-23T17:41:03.911Z"
   },
   {
    "duration": 1948,
    "start_time": "2021-07-23T17:41:03.977Z"
   },
   {
    "duration": 254,
    "start_time": "2021-07-23T17:41:05.954Z"
   },
   {
    "duration": 10,
    "start_time": "2021-07-23T17:41:06.210Z"
   },
   {
    "duration": 38,
    "start_time": "2021-07-23T17:41:06.222Z"
   },
   {
    "duration": 285,
    "start_time": "2021-07-23T17:41:06.263Z"
   },
   {
    "duration": 484,
    "start_time": "2021-07-23T17:41:06.555Z"
   },
   {
    "duration": 20,
    "start_time": "2021-07-23T17:41:07.041Z"
   },
   {
    "duration": 62,
    "start_time": "2021-07-23T17:41:07.064Z"
   },
   {
    "duration": 119,
    "start_time": "2021-07-23T17:41:07.128Z"
   },
   {
    "duration": 129,
    "start_time": "2021-07-23T17:41:07.254Z"
   },
   {
    "duration": 13,
    "start_time": "2021-07-23T17:41:07.385Z"
   },
   {
    "duration": 10,
    "start_time": "2021-07-23T17:41:07.401Z"
   },
   {
    "duration": 90,
    "start_time": "2021-07-23T17:41:07.414Z"
   },
   {
    "duration": 20,
    "start_time": "2021-07-23T17:41:07.506Z"
   },
   {
    "duration": 26,
    "start_time": "2021-07-23T17:41:07.528Z"
   },
   {
    "duration": 63,
    "start_time": "2021-07-23T17:41:07.557Z"
   },
   {
    "duration": 578,
    "start_time": "2021-07-23T17:41:07.622Z"
   },
   {
    "duration": 367,
    "start_time": "2021-07-23T17:41:08.203Z"
   },
   {
    "duration": 21,
    "start_time": "2021-07-23T17:41:08.573Z"
   },
   {
    "duration": 13,
    "start_time": "2021-07-23T17:41:08.597Z"
   },
   {
    "duration": 101,
    "start_time": "2021-07-23T17:41:08.613Z"
   },
   {
    "duration": 418,
    "start_time": "2021-07-23T17:41:08.716Z"
   },
   {
    "duration": 19,
    "start_time": "2021-07-23T17:41:09.137Z"
   },
   {
    "duration": 26,
    "start_time": "2021-07-23T17:41:09.159Z"
   },
   {
    "duration": 440,
    "start_time": "2021-07-23T17:41:09.188Z"
   },
   {
    "duration": 24,
    "start_time": "2021-07-23T17:41:09.630Z"
   },
   {
    "duration": 65,
    "start_time": "2021-07-23T17:41:09.657Z"
   },
   {
    "duration": 48,
    "start_time": "2021-07-23T17:41:09.724Z"
   },
   {
    "duration": 21,
    "start_time": "2021-07-23T17:41:09.775Z"
   },
   {
    "duration": 4,
    "start_time": "2021-07-23T17:41:09.799Z"
   },
   {
    "duration": 18,
    "start_time": "2021-07-23T17:41:09.806Z"
   },
   {
    "duration": 595,
    "start_time": "2021-07-23T17:41:09.827Z"
   },
   {
    "duration": 99,
    "start_time": "2021-07-23T17:41:10.424Z"
   },
   {
    "duration": 326,
    "start_time": "2021-07-23T17:41:10.526Z"
   },
   {
    "duration": 10097,
    "start_time": "2021-07-23T17:41:10.855Z"
   },
   {
    "duration": 38,
    "start_time": "2021-07-23T17:41:20.954Z"
   },
   {
    "duration": 376,
    "start_time": "2021-07-23T17:41:20.994Z"
   },
   {
    "duration": 66286,
    "start_time": "2021-07-23T17:41:21.373Z"
   },
   {
    "duration": 124,
    "start_time": "2021-07-23T17:42:27.663Z"
   },
   {
    "duration": 14,
    "start_time": "2021-07-23T17:42:27.789Z"
   },
   {
    "duration": 126,
    "start_time": "2021-07-23T17:42:27.806Z"
   },
   {
    "duration": 13228,
    "start_time": "2021-07-23T17:42:27.934Z"
   },
   {
    "duration": 106,
    "start_time": "2021-07-23T17:42:41.165Z"
   },
   {
    "duration": 15,
    "start_time": "2021-07-23T17:42:41.273Z"
   },
   {
    "duration": 6,
    "start_time": "2021-07-23T17:42:41.290Z"
   },
   {
    "duration": 4,
    "start_time": "2021-07-23T17:42:41.304Z"
   },
   {
    "duration": 44,
    "start_time": "2021-07-23T17:42:41.311Z"
   },
   {
    "duration": 13702,
    "start_time": "2021-07-23T17:42:41.359Z"
   },
   {
    "duration": 41731,
    "start_time": "2021-07-23T17:42:55.065Z"
   },
   {
    "duration": 183092,
    "start_time": "2021-07-23T17:43:36.799Z"
   },
   {
    "duration": 63,
    "start_time": "2021-07-23T17:46:39.893Z"
   },
   {
    "duration": 230198,
    "start_time": "2021-07-23T17:46:39.958Z"
   },
   {
    "duration": 156311,
    "start_time": "2021-07-23T17:50:30.158Z"
   },
   {
    "duration": 284609,
    "start_time": "2021-07-23T17:53:06.472Z"
   },
   {
    "duration": 72,
    "start_time": "2021-07-23T17:57:51.083Z"
   },
   {
    "duration": 90744,
    "start_time": "2021-07-23T17:57:51.159Z"
   },
   {
    "duration": 378,
    "start_time": "2021-07-23T17:59:21.906Z"
   },
   {
    "duration": 8,
    "start_time": "2021-07-23T17:59:22.287Z"
   },
   {
    "duration": 8852,
    "start_time": "2021-07-23T17:59:22.298Z"
   },
   {
    "duration": 33932,
    "start_time": "2021-07-23T17:59:31.153Z"
   },
   {
    "duration": 1813,
    "start_time": "2021-07-23T18:06:50.035Z"
   },
   {
    "duration": 1160,
    "start_time": "2021-07-23T18:06:51.850Z"
   },
   {
    "duration": 22,
    "start_time": "2021-07-23T18:06:53.013Z"
   },
   {
    "duration": 191,
    "start_time": "2021-07-23T18:06:53.038Z"
   },
   {
    "duration": 7,
    "start_time": "2021-07-23T18:06:53.231Z"
   },
   {
    "duration": 17,
    "start_time": "2021-07-23T18:06:53.240Z"
   },
   {
    "duration": 2532,
    "start_time": "2021-07-23T18:06:53.260Z"
   },
   {
    "duration": 439,
    "start_time": "2021-07-23T18:06:55.796Z"
   },
   {
    "duration": 129,
    "start_time": "2021-07-23T18:06:56.238Z"
   },
   {
    "duration": 553,
    "start_time": "2021-07-23T18:06:56.371Z"
   },
   {
    "duration": 397,
    "start_time": "2021-07-23T18:06:56.926Z"
   },
   {
    "duration": 394,
    "start_time": "2021-07-23T18:06:57.326Z"
   },
   {
    "duration": 56,
    "start_time": "2021-07-23T18:06:57.723Z"
   },
   {
    "duration": 47,
    "start_time": "2021-07-23T18:06:57.781Z"
   },
   {
    "duration": 215,
    "start_time": "2021-07-23T18:06:57.830Z"
   },
   {
    "duration": 32,
    "start_time": "2021-07-23T18:06:58.055Z"
   },
   {
    "duration": 31,
    "start_time": "2021-07-23T18:06:58.089Z"
   },
   {
    "duration": 71,
    "start_time": "2021-07-23T18:06:58.122Z"
   },
   {
    "duration": 39,
    "start_time": "2021-07-23T18:06:58.196Z"
   },
   {
    "duration": 34,
    "start_time": "2021-07-23T18:06:58.253Z"
   },
   {
    "duration": 30,
    "start_time": "2021-07-23T18:06:58.290Z"
   },
   {
    "duration": 65,
    "start_time": "2021-07-23T18:06:58.322Z"
   },
   {
    "duration": 2223,
    "start_time": "2021-07-23T18:06:58.392Z"
   },
   {
    "duration": 281,
    "start_time": "2021-07-23T18:07:00.618Z"
   },
   {
    "duration": 10,
    "start_time": "2021-07-23T18:07:00.901Z"
   },
   {
    "duration": 18,
    "start_time": "2021-07-23T18:07:00.914Z"
   },
   {
    "duration": 338,
    "start_time": "2021-07-23T18:07:00.934Z"
   },
   {
    "duration": 495,
    "start_time": "2021-07-23T18:07:01.276Z"
   },
   {
    "duration": 13,
    "start_time": "2021-07-23T18:07:01.774Z"
   },
   {
    "duration": 77,
    "start_time": "2021-07-23T18:07:01.789Z"
   },
   {
    "duration": 108,
    "start_time": "2021-07-23T18:07:01.869Z"
   },
   {
    "duration": 121,
    "start_time": "2021-07-23T18:07:01.980Z"
   },
   {
    "duration": 13,
    "start_time": "2021-07-23T18:07:02.103Z"
   },
   {
    "duration": 22,
    "start_time": "2021-07-23T18:07:02.118Z"
   },
   {
    "duration": 74,
    "start_time": "2021-07-23T18:07:02.142Z"
   },
   {
    "duration": 36,
    "start_time": "2021-07-23T18:07:02.218Z"
   },
   {
    "duration": 14,
    "start_time": "2021-07-23T18:07:02.258Z"
   },
   {
    "duration": 88,
    "start_time": "2021-07-23T18:07:02.275Z"
   },
   {
    "duration": 437,
    "start_time": "2021-07-23T18:07:02.366Z"
   },
   {
    "duration": 339,
    "start_time": "2021-07-23T18:07:02.806Z"
   },
   {
    "duration": 22,
    "start_time": "2021-07-23T18:07:03.155Z"
   },
   {
    "duration": 15,
    "start_time": "2021-07-23T18:07:03.179Z"
   },
   {
    "duration": 104,
    "start_time": "2021-07-23T18:07:03.197Z"
   },
   {
    "duration": 418,
    "start_time": "2021-07-23T18:07:03.303Z"
   },
   {
    "duration": 11,
    "start_time": "2021-07-23T18:07:03.723Z"
   },
   {
    "duration": 37,
    "start_time": "2021-07-23T18:07:03.737Z"
   },
   {
    "duration": 405,
    "start_time": "2021-07-23T18:07:03.776Z"
   },
   {
    "duration": 11,
    "start_time": "2021-07-23T18:07:04.183Z"
   },
   {
    "duration": 80,
    "start_time": "2021-07-23T18:07:04.196Z"
   },
   {
    "duration": 21,
    "start_time": "2021-07-23T18:07:04.279Z"
   },
   {
    "duration": 19,
    "start_time": "2021-07-23T18:07:04.303Z"
   },
   {
    "duration": 4,
    "start_time": "2021-07-23T18:07:04.354Z"
   },
   {
    "duration": 18,
    "start_time": "2021-07-23T18:07:04.361Z"
   },
   {
    "duration": 556,
    "start_time": "2021-07-23T18:07:04.381Z"
   },
   {
    "duration": 96,
    "start_time": "2021-07-23T18:07:04.939Z"
   },
   {
    "duration": 327,
    "start_time": "2021-07-23T18:07:05.038Z"
   },
   {
    "duration": 10097,
    "start_time": "2021-07-23T18:07:05.369Z"
   },
   {
    "duration": 38,
    "start_time": "2021-07-23T18:07:15.468Z"
   },
   {
    "duration": 370,
    "start_time": "2021-07-23T18:07:15.509Z"
   },
   {
    "duration": 61695,
    "start_time": "2021-07-23T18:07:15.881Z"
   },
   {
    "duration": 36,
    "start_time": "2021-07-23T18:08:17.656Z"
   },
   {
    "duration": 74,
    "start_time": "2021-07-23T18:08:17.695Z"
   },
   {
    "duration": 97,
    "start_time": "2021-07-23T18:08:17.772Z"
   },
   {
    "duration": 12194,
    "start_time": "2021-07-23T18:08:17.872Z"
   },
   {
    "duration": 116,
    "start_time": "2021-07-23T18:08:30.069Z"
   },
   {
    "duration": 15,
    "start_time": "2021-07-23T18:08:30.187Z"
   },
   {
    "duration": 14,
    "start_time": "2021-07-23T18:08:30.204Z"
   },
   {
    "duration": 5,
    "start_time": "2021-07-23T18:08:30.260Z"
   },
   {
    "duration": 22,
    "start_time": "2021-07-23T18:08:30.268Z"
   },
   {
    "duration": 12495,
    "start_time": "2021-07-23T18:08:30.293Z"
   },
   {
    "duration": 52776,
    "start_time": "2021-07-23T18:08:42.790Z"
   },
   {
    "duration": 163791,
    "start_time": "2021-07-23T18:09:35.569Z"
   },
   {
    "duration": 13,
    "start_time": "2021-07-23T18:12:19.363Z"
   },
   {
    "duration": 236992,
    "start_time": "2021-07-23T18:12:19.378Z"
   },
   {
    "duration": 143401,
    "start_time": "2021-07-23T18:16:16.373Z"
   },
   {
    "duration": 253624,
    "start_time": "2021-07-23T18:18:39.854Z"
   },
   {
    "duration": 4,
    "start_time": "2021-07-23T18:22:53.481Z"
   },
   {
    "duration": 35287,
    "start_time": "2021-07-23T18:22:53.487Z"
   },
   {
    "duration": 391,
    "start_time": "2021-07-23T18:23:28.777Z"
   },
   {
    "duration": 7,
    "start_time": "2021-07-23T18:23:29.170Z"
   },
   {
    "duration": 9059,
    "start_time": "2021-07-23T18:23:29.180Z"
   },
   {
    "duration": 35727,
    "start_time": "2021-07-23T18:23:38.241Z"
   },
   {
    "duration": 410952,
    "start_time": "2021-07-23T18:24:13.971Z"
   },
   {
    "duration": 10,
    "start_time": "2021-07-23T18:31:04.926Z"
   },
   {
    "duration": 51,
    "start_time": "2021-07-23T18:31:04.940Z"
   },
   {
    "duration": 1801,
    "start_time": "2021-08-09T17:21:03.611Z"
   },
   {
    "duration": 1090,
    "start_time": "2021-08-09T17:21:05.415Z"
   },
   {
    "duration": 22,
    "start_time": "2021-08-09T17:21:06.508Z"
   },
   {
    "duration": 178,
    "start_time": "2021-08-09T17:21:06.533Z"
   },
   {
    "duration": 6,
    "start_time": "2021-08-09T17:21:06.713Z"
   },
   {
    "duration": 7,
    "start_time": "2021-08-09T17:21:06.721Z"
   },
   {
    "duration": 2260,
    "start_time": "2021-08-09T17:21:06.731Z"
   },
   {
    "duration": 400,
    "start_time": "2021-08-09T17:21:08.994Z"
   },
   {
    "duration": 104,
    "start_time": "2021-08-09T17:21:09.397Z"
   },
   {
    "duration": 598,
    "start_time": "2021-08-09T17:21:09.504Z"
   },
   {
    "duration": 377,
    "start_time": "2021-08-09T17:21:10.104Z"
   },
   {
    "duration": 387,
    "start_time": "2021-08-09T17:21:10.484Z"
   },
   {
    "duration": 47,
    "start_time": "2021-08-09T17:21:10.873Z"
   },
   {
    "duration": 60,
    "start_time": "2021-08-09T17:21:10.922Z"
   },
   {
    "duration": 180,
    "start_time": "2021-08-09T17:21:10.985Z"
   },
   {
    "duration": 24,
    "start_time": "2021-08-09T17:21:11.167Z"
   },
   {
    "duration": 28,
    "start_time": "2021-08-09T17:21:11.193Z"
   },
   {
    "duration": 61,
    "start_time": "2021-08-09T17:21:11.224Z"
   },
   {
    "duration": 35,
    "start_time": "2021-08-09T17:21:11.287Z"
   },
   {
    "duration": 45,
    "start_time": "2021-08-09T17:21:11.325Z"
   },
   {
    "duration": 27,
    "start_time": "2021-08-09T17:21:11.373Z"
   },
   {
    "duration": 59,
    "start_time": "2021-08-09T17:21:11.402Z"
   },
   {
    "duration": 1740,
    "start_time": "2021-08-09T17:21:11.467Z"
   },
   {
    "duration": 250,
    "start_time": "2021-08-09T17:21:13.210Z"
   },
   {
    "duration": 8,
    "start_time": "2021-08-09T17:21:13.463Z"
   },
   {
    "duration": 17,
    "start_time": "2021-08-09T17:21:13.474Z"
   },
   {
    "duration": 289,
    "start_time": "2021-08-09T17:21:13.494Z"
   },
   {
    "duration": 364,
    "start_time": "2021-08-09T17:21:13.785Z"
   },
   {
    "duration": 18,
    "start_time": "2021-08-09T17:21:14.155Z"
   },
   {
    "duration": 51,
    "start_time": "2021-08-09T17:21:14.175Z"
   },
   {
    "duration": 151,
    "start_time": "2021-08-09T17:21:14.228Z"
   },
   {
    "duration": 119,
    "start_time": "2021-08-09T17:21:14.383Z"
   },
   {
    "duration": 14,
    "start_time": "2021-08-09T17:21:14.505Z"
   },
   {
    "duration": 9,
    "start_time": "2021-08-09T17:21:14.522Z"
   },
   {
    "duration": 60,
    "start_time": "2021-08-09T17:21:14.556Z"
   },
   {
    "duration": 38,
    "start_time": "2021-08-09T17:21:14.619Z"
   },
   {
    "duration": 9,
    "start_time": "2021-08-09T17:21:14.659Z"
   },
   {
    "duration": 50,
    "start_time": "2021-08-09T17:21:14.670Z"
   },
   {
    "duration": 419,
    "start_time": "2021-08-09T17:21:14.723Z"
   },
   {
    "duration": 308,
    "start_time": "2021-08-09T17:21:15.144Z"
   },
   {
    "duration": 19,
    "start_time": "2021-08-09T17:21:15.455Z"
   },
   {
    "duration": 16,
    "start_time": "2021-08-09T17:21:15.477Z"
   },
   {
    "duration": 105,
    "start_time": "2021-08-09T17:21:15.496Z"
   },
   {
    "duration": 406,
    "start_time": "2021-08-09T17:21:15.604Z"
   },
   {
    "duration": 14,
    "start_time": "2021-08-09T17:21:16.013Z"
   },
   {
    "duration": 44,
    "start_time": "2021-08-09T17:21:16.030Z"
   },
   {
    "duration": 402,
    "start_time": "2021-08-09T17:21:16.076Z"
   },
   {
    "duration": 11,
    "start_time": "2021-08-09T17:21:16.481Z"
   },
   {
    "duration": 78,
    "start_time": "2021-08-09T17:21:16.494Z"
   },
   {
    "duration": 24,
    "start_time": "2021-08-09T17:21:16.575Z"
   },
   {
    "duration": 20,
    "start_time": "2021-08-09T17:21:16.602Z"
   },
   {
    "duration": 31,
    "start_time": "2021-08-09T17:21:16.625Z"
   },
   {
    "duration": 8,
    "start_time": "2021-08-09T17:21:16.660Z"
   },
   {
    "duration": 530,
    "start_time": "2021-08-09T17:21:16.671Z"
   },
   {
    "duration": 101,
    "start_time": "2021-08-09T17:21:17.204Z"
   },
   {
    "duration": 294,
    "start_time": "2021-08-09T17:21:17.308Z"
   },
   {
    "duration": 10111,
    "start_time": "2021-08-09T17:21:17.604Z"
   },
   {
    "duration": 30,
    "start_time": "2021-08-09T17:21:27.717Z"
   },
   {
    "duration": 319,
    "start_time": "2021-08-09T17:21:27.750Z"
   },
   {
    "duration": 63492,
    "start_time": "2021-08-09T17:21:28.071Z"
   },
   {
    "duration": 115,
    "start_time": "2021-08-09T17:22:31.568Z"
   },
   {
    "duration": 13,
    "start_time": "2021-08-09T17:22:31.686Z"
   },
   {
    "duration": 118,
    "start_time": "2021-08-09T17:22:31.702Z"
   },
   {
    "duration": 18733,
    "start_time": "2021-08-09T17:22:31.823Z"
   },
   {
    "duration": 31,
    "start_time": "2021-08-09T17:22:50.558Z"
   },
   {
    "duration": 14,
    "start_time": "2021-08-09T17:22:50.591Z"
   },
   {
    "duration": 49,
    "start_time": "2021-08-09T17:22:50.607Z"
   },
   {
    "duration": 7,
    "start_time": "2021-08-09T17:22:50.665Z"
   },
   {
    "duration": 10,
    "start_time": "2021-08-09T17:22:50.675Z"
   },
   {
    "duration": 65998,
    "start_time": "2021-08-09T17:22:50.687Z"
   },
   {
    "duration": 30672,
    "start_time": "2021-08-09T17:23:56.688Z"
   },
   {
    "duration": 107393,
    "start_time": "2021-08-09T17:24:27.363Z"
   },
   {
    "duration": 13,
    "start_time": "2021-08-09T17:26:14.759Z"
   },
   {
    "duration": 118186,
    "start_time": "2021-08-09T17:26:14.774Z"
   },
   {
    "duration": 150408,
    "start_time": "2021-08-09T17:28:12.962Z"
   },
   {
    "duration": 239898,
    "start_time": "2021-08-09T17:30:43.372Z"
   },
   {
    "duration": 3,
    "start_time": "2021-08-09T17:34:43.273Z"
   },
   {
    "duration": 9386,
    "start_time": "2021-08-09T17:34:43.279Z"
   },
   {
    "duration": 389,
    "start_time": "2021-08-09T17:34:52.667Z"
   },
   {
    "duration": 5,
    "start_time": "2021-08-09T17:34:53.059Z"
   },
   {
    "duration": 10782,
    "start_time": "2021-08-09T17:34:53.067Z"
   },
   {
    "duration": 35465,
    "start_time": "2021-08-09T17:35:03.851Z"
   },
   {
    "duration": 400460,
    "start_time": "2021-08-09T17:35:39.318Z"
   },
   {
    "duration": 7,
    "start_time": "2021-08-09T17:42:19.781Z"
   },
   {
    "duration": 66,
    "start_time": "2021-08-09T17:42:19.791Z"
   }
  ],
  "kernelspec": {
   "display_name": "Python 3",
   "language": "python",
   "name": "python3"
  },
  "language_info": {
   "codemirror_mode": {
    "name": "ipython",
    "version": 3
   },
   "file_extension": ".py",
   "mimetype": "text/x-python",
   "name": "python",
   "nbconvert_exporter": "python",
   "pygments_lexer": "ipython3",
   "version": "3.7.8"
  },
  "toc": {
   "base_numbering": 1,
   "nav_menu": {},
   "number_sections": true,
   "sideBar": true,
   "skip_h1_title": true,
   "title_cell": "Table of Contents",
   "title_sidebar": "Contents",
   "toc_cell": false,
   "toc_position": {
    "height": "calc(100% - 180px)",
    "left": "10px",
    "top": "150px",
    "width": "246px"
   },
   "toc_section_display": true,
   "toc_window_display": true
  }
 },
 "nbformat": 4,
 "nbformat_minor": 2
}
