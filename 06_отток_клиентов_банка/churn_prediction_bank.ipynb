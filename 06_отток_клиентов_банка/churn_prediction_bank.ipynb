{
 "cells": [
  {
   "cell_type": "markdown",
   "metadata": {
    "toc": true
   },
   "source": [
    "<h1>Содержание<span class=\"tocSkip\"></span></h1>\n",
    "<div class=\"toc\"><ul class=\"toc-item\"><li><span><a href=\"#Подготовка-данных\" data-toc-modified-id=\"Подготовка-данных-1\"><span class=\"toc-item-num\">1&nbsp;&nbsp;</span>Подготовка данных</a></span><ul class=\"toc-item\"><li><span><a href=\"#Пропуски\" data-toc-modified-id=\"Пропуски-1.1\"><span class=\"toc-item-num\">1.1&nbsp;&nbsp;</span>Пропуски</a></span></li><li><span><a href=\"#Нечисловой-тип-данных\" data-toc-modified-id=\"Нечисловой-тип-данных-1.2\"><span class=\"toc-item-num\">1.2&nbsp;&nbsp;</span>Нечисловой тип данных</a></span></li><li><span><a href=\"#Разбивка-данных-на-train/valid/test\" data-toc-modified-id=\"Разбивка-данных-на-train/valid/test-1.3\"><span class=\"toc-item-num\">1.3&nbsp;&nbsp;</span>Разбивка данных на train/valid/test</a></span></li><li><span><a href=\"#Масштабирование-данных\" data-toc-modified-id=\"Масштабирование-данных-1.4\"><span class=\"toc-item-num\">1.4&nbsp;&nbsp;</span>Масштабирование данных</a></span></li><li><span><a href=\"#Вывод\" data-toc-modified-id=\"Вывод-1.5\"><span class=\"toc-item-num\">1.5&nbsp;&nbsp;</span>Вывод</a></span></li></ul></li><li><span><a href=\"#Исследование-задачи\" data-toc-modified-id=\"Исследование-задачи-2\"><span class=\"toc-item-num\">2&nbsp;&nbsp;</span>Исследование задачи</a></span></li><li><span><a href=\"#Борьба-с-дисбалансом\" data-toc-modified-id=\"Борьба-с-дисбалансом-3\"><span class=\"toc-item-num\">3&nbsp;&nbsp;</span>Борьба с дисбалансом</a></span><ul class=\"toc-item\"><li><span><a href=\"#Взвешивание-классов\" data-toc-modified-id=\"Взвешивание-классов-3.1\"><span class=\"toc-item-num\">3.1&nbsp;&nbsp;</span>Взвешивание классов</a></span></li><li><span><a href=\"#Upsampling\" data-toc-modified-id=\"Upsampling-3.2\"><span class=\"toc-item-num\">3.2&nbsp;&nbsp;</span>Upsampling</a></span></li><li><span><a href=\"#Downsampling\" data-toc-modified-id=\"Downsampling-3.3\"><span class=\"toc-item-num\">3.3&nbsp;&nbsp;</span>Downsampling</a></span></li><li><span><a href=\"#Порог-классификации\" data-toc-modified-id=\"Порог-классификации-3.4\"><span class=\"toc-item-num\">3.4&nbsp;&nbsp;</span>Порог классификации</a></span></li><li><span><a href=\"#Выводы\" data-toc-modified-id=\"Выводы-3.5\"><span class=\"toc-item-num\">3.5&nbsp;&nbsp;</span>Выводы</a></span></li></ul></li><li><span><a href=\"#Поиск-лучшей-модели\" data-toc-modified-id=\"Поиск-лучшей-модели-4\"><span class=\"toc-item-num\">4&nbsp;&nbsp;</span>Поиск лучшей модели</a></span><ul class=\"toc-item\"><li><span><a href=\"#One-Hot-Encoding\" data-toc-modified-id=\"One-Hot-Encoding-4.1\"><span class=\"toc-item-num\">4.1&nbsp;&nbsp;</span>One Hot Encoding</a></span></li><li><span><a href=\"#Ordinal-Encoding\" data-toc-modified-id=\"Ordinal-Encoding-4.2\"><span class=\"toc-item-num\">4.2&nbsp;&nbsp;</span>Ordinal Encoding</a></span></li><li><span><a href=\"#ROC-кривые\" data-toc-modified-id=\"ROC-кривые-4.3\"><span class=\"toc-item-num\">4.3&nbsp;&nbsp;</span>ROC-кривые</a></span></li><li><span><a href=\"#Значимость-признака-tenure\" data-toc-modified-id=\"Значимость-признака-tenure-4.4\"><span class=\"toc-item-num\">4.4&nbsp;&nbsp;</span>Значимость признака <code>tenure</code></a></span></li><li><span><a href=\"#Обучение-на-train-+-valid\" data-toc-modified-id=\"Обучение-на-train-+-valid-4.5\"><span class=\"toc-item-num\">4.5&nbsp;&nbsp;</span>Обучение на train + valid</a></span></li></ul></li><li><span><a href=\"#Тестирование-модели\" data-toc-modified-id=\"Тестирование-модели-5\"><span class=\"toc-item-num\">5&nbsp;&nbsp;</span>Тестирование модели</a></span></li></ul></div>"
   ]
  },
  {
   "cell_type": "markdown",
   "metadata": {},
   "source": [
    "# Отток клиентов"
   ]
  },
  {
   "cell_type": "markdown",
   "metadata": {},
   "source": [
    "Нам доступны исторические данные о поведении клиентов и расторжении договоров с банком. \n",
    "Попробуем спрогнозировать, уйдёт клиент из банка в ближайшее время или нет. \n",
    "\n",
    "**Описание данных** \n",
    "\n",
    "Признаки:\n",
    "* RowNumber — индекс строки в данных\n",
    "* CustomerId — уникальный идентификатор клиента\n",
    "* Surname — фамилия\n",
    "* CreditScore — кредитный рейтинг\n",
    "* Geography — страна проживания\n",
    "* Gender — пол\n",
    "* Age — возраст\n",
    "* Tenure — сколько лет человек является клиентом банка\n",
    "* Balance — баланс на счёте\n",
    "* NumOfProducts — количество продуктов банка, используемых клиентом\n",
    "* HasCrCard — наличие кредитной карты\n",
    "* IsActiveMember — активность клиента\n",
    "* EstimatedSalary — предполагаемая зарплата\n",
    "\n",
    "Целевой признак:\n",
    "* Exited — факт ухода клиента\n",
    "\n",
    "Попробуем построить модель с предельно большим значением *F1*-меры (ориентируемся на значение 0.59). Попробуем разные модели (дерево решений, случайный лес, логистическую регрессию) и разные способы борьбы с дисбалансом классов. Дополнительно будем отслежвать значение *AUC-ROC*.\n",
    "\n"
   ]
  },
  {
   "cell_type": "code",
   "execution_count": 1,
   "metadata": {},
   "outputs": [],
   "source": [
    "import pandas as pd\n",
    "import numpy as np\n",
    "from IPython.display import display\n",
    "import matplotlib.pyplot as plt\n",
    "\n",
    "from tqdm.auto import tqdm\n",
    "\n",
    "from sklearn.model_selection import train_test_split \n",
    "from sklearn.tree import DecisionTreeClassifier \n",
    "from sklearn.ensemble import RandomForestClassifier \n",
    "from sklearn.linear_model import LogisticRegression\n",
    "\n",
    "from sklearn.preprocessing import StandardScaler\n",
    "from sklearn.preprocessing import OrdinalEncoder\n",
    "from sklearn.dummy import DummyClassifier\n",
    "from sklearn.utils import shuffle\n",
    "\n",
    "from sklearn.metrics import f1_score\n",
    "from sklearn.metrics import roc_curve, roc_auc_score\n",
    "\n",
    "pd.options.mode.chained_assignment=None\n",
    "\n",
    "import warnings\n",
    "warnings.simplefilter(action='ignore', category=FutureWarning)"
   ]
  },
  {
   "cell_type": "markdown",
   "metadata": {},
   "source": [
    "## Подготовка данных"
   ]
  },
  {
   "cell_type": "code",
   "execution_count": 2,
   "metadata": {},
   "outputs": [],
   "source": [
    "df = pd.read_csv('/datasets/Churn.csv')"
   ]
  },
  {
   "cell_type": "code",
   "execution_count": 3,
   "metadata": {},
   "outputs": [
    {
     "name": "stdout",
     "output_type": "stream",
     "text": [
      "<class 'pandas.core.frame.DataFrame'>\n",
      "RangeIndex: 10000 entries, 0 to 9999\n",
      "Data columns (total 14 columns):\n",
      "RowNumber          10000 non-null int64\n",
      "CustomerId         10000 non-null int64\n",
      "Surname            10000 non-null object\n",
      "CreditScore        10000 non-null int64\n",
      "Geography          10000 non-null object\n",
      "Gender             10000 non-null object\n",
      "Age                10000 non-null int64\n",
      "Tenure             9091 non-null float64\n",
      "Balance            10000 non-null float64\n",
      "NumOfProducts      10000 non-null int64\n",
      "HasCrCard          10000 non-null int64\n",
      "IsActiveMember     10000 non-null int64\n",
      "EstimatedSalary    10000 non-null float64\n",
      "Exited             10000 non-null int64\n",
      "dtypes: float64(3), int64(8), object(3)\n",
      "memory usage: 1.1+ MB\n"
     ]
    },
    {
     "data": {
      "text/html": [
       "<div>\n",
       "<style scoped>\n",
       "    .dataframe tbody tr th:only-of-type {\n",
       "        vertical-align: middle;\n",
       "    }\n",
       "\n",
       "    .dataframe tbody tr th {\n",
       "        vertical-align: top;\n",
       "    }\n",
       "\n",
       "    .dataframe thead th {\n",
       "        text-align: right;\n",
       "    }\n",
       "</style>\n",
       "<table border=\"1\" class=\"dataframe\">\n",
       "  <thead>\n",
       "    <tr style=\"text-align: right;\">\n",
       "      <th></th>\n",
       "      <th>RowNumber</th>\n",
       "      <th>CustomerId</th>\n",
       "      <th>Surname</th>\n",
       "      <th>CreditScore</th>\n",
       "      <th>Geography</th>\n",
       "      <th>Gender</th>\n",
       "      <th>Age</th>\n",
       "      <th>Tenure</th>\n",
       "      <th>Balance</th>\n",
       "      <th>NumOfProducts</th>\n",
       "      <th>HasCrCard</th>\n",
       "      <th>IsActiveMember</th>\n",
       "      <th>EstimatedSalary</th>\n",
       "      <th>Exited</th>\n",
       "    </tr>\n",
       "  </thead>\n",
       "  <tbody>\n",
       "    <tr>\n",
       "      <td>0</td>\n",
       "      <td>1</td>\n",
       "      <td>15634602</td>\n",
       "      <td>Hargrave</td>\n",
       "      <td>619</td>\n",
       "      <td>France</td>\n",
       "      <td>Female</td>\n",
       "      <td>42</td>\n",
       "      <td>2.0</td>\n",
       "      <td>0.00</td>\n",
       "      <td>1</td>\n",
       "      <td>1</td>\n",
       "      <td>1</td>\n",
       "      <td>101348.88</td>\n",
       "      <td>1</td>\n",
       "    </tr>\n",
       "    <tr>\n",
       "      <td>1</td>\n",
       "      <td>2</td>\n",
       "      <td>15647311</td>\n",
       "      <td>Hill</td>\n",
       "      <td>608</td>\n",
       "      <td>Spain</td>\n",
       "      <td>Female</td>\n",
       "      <td>41</td>\n",
       "      <td>1.0</td>\n",
       "      <td>83807.86</td>\n",
       "      <td>1</td>\n",
       "      <td>0</td>\n",
       "      <td>1</td>\n",
       "      <td>112542.58</td>\n",
       "      <td>0</td>\n",
       "    </tr>\n",
       "    <tr>\n",
       "      <td>2</td>\n",
       "      <td>3</td>\n",
       "      <td>15619304</td>\n",
       "      <td>Onio</td>\n",
       "      <td>502</td>\n",
       "      <td>France</td>\n",
       "      <td>Female</td>\n",
       "      <td>42</td>\n",
       "      <td>8.0</td>\n",
       "      <td>159660.80</td>\n",
       "      <td>3</td>\n",
       "      <td>1</td>\n",
       "      <td>0</td>\n",
       "      <td>113931.57</td>\n",
       "      <td>1</td>\n",
       "    </tr>\n",
       "    <tr>\n",
       "      <td>3</td>\n",
       "      <td>4</td>\n",
       "      <td>15701354</td>\n",
       "      <td>Boni</td>\n",
       "      <td>699</td>\n",
       "      <td>France</td>\n",
       "      <td>Female</td>\n",
       "      <td>39</td>\n",
       "      <td>1.0</td>\n",
       "      <td>0.00</td>\n",
       "      <td>2</td>\n",
       "      <td>0</td>\n",
       "      <td>0</td>\n",
       "      <td>93826.63</td>\n",
       "      <td>0</td>\n",
       "    </tr>\n",
       "    <tr>\n",
       "      <td>4</td>\n",
       "      <td>5</td>\n",
       "      <td>15737888</td>\n",
       "      <td>Mitchell</td>\n",
       "      <td>850</td>\n",
       "      <td>Spain</td>\n",
       "      <td>Female</td>\n",
       "      <td>43</td>\n",
       "      <td>2.0</td>\n",
       "      <td>125510.82</td>\n",
       "      <td>1</td>\n",
       "      <td>1</td>\n",
       "      <td>1</td>\n",
       "      <td>79084.10</td>\n",
       "      <td>0</td>\n",
       "    </tr>\n",
       "  </tbody>\n",
       "</table>\n",
       "</div>"
      ],
      "text/plain": [
       "   RowNumber  CustomerId   Surname  CreditScore Geography  Gender  Age  \\\n",
       "0          1    15634602  Hargrave          619    France  Female   42   \n",
       "1          2    15647311      Hill          608     Spain  Female   41   \n",
       "2          3    15619304      Onio          502    France  Female   42   \n",
       "3          4    15701354      Boni          699    France  Female   39   \n",
       "4          5    15737888  Mitchell          850     Spain  Female   43   \n",
       "\n",
       "   Tenure    Balance  NumOfProducts  HasCrCard  IsActiveMember  \\\n",
       "0     2.0       0.00              1          1               1   \n",
       "1     1.0   83807.86              1          0               1   \n",
       "2     8.0  159660.80              3          1               0   \n",
       "3     1.0       0.00              2          0               0   \n",
       "4     2.0  125510.82              1          1               1   \n",
       "\n",
       "   EstimatedSalary  Exited  \n",
       "0        101348.88       1  \n",
       "1        112542.58       0  \n",
       "2        113931.57       1  \n",
       "3         93826.63       0  \n",
       "4         79084.10       0  "
      ]
     },
     "execution_count": 3,
     "metadata": {},
     "output_type": "execute_result"
    }
   ],
   "source": [
    "df.info()\n",
    "df.head()"
   ]
  },
  {
   "cell_type": "markdown",
   "metadata": {},
   "source": [
    "Видим три проблемы:\n",
    "1. Пропуски в `Tenure`\n",
    "2. Нечисловой тип данных в некоторых столбцах\n",
    "3. Разный маштаб у признаков\n",
    "\n",
    "Перед тем, как разбираться с описанными выше проблемами, удалим ненужные столбцы `RowNumber` и `CustomerId`, проверим нет ли дубликатов."
   ]
  },
  {
   "cell_type": "code",
   "execution_count": 4,
   "metadata": {},
   "outputs": [
    {
     "data": {
      "text/plain": [
       "0"
      ]
     },
     "execution_count": 4,
     "metadata": {},
     "output_type": "execute_result"
    }
   ],
   "source": [
    "df = df.drop(columns=['RowNumber', 'CustomerId'])\n",
    "df.duplicated().sum()"
   ]
  },
  {
   "cell_type": "markdown",
   "metadata": {},
   "source": [
    "Отлично, дубликатов не обнаружено. Также удалим столбец `Surname`, т.к. ожидаем, что фамилия клиента не влияет на вероятность ухода."
   ]
  },
  {
   "cell_type": "code",
   "execution_count": 5,
   "metadata": {},
   "outputs": [],
   "source": [
    "df = df.drop(columns=['Surname'])"
   ]
  },
  {
   "cell_type": "markdown",
   "metadata": {},
   "source": [
    "### Пропуски"
   ]
  },
  {
   "cell_type": "code",
   "execution_count": 6,
   "metadata": {},
   "outputs": [
    {
     "data": {
      "text/plain": [
       "'Доля пропущенных значений в столбце Tenure: 0.0909'"
      ]
     },
     "metadata": {},
     "output_type": "display_data"
    },
    {
     "data": {
      "text/plain": [
       "1.0     952\n",
       "2.0     950\n",
       "8.0     933\n",
       "3.0     928\n",
       "5.0     927\n",
       "7.0     925\n",
       "NaN     909\n",
       "4.0     885\n",
       "9.0     882\n",
       "6.0     881\n",
       "10.0    446\n",
       "0.0     382\n",
       "Name: Tenure, dtype: int64"
      ]
     },
     "execution_count": 6,
     "metadata": {},
     "output_type": "execute_result"
    }
   ],
   "source": [
    "display('Доля пропущенных значений в столбце Tenure: ' + \n",
    "        str(df['Tenure'].isna().sum() / len(df['Tenure'])))\n",
    "df['Tenure'].value_counts(dropna=False)"
   ]
  },
  {
   "cell_type": "code",
   "execution_count": 7,
   "metadata": {},
   "outputs": [
    {
     "data": {
      "text/plain": [
       "<matplotlib.axes._subplots.AxesSubplot at 0x4ccc808>"
      ]
     },
     "execution_count": 7,
     "metadata": {},
     "output_type": "execute_result"
    },
    {
     "data": {
      "image/png": "[encoded data removed]",
      "text/plain": [
       "<Figure size 432x288 with 1 Axes>"
      ]
     },
     "metadata": {
      "needs_background": "light"
     },
     "output_type": "display_data"
    }
   ],
   "source": [
    "df['Tenure'].hist(bins=30)"
   ]
  },
  {
   "cell_type": "code",
   "execution_count": 8,
   "metadata": {
    "scrolled": true
   },
   "outputs": [
    {
     "data": {
      "text/plain": [
       "'CreditScore'"
      ]
     },
     "metadata": {},
     "output_type": "display_data"
    },
    {
     "data": {
      "text/plain": [
       "'Среднее значение на всей выборке: 650.5288'"
      ]
     },
     "metadata": {},
     "output_type": "display_data"
    },
    {
     "data": {
      "text/plain": [
       "'Среднее значение на пропусках: 648.4510451045104'"
      ]
     },
     "metadata": {},
     "output_type": "display_data"
    },
    {
     "data": {
      "text/plain": [
       "'Отклонение (относительное): -0.0031939475938492614'"
      ]
     },
     "metadata": {},
     "output_type": "display_data"
    },
    {
     "data": {
      "text/plain": [
       "'Geography'"
      ]
     },
     "metadata": {},
     "output_type": "display_data"
    },
    {
     "data": {
      "text/plain": [
       "'We got a problem! Не могу посчить среднее для Geography'"
      ]
     },
     "metadata": {},
     "output_type": "display_data"
    },
    {
     "data": {
      "text/plain": [
       "'Gender'"
      ]
     },
     "metadata": {},
     "output_type": "display_data"
    },
    {
     "data": {
      "text/plain": [
       "'We got a problem! Не могу посчить среднее для Gender'"
      ]
     },
     "metadata": {},
     "output_type": "display_data"
    },
    {
     "data": {
      "text/plain": [
       "'Age'"
      ]
     },
     "metadata": {},
     "output_type": "display_data"
    },
    {
     "data": {
      "text/plain": [
       "'Среднее значение на всей выборке: 38.9218'"
      ]
     },
     "metadata": {},
     "output_type": "display_data"
    },
    {
     "data": {
      "text/plain": [
       "'Среднее значение на пропусках: 38.64796479647965'"
      ]
     },
     "metadata": {},
     "output_type": "display_data"
    },
    {
     "data": {
      "text/plain": [
       "'Отклонение (относительное): -0.0070355225996831874'"
      ]
     },
     "metadata": {},
     "output_type": "display_data"
    },
    {
     "data": {
      "text/plain": [
       "'Tenure'"
      ]
     },
     "metadata": {},
     "output_type": "display_data"
    },
    {
     "data": {
      "text/plain": [
       "'Среднее значение на всей выборке: 4.997690023099769'"
      ]
     },
     "metadata": {},
     "output_type": "display_data"
    },
    {
     "data": {
      "text/plain": [
       "'Среднее значение на пропусках: nan'"
      ]
     },
     "metadata": {},
     "output_type": "display_data"
    },
    {
     "data": {
      "text/plain": [
       "'Отклонение (относительное): nan'"
      ]
     },
     "metadata": {},
     "output_type": "display_data"
    },
    {
     "data": {
      "text/plain": [
       "'Balance'"
      ]
     },
     "metadata": {},
     "output_type": "display_data"
    },
    {
     "data": {
      "text/plain": [
       "'Среднее значение на всей выборке: 76485.889288'"
      ]
     },
     "metadata": {},
     "output_type": "display_data"
    },
    {
     "data": {
      "text/plain": [
       "'Среднее значение на пропусках: 76117.34147414743'"
      ]
     },
     "metadata": {},
     "output_type": "display_data"
    },
    {
     "data": {
      "text/plain": [
       "'Отклонение (относительное): -0.004818507273476934'"
      ]
     },
     "metadata": {},
     "output_type": "display_data"
    },
    {
     "data": {
      "text/plain": [
       "'NumOfProducts'"
      ]
     },
     "metadata": {},
     "output_type": "display_data"
    },
    {
     "data": {
      "text/plain": [
       "'Среднее значение на всей выборке: 1.5302'"
      ]
     },
     "metadata": {},
     "output_type": "display_data"
    },
    {
     "data": {
      "text/plain": [
       "'Среднее значение на пропусках: 1.5302530253025302'"
      ]
     },
     "metadata": {},
     "output_type": "display_data"
    },
    {
     "data": {
      "text/plain": [
       "'Отклонение (относительное): 3.465253073464379e-05'"
      ]
     },
     "metadata": {},
     "output_type": "display_data"
    },
    {
     "data": {
      "text/plain": [
       "'HasCrCard'"
      ]
     },
     "metadata": {},
     "output_type": "display_data"
    },
    {
     "data": {
      "text/plain": [
       "'Среднее значение на всей выборке: 0.7055'"
      ]
     },
     "metadata": {},
     "output_type": "display_data"
    },
    {
     "data": {
      "text/plain": [
       "'Среднее значение на пропусках: 0.7106710671067107'"
      ]
     },
     "metadata": {},
     "output_type": "display_data"
    },
    {
     "data": {
      "text/plain": [
       "'Отклонение (относительное): 0.007329648627513351'"
      ]
     },
     "metadata": {},
     "output_type": "display_data"
    },
    {
     "data": {
      "text/plain": [
       "'IsActiveMember'"
      ]
     },
     "metadata": {},
     "output_type": "display_data"
    },
    {
     "data": {
      "text/plain": [
       "'Среднее значение на всей выборке: 0.5151'"
      ]
     },
     "metadata": {},
     "output_type": "display_data"
    },
    {
     "data": {
      "text/plain": [
       "'Среднее значение на пропусках: 0.5104510451045104'"
      ]
     },
     "metadata": {},
     "output_type": "display_data"
    },
    {
     "data": {
      "text/plain": [
       "'Отклонение (относительное): -0.00902534439038935'"
      ]
     },
     "metadata": {},
     "output_type": "display_data"
    },
    {
     "data": {
      "text/plain": [
       "'EstimatedSalary'"
      ]
     },
     "metadata": {},
     "output_type": "display_data"
    },
    {
     "data": {
      "text/plain": [
       "'Среднее значение на всей выборке: 100090.239881'"
      ]
     },
     "metadata": {},
     "output_type": "display_data"
    },
    {
     "data": {
      "text/plain": [
       "'Среднее значение на пропусках: 99180.3893729373'"
      ]
     },
     "metadata": {},
     "output_type": "display_data"
    },
    {
     "data": {
      "text/plain": [
       "'Отклонение (относительное): -0.0090903020029171'"
      ]
     },
     "metadata": {},
     "output_type": "display_data"
    },
    {
     "data": {
      "text/plain": [
       "'Exited'"
      ]
     },
     "metadata": {},
     "output_type": "display_data"
    },
    {
     "data": {
      "text/plain": [
       "'Среднее значение на всей выборке: 0.2037'"
      ]
     },
     "metadata": {},
     "output_type": "display_data"
    },
    {
     "data": {
      "text/plain": [
       "'Среднее значение на пропусках: 0.20132013201320131'"
      ]
     },
     "metadata": {},
     "output_type": "display_data"
    },
    {
     "data": {
      "text/plain": [
       "'Отклонение (относительное): -0.01168320072066116'"
      ]
     },
     "metadata": {},
     "output_type": "display_data"
    }
   ],
   "source": [
    "for column in df.columns:\n",
    "    try:\n",
    "        display(column)\n",
    "        a = df[column].mean()\n",
    "        b = df[df['Tenure'].isna()][column].mean()\n",
    "        display('Среднее значение на всей выборке: ' + str(a))\n",
    "        display('Среднее значение на пропусках: ' + str(b))\n",
    "        display('Отклонение (относительное): ' + str((b - a)/a))\n",
    "    except:\n",
    "        display(f'We got a problem! Не могу посчить среднее для {column}')"
   ]
  },
  {
   "cell_type": "markdown",
   "metadata": {},
   "source": [
    "Видим, что значения потеряны равномерно, отклонения средних значений всех признаков по полной выборке и выборке с пропусками в `Tenure` не превышают 1-2%. Удалим объекты с пропусками. \n",
    "\n",
    "Копию датафрейма с сохраненным столбцом `Tenure` сохраним в датафрейме **df_raw**: после построения модели проверим значимость признака `Tenure`, если она окажется низкой, то можно будет отказаться от этого признака, сохранив 10% данных."
   ]
  },
  {
   "cell_type": "code",
   "execution_count": 9,
   "metadata": {
    "scrolled": false
   },
   "outputs": [
    {
     "name": "stdout",
     "output_type": "stream",
     "text": [
      "<class 'pandas.core.frame.DataFrame'>\n",
      "Int64Index: 9091 entries, 0 to 9998\n",
      "Data columns (total 11 columns):\n",
      "CreditScore        9091 non-null int64\n",
      "Geography          9091 non-null object\n",
      "Gender             9091 non-null object\n",
      "Age                9091 non-null int64\n",
      "Tenure             9091 non-null float64\n",
      "Balance            9091 non-null float64\n",
      "NumOfProducts      9091 non-null int64\n",
      "HasCrCard          9091 non-null int64\n",
      "IsActiveMember     9091 non-null int64\n",
      "EstimatedSalary    9091 non-null float64\n",
      "Exited             9091 non-null int64\n",
      "dtypes: float64(3), int64(6), object(2)\n",
      "memory usage: 852.3+ KB\n"
     ]
    }
   ],
   "source": [
    "df_raw = df.copy()\n",
    "df = df.dropna(subset=['Tenure'])\n",
    "df.info()"
   ]
  },
  {
   "cell_type": "markdown",
   "metadata": {},
   "source": [
    "### Нечисловой тип данных"
   ]
  },
  {
   "cell_type": "markdown",
   "metadata": {},
   "source": [
    "Будем использовать OHE кодирование, так как планируем работать и с логистической регрессией, и с деревом решений, и со случайным лесом."
   ]
  },
  {
   "cell_type": "code",
   "execution_count": 10,
   "metadata": {},
   "outputs": [
    {
     "name": "stdout",
     "output_type": "stream",
     "text": [
      "<class 'pandas.core.frame.DataFrame'>\n",
      "Int64Index: 9091 entries, 0 to 9998\n",
      "Data columns (total 12 columns):\n",
      "CreditScore          9091 non-null int64\n",
      "Age                  9091 non-null int64\n",
      "Tenure               9091 non-null float64\n",
      "Balance              9091 non-null float64\n",
      "NumOfProducts        9091 non-null int64\n",
      "HasCrCard            9091 non-null int64\n",
      "IsActiveMember       9091 non-null int64\n",
      "EstimatedSalary      9091 non-null float64\n",
      "Exited               9091 non-null int64\n",
      "Geography_Germany    9091 non-null uint8\n",
      "Geography_Spain      9091 non-null uint8\n",
      "Gender_Male          9091 non-null uint8\n",
      "dtypes: float64(3), int64(6), uint8(3)\n",
      "memory usage: 736.9 KB\n"
     ]
    }
   ],
   "source": [
    "df = pd.get_dummies(df, drop_first=True)\n",
    "df.info()"
   ]
  },
  {
   "cell_type": "markdown",
   "metadata": {},
   "source": [
    "### Разбивка данных на train/valid/test"
   ]
  },
  {
   "cell_type": "code",
   "execution_count": 11,
   "metadata": {},
   "outputs": [
    {
     "data": {
      "text/plain": [
       "'Размер обучающей/валидационной/тестовой выборок'"
      ]
     },
     "metadata": {},
     "output_type": "display_data"
    },
    {
     "data": {
      "text/plain": [
       "'5454/1818/1819'"
      ]
     },
     "metadata": {},
     "output_type": "display_data"
    }
   ],
   "source": [
    "# подготовим данные\n",
    "# train/valid/test = 60/20/20\n",
    "\n",
    "df_train, df_valid_test = train_test_split(df, test_size=0.4, random_state=42, stratify=df['Exited'])\n",
    "df_valid, df_test = train_test_split(df_valid_test, test_size=0.5, random_state=42, stratify=df_valid_test['Exited'])\n",
    "\n",
    "features_train = df_train.drop(['Exited'], axis=1)\n",
    "target_train = df_train['Exited']\n",
    "features_valid = df_valid.drop(['Exited'], axis=1)\n",
    "target_valid = df_valid['Exited']\n",
    "features_test = df_test.drop(['Exited'], axis=1)\n",
    "target_test = df_test['Exited']\n",
    "\n",
    "assert len(features_train) == len(target_train)\n",
    "assert len(features_valid) == len(target_valid)\n",
    "assert len(features_test) == len(target_test)\n",
    "\n",
    "display('Размер обучающей/валидационной/тестовой выборок')\n",
    "display(str(len(features_train)) + '/' + str(len(features_valid)) + '/' + str(len(features_test)))\n",
    "\n",
    "\n",
    "models_comparision_df = pd.DataFrame(columns=['tree_f1', 'tree_roc_auc', 'forest_f1', 'forest_roc_auc',\n",
    "                                  'regr_f1', 'regr_roc_auc']) # здесь будем хранить метрики разных моделей"
   ]
  },
  {
   "cell_type": "markdown",
   "metadata": {},
   "source": [
    "### Масштабирование данных"
   ]
  },
  {
   "cell_type": "markdown",
   "metadata": {},
   "source": [
    "Посмотрим распределения количественных величин."
   ]
  },
  {
   "cell_type": "code",
   "execution_count": 12,
   "metadata": {},
   "outputs": [
    {
     "data": {
      "text/plain": [
       "Index(['CreditScore', 'Age', 'Tenure', 'Balance', 'NumOfProducts', 'HasCrCard',\n",
       "       'IsActiveMember', 'EstimatedSalary', 'Exited', 'Geography_Germany',\n",
       "       'Geography_Spain', 'Gender_Male'],\n",
       "      dtype='object')"
      ]
     },
     "execution_count": 12,
     "metadata": {},
     "output_type": "execute_result"
    }
   ],
   "source": [
    "df.columns"
   ]
  },
  {
   "cell_type": "code",
   "execution_count": 13,
   "metadata": {
    "scrolled": false
   },
   "outputs": [
    {
     "data": {
      "image/png": "[encoded data removed]",
      "text/plain": [
       "<Figure size 432x288 with 1 Axes>"
      ]
     },
     "metadata": {
      "needs_background": "light"
     },
     "output_type": "display_data"
    },
    {
     "data": {
      "image/png": "[encoded data removed]",
      "text/plain": [
       "<Figure size 432x288 with 1 Axes>"
      ]
     },
     "metadata": {
      "needs_background": "light"
     },
     "output_type": "display_data"
    },
    {
     "data": {
      "image/png": "[encoded data removed]",
      "text/plain": [
       "<Figure size 432x288 with 1 Axes>"
      ]
     },
     "metadata": {
      "needs_background": "light"
     },
     "output_type": "display_data"
    },
    {
     "data": {
      "image/png": "[encoded data removed]",
      "text/plain": [
       "<Figure size 432x288 with 1 Axes>"
      ]
     },
     "metadata": {
      "needs_background": "light"
     },
     "output_type": "display_data"
    },
    {
     "data": {
      "image/png": "[encoded data removed]",
      "text/plain": [
       "<Figure size 432x288 with 1 Axes>"
      ]
     },
     "metadata": {
      "needs_background": "light"
     },
     "output_type": "display_data"
    }
   ],
   "source": [
    "numeric = ['CreditScore', 'Age', 'Tenure', 'Balance', 'EstimatedSalary']\n",
    "not_numeric = ['NumOfProducts', 'HasCrCard', 'IsActiveMember', 'Geography_Germany', \n",
    "               'Geography_Spain', 'Gender_Male']\n",
    "for column in numeric:\n",
    "    df[column].hist()\n",
    "    plt.title(column)\n",
    "    plt.show()"
   ]
  },
  {
   "cell_type": "code",
   "execution_count": 14,
   "metadata": {},
   "outputs": [],
   "source": [
    "scaler = StandardScaler()\n",
    "scaler.fit(features_train[numeric])\n",
    "\n",
    "features_train_with_scaling = features_train.copy()\n",
    "features_train_with_scaling[numeric] = scaler.transform(features_train[numeric])\n",
    "\n",
    "features_valid_with_scaling = features_valid.copy()\n",
    "features_valid_with_scaling[numeric] = scaler.transform(features_valid[numeric])\n",
    "\n",
    "features_test_with_scaling = features_test.copy()\n",
    "features_test_with_scaling[numeric] = scaler.transform(features_test[numeric])"
   ]
  },
  {
   "cell_type": "markdown",
   "metadata": {},
   "source": [
    "### Вывод"
   ]
  },
  {
   "cell_type": "markdown",
   "metadata": {},
   "source": [
    "Работаем с датафреймов из 10000 объектов и 14 признаков (один целевой).\n",
    "1. Удалили признаки, которые, как мы ожидаем не влияют на вероятность ухода клиента: `RowNumber`, `CustomerId` и `Surname`.\n",
    "2. Удалили объекты с пропусками в `Tenure`, проверив, что они распределены равномерно по выборке. При этом сохранили удаленные данныена случай, если его значимость окажется низкой: в этом случае, возможно, окажется выгодней удалить признак и сохранить 10% данных.\n",
    "3. Нечисловые признаки преобразовали с помощью OHE-кодирования.\n",
    "4. Разбили датасет на train/valid/test в отношении 60/20/20.\n",
    "5. Масштабировали количественные признаки."
   ]
  },
  {
   "cell_type": "markdown",
   "metadata": {},
   "source": [
    "## Исследование задачи"
   ]
  },
  {
   "cell_type": "code",
   "execution_count": 15,
   "metadata": {},
   "outputs": [
    {
     "data": {
      "text/plain": [
       "0    0.796062\n",
       "1    0.203938\n",
       "Name: Exited, dtype: float64"
      ]
     },
     "execution_count": 15,
     "metadata": {},
     "output_type": "execute_result"
    }
   ],
   "source": [
    "df['Exited'].value_counts(normalize=True)"
   ]
  },
  {
   "cell_type": "markdown",
   "metadata": {},
   "source": [
    "Видим, что работаем с дисбалансом классов: на положительный класс приходится около 20% выборки, на отрицательный - около 80%. Посмотрим, что сможем получить из стандартных моделей, игнорируя проблему дисбаланса."
   ]
  },
  {
   "cell_type": "code",
   "execution_count": 16,
   "metadata": {},
   "outputs": [],
   "source": [
    "def check_models(features_train=features_train_with_scaling, \n",
    "                 features_valid=features_valid_with_scaling, target_train=target_train, \n",
    "                 target_valid=target_valid, class_weight=None, label=''):\n",
    "    \"\"\"\n",
    "    input: \n",
    "    features_train=features_train_with_scaling, features_valid=features_valid_with_scaling,\n",
    "    target_train=target_train, target_valid=target_valid - DataFrames\n",
    "    class_weight=None - class_weight value for DecisionTreeClassifier, RandomForestClassifier, LogisticRegression\n",
    "    label - str - index name for output df \n",
    "    \n",
    "    output: df (1 string, 6 columns) with float numbers - f1_score and roc-auc-score for default \n",
    "    DecisionTreeClassifier, RandomForestClassifier, LogisticRegression calculated on valid frame\n",
    "    \"\"\"\n",
    "    \n",
    "    output_to_df = []\n",
    "    for ml_model in [DecisionTreeClassifier, RandomForestClassifier, LogisticRegression]:\n",
    "        model = ml_model(random_state=42, class_weight=class_weight)\n",
    "        model.fit(features_train, target_train)\n",
    "        predicted_valid = model.predict(features_valid)\n",
    "        probabilities_valid = model.predict_proba(features_valid)\n",
    "        probabilities_one_valid = probabilities_valid[:, 1]\n",
    "        \n",
    "        output_to_df.append(f1_score(target_valid, predicted_valid))\n",
    "        output_to_df.append(roc_auc_score(target_valid, probabilities_one_valid))\n",
    "    \n",
    "    output_df = pd.DataFrame(output_to_df).transpose()\n",
    "    output_df.columns = ['tree_f1', 'tree_roc_auc', 'forest_f1', 'forest_roc_auc',\n",
    "                                  'regr_f1', 'regr_roc_auc']\n",
    "    output_df.index =[label]\n",
    "    return output_df"
   ]
  },
  {
   "cell_type": "code",
   "execution_count": 17,
   "metadata": {},
   "outputs": [
    {
     "data": {
      "text/html": [
       "<div>\n",
       "<style scoped>\n",
       "    .dataframe tbody tr th:only-of-type {\n",
       "        vertical-align: middle;\n",
       "    }\n",
       "\n",
       "    .dataframe tbody tr th {\n",
       "        vertical-align: top;\n",
       "    }\n",
       "\n",
       "    .dataframe thead th {\n",
       "        text-align: right;\n",
       "    }\n",
       "</style>\n",
       "<table border=\"1\" class=\"dataframe\">\n",
       "  <thead>\n",
       "    <tr style=\"text-align: right;\">\n",
       "      <th></th>\n",
       "      <th>tree_f1</th>\n",
       "      <th>tree_roc_auc</th>\n",
       "      <th>forest_f1</th>\n",
       "      <th>forest_roc_auc</th>\n",
       "      <th>regr_f1</th>\n",
       "      <th>regr_roc_auc</th>\n",
       "    </tr>\n",
       "  </thead>\n",
       "  <tbody>\n",
       "    <tr>\n",
       "      <td>no_balance&amp;no_scaling</td>\n",
       "      <td>0.495186</td>\n",
       "      <td>0.681772</td>\n",
       "      <td>0.481884</td>\n",
       "      <td>0.815306</td>\n",
       "      <td>0.102804</td>\n",
       "      <td>0.683504</td>\n",
       "    </tr>\n",
       "    <tr>\n",
       "      <td>no_balance&amp;scaling</td>\n",
       "      <td>0.495890</td>\n",
       "      <td>0.682429</td>\n",
       "      <td>0.487365</td>\n",
       "      <td>0.815230</td>\n",
       "      <td>0.272727</td>\n",
       "      <td>0.752314</td>\n",
       "    </tr>\n",
       "  </tbody>\n",
       "</table>\n",
       "</div>"
      ],
      "text/plain": [
       "                        tree_f1  tree_roc_auc  forest_f1  forest_roc_auc  \\\n",
       "no_balance&no_scaling  0.495186      0.681772   0.481884        0.815306   \n",
       "no_balance&scaling     0.495890      0.682429   0.487365        0.815230   \n",
       "\n",
       "                        regr_f1  regr_roc_auc  \n",
       "no_balance&no_scaling  0.102804      0.683504  \n",
       "no_balance&scaling     0.272727      0.752314  "
      ]
     },
     "execution_count": 17,
     "metadata": {},
     "output_type": "execute_result"
    }
   ],
   "source": [
    "models_comparision_df = pd.concat(\n",
    "    [models_comparision_df, \n",
    "     check_models(features_train=features_train, features_valid=features_valid, \n",
    "                  label='no_balance&no_scaling')]\n",
    ")\n",
    "\n",
    "models_comparision_df = pd.concat(\n",
    "    [models_comparision_df, \n",
    "     check_models(features_train=features_train_with_scaling, \n",
    "                  features_valid=features_valid_with_scaling,\n",
    "                  label='no_balance&scaling')]\n",
    ")\n",
    "\n",
    "models_comparision_df"
   ]
  },
  {
   "cell_type": "markdown",
   "metadata": {},
   "source": [
    "**Вывод**"
   ]
  },
  {
   "cell_type": "markdown",
   "metadata": {},
   "source": [
    "Видим, что:\n",
    "1. Ни одна из моделей без настройки гиперпараметров не дотягивает до целевого значения f1-score = 0.59. \n",
    "2. Использование масштабированных данных заметно повышает f1-score и ROC-AUC-score для логистической регрессии и почти не влияет на результаты дерева решений и случайного леса. В дальнейшем исследовании будем использовать масштабированные признаки."
   ]
  },
  {
   "cell_type": "markdown",
   "metadata": {},
   "source": [
    "## Борьба с дисбалансом"
   ]
  },
  {
   "cell_type": "markdown",
   "metadata": {},
   "source": [
    "### Взвешивание классов"
   ]
  },
  {
   "cell_type": "code",
   "execution_count": 18,
   "metadata": {},
   "outputs": [
    {
     "data": {
      "text/html": [
       "<div>\n",
       "<style scoped>\n",
       "    .dataframe tbody tr th:only-of-type {\n",
       "        vertical-align: middle;\n",
       "    }\n",
       "\n",
       "    .dataframe tbody tr th {\n",
       "        vertical-align: top;\n",
       "    }\n",
       "\n",
       "    .dataframe thead th {\n",
       "        text-align: right;\n",
       "    }\n",
       "</style>\n",
       "<table border=\"1\" class=\"dataframe\">\n",
       "  <thead>\n",
       "    <tr style=\"text-align: right;\">\n",
       "      <th></th>\n",
       "      <th>tree_f1</th>\n",
       "      <th>tree_roc_auc</th>\n",
       "      <th>forest_f1</th>\n",
       "      <th>forest_roc_auc</th>\n",
       "      <th>regr_f1</th>\n",
       "      <th>regr_roc_auc</th>\n",
       "    </tr>\n",
       "  </thead>\n",
       "  <tbody>\n",
       "    <tr>\n",
       "      <td>no_balance&amp;no_scaling</td>\n",
       "      <td>0.495186</td>\n",
       "      <td>0.681772</td>\n",
       "      <td>0.481884</td>\n",
       "      <td>0.815306</td>\n",
       "      <td>0.102804</td>\n",
       "      <td>0.683504</td>\n",
       "    </tr>\n",
       "    <tr>\n",
       "      <td>no_balance&amp;scaling</td>\n",
       "      <td>0.495890</td>\n",
       "      <td>0.682429</td>\n",
       "      <td>0.487365</td>\n",
       "      <td>0.815230</td>\n",
       "      <td>0.272727</td>\n",
       "      <td>0.752314</td>\n",
       "    </tr>\n",
       "    <tr>\n",
       "      <td>class_weight</td>\n",
       "      <td>0.500000</td>\n",
       "      <td>0.685435</td>\n",
       "      <td>0.486188</td>\n",
       "      <td>0.828970</td>\n",
       "      <td>0.481159</td>\n",
       "      <td>0.756589</td>\n",
       "    </tr>\n",
       "  </tbody>\n",
       "</table>\n",
       "</div>"
      ],
      "text/plain": [
       "                        tree_f1  tree_roc_auc  forest_f1  forest_roc_auc  \\\n",
       "no_balance&no_scaling  0.495186      0.681772   0.481884        0.815306   \n",
       "no_balance&scaling     0.495890      0.682429   0.487365        0.815230   \n",
       "class_weight           0.500000      0.685435   0.486188        0.828970   \n",
       "\n",
       "                        regr_f1  regr_roc_auc  \n",
       "no_balance&no_scaling  0.102804      0.683504  \n",
       "no_balance&scaling     0.272727      0.752314  \n",
       "class_weight           0.481159      0.756589  "
      ]
     },
     "execution_count": 18,
     "metadata": {},
     "output_type": "execute_result"
    }
   ],
   "source": [
    "models_comparision_df = pd.concat(\n",
    "    [models_comparision_df, \n",
    "     check_models(features_train_with_scaling, features_valid_with_scaling, \n",
    "                  class_weight='balanced', label='class_weight')]\n",
    ")\n",
    "\n",
    "models_comparision_df"
   ]
  },
  {
   "cell_type": "markdown",
   "metadata": {},
   "source": [
    "Видим, что метрики заметно улучшились у логистической регрессии."
   ]
  },
  {
   "cell_type": "markdown",
   "metadata": {},
   "source": [
    "### Upsampling"
   ]
  },
  {
   "cell_type": "code",
   "execution_count": 19,
   "metadata": {},
   "outputs": [],
   "source": [
    "def upsample(features, target, repeat):\n",
    "    features_zeros = features[target == 0]\n",
    "    features_ones = features[target == 1]\n",
    "    target_zeros = target[target == 0]\n",
    "    target_ones = target[target == 1]\n",
    "\n",
    "    features_upsampled = pd.concat([features_zeros] + [features_ones] * repeat)\n",
    "    target_upsampled = pd.concat([target_zeros] + [target_ones] * repeat)\n",
    "    \n",
    "    features_upsampled, target_upsampled = shuffle(\n",
    "        features_upsampled, target_upsampled, random_state=12345)\n",
    "    \n",
    "    return features_upsampled, target_upsampled"
   ]
  },
  {
   "cell_type": "code",
   "execution_count": 20,
   "metadata": {},
   "outputs": [
    {
     "data": {
      "text/html": [
       "<div>\n",
       "<style scoped>\n",
       "    .dataframe tbody tr th:only-of-type {\n",
       "        vertical-align: middle;\n",
       "    }\n",
       "\n",
       "    .dataframe tbody tr th {\n",
       "        vertical-align: top;\n",
       "    }\n",
       "\n",
       "    .dataframe thead th {\n",
       "        text-align: right;\n",
       "    }\n",
       "</style>\n",
       "<table border=\"1\" class=\"dataframe\">\n",
       "  <thead>\n",
       "    <tr style=\"text-align: right;\">\n",
       "      <th></th>\n",
       "      <th>tree_f1</th>\n",
       "      <th>tree_roc_auc</th>\n",
       "      <th>forest_f1</th>\n",
       "      <th>forest_roc_auc</th>\n",
       "      <th>regr_f1</th>\n",
       "      <th>regr_roc_auc</th>\n",
       "    </tr>\n",
       "  </thead>\n",
       "  <tbody>\n",
       "    <tr>\n",
       "      <td>no_balance&amp;no_scaling</td>\n",
       "      <td>0.495186</td>\n",
       "      <td>0.681772</td>\n",
       "      <td>0.481884</td>\n",
       "      <td>0.815306</td>\n",
       "      <td>0.102804</td>\n",
       "      <td>0.683504</td>\n",
       "    </tr>\n",
       "    <tr>\n",
       "      <td>no_balance&amp;scaling</td>\n",
       "      <td>0.495890</td>\n",
       "      <td>0.682429</td>\n",
       "      <td>0.487365</td>\n",
       "      <td>0.815230</td>\n",
       "      <td>0.272727</td>\n",
       "      <td>0.752314</td>\n",
       "    </tr>\n",
       "    <tr>\n",
       "      <td>class_weight</td>\n",
       "      <td>0.500000</td>\n",
       "      <td>0.685435</td>\n",
       "      <td>0.486188</td>\n",
       "      <td>0.828970</td>\n",
       "      <td>0.481159</td>\n",
       "      <td>0.756589</td>\n",
       "    </tr>\n",
       "    <tr>\n",
       "      <td>upsampling</td>\n",
       "      <td>0.487145</td>\n",
       "      <td>0.677626</td>\n",
       "      <td>0.565079</td>\n",
       "      <td>0.830021</td>\n",
       "      <td>0.478261</td>\n",
       "      <td>0.755896</td>\n",
       "    </tr>\n",
       "  </tbody>\n",
       "</table>\n",
       "</div>"
      ],
      "text/plain": [
       "                        tree_f1  tree_roc_auc  forest_f1  forest_roc_auc  \\\n",
       "no_balance&no_scaling  0.495186      0.681772   0.481884        0.815306   \n",
       "no_balance&scaling     0.495890      0.682429   0.487365        0.815230   \n",
       "class_weight           0.500000      0.685435   0.486188        0.828970   \n",
       "upsampling             0.487145      0.677626   0.565079        0.830021   \n",
       "\n",
       "                        regr_f1  regr_roc_auc  \n",
       "no_balance&no_scaling  0.102804      0.683504  \n",
       "no_balance&scaling     0.272727      0.752314  \n",
       "class_weight           0.481159      0.756589  \n",
       "upsampling             0.478261      0.755896  "
      ]
     },
     "execution_count": 20,
     "metadata": {},
     "output_type": "execute_result"
    }
   ],
   "source": [
    "repeat = round(df['Exited'].value_counts()[0]//df['Exited'].value_counts()[1])\n",
    "features_upsampled, target_upsampled = upsample(features_train_with_scaling, target_train, \n",
    "                                                repeat)\n",
    "\n",
    "models_comparision_df = pd.concat(\n",
    "    [models_comparision_df, \n",
    "     check_models(features_train=features_upsampled, target_train=target_upsampled, \n",
    "                  label='upsampling')]\n",
    ")\n",
    "\n",
    "models_comparision_df"
   ]
  },
  {
   "cell_type": "markdown",
   "metadata": {},
   "source": [
    "Видим, что относительно несбалансированной выборки f1-score заметно улучшился у случайного леса и логистической регресии."
   ]
  },
  {
   "cell_type": "markdown",
   "metadata": {},
   "source": [
    "### Downsampling"
   ]
  },
  {
   "cell_type": "code",
   "execution_count": 21,
   "metadata": {},
   "outputs": [],
   "source": [
    "def downsample(features, target, fraction):\n",
    "    features_zeros = features[target == 0]\n",
    "    features_ones = features[target == 1]\n",
    "    target_zeros = target[target == 0]\n",
    "    target_ones = target[target == 1]\n",
    "\n",
    "    features_downsampled = pd.concat(\n",
    "        [features_zeros.sample(frac=fraction, random_state=12345)] + [features_ones])\n",
    "    target_downsampled = pd.concat(\n",
    "        [target_zeros.sample(frac=fraction, random_state=12345)] + [target_ones])\n",
    "    \n",
    "    features_downsampled, target_downsampled = shuffle(\n",
    "        features_downsampled, target_downsampled, random_state=12345)\n",
    "    \n",
    "    return features_downsampled, target_downsampled"
   ]
  },
  {
   "cell_type": "code",
   "execution_count": 22,
   "metadata": {},
   "outputs": [
    {
     "data": {
      "text/html": [
       "<div>\n",
       "<style scoped>\n",
       "    .dataframe tbody tr th:only-of-type {\n",
       "        vertical-align: middle;\n",
       "    }\n",
       "\n",
       "    .dataframe tbody tr th {\n",
       "        vertical-align: top;\n",
       "    }\n",
       "\n",
       "    .dataframe thead th {\n",
       "        text-align: right;\n",
       "    }\n",
       "</style>\n",
       "<table border=\"1\" class=\"dataframe\">\n",
       "  <thead>\n",
       "    <tr style=\"text-align: right;\">\n",
       "      <th></th>\n",
       "      <th>tree_f1</th>\n",
       "      <th>tree_roc_auc</th>\n",
       "      <th>forest_f1</th>\n",
       "      <th>forest_roc_auc</th>\n",
       "      <th>regr_f1</th>\n",
       "      <th>regr_roc_auc</th>\n",
       "    </tr>\n",
       "  </thead>\n",
       "  <tbody>\n",
       "    <tr>\n",
       "      <td>no_balance&amp;no_scaling</td>\n",
       "      <td>0.495186</td>\n",
       "      <td>0.681772</td>\n",
       "      <td>0.481884</td>\n",
       "      <td>0.815306</td>\n",
       "      <td>0.102804</td>\n",
       "      <td>0.683504</td>\n",
       "    </tr>\n",
       "    <tr>\n",
       "      <td>no_balance&amp;scaling</td>\n",
       "      <td>0.495890</td>\n",
       "      <td>0.682429</td>\n",
       "      <td>0.487365</td>\n",
       "      <td>0.815230</td>\n",
       "      <td>0.272727</td>\n",
       "      <td>0.752314</td>\n",
       "    </tr>\n",
       "    <tr>\n",
       "      <td>class_weight</td>\n",
       "      <td>0.500000</td>\n",
       "      <td>0.685435</td>\n",
       "      <td>0.486188</td>\n",
       "      <td>0.828970</td>\n",
       "      <td>0.481159</td>\n",
       "      <td>0.756589</td>\n",
       "    </tr>\n",
       "    <tr>\n",
       "      <td>upsampling</td>\n",
       "      <td>0.487145</td>\n",
       "      <td>0.677626</td>\n",
       "      <td>0.565079</td>\n",
       "      <td>0.830021</td>\n",
       "      <td>0.478261</td>\n",
       "      <td>0.755896</td>\n",
       "    </tr>\n",
       "    <tr>\n",
       "      <td>downsampling</td>\n",
       "      <td>0.491589</td>\n",
       "      <td>0.703791</td>\n",
       "      <td>0.552632</td>\n",
       "      <td>0.817672</td>\n",
       "      <td>0.477756</td>\n",
       "      <td>0.753858</td>\n",
       "    </tr>\n",
       "  </tbody>\n",
       "</table>\n",
       "</div>"
      ],
      "text/plain": [
       "                        tree_f1  tree_roc_auc  forest_f1  forest_roc_auc  \\\n",
       "no_balance&no_scaling  0.495186      0.681772   0.481884        0.815306   \n",
       "no_balance&scaling     0.495890      0.682429   0.487365        0.815230   \n",
       "class_weight           0.500000      0.685435   0.486188        0.828970   \n",
       "upsampling             0.487145      0.677626   0.565079        0.830021   \n",
       "downsampling           0.491589      0.703791   0.552632        0.817672   \n",
       "\n",
       "                        regr_f1  regr_roc_auc  \n",
       "no_balance&no_scaling  0.102804      0.683504  \n",
       "no_balance&scaling     0.272727      0.752314  \n",
       "class_weight           0.481159      0.756589  \n",
       "upsampling             0.478261      0.755896  \n",
       "downsampling           0.477756      0.753858  "
      ]
     },
     "execution_count": 22,
     "metadata": {},
     "output_type": "execute_result"
    }
   ],
   "source": [
    "fraction = (df['Exited'].value_counts()[1] / df['Exited'].value_counts()[0])\n",
    "features_downsampled, target_downsampled = downsample(features_train_with_scaling, \n",
    "                                                      target_train, fraction)\n",
    "\n",
    "models_comparision_df = pd.concat(\n",
    "    [models_comparision_df, \n",
    "     check_models(features_train=features_downsampled, target_train=target_downsampled,\n",
    "                  label='downsampling')]\n",
    ")\n",
    "\n",
    "models_comparision_df"
   ]
  },
  {
   "cell_type": "markdown",
   "metadata": {},
   "source": [
    "Видим, что относительно несбалансированной выборки f1-score заметно улучшился у случайного леса и логистической регресии. Немного вырос ROC-AUC-score у дерева решений."
   ]
  },
  {
   "cell_type": "markdown",
   "metadata": {},
   "source": [
    "### Порог классификации"
   ]
  },
  {
   "cell_type": "code",
   "execution_count": 23,
   "metadata": {},
   "outputs": [
    {
     "data": {
      "image/png": "[encoded data removed]",
      "text/plain": [
       "<Figure size 432x288 with 1 Axes>"
      ]
     },
     "metadata": {
      "needs_background": "light"
     },
     "output_type": "display_data"
    },
    {
     "data": {
      "image/png": "[encoded data removed]",
      "text/plain": [
       "<Figure size 432x288 with 1 Axes>"
      ]
     },
     "metadata": {
      "needs_background": "light"
     },
     "output_type": "display_data"
    },
    {
     "name": "stderr",
     "output_type": "stream",
     "text": [
      "C:\\Users\\Alex\\anaconda3\\envs\\praktikum\\lib\\site-packages\\sklearn\\metrics\\classification.py:1437: UndefinedMetricWarning: F-score is ill-defined and being set to 0.0 due to no predicted samples.\n",
      "  'precision', 'predicted', average, warn_for)\n"
     ]
    },
    {
     "data": {
      "image/png": "[encoded data removed]",
      "text/plain": [
       "<Figure size 432x288 with 1 Axes>"
      ]
     },
     "metadata": {
      "needs_background": "light"
     },
     "output_type": "display_data"
    },
    {
     "data": {
      "text/html": [
       "<div>\n",
       "<style scoped>\n",
       "    .dataframe tbody tr th:only-of-type {\n",
       "        vertical-align: middle;\n",
       "    }\n",
       "\n",
       "    .dataframe tbody tr th {\n",
       "        vertical-align: top;\n",
       "    }\n",
       "\n",
       "    .dataframe thead th {\n",
       "        text-align: right;\n",
       "    }\n",
       "</style>\n",
       "<table border=\"1\" class=\"dataframe\">\n",
       "  <thead>\n",
       "    <tr style=\"text-align: right;\">\n",
       "      <th></th>\n",
       "      <th>tree_f1</th>\n",
       "      <th>tree_roc_auc</th>\n",
       "      <th>forest_f1</th>\n",
       "      <th>forest_roc_auc</th>\n",
       "      <th>regr_f1</th>\n",
       "      <th>regr_roc_auc</th>\n",
       "    </tr>\n",
       "  </thead>\n",
       "  <tbody>\n",
       "    <tr>\n",
       "      <td>no_balance&amp;no_scaling</td>\n",
       "      <td>0.495186</td>\n",
       "      <td>0.681772</td>\n",
       "      <td>0.481884</td>\n",
       "      <td>0.815306</td>\n",
       "      <td>0.102804</td>\n",
       "      <td>0.683504</td>\n",
       "    </tr>\n",
       "    <tr>\n",
       "      <td>no_balance&amp;scaling</td>\n",
       "      <td>0.495890</td>\n",
       "      <td>0.682429</td>\n",
       "      <td>0.487365</td>\n",
       "      <td>0.815230</td>\n",
       "      <td>0.272727</td>\n",
       "      <td>0.752314</td>\n",
       "    </tr>\n",
       "    <tr>\n",
       "      <td>class_weight</td>\n",
       "      <td>0.500000</td>\n",
       "      <td>0.685435</td>\n",
       "      <td>0.486188</td>\n",
       "      <td>0.828970</td>\n",
       "      <td>0.481159</td>\n",
       "      <td>0.756589</td>\n",
       "    </tr>\n",
       "    <tr>\n",
       "      <td>upsampling</td>\n",
       "      <td>0.487145</td>\n",
       "      <td>0.677626</td>\n",
       "      <td>0.565079</td>\n",
       "      <td>0.830021</td>\n",
       "      <td>0.478261</td>\n",
       "      <td>0.755896</td>\n",
       "    </tr>\n",
       "    <tr>\n",
       "      <td>downsampling</td>\n",
       "      <td>0.491589</td>\n",
       "      <td>0.703791</td>\n",
       "      <td>0.552632</td>\n",
       "      <td>0.817672</td>\n",
       "      <td>0.477756</td>\n",
       "      <td>0.753858</td>\n",
       "    </tr>\n",
       "    <tr>\n",
       "      <td>threshold</td>\n",
       "      <td>0.495890</td>\n",
       "      <td>0.682429</td>\n",
       "      <td>0.570270</td>\n",
       "      <td>0.815230</td>\n",
       "      <td>0.487990</td>\n",
       "      <td>0.752314</td>\n",
       "    </tr>\n",
       "  </tbody>\n",
       "</table>\n",
       "</div>"
      ],
      "text/plain": [
       "                        tree_f1  tree_roc_auc  forest_f1  forest_roc_auc  \\\n",
       "no_balance&no_scaling  0.495186      0.681772   0.481884        0.815306   \n",
       "no_balance&scaling     0.495890      0.682429   0.487365        0.815230   \n",
       "class_weight           0.500000      0.685435   0.486188        0.828970   \n",
       "upsampling             0.487145      0.677626   0.565079        0.830021   \n",
       "downsampling           0.491589      0.703791   0.552632        0.817672   \n",
       "threshold              0.495890      0.682429   0.570270        0.815230   \n",
       "\n",
       "                        regr_f1  regr_roc_auc  \n",
       "no_balance&no_scaling  0.102804      0.683504  \n",
       "no_balance&scaling     0.272727      0.752314  \n",
       "class_weight           0.481159      0.756589  \n",
       "upsampling             0.478261      0.755896  \n",
       "downsampling           0.477756      0.753858  \n",
       "threshold              0.487990      0.752314  "
      ]
     },
     "execution_count": 23,
     "metadata": {},
     "output_type": "execute_result"
    }
   ],
   "source": [
    "output_to_df = []\n",
    "\n",
    "for ml_model in [DecisionTreeClassifier, RandomForestClassifier, LogisticRegression]:\n",
    "    x, y = [], []\n",
    "    \n",
    "    model = ml_model(random_state=42)\n",
    "    model.fit(features_train_with_scaling, target_train)\n",
    "    probabilities_valid = model.predict_proba(features_valid_with_scaling)\n",
    "    probabilities_one_valid = probabilities_valid[:, 1]\n",
    "    \n",
    "    best_threshold = 0\n",
    "    best_f1_score = 0\n",
    "    best_roc_auc = 0\n",
    "    for threshold in np.arange(0, 1, 0.01):\n",
    "        predicted_valid = probabilities_one_valid > threshold \n",
    "        f1 = f1_score(target_valid, predicted_valid)\n",
    "        if f1 > best_f1_score:\n",
    "            best_f1_score = f1\n",
    "            best_threshold = threshold\n",
    "            best_roc_auc = roc_auc_score(target_valid, probabilities_one_valid)\n",
    "        \n",
    "        y.append(f1)\n",
    "        x.append(threshold)\n",
    "    \n",
    "    output_to_df.append(best_f1_score)\n",
    "    output_to_df.append(best_roc_auc)\n",
    "    \n",
    "    plt.plot(pd.Series(x),pd.Series(y))\n",
    "    plt.xlabel('threshold')\n",
    "    plt.ylabel('f1_score')\n",
    "    plt.title(ml_model)\n",
    "    plt.show()\n",
    "    \n",
    "\n",
    "output_df = pd.DataFrame(output_to_df).transpose()\n",
    "output_df.columns = ['tree_f1', 'tree_roc_auc', 'forest_f1', 'forest_roc_auc',\n",
    "                                  'regr_f1', 'regr_roc_auc']\n",
    "output_df.index =['threshold']\n",
    "    \n",
    "\n",
    "models_comparision_df = pd.concat([models_comparision_df, output_df])\n",
    "\n",
    "models_comparision_df"
   ]
  },
  {
   "cell_type": "markdown",
   "metadata": {},
   "source": [
    "Видим, что относительно несбалансированной выборки f1-score заметно улучшился у случайного леса и логистической регресии. "
   ]
  },
  {
   "cell_type": "markdown",
   "metadata": {},
   "source": [
    "### Выводы"
   ]
  },
  {
   "cell_type": "markdown",
   "metadata": {},
   "source": [
    "1. Для дерева решений учет дисбаланса практически не влияет на f1-score и ROC-AUC-score.\n",
    "2. Для случайного леса учет дисбаланса (кроме взвешивания классов) увеличивает метрики: при этом взвешивание классов не оказало никакого влияния, а вот upsampling, downsampling и варьирование порога классификации повысило f1-score c 0.49 до 0.55-0.57. Лучший результат по f1-score показал подбор порога. ROC-AUC-score практически без изменений: 0.81-0.83.\n",
    "3. Для логистической регрессии учет дисбаланса сильно увеличил метрики: с 0.27 до 0.47-0.49. Лучший результат также показал подбор порога. ROC-AUC-score увеличилось с 0.68 без масштабирования до 0.75-0.76 с маштабирование (учет дисбаланса практически не повлиял).\n",
    "\n",
    "Так как ни одна из моделей не добралась до f1-score в 0.59, попробуем подобрать гиперпараметры для фаворита - случайного леса, чтобы преодолеть предложенный нам порог."
   ]
  },
  {
   "cell_type": "markdown",
   "metadata": {},
   "source": [
    "## Поиск лучшей модели"
   ]
  },
  {
   "cell_type": "markdown",
   "metadata": {},
   "source": [
    "Работать будем со случайным лесом, лучший результат показал подбор порога классификации."
   ]
  },
  {
   "cell_type": "markdown",
   "metadata": {},
   "source": [
    "### One Hot Encoding"
   ]
  },
  {
   "cell_type": "code",
   "execution_count": 24,
   "metadata": {},
   "outputs": [
    {
     "data": {
      "application/vnd.jupyter.widget-view+json": {
       "model_id": "2d236e6840c54bc3aca1a884e58e5774",
       "version_major": 2,
       "version_minor": 0
      },
      "text/plain": [
       "  0%|          | 0/30 [00:00<?, ?it/s]"
      ]
     },
     "metadata": {},
     "output_type": "display_data"
    },
    {
     "data": {
      "text/plain": [
       "'F1-score наилучшей модели на валидационной выборке: 0.6135458167330677'"
      ]
     },
     "metadata": {},
     "output_type": "display_data"
    },
    {
     "data": {
      "text/plain": [
       "'ROC-AUC-score: 0.8403826487369537'"
      ]
     },
     "metadata": {},
     "output_type": "display_data"
    },
    {
     "data": {
      "text/plain": [
       "'Порог классификации: 0.3'"
      ]
     },
     "metadata": {},
     "output_type": "display_data"
    },
    {
     "data": {
      "text/plain": [
       "'Количество деревьев в лесу (est): 24'"
      ]
     },
     "metadata": {},
     "output_type": "display_data"
    },
    {
     "data": {
      "text/plain": [
       "'Критерий: entropy'"
      ]
     },
     "metadata": {},
     "output_type": "display_data"
    },
    {
     "name": "stdout",
     "output_type": "stream",
     "text": [
      "Wall time: 1min 13s\n"
     ]
    }
   ],
   "source": [
    "%%time\n",
    "\n",
    "best_model_forest_ohe = None\n",
    "best_est_ohe = 0\n",
    "best_crit_ohe = ''\n",
    "\n",
    "best_threshold_ohe = 0\n",
    "best_f1_score_ohe = 0\n",
    "best_roc_auc_ohe = 0\n",
    "\n",
    "for est in tqdm(range(1, 31)):\n",
    "    for crit in ['gini', 'entropy']:\n",
    "        model = RandomForestClassifier(random_state=42, n_estimators=est, criterion=crit)\n",
    "        model.fit(features_train_with_scaling, target_train)\n",
    "        probabilities_valid = model.predict_proba(features_valid_with_scaling)\n",
    "        probabilities_one_valid = probabilities_valid[:, 1]\n",
    "        \n",
    "        for threshold in np.arange(0, 1, 0.01):\n",
    "            predicted_valid = probabilities_one_valid > threshold \n",
    "            f1 = f1_score(target_valid, predicted_valid)\n",
    "            if f1 > best_f1_score_ohe:\n",
    "                best_f1_score_ohe = f1\n",
    "                best_threshold_ohe = threshold\n",
    "                best_roc_auc_ohe = roc_auc_score(target_valid, probabilities_one_valid)\n",
    "                \n",
    "                best_model_forest_ohe = model\n",
    "                best_est_ohe = est\n",
    "                best_crit_ohe = crit\n",
    "            \n",
    "display(\"F1-score наилучшей модели на валидационной выборке: \" + str(best_f1_score_ohe))\n",
    "display(\"ROC-AUC-score: \" + str(best_roc_auc_ohe))\n",
    "display('Порог классификации: ' + str(best_threshold_ohe))\n",
    "display(\"Количество деревьев в лесу (est): \" + str(best_est_ohe))\n",
    "display('Критерий: ' + best_crit_ohe)"
   ]
  },
  {
   "cell_type": "markdown",
   "metadata": {},
   "source": [
    "Мы смогли получить f1-score > 0.59. \n",
    "\n",
    "Теперь посмотрим, что можно получить, если вместо OHE использовать OrdinalEncoding."
   ]
  },
  {
   "cell_type": "markdown",
   "metadata": {},
   "source": [
    "### Ordinal Encoding"
   ]
  },
  {
   "cell_type": "code",
   "execution_count": 25,
   "metadata": {},
   "outputs": [
    {
     "name": "stdout",
     "output_type": "stream",
     "text": [
      "<class 'pandas.core.frame.DataFrame'>\n",
      "RangeIndex: 9091 entries, 0 to 9090\n",
      "Data columns (total 11 columns):\n",
      "CreditScore        9091 non-null float64\n",
      "Geography          9091 non-null float64\n",
      "Gender             9091 non-null float64\n",
      "Age                9091 non-null float64\n",
      "Tenure             9091 non-null float64\n",
      "Balance            9091 non-null float64\n",
      "NumOfProducts      9091 non-null float64\n",
      "HasCrCard          9091 non-null float64\n",
      "IsActiveMember     9091 non-null float64\n",
      "EstimatedSalary    9091 non-null float64\n",
      "Exited             9091 non-null float64\n",
      "dtypes: float64(11)\n",
      "memory usage: 781.4 KB\n"
     ]
    }
   ],
   "source": [
    "df_ord = df_raw.copy()\n",
    "df_ord = df_ord.dropna(subset=['Tenure'])\n",
    "encoder = OrdinalEncoder()\n",
    "df_ordinal = pd.DataFrame(encoder.fit_transform(df_ord), columns=df_ord.columns)\n",
    "df_ordinal.info()"
   ]
  },
  {
   "cell_type": "code",
   "execution_count": 26,
   "metadata": {},
   "outputs": [
    {
     "data": {
      "text/plain": [
       "'Размер обучающей/валидационной/тестовой выборок'"
      ]
     },
     "metadata": {},
     "output_type": "display_data"
    },
    {
     "data": {
      "text/plain": [
       "'5454/1818/1819'"
      ]
     },
     "metadata": {},
     "output_type": "display_data"
    }
   ],
   "source": [
    "# подготовим данные\n",
    "# train/valid/test = 60/20/20\n",
    "\n",
    "df_train_ord, df_valid_test_ord = train_test_split(df_ordinal, test_size=0.4, random_state=42, stratify=df_ordinal['Exited'])\n",
    "df_valid_ord, df_test_ord = train_test_split(df_valid_test_ord, test_size=0.5, random_state=42, stratify=df_valid_test_ord['Exited'])\n",
    "\n",
    "features_train_ord = df_train_ord.drop(['Exited'], axis=1)\n",
    "target_train_ord = df_train_ord['Exited']\n",
    "features_valid_ord = df_valid_ord.drop(['Exited'], axis=1)\n",
    "target_valid_ord = df_valid_ord['Exited']\n",
    "features_test_ord = df_test_ord.drop(['Exited'], axis=1)\n",
    "target_test_ord = df_test_ord['Exited']\n",
    "\n",
    "assert len(features_train_ord) == len(target_train_ord)\n",
    "assert len(features_valid_ord) == len(target_valid_ord)\n",
    "assert len(features_test_ord) == len(target_test_ord)\n",
    "\n",
    "display('Размер обучающей/валидационной/тестовой выборок')\n",
    "display(str(len(features_train_ord)) + '/' + str(len(features_valid_ord)) + '/' + str(len(features_test_ord)))\n"
   ]
  },
  {
   "cell_type": "code",
   "execution_count": 27,
   "metadata": {},
   "outputs": [
    {
     "data": {
      "text/plain": [
       "Index(['CreditScore', 'Geography', 'Gender', 'Age', 'Tenure', 'Balance',\n",
       "       'NumOfProducts', 'HasCrCard', 'IsActiveMember', 'EstimatedSalary'],\n",
       "      dtype='object')"
      ]
     },
     "execution_count": 27,
     "metadata": {},
     "output_type": "execute_result"
    }
   ],
   "source": [
    "features_train_ord.columns"
   ]
  },
  {
   "cell_type": "code",
   "execution_count": 28,
   "metadata": {},
   "outputs": [],
   "source": [
    "numeric = ['CreditScore', 'Age', 'Tenure', 'Balance', 'EstimatedSalary']\n",
    "not_numeric = ['Geography', 'Gender', 'NumOfProducts', 'HasCrCard', 'IsActiveMember']\n",
    "\n",
    "scaler = StandardScaler()\n",
    "scaler.fit(features_train_ord[numeric])\n",
    "\n",
    "features_train_with_scaling_ord = features_train_ord.copy()\n",
    "features_train_with_scaling_ord[numeric] = scaler.transform(features_train_ord[numeric])\n",
    "\n",
    "features_valid_with_scaling_ord = features_valid_ord.copy()\n",
    "features_valid_with_scaling_ord[numeric] = scaler.transform(features_valid_ord[numeric])\n",
    "\n",
    "features_test_with_scaling_ord = features_test_ord.copy()\n",
    "features_test_with_scaling_ord[numeric] = scaler.transform(features_test_ord[numeric])"
   ]
  },
  {
   "cell_type": "code",
   "execution_count": 29,
   "metadata": {},
   "outputs": [
    {
     "data": {
      "application/vnd.jupyter.widget-view+json": {
       "model_id": "9180bfd2b46441718a39501653238d69",
       "version_major": 2,
       "version_minor": 0
      },
      "text/plain": [
       "  0%|          | 0/50 [00:00<?, ?it/s]"
      ]
     },
     "metadata": {},
     "output_type": "display_data"
    },
    {
     "data": {
      "text/plain": [
       "'F1-score наилучшей модели на валидационной выборке: 0.6078697421981003'"
      ]
     },
     "metadata": {},
     "output_type": "display_data"
    },
    {
     "data": {
      "text/plain": [
       "'ROC-AUC-score: 0.8421764893254378'"
      ]
     },
     "metadata": {},
     "output_type": "display_data"
    },
    {
     "data": {
      "text/plain": [
       "'Порог классификации: 0.32'"
      ]
     },
     "metadata": {},
     "output_type": "display_data"
    },
    {
     "data": {
      "text/plain": [
       "'Количество деревьев в лесу (est): 38'"
      ]
     },
     "metadata": {},
     "output_type": "display_data"
    },
    {
     "data": {
      "text/plain": [
       "'Критерий: entropy'"
      ]
     },
     "metadata": {},
     "output_type": "display_data"
    },
    {
     "name": "stdout",
     "output_type": "stream",
     "text": [
      "Wall time: 2min 48s\n"
     ]
    }
   ],
   "source": [
    "%%time\n",
    "\n",
    "best_model_forest_ord = None\n",
    "best_est_ord = 0\n",
    "best_crit_ord = ''\n",
    "\n",
    "best_threshold_ord = 0\n",
    "best_f1_score_ord = 0\n",
    "best_roc_auc_ord = 0\n",
    "\n",
    "for est in tqdm(range(1, 51)):\n",
    "    for crit in ['gini', 'entropy']:\n",
    "        model = RandomForestClassifier(random_state=42, n_estimators=est, criterion=crit)\n",
    "        model.fit(features_train_with_scaling_ord, target_train_ord)\n",
    "        probabilities_valid = model.predict_proba(features_valid_with_scaling_ord)\n",
    "        probabilities_one_valid = probabilities_valid[:, 1]\n",
    "        \n",
    "        for threshold in np.arange(0, 1, 0.01):\n",
    "            predicted_valid_ord = probabilities_one_valid > threshold \n",
    "            f1 = f1_score(target_valid_ord, predicted_valid_ord)\n",
    "            if f1 > best_f1_score_ord:\n",
    "                best_f1_score_ord = f1\n",
    "                best_threshold_ord = threshold\n",
    "                best_roc_auc_ord = roc_auc_score(target_valid_ord, probabilities_one_valid)\n",
    "                \n",
    "                best_model_forest_ord = model\n",
    "                best_est_ord = est\n",
    "                best_crit_ord = crit\n",
    "            \n",
    "display(\"F1-score наилучшей модели на валидационной выборке: \" + str(best_f1_score_ord))\n",
    "display(\"ROC-AUC-score: \" + str(best_roc_auc_ord))\n",
    "display('Порог классификации: ' + str(best_threshold_ord))\n",
    "display(\"Количество деревьев в лесу (est): \" + str(best_est_ord))\n",
    "display('Критерий: ' + best_crit_ord)"
   ]
  },
  {
   "cell_type": "markdown",
   "metadata": {},
   "source": [
    "Результат не сильно отличается от OHE: f1-score 0.608 против 0.614, ROC-AUC-score тоже отличается незначимо. Мы ожидали некоторого прироста для модели, обученной на данных с OrdinalEncoding. Это может быть связано либо с тем, что \"штраф\" модели за использование OHE невелик, т.к. количество категориальных признаков мало и/или они незначимы, либо с тем, что используется не оптимальный для модели способ борьбы с дисбалансом классов."
   ]
  },
  {
   "cell_type": "markdown",
   "metadata": {},
   "source": [
    "### ROC-кривые"
   ]
  },
  {
   "cell_type": "markdown",
   "metadata": {},
   "source": [
    "Посмотрим на ROC-кривые для этих моделей и сравним с лучшими представителями других моделей: дерево решений со взвешиванием классов и логистическая регрессия с использованием upsampling."
   ]
  },
  {
   "cell_type": "code",
   "execution_count": 30,
   "metadata": {},
   "outputs": [
    {
     "data": {
      "image/png": "[encoded data removed]",
      "text/plain": [
       "<Figure size 576x576 with 1 Axes>"
      ]
     },
     "metadata": {
      "needs_background": "light"
     },
     "output_type": "display_data"
    }
   ],
   "source": [
    "# best random forest model OHE\n",
    "probabilities_valid = best_model_forest_ohe.predict_proba(features_valid_with_scaling)\n",
    "probabilities_one_valid = probabilities_valid[:, 1]\n",
    "fpr_forest_ohe, tpr_forest_ohe, thresholds_forest = roc_curve(target_valid, probabilities_one_valid)\n",
    "\n",
    "# best random forest model OrdinalEncoding\n",
    "probabilities_valid = best_model_forest_ord.predict_proba(features_valid_with_scaling_ord)\n",
    "probabilities_one_valid = probabilities_valid[:, 1]\n",
    "fpr_forest_ord, tpr_forest_ord, thresholds_forest = roc_curve(target_valid_ord, probabilities_one_valid)\n",
    "\n",
    "# best decision tree model with class_weight='balanced'\n",
    "model_tree = DecisionTreeClassifier(random_state=42, class_weight='balanced')\n",
    "model_tree.fit(features_train_with_scaling, target_train)\n",
    "probabilities_valid = model_tree.predict_proba(features_valid_with_scaling)\n",
    "probabilities_one_valid = probabilities_valid[:, 1]\n",
    "fpr_tree, tpr_tree, thresholds_tree = roc_curve(target_valid, probabilities_one_valid)\n",
    "\n",
    "# best logistic regression model with upsampling\n",
    "model_logistic_regr = LogisticRegression(random_state=42)\n",
    "model_logistic_regr.fit(features_upsampled, target_upsampled)\n",
    "probabilities_valid = model_logistic_regr.predict_proba(features_valid_with_scaling)\n",
    "probabilities_one_valid = probabilities_valid[:, 1]\n",
    "fpr_regr, tpr_regr, thresholds_regr = roc_curve(target_valid, probabilities_one_valid)\n",
    "\n",
    "\n",
    "plt.figure(figsize=(8,8))\n",
    "plt.plot(fpr_forest_ohe, tpr_forest_ohe)\n",
    "plt.plot(fpr_forest_ord, tpr_forest_ord)\n",
    "plt.plot(fpr_tree, tpr_tree)\n",
    "plt.plot(fpr_regr, tpr_regr)\n",
    "plt.plot([0, 1], [0, 1], linestyle='--') # ROC-кривая случайной модели\n",
    "\n",
    "plt.xlim([0.0, 1.0])\n",
    "plt.ylim([0.0, 1.0])\n",
    "plt.xlabel(\"False Positive Rate\")\n",
    "plt.ylabel(\"True Positive Rate\")\n",
    "plt.title(\"ROC-кривая\")\n",
    "plt.legend(['best_model_forest_OHE', 'best_model_forest_ordinal', 'decision_tree_model', 'logistic_regr', 'random_model'])\n",
    "plt.show()"
   ]
  },
  {
   "cell_type": "markdown",
   "metadata": {},
   "source": [
    "Видим, что и ROC-кривые практически совпадают.\n",
    "\n",
    "Основной моделью оставляем случайный лес, обученный на данных с OHE."
   ]
  },
  {
   "cell_type": "markdown",
   "metadata": {},
   "source": [
    "### Значимость признака `tenure`"
   ]
  },
  {
   "cell_type": "code",
   "execution_count": 31,
   "metadata": {},
   "outputs": [
    {
     "data": {
      "text/plain": [
       "Age                  0.238680\n",
       "Balance              0.149358\n",
       "EstimatedSalary      0.147534\n",
       "CreditScore          0.142188\n",
       "NumOfProducts        0.116287\n",
       "Tenure               0.082887\n",
       "IsActiveMember       0.036948\n",
       "Geography_Germany    0.026464\n",
       "Gender_Male          0.025359\n",
       "HasCrCard            0.020044\n",
       "Geography_Spain      0.014252\n",
       "dtype: float64"
      ]
     },
     "execution_count": 31,
     "metadata": {},
     "output_type": "execute_result"
    }
   ],
   "source": [
    "feature_names = features_valid_with_scaling.columns\n",
    "feature_importance = best_model_forest_ohe.feature_importances_\n",
    "\n",
    "pd.Series(feature_importance, index=feature_names).sort_values(ascending=False)"
   ]
  },
  {
   "cell_type": "markdown",
   "metadata": {},
   "source": [
    "Значимость `tenure` - около 8%. Напонятно, стоит ли отказ от этого признака увеличения обучающей выборки на 10%. Сделаем еще одну модель и посмотрим на её score."
   ]
  },
  {
   "cell_type": "code",
   "execution_count": 32,
   "metadata": {},
   "outputs": [],
   "source": [
    "df_raw = df_raw.drop(columns=['Tenure'])"
   ]
  },
  {
   "cell_type": "code",
   "execution_count": 33,
   "metadata": {},
   "outputs": [],
   "source": [
    "df_raw = pd.get_dummies(df_raw, drop_first=True)"
   ]
  },
  {
   "cell_type": "code",
   "execution_count": 34,
   "metadata": {},
   "outputs": [
    {
     "data": {
      "text/plain": [
       "'Размер обучающей/валидационной/тестовой выборок'"
      ]
     },
     "metadata": {},
     "output_type": "display_data"
    },
    {
     "data": {
      "text/plain": [
       "'6000/2000/2000'"
      ]
     },
     "metadata": {},
     "output_type": "display_data"
    }
   ],
   "source": [
    "df_train_raw, df_valid_test_raw = train_test_split(df_raw, test_size=0.4, random_state=42, stratify=df_raw['Exited'])\n",
    "df_valid_raw, df_test_raw = train_test_split(df_valid_test_raw, test_size=0.5, random_state=42, stratify=df_valid_test_raw['Exited'])\n",
    "\n",
    "features_train_raw = df_train_raw.drop(['Exited'], axis=1)\n",
    "target_train_raw = df_train_raw['Exited']\n",
    "features_valid_raw = df_valid_raw.drop(['Exited'], axis=1)\n",
    "target_valid_raw = df_valid_raw['Exited']\n",
    "features_test_raw = df_test_raw.drop(['Exited'], axis=1)\n",
    "target_test_raw = df_test_raw['Exited']\n",
    "\n",
    "assert len(features_train_raw) == len(target_train_raw)\n",
    "assert len(features_valid_raw) == len(target_valid_raw)\n",
    "assert len(features_test_raw) == len(target_test_raw)\n",
    "\n",
    "display('Размер обучающей/валидационной/тестовой выборок')\n",
    "display(str(len(features_train_raw)) + '/' + str(len(features_valid_raw)) + '/' + str(len(features_test_raw)))"
   ]
  },
  {
   "cell_type": "code",
   "execution_count": 35,
   "metadata": {},
   "outputs": [],
   "source": [
    "numeric = ['CreditScore', 'Age', 'Balance', 'EstimatedSalary']\n",
    "scaler = StandardScaler()\n",
    "scaler.fit(features_train_raw[numeric])\n",
    "\n",
    "features_train_with_scaling_raw = features_train_raw.copy()\n",
    "features_train_with_scaling_raw[numeric] = scaler.transform(features_train_raw[numeric])\n",
    "\n",
    "features_valid_with_scaling_raw = features_valid_raw.copy()\n",
    "features_valid_with_scaling_raw[numeric] = scaler.transform(features_valid_raw[numeric])\n",
    "\n",
    "features_test_with_scaling_raw = features_test_raw.copy()\n",
    "features_test_with_scaling_raw[numeric] = scaler.transform(features_test_raw[numeric])"
   ]
  },
  {
   "cell_type": "code",
   "execution_count": 36,
   "metadata": {},
   "outputs": [
    {
     "data": {
      "application/vnd.jupyter.widget-view+json": {
       "model_id": "a26582c4a1524e03919f5801904320a5",
       "version_major": 2,
       "version_minor": 0
      },
      "text/plain": [
       "  0%|          | 0/30 [00:00<?, ?it/s]"
      ]
     },
     "metadata": {},
     "output_type": "display_data"
    },
    {
     "data": {
      "text/plain": [
       "'F1-score наилучшей модели на валидационной выборке: 0.6243781094527363'"
      ]
     },
     "metadata": {},
     "output_type": "display_data"
    },
    {
     "data": {
      "text/plain": [
       "'ROC-AUC-score: 0.8481754667947582'"
      ]
     },
     "metadata": {},
     "output_type": "display_data"
    },
    {
     "data": {
      "text/plain": [
       "'Порог классификации: 0.39'"
      ]
     },
     "metadata": {},
     "output_type": "display_data"
    },
    {
     "data": {
      "text/plain": [
       "'Количество деревьев в лесу (est): 26'"
      ]
     },
     "metadata": {},
     "output_type": "display_data"
    },
    {
     "data": {
      "text/plain": [
       "'Критерий: gini'"
      ]
     },
     "metadata": {},
     "output_type": "display_data"
    },
    {
     "name": "stdout",
     "output_type": "stream",
     "text": [
      "Wall time: 1min 21s\n"
     ]
    }
   ],
   "source": [
    "%%time\n",
    "\n",
    "best_model_forest_raw = None\n",
    "best_est_raw = 0\n",
    "best_crit_raw = ''\n",
    "\n",
    "best_threshold_raw = 0\n",
    "best_f1_score_raw = 0\n",
    "best_roc_auc_raw = 0\n",
    "\n",
    "for est in tqdm(range(1, 31)):\n",
    "    for crit in ['gini', 'entropy']:\n",
    "        model = RandomForestClassifier(random_state=42, n_estimators=est, criterion=crit)\n",
    "        model.fit(features_train_with_scaling_raw, target_train_raw)\n",
    "        probabilities_valid = model.predict_proba(features_valid_with_scaling_raw)\n",
    "        probabilities_one_valid = probabilities_valid[:, 1]\n",
    "        \n",
    "        for threshold in np.arange(0, 1, 0.01):\n",
    "            predicted_valid = probabilities_one_valid > threshold \n",
    "            f1 = f1_score(target_valid_raw, predicted_valid)\n",
    "            if f1 > best_f1_score_raw:\n",
    "                best_f1_score_raw = f1\n",
    "                best_threshold_raw = threshold\n",
    "                best_roc_auc_raw = roc_auc_score(target_valid_raw, probabilities_one_valid)\n",
    "                \n",
    "                best_model_forest_raw = model\n",
    "                best_est_raw = est\n",
    "                best_crit_raw = crit\n",
    "            \n",
    "display(\"F1-score наилучшей модели на валидационной выборке: \" + str(best_f1_score_raw))\n",
    "display(\"ROC-AUC-score: \" + str(best_roc_auc_raw))\n",
    "display('Порог классификации: ' + str(best_threshold_raw))\n",
    "display(\"Количество деревьев в лесу (est): \" + str(best_est_raw))\n",
    "display('Критерий: ' + best_crit_raw)"
   ]
  },
  {
   "cell_type": "markdown",
   "metadata": {},
   "source": [
    "Видим, небольшое улучшение f1-score и ROC-AUC-score. Берем эту модель в качестве лучшей."
   ]
  },
  {
   "cell_type": "markdown",
   "metadata": {},
   "source": [
    "### Обучение на train + valid"
   ]
  },
  {
   "cell_type": "markdown",
   "metadata": {},
   "source": [
    "Перед финальным тестированием обучим модель на объединении train и valid выборок, используя подобранные ранее оптимальные параметры модели."
   ]
  },
  {
   "cell_type": "code",
   "execution_count": 37,
   "metadata": {},
   "outputs": [],
   "source": [
    "features_train_valid_raw = pd.concat([features_train_raw, features_valid_raw])\n",
    "target_train_valid_raw = pd.concat([target_train_raw, target_valid_raw])\n",
    "assert len(features_train_valid_raw) == len(target_train_valid_raw)"
   ]
  },
  {
   "cell_type": "code",
   "execution_count": 38,
   "metadata": {},
   "outputs": [],
   "source": [
    "numeric = ['CreditScore', 'Age', 'Balance', 'EstimatedSalary']\n",
    "scaler = StandardScaler()\n",
    "scaler.fit(features_train_valid_raw[numeric])\n",
    "\n",
    "features_train_valid_with_scaling_raw = features_train_valid_raw.copy()\n",
    "features_train_valid_with_scaling_raw[numeric] = scaler.transform(features_train_valid_raw[numeric])\n",
    "\n",
    "features_test_with_scaling_raw = features_test_raw.copy()\n",
    "features_test_with_scaling_raw[numeric] = scaler.transform(features_test_raw[numeric])"
   ]
  },
  {
   "cell_type": "code",
   "execution_count": 39,
   "metadata": {},
   "outputs": [
    {
     "data": {
      "text/plain": [
       "'F1-score наилучшей модели на train+valid выборке: 0.9948028125955365'"
      ]
     },
     "metadata": {},
     "output_type": "display_data"
    },
    {
     "data": {
      "text/plain": [
       "'ROC-AUC-score: 0.9999725033949399'"
      ]
     },
     "metadata": {},
     "output_type": "display_data"
    }
   ],
   "source": [
    "final_model = RandomForestClassifier(random_state=42, n_estimators=best_est_raw, \n",
    "                                    criterion=best_crit_raw)\n",
    "\n",
    "final_model.fit(features_train_valid_with_scaling_raw, target_train_valid_raw)\n",
    "probabilities_train_valid = final_model.predict_proba(features_train_valid_with_scaling_raw)\n",
    "probabilities_one_train_valid = probabilities_train_valid[:, 1]\n",
    "predicted_train_valid = probabilities_one_train_valid > best_threshold_raw \n",
    "\n",
    "f1 = f1_score(target_train_valid_raw, predicted_train_valid)\n",
    "roc_auc = roc_auc_score(target_train_valid_raw, probabilities_one_train_valid)\n",
    "display(\"F1-score наилучшей модели на train+valid выборке: \" + str(f1))\n",
    "display(\"ROC-AUC-score: \" + str(roc_auc))"
   ]
  },
  {
   "cell_type": "markdown",
   "metadata": {},
   "source": [
    "Выглядит как переобучение. Вряд ли стоит ждать такого же результата на тестовой выборке."
   ]
  },
  {
   "cell_type": "markdown",
   "metadata": {},
   "source": [
    "## Тестирование модели"
   ]
  },
  {
   "cell_type": "markdown",
   "metadata": {},
   "source": [
    "Посмотрим, какие результаты покажет наша лучшая модель **final_model** на тестовой выборке."
   ]
  },
  {
   "cell_type": "code",
   "execution_count": 40,
   "metadata": {},
   "outputs": [
    {
     "data": {
      "text/plain": [
       "'F1-score наилучшей модели на тестовой выборке: 0.5860709592641262'"
      ]
     },
     "metadata": {},
     "output_type": "display_data"
    },
    {
     "data": {
      "text/plain": [
       "'ROC-AUC-score: 0.8367234723166928'"
      ]
     },
     "metadata": {},
     "output_type": "display_data"
    }
   ],
   "source": [
    "features_test_with_scaling_raw, target_test_raw\n",
    "\n",
    "probabilities_test = final_model.predict_proba(features_test_with_scaling_raw)\n",
    "probabilities_one_test = probabilities_test[:, 1]\n",
    "predicted_test = probabilities_one_test > best_threshold_raw \n",
    "f1 = f1_score(target_test_raw, predicted_test)\n",
    "roc_auc = roc_auc_score(target_test_raw, probabilities_one_test)\n",
    "\n",
    "display(\"F1-score наилучшей модели на тестовой выборке: \" + str(f1))\n",
    "display(\"ROC-AUC-score: \" + str(roc_auc))"
   ]
  },
  {
   "cell_type": "markdown",
   "metadata": {},
   "source": [
    "Хм. Посмотрим какой результат даст аналогичная модель **best_model_forest_raw**, обученная только на train выборке"
   ]
  },
  {
   "cell_type": "code",
   "execution_count": 41,
   "metadata": {},
   "outputs": [
    {
     "data": {
      "text/plain": [
       "'F1-score наилучшей модели на тестовой выборке: 0.5873015873015872'"
      ]
     },
     "metadata": {},
     "output_type": "display_data"
    },
    {
     "data": {
      "text/plain": [
       "'ROC-AUC-score: 0.8359445732327088'"
      ]
     },
     "metadata": {},
     "output_type": "display_data"
    }
   ],
   "source": [
    "features_test_with_scaling_raw, target_test_raw\n",
    "\n",
    "probabilities_test = best_model_forest_raw.predict_proba(features_test_with_scaling_raw)\n",
    "probabilities_one_test = probabilities_test[:, 1]\n",
    "predicted_test = probabilities_one_test > best_threshold_raw \n",
    "f1 = f1_score(target_test_raw, predicted_test)\n",
    "roc_auc = roc_auc_score(target_test_raw, probabilities_one_test)\n",
    "\n",
    "display(\"F1-score наилучшей модели на тестовой выборке: \" + str(f1))\n",
    "display(\"ROC-AUC-score: \" + str(roc_auc))"
   ]
  },
  {
   "cell_type": "markdown",
   "metadata": {},
   "source": [
    "Еще раз хм. Посмотрим на лучшую модель с OHE, обученную на выборке, в которой оставлен признак `Tenure` и выброшены объекты с пропусками в этом признаке - **best_model_forest_ohe**."
   ]
  },
  {
   "cell_type": "code",
   "execution_count": 42,
   "metadata": {},
   "outputs": [
    {
     "data": {
      "text/plain": [
       "'F1-score наилучшей модели на тестовой выборке: 0.5939086294416244'"
      ]
     },
     "metadata": {},
     "output_type": "display_data"
    },
    {
     "data": {
      "text/plain": [
       "'ROC-AUC-score: 0.8293584607824158'"
      ]
     },
     "metadata": {},
     "output_type": "display_data"
    }
   ],
   "source": [
    "features_test_with_scaling_raw, target_test_raw\n",
    "\n",
    "probabilities_test = best_model_forest_ohe.predict_proba(features_test_with_scaling)\n",
    "probabilities_one_test = probabilities_test[:, 1]\n",
    "predicted_test = probabilities_one_test > best_threshold_ohe\n",
    "f1 = f1_score(target_test, predicted_test)\n",
    "roc_auc = roc_auc_score(target_test, probabilities_one_test)\n",
    "\n",
    "display(\"F1-score наилучшей модели на тестовой выборке: \" + str(f1))\n",
    "display(\"ROC-AUC-score: \" + str(roc_auc))"
   ]
  },
  {
   "cell_type": "markdown",
   "metadata": {},
   "source": [
    "Пороговое значение f1-score > 0.59 преодолено."
   ]
  },
  {
   "cell_type": "markdown",
   "metadata": {},
   "source": [
    "# Вывод"
   ]
  },
  {
   "cell_type": "markdown",
   "metadata": {},
   "source": [
    "У нас получилось построить модель с f1-score = 0.594 на тестовой выборке (ROC-AUC = 0.83). Лучший результат показала модель случайного леса с OHE, использованием масштабирования данных и подбора порога классификации для борьбы с дисбалансом классов."
   ]
  }
 ],
 "metadata": {
  "kernelspec": {
   "display_name": "Python 3",
   "language": "python",
   "name": "python3"
  },
  "language_info": {
   "codemirror_mode": {
    "name": "ipython",
    "version": 3
   },
   "file_extension": ".py",
   "mimetype": "text/x-python",
   "name": "python",
   "nbconvert_exporter": "python",
   "pygments_lexer": "ipython3",
   "version": "3.7.10"
  },
  "toc": {
   "base_numbering": 1,
   "nav_menu": {},
   "number_sections": true,
   "sideBar": true,
   "skip_h1_title": true,
   "title_cell": "Содержание",
   "title_sidebar": "Contents",
   "toc_cell": true,
   "toc_position": {
    "height": "calc(100% - 180px)",
    "left": "10px",
    "top": "150px",
    "width": "246px"
   },
   "toc_section_display": true,
   "toc_window_display": true
  }
 },
 "nbformat": 4,
 "nbformat_minor": 2
}
